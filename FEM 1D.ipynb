{
 "cells": [
  {
   "cell_type": "code",
   "execution_count": 114,
   "id": "ea858970",
   "metadata": {},
   "outputs": [],
   "source": [
    "%matplotlib inline\n",
    "\n",
    "import numpy as np\n",
    "import matplotlib.pyplot as plt\n",
    "import scipy\n",
    "import scipy.integrate as integrate\n",
    "import numpy.linalg as linalg\n",
    "from multipledispatch import dispatch"
   ]
  },
  {
   "cell_type": "code",
   "execution_count": 115,
   "id": "4d0bb69d",
   "metadata": {},
   "outputs": [],
   "source": [
    "#must be greater than 0\n",
    "au2nm=0.05291\n",
    "au2ev=27.211\n",
    "\n",
    "adaptive=False\n",
    "startR=-0.25/au2nm\n",
    "endR=0.25/au2nm\n",
    "N=1000\n",
    "sites=N+1\n",
    "a=0.05291*0.5/au2nm\n",
    "deltaX=np.abs(startR-endR)/(N)\n",
    "eps=0.5968404*au2nm*au2ev\n",
    "n=1\n",
    "sigma=1\n",
    "valueAtZero=1/(2*np.pi*a*eps)"
   ]
  },
  {
   "cell_type": "code",
   "execution_count": 116,
   "id": "eaee86b4",
   "metadata": {},
   "outputs": [],
   "source": [
    "def electronDensity(r, a):\n",
    "    return (1/(np.pi*a**3))*(np.exp(-2*r/a)) if r>0 else (1/(np.pi*a**3))*(np.exp(2*r/a))\n",
    "\n",
    "@dispatch(float, float)\n",
    "def linearFunction(r, n):\n",
    "    return 1/(deltaX) *(r-n)+1 if r<n else -1/(deltaX) *(r-n)+1\n",
    "\n",
    "#n is the middle\n",
    "#a_1 is the left most\n",
    "#a_2 is the right most\n",
    "@dispatch(float, float, float, float)\n",
    "def linearFunction(r, a_1, n, a_2):\n",
    "    return 1/(n-a_1) *(r-n)+1 if r<n else -1/(a_2-n) *(r-n)+1\n",
    "\n",
    "def integrand(r, eps, n, edensity):\n",
    "    return ((1/eps)*edensity(r,a)*linearFunction(r, n)*r**2)\n",
    "\n",
    "def integrandAdaptive(r, eps, n, edensity, a_1, a_2):\n",
    "    return (1/eps)*edensity(r,a)*linearFunction(r, a_1, n, a_2)*r**2\n",
    "\n",
    "def getIntegral(a_1, a_2, eps, n, edensity):\n",
    "    return integrate.quad(integrand, a_1, a_2, args=(eps, n, edensity))[0]\n",
    "\n",
    "def getIntegralAdaptive(a_1, a_2, eps, n, edensity):\n",
    "    return integrate.quad(integrandAdaptive, a_1, a_2, args=(eps, n, edensity, a_1, a_2))[0]\n",
    "\n",
    "def gaussianElectronDensity(r, sigma):\n",
    "    return (1/np.sqrt(2*np.pi*sigma**2))**3*(np.exp((-r**2)/(2*sigma**2)))\n",
    "\n",
    "def electronDensity_2s(r, a):\n",
    "    return -(1/(32*np.pi*a**3))*(2-r/a)*np.exp(-r/a) if r>0 else -(1/(32*np.pi*a**3))*(2+r/a)*np.exp(r/a)\n",
    "\n",
    "def v_gauss(r):\n",
    "    return 1/(4*np.pi*eps)*(1/r)*scipy.special.erf(r/np.sqrt(2*a**2))\n",
    "\n",
    "def v(r):\n",
    "    return (1/(4*np.pi*eps*a**2))*(a**2/r-(a**2/r-a)*np.exp(-2*r/a)) if r>0 else (1/(4*np.pi*eps*a**2))*(-a**2/r-(-a**2/r-a)*np.exp(2*r/a))\n",
    "\n",
    "def v_2s(r):\n",
    "    return -(1/(32*np.pi*eps))*(8/r-(8/r+2/a-2*r/(a**2)-r**2/a**3)*np.exp(-r/a)) if r>0 else (1/(32*np.pi*eps))*(-8/r-(-8/r+2/a+2*r/(a**2)-r**2/a**3)*np.exp(r/a))"
   ]
  },
  {
   "cell_type": "code",
   "execution_count": 117,
   "id": "8218ac79",
   "metadata": {},
   "outputs": [],
   "source": [
    "#func gives grid size at each point\n",
    "def generateUniformGrid(N):\n",
    "    delX=(endR-startR)/N\n",
    "    return [(startR+i*delX,startR+(i+1)*delX) for i in range(N)]\n",
    "\n",
    "def riemannEst(a_1, a_2, func):\n",
    "    return func((a_2-a_1)/2+a_1,a)*(a_2-a_1)\n",
    "\n",
    "def adaptivelySubdivide(l, func, eps,n,maxIt):\n",
    "    absError=np.abs(riemannEst(l[0], l[1], func)-(riemannEst(l[0], (l[1]-l[0])/2+l[0], func)+riemannEst((l[1]-l[0])/2+l[0], l[1],func)))\n",
    "    relError=np.abs(absError/(riemannEst(l[0], l[1], func)))\n",
    "    if(relError<eps or n>maxIt):\n",
    "        return np.array([l])\n",
    "    else:\n",
    "        left=(l[0], (l[1]-l[0])/2+l[0])\n",
    "        right=((l[1]-l[0])/2+l[0], l[1])\n",
    "        temp=(np.concatenate((adaptivelySubdivide(left, func, eps, n+1,maxIt),adaptivelySubdivide(right, func, eps,n+1,maxIt))))\n",
    "        return temp\n",
    "    \n",
    "#adaptively subdivided to func\n",
    "def generateListOfAdaptiveGridCoords(N, func, eps, maxIt):\n",
    "    uni=generateUniformGrid(N)\n",
    "    newList=[];\n",
    "    for i in range(len(uni)):\n",
    "        #adaptively subdivide returns a list\n",
    "        temp=adaptivelySubdivide(uni[i], func, eps, 0, maxIt);\n",
    "        for x in temp:\n",
    "            newList.append(x)\n",
    "    return np.array(newList,dtype=object)"
   ]
  },
  {
   "cell_type": "code",
   "execution_count": 118,
   "id": "559eda95",
   "metadata": {},
   "outputs": [],
   "source": [
    "#uniform\n",
    "def constructResultVector(eDensity):\n",
    "    theList=[getIntegral(startR+(i-1)*deltaX, startR+(i+1)*deltaX, eps, startR+i*deltaX,eDensity) for i in range(1,sites-1)];\n",
    "    return np.array(theList);\n",
    "\n",
    "def createListOfMidCoord(temp):\n",
    "    return np.array((x[1]-x[0])/2+x[0] for x in temp)\n",
    "\n",
    "def createListOfIntervals(adpGrid):\n",
    "    return np.array([np.abs(x[1]-x[0]) for x in adpGrid])\n",
    "\n",
    "#getIntegralAdaptive(a_1, a_2, eps, n, edensity)\n",
    "def constructResultVectorAdaptive(adpGrid, eDensity):\n",
    "    theList=[getIntegralAdaptive(adpGrid[i-1][0], adpGrid[i+1][0] if i+1<np.shape(adpGrid)[0] else adpGrid[i][1]+deltaX, eps, adpGrid[i][0], eDensity) for i in range(1, np.shape(adpGrid)[0])];\n",
    "    return np.array(theList);\n",
    "\n",
    "@dispatch(int)\n",
    "def mk(i):\n",
    "    return ((startR+deltaX*i)**3-(startR+deltaX*(i-1))**3)/(3*deltaX**2)\n",
    "\n",
    "@dispatch(int, np.ndarray)\n",
    "def mk(i, adpGrid):\n",
    "    one=adpGrid[i][0] if i<np.shape(adpGrid)[0] else adpGrid[np.shape(adpGrid)[0]-1][1]\n",
    "    return (one**3-(adpGrid[i-1][0])**3)/(3*(adpGrid[i-1][1]-adpGrid[i-1][0])*(adpGrid[i][1]-adpGrid[i][0]))"
   ]
  },
  {
   "cell_type": "code",
   "execution_count": 119,
   "id": "063c3ba7",
   "metadata": {},
   "outputs": [],
   "source": [
    "def boundary_condition(r):\n",
    "    if(0<=r and r<endR/2):\n",
    "        return valueAtZero\n",
    "    return (1/(4*np.pi*eps))*1/np.abs(r)\n",
    "\n",
    "def addBoundaryConditions(b):\n",
    "    b[0]+=boundary_condition(startR)*mk(1)\n",
    "    b[b.size-1]+=boundary_condition(endR)*mk(N)\n",
    "    return b"
   ]
  },
  {
   "cell_type": "code",
   "execution_count": 120,
   "id": "f30fbfcc",
   "metadata": {},
   "outputs": [],
   "source": [
    "def constructMatrix():\n",
    "    temp=np.zeros((sites, sites));\n",
    "    for i in range(sites-1):\n",
    "        if(i>0):\n",
    "            temp[i, i-1]=-mk(i)\n",
    "        if(i>=0):\n",
    "            temp[i, i]=mk(i+1)+mk(i)\n",
    "        if(i+1<sites):\n",
    "            temp[i, i+1]=-mk(i+1)\n",
    "    temp=np.delete(temp, [0, sites-1], axis=1)\n",
    "    temp=np.delete(temp, [0, sites-1], axis=0)\n",
    "    return temp\n",
    "\n",
    "def constructMatrixAdp(adGrid):\n",
    "    temp=np.zeros((np.shape(adpGrid)[0]+1, np.shape(adpGrid)[0]+1));\n",
    "    for i in range(sites-1):\n",
    "        if(i>0):\n",
    "            temp[i, i-1]=-mk(i, adpGrid)\n",
    "        if(i>=0):\n",
    "            temp[i, i]=mk(i+1,adpGrid)+mk(i,adpGrid)\n",
    "        if(i+1<sites):\n",
    "            temp[i, i+1]=-mk(i+1,adpGrid)\n",
    "    temp=np.delete(temp, [0, sites-1], axis=1)\n",
    "    temp=np.delete(temp, [0, sites-1], axis=0)\n",
    "    return temp"
   ]
  },
  {
   "cell_type": "code",
   "execution_count": 121,
   "id": "85e98221",
   "metadata": {},
   "outputs": [],
   "source": [
    "#adpGrid=generateListOfAdaptiveGridCoords(N, gaussianElectronDensity, 1e-4, 5)\n",
    "#b=constructResultVectorAdaptive(adpGrid, gaussianElectronDensity)\n",
    "#b=constructResultVector(electronDensity_2s)\n",
    "#b=addBoundaryConditions(b)\n",
    "\n",
    "b_1=constructResultVector(gaussianElectronDensity)\n",
    "b_1=addBoundaryConditions(b_1)"
   ]
  },
  {
   "cell_type": "code",
   "execution_count": 122,
   "id": "c8194ded",
   "metadata": {},
   "outputs": [],
   "source": [
    "#M=constructMatrixAdp(adpGrid)\n",
    "M_1=constructMatrix()"
   ]
  },
  {
   "cell_type": "code",
   "execution_count": 123,
   "id": "803b978c",
   "metadata": {},
   "outputs": [
    {
     "data": {
      "text/plain": [
       "(999,)"
      ]
     },
     "execution_count": 123,
     "metadata": {},
     "output_type": "execute_result"
    }
   ],
   "source": [
    "np.shape(b_1)"
   ]
  },
  {
   "cell_type": "code",
   "execution_count": 124,
   "id": "289ccf60",
   "metadata": {},
   "outputs": [],
   "source": [
    "#sols=linalg.solve(M, b)\n",
    "sols_1=linalg.solve(M_1, b_1)"
   ]
  },
  {
   "cell_type": "code",
   "execution_count": null,
   "id": "4d6663ca",
   "metadata": {},
   "outputs": [],
   "source": []
  },
  {
   "cell_type": "code",
   "execution_count": 125,
   "id": "ae28c95c",
   "metadata": {},
   "outputs": [
    {
     "name": "stderr",
     "output_type": "stream",
     "text": [
      "/var/folders/w9/rpt2vk6943b30y910f1djt500000gq/T/ipykernel_7232/66112670.py:34: RuntimeWarning: divide by zero encountered in double_scalars\n",
      "  return 1/(4*np.pi*eps)*(1/r)*scipy.special.erf(r/np.sqrt(2*a**2))\n",
      "/var/folders/w9/rpt2vk6943b30y910f1djt500000gq/T/ipykernel_7232/66112670.py:34: RuntimeWarning: invalid value encountered in double_scalars\n",
      "  return 1/(4*np.pi*eps)*(1/r)*scipy.special.erf(r/np.sqrt(2*a**2))\n"
     ]
    },
    {
     "data": {
      "text/plain": [
       "<matplotlib.collections.PathCollection at 0x11a7f78b0>"
      ]
     },
     "execution_count": 125,
     "metadata": {},
     "output_type": "execute_result"
    },
    {
     "data": {
      "image/png": "[encoded data removed]",
      "text/plain": [
       "<Figure size 432x288 with 1 Axes>"
      ]
     },
     "metadata": {
      "needs_background": "light"
     },
     "output_type": "display_data"
    }
   ],
   "source": [
    "\n",
    "x = np.linspace(startR,endR,N-1)\n",
    "y=[v_gauss(r)*au2ev for r in x]\n",
    "plt.scatter(x, y)\n",
    "\n",
    "\n",
    "x1=[startR+i*deltaX for i in range(b_1.size)]\n",
    "plt.scatter(x1,sols_1*au2ev,c=\"green\")\n",
    "\n",
    "#try nonlinear elements\n"
   ]
  },
  {
   "cell_type": "code",
   "execution_count": null,
   "id": "cc04c405",
   "metadata": {},
   "outputs": [],
   "source": []
  },
  {
   "cell_type": "code",
   "execution_count": 126,
   "id": "dbbeceab",
   "metadata": {},
   "outputs": [
    {
     "data": {
      "text/plain": [
       "array([0.03682349, 0.03682349, 0.03682349, 0.03682349, 0.03682349,\n",
       "       0.03682349, 0.03682349, 0.03682349, 0.03682349, 0.03682349,\n",
       "       0.03682349, 0.03682349, 0.03682349, 0.03682349, 0.03682349,\n",
       "       0.03682349, 0.03682349, 0.03682349, 0.03682349, 0.03682349,\n",
       "       0.03682349, 0.03682349, 0.03682349, 0.03682349, 0.03682349,\n",
       "       0.03682349, 0.03682349, 0.03682349, 0.03682349, 0.03682349,\n",
       "       0.03682349, 0.03682349, 0.03682349, 0.03682349, 0.03682349,\n",
       "       0.03682349, 0.03682349, 0.03682349, 0.03682349, 0.03682349,\n",
       "       0.03682349, 0.03682349, 0.03682349, 0.03682349, 0.03682349,\n",
       "       0.03682349, 0.03682349, 0.03682349, 0.03682349, 0.03682349,\n",
       "       0.03682349, 0.03682349, 0.03682348, 0.03682348, 0.03682348,\n",
       "       0.03682348, 0.03682348, 0.03682348, 0.03682348, 0.03682348,\n",
       "       0.03682348, 0.03682348, 0.03682348, 0.03682348, 0.03682348,\n",
       "       0.03682348, 0.03682348, 0.03682348, 0.03682348, 0.03682348,\n",
       "       0.03682348, 0.03682348, 0.03682348, 0.03682348, 0.03682348,\n",
       "       0.03682348, 0.03682348, 0.03682348, 0.03682348, 0.03682348,\n",
       "       0.03682348, 0.03682348, 0.03682348, 0.03682348, 0.03682348,\n",
       "       0.03682348, 0.03682348, 0.03682348, 0.03682348, 0.03682348,\n",
       "       0.03682348, 0.03682348, 0.03682348, 0.03682348, 0.03682348,\n",
       "       0.03682348, 0.03682348, 0.03682348, 0.03682348, 0.03682348,\n",
       "       0.03682348, 0.03682348, 0.03682348, 0.03682348, 0.03682348,\n",
       "       0.03682348, 0.03682348, 0.03682348, 0.03682348, 0.03682348,\n",
       "       0.03682348, 0.03682348, 0.03682348, 0.03682348, 0.03682348,\n",
       "       0.03682348, 0.03682348, 0.03682348, 0.03682348, 0.03682347,\n",
       "       0.03682347, 0.03682347, 0.03682347, 0.03682347, 0.03682347,\n",
       "       0.03682347, 0.03682347, 0.03682347, 0.03682347, 0.03682347,\n",
       "       0.03682347, 0.03682347, 0.03682347, 0.03682347, 0.03682347,\n",
       "       0.03682347, 0.03682347, 0.03682347, 0.03682347, 0.03682347,\n",
       "       0.03682347, 0.03682347, 0.03682347, 0.03682347, 0.03682347,\n",
       "       0.03682347, 0.03682347, 0.03682347, 0.03682347, 0.03682347,\n",
       "       0.03682347, 0.03682347, 0.03682347, 0.03682347, 0.03682347,\n",
       "       0.03682347, 0.03682347, 0.03682347, 0.03682347, 0.03682347,\n",
       "       0.03682347, 0.03682347, 0.03682347, 0.03682347, 0.03682347,\n",
       "       0.03682347, 0.03682346, 0.03682346, 0.03682346, 0.03682346,\n",
       "       0.03682346, 0.03682346, 0.03682346, 0.03682346, 0.03682346,\n",
       "       0.03682346, 0.03682346, 0.03682346, 0.03682346, 0.03682346,\n",
       "       0.03682346, 0.03682346, 0.03682346, 0.03682346, 0.03682346,\n",
       "       0.03682346, 0.03682346, 0.03682346, 0.03682346, 0.03682346,\n",
       "       0.03682346, 0.03682346, 0.03682346, 0.03682346, 0.03682346,\n",
       "       0.03682346, 0.03682346, 0.03682346, 0.03682346, 0.03682346,\n",
       "       0.03682345, 0.03682345, 0.03682345, 0.03682345, 0.03682345,\n",
       "       0.03682345, 0.03682345, 0.03682345, 0.03682345, 0.03682345,\n",
       "       0.03682345, 0.03682345, 0.03682345, 0.03682345, 0.03682345,\n",
       "       0.03682345, 0.03682345, 0.03682345, 0.03682345, 0.03682345,\n",
       "       0.03682345, 0.03682345, 0.03682345, 0.03682345, 0.03682345,\n",
       "       0.03682344, 0.03682344, 0.03682344, 0.03682344, 0.03682344,\n",
       "       0.03682344, 0.03682344, 0.03682344, 0.03682344, 0.03682344,\n",
       "       0.03682344, 0.03682344, 0.03682344, 0.03682344, 0.03682344,\n",
       "       0.03682344, 0.03682344, 0.03682344, 0.03682343, 0.03682343,\n",
       "       0.03682343, 0.03682343, 0.03682343, 0.03682343, 0.03682343,\n",
       "       0.03682343, 0.03682343, 0.03682343, 0.03682343, 0.03682342,\n",
       "       0.03682342, 0.03682342, 0.03682342, 0.03682342, 0.03682342,\n",
       "       0.03682342, 0.03682342, 0.03682341, 0.03682341, 0.03682341,\n",
       "       0.03682341, 0.03682341, 0.03682341, 0.0368234 , 0.0368234 ,\n",
       "       0.0368234 , 0.0368234 , 0.03682339, 0.03682339, 0.03682339,\n",
       "       0.03682339, 0.03682338, 0.03682338, 0.03682337, 0.03682337,\n",
       "       0.03682337, 0.03682336, 0.03682336, 0.03682335, 0.03682335,\n",
       "       0.03682334, 0.03682334, 0.03682333, 0.03682332, 0.03682332,\n",
       "       0.03682331, 0.0368233 , 0.03682329, 0.03682329, 0.03682328,\n",
       "       0.03682327, 0.03682326, 0.03682325, 0.03682323, 0.03682322,\n",
       "       0.03682321, 0.0368232 , 0.03682318, 0.03682317, 0.03682315,\n",
       "       0.03682313, 0.03682311, 0.0368231 , 0.03682307, 0.03682305,\n",
       "       0.03682303, 0.03682301, 0.03682298, 0.03682296, 0.03682293,\n",
       "       0.0368229 , 0.03682287, 0.03682283, 0.0368228 , 0.03682276,\n",
       "       0.03682273, 0.03682269, 0.03682264, 0.0368226 , 0.03682255,\n",
       "       0.0368225 , 0.03682245, 0.0368224 , 0.03682234, 0.03682228,\n",
       "       0.03682222, 0.03682216, 0.03682209, 0.03682202, 0.03682194,\n",
       "       0.03682186, 0.03682178, 0.0368217 , 0.03682161, 0.03682151,\n",
       "       0.03682142, 0.03682132, 0.03682121, 0.0368211 , 0.03682098,\n",
       "       0.03682086, 0.03682074, 0.03682061, 0.03682047, 0.03682033,\n",
       "       0.03682019, 0.03682004, 0.03681988, 0.03681972, 0.03681955,\n",
       "       0.03681937, 0.03681919, 0.036819  , 0.0368188 , 0.0368186 ,\n",
       "       0.03681839, 0.03681817, 0.03681795, 0.03681772, 0.03681748,\n",
       "       0.03681723, 0.03681697, 0.03681671, 0.03681644, 0.03681616,\n",
       "       0.03681587, 0.03681557, 0.03681527, 0.03681495, 0.03681463,\n",
       "       0.0368143 , 0.03681396, 0.03681361, 0.03681325, 0.03681288,\n",
       "       0.0368125 , 0.03681211, 0.03681171, 0.03681131, 0.03681089,\n",
       "       0.03681047, 0.03681003, 0.03680958, 0.03680913, 0.03680867,\n",
       "       0.03680819, 0.03680771, 0.03680721, 0.03680671, 0.0368062 ,\n",
       "       0.03680568, 0.03680515, 0.03680461, 0.03680406, 0.0368035 ,\n",
       "       0.03680293, 0.03680235, 0.03680177, 0.03680118, 0.03680057,\n",
       "       0.03679996, 0.03679935, 0.03679872, 0.03679809, 0.03679745,\n",
       "       0.0367968 , 0.03679614, 0.03679548, 0.03679481, 0.03679414,\n",
       "       0.03679346, 0.03679277, 0.03679208, 0.03679138, 0.03679068,\n",
       "       0.03678998, 0.03678927, 0.03678855, 0.03678783, 0.03678711,\n",
       "       0.03678639, 0.03678566, 0.03678494, 0.03678421, 0.03678347,\n",
       "       0.03678274, 0.03678201, 0.03678127, 0.03678054, 0.03677981,\n",
       "       0.03677907, 0.03677834, 0.03677761, 0.03677689, 0.03677616,\n",
       "       0.03677544, 0.03677472, 0.036774  , 0.03677329, 0.03677258,\n",
       "       0.03677188, 0.03677118, 0.03677049, 0.03676981, 0.03676913,\n",
       "       0.03676846, 0.03676779, 0.03676713, 0.03676648, 0.03676584,\n",
       "       0.03676521, 0.03676459, 0.03676397, 0.03676337, 0.03676278,\n",
       "       0.03676219, 0.03676162, 0.03676106, 0.03676051, 0.03675998,\n",
       "       0.03675945, 0.03675894, 0.03675844, 0.03675796, 0.03675749,\n",
       "       0.03675703, 0.03675659, 0.03675616, 0.03675575, 0.03675535,\n",
       "       0.03675497, 0.0367546 , 0.03675426, 0.03675392, 0.03675361,\n",
       "       0.03675331, 0.03675303, 0.03675277, 0.03675253, 0.03675231,\n",
       "       0.03675211, 0.03675192, 0.03675176, 0.03675162, 0.03675151,\n",
       "       0.03675142, 0.03675135, 0.03675131, 0.03675131, 0.03675134,\n",
       "       0.03675143, 0.03675157, 0.03675181, 0.03675225,        nan,\n",
       "       0.03675225, 0.03675181, 0.03675157, 0.03675143, 0.03675134,\n",
       "       0.03675131, 0.03675131, 0.03675135, 0.03675142, 0.03675151,\n",
       "       0.03675162, 0.03675176, 0.03675192, 0.03675211, 0.03675231,\n",
       "       0.03675253, 0.03675277, 0.03675303, 0.03675331, 0.03675361,\n",
       "       0.03675392, 0.03675426, 0.0367546 , 0.03675497, 0.03675535,\n",
       "       0.03675575, 0.03675616, 0.03675659, 0.03675703, 0.03675749,\n",
       "       0.03675796, 0.03675844, 0.03675894, 0.03675945, 0.03675998,\n",
       "       0.03676051, 0.03676106, 0.03676162, 0.03676219, 0.03676278,\n",
       "       0.03676337, 0.03676397, 0.03676459, 0.03676521, 0.03676584,\n",
       "       0.03676648, 0.03676713, 0.03676779, 0.03676846, 0.03676913,\n",
       "       0.03676981, 0.03677049, 0.03677118, 0.03677188, 0.03677258,\n",
       "       0.03677329, 0.036774  , 0.03677472, 0.03677544, 0.03677616,\n",
       "       0.03677689, 0.03677761, 0.03677834, 0.03677907, 0.03677981,\n",
       "       0.03678054, 0.03678127, 0.03678201, 0.03678274, 0.03678347,\n",
       "       0.03678421, 0.03678494, 0.03678566, 0.03678639, 0.03678711,\n",
       "       0.03678783, 0.03678855, 0.03678927, 0.03678998, 0.03679068,\n",
       "       0.03679138, 0.03679208, 0.03679277, 0.03679346, 0.03679414,\n",
       "       0.03679481, 0.03679548, 0.03679614, 0.0367968 , 0.03679745,\n",
       "       0.03679809, 0.03679872, 0.03679935, 0.03679996, 0.03680057,\n",
       "       0.03680118, 0.03680177, 0.03680235, 0.03680293, 0.0368035 ,\n",
       "       0.03680406, 0.03680461, 0.03680515, 0.03680568, 0.0368062 ,\n",
       "       0.03680671, 0.03680721, 0.03680771, 0.03680819, 0.03680867,\n",
       "       0.03680913, 0.03680958, 0.03681003, 0.03681047, 0.03681089,\n",
       "       0.03681131, 0.03681171, 0.03681211, 0.0368125 , 0.03681288,\n",
       "       0.03681325, 0.03681361, 0.03681396, 0.0368143 , 0.03681463,\n",
       "       0.03681495, 0.03681527, 0.03681557, 0.03681587, 0.03681616,\n",
       "       0.03681644, 0.03681671, 0.03681697, 0.03681723, 0.03681748,\n",
       "       0.03681772, 0.03681795, 0.03681817, 0.03681839, 0.0368186 ,\n",
       "       0.0368188 , 0.036819  , 0.03681919, 0.03681937, 0.03681955,\n",
       "       0.03681972, 0.03681988, 0.03682004, 0.03682019, 0.03682033,\n",
       "       0.03682047, 0.03682061, 0.03682074, 0.03682086, 0.03682098,\n",
       "       0.0368211 , 0.03682121, 0.03682132, 0.03682142, 0.03682151,\n",
       "       0.03682161, 0.0368217 , 0.03682178, 0.03682186, 0.03682194,\n",
       "       0.03682202, 0.03682209, 0.03682216, 0.03682222, 0.03682228,\n",
       "       0.03682234, 0.0368224 , 0.03682245, 0.0368225 , 0.03682255,\n",
       "       0.0368226 , 0.03682264, 0.03682269, 0.03682273, 0.03682276,\n",
       "       0.0368228 , 0.03682283, 0.03682287, 0.0368229 , 0.03682293,\n",
       "       0.03682296, 0.03682298, 0.03682301, 0.03682303, 0.03682305,\n",
       "       0.03682307, 0.0368231 , 0.03682311, 0.03682313, 0.03682315,\n",
       "       0.03682317, 0.03682318, 0.0368232 , 0.03682321, 0.03682322,\n",
       "       0.03682323, 0.03682325, 0.03682326, 0.03682327, 0.03682328,\n",
       "       0.03682329, 0.03682329, 0.0368233 , 0.03682331, 0.03682332,\n",
       "       0.03682332, 0.03682333, 0.03682334, 0.03682334, 0.03682335,\n",
       "       0.03682335, 0.03682336, 0.03682336, 0.03682337, 0.03682337,\n",
       "       0.03682337, 0.03682338, 0.03682338, 0.03682339, 0.03682339,\n",
       "       0.03682339, 0.03682339, 0.0368234 , 0.0368234 , 0.0368234 ,\n",
       "       0.0368234 , 0.03682341, 0.03682341, 0.03682341, 0.03682341,\n",
       "       0.03682341, 0.03682341, 0.03682342, 0.03682342, 0.03682342,\n",
       "       0.03682342, 0.03682342, 0.03682342, 0.03682342, 0.03682342,\n",
       "       0.03682343, 0.03682343, 0.03682343, 0.03682343, 0.03682343,\n",
       "       0.03682343, 0.03682343, 0.03682343, 0.03682343, 0.03682343,\n",
       "       0.03682343, 0.03682344, 0.03682344, 0.03682344, 0.03682344,\n",
       "       0.03682344, 0.03682344, 0.03682344, 0.03682344, 0.03682344,\n",
       "       0.03682344, 0.03682344, 0.03682344, 0.03682344, 0.03682344,\n",
       "       0.03682344, 0.03682344, 0.03682344, 0.03682344, 0.03682345,\n",
       "       0.03682345, 0.03682345, 0.03682345, 0.03682345, 0.03682345,\n",
       "       0.03682345, 0.03682345, 0.03682345, 0.03682345, 0.03682345,\n",
       "       0.03682345, 0.03682345, 0.03682345, 0.03682345, 0.03682345,\n",
       "       0.03682345, 0.03682345, 0.03682345, 0.03682345, 0.03682345,\n",
       "       0.03682345, 0.03682345, 0.03682345, 0.03682345, 0.03682346,\n",
       "       0.03682346, 0.03682346, 0.03682346, 0.03682346, 0.03682346,\n",
       "       0.03682346, 0.03682346, 0.03682346, 0.03682346, 0.03682346,\n",
       "       0.03682346, 0.03682346, 0.03682346, 0.03682346, 0.03682346,\n",
       "       0.03682346, 0.03682346, 0.03682346, 0.03682346, 0.03682346,\n",
       "       0.03682346, 0.03682346, 0.03682346, 0.03682346, 0.03682346,\n",
       "       0.03682346, 0.03682346, 0.03682346, 0.03682346, 0.03682346,\n",
       "       0.03682346, 0.03682346, 0.03682346, 0.03682347, 0.03682347,\n",
       "       0.03682347, 0.03682347, 0.03682347, 0.03682347, 0.03682347,\n",
       "       0.03682347, 0.03682347, 0.03682347, 0.03682347, 0.03682347,\n",
       "       0.03682347, 0.03682347, 0.03682347, 0.03682347, 0.03682347,\n",
       "       0.03682347, 0.03682347, 0.03682347, 0.03682347, 0.03682347,\n",
       "       0.03682347, 0.03682347, 0.03682347, 0.03682347, 0.03682347,\n",
       "       0.03682347, 0.03682347, 0.03682347, 0.03682347, 0.03682347,\n",
       "       0.03682347, 0.03682347, 0.03682347, 0.03682347, 0.03682347,\n",
       "       0.03682347, 0.03682347, 0.03682347, 0.03682347, 0.03682347,\n",
       "       0.03682347, 0.03682347, 0.03682347, 0.03682347, 0.03682347,\n",
       "       0.03682348, 0.03682348, 0.03682348, 0.03682348, 0.03682348,\n",
       "       0.03682348, 0.03682348, 0.03682348, 0.03682348, 0.03682348,\n",
       "       0.03682348, 0.03682348, 0.03682348, 0.03682348, 0.03682348,\n",
       "       0.03682348, 0.03682348, 0.03682348, 0.03682348, 0.03682348,\n",
       "       0.03682348, 0.03682348, 0.03682348, 0.03682348, 0.03682348,\n",
       "       0.03682348, 0.03682348, 0.03682348, 0.03682348, 0.03682348,\n",
       "       0.03682348, 0.03682348, 0.03682348, 0.03682348, 0.03682348,\n",
       "       0.03682348, 0.03682348, 0.03682348, 0.03682348, 0.03682348,\n",
       "       0.03682348, 0.03682348, 0.03682348, 0.03682348, 0.03682348,\n",
       "       0.03682348, 0.03682348, 0.03682348, 0.03682348, 0.03682348,\n",
       "       0.03682348, 0.03682348, 0.03682348, 0.03682348, 0.03682348,\n",
       "       0.03682348, 0.03682348, 0.03682348, 0.03682348, 0.03682348,\n",
       "       0.03682348, 0.03682348, 0.03682348, 0.03682348, 0.03682348,\n",
       "       0.03682348, 0.03682348, 0.03682349, 0.03682349, 0.03682349,\n",
       "       0.03682349, 0.03682349, 0.03682349, 0.03682349, 0.03682349,\n",
       "       0.03682349, 0.03682349, 0.03682349, 0.03682349, 0.03682349,\n",
       "       0.03682349, 0.03682349, 0.03682349, 0.03682349, 0.03682349,\n",
       "       0.03682349, 0.03682349, 0.03682349, 0.03682349, 0.03682349,\n",
       "       0.03682349, 0.03682349, 0.03682349, 0.03682349, 0.03682349,\n",
       "       0.03682349, 0.03682349, 0.03682349, 0.03682349, 0.03682349,\n",
       "       0.03682349, 0.03682349, 0.03682349, 0.03682349, 0.03682349,\n",
       "       0.03682349, 0.03682349, 0.03682349, 0.03682349, 0.03682349,\n",
       "       0.03682349, 0.03682349, 0.03682349, 0.03682349, 0.03682349,\n",
       "       0.03682349, 0.03682349, 0.03682349, 0.03682349])"
      ]
     },
     "execution_count": 126,
     "metadata": {},
     "output_type": "execute_result"
    }
   ],
   "source": [
    "sols_1/y"
   ]
  },
  {
   "cell_type": "code",
   "execution_count": 127,
   "id": "0a8fb496",
   "metadata": {},
   "outputs": [
    {
     "data": {
      "text/plain": [
       "<matplotlib.collections.PathCollection at 0x11a8d39a0>"
      ]
     },
     "execution_count": 127,
     "metadata": {},
     "output_type": "execute_result"
    },
    {
     "data": {
      "image/png": "[encoded data removed]",
      "text/plain": [
       "<Figure size 432x288 with 1 Axes>"
      ]
     },
     "metadata": {
      "needs_background": "light"
     },
     "output_type": "display_data"
    }
   ],
   "source": [
    "plt.scatter(x, sols_1/y)"
   ]
  },
  {
   "cell_type": "code",
   "execution_count": 128,
   "id": "cc5ff70e",
   "metadata": {},
   "outputs": [
    {
     "data": {
      "text/plain": [
       "<matplotlib.collections.PathCollection at 0x11a994820>"
      ]
     },
     "execution_count": 128,
     "metadata": {},
     "output_type": "execute_result"
    },
    {
     "data": {
      "image/png": "[encoded data removed]",
      "text/plain": [
       "<Figure size 432x288 with 1 Axes>"
      ]
     },
     "metadata": {
      "needs_background": "light"
     },
     "output_type": "display_data"
    }
   ],
   "source": [
    "\n",
    "x = np.linspace(-5,5,10000)\n",
    "y=[v(r) for r in x]\n",
    "plt.scatter(x, y)"
   ]
  },
  {
   "cell_type": "code",
   "execution_count": null,
   "id": "68f4f886",
   "metadata": {},
   "outputs": [],
   "source": []
  },
  {
   "cell_type": "code",
   "execution_count": 129,
   "id": "652fbfe8",
   "metadata": {},
   "outputs": [
    {
     "data": {
      "text/plain": [
       "0.5556494767862348"
      ]
     },
     "execution_count": 129,
     "metadata": {},
     "output_type": "execute_result"
    }
   ],
   "source": [
    "3/(4*np.pi*a*eps)"
   ]
  },
  {
   "cell_type": "code",
   "execution_count": 130,
   "id": "9a157aa1",
   "metadata": {},
   "outputs": [
    {
     "data": {
      "text/plain": [
       "0.018521649569791507"
      ]
     },
     "execution_count": 130,
     "metadata": {},
     "output_type": "execute_result"
    }
   ],
   "source": [
    "y[np.shape(y)[0]-1]"
   ]
  },
  {
   "cell_type": "code",
   "execution_count": 131,
   "id": "74b96e82",
   "metadata": {},
   "outputs": [
    {
     "data": {
      "text/plain": [
       "10000"
      ]
     },
     "execution_count": 131,
     "metadata": {},
     "output_type": "execute_result"
    }
   ],
   "source": [
    "np.shape(y)[0]"
   ]
  },
  {
   "cell_type": "code",
   "execution_count": 132,
   "id": "73413820",
   "metadata": {},
   "outputs": [
    {
     "data": {
      "text/plain": [
       "0.01959960921117312"
      ]
     },
     "execution_count": 132,
     "metadata": {},
     "output_type": "execute_result"
    }
   ],
   "source": [
    "boundary_condition(startR)"
   ]
  },
  {
   "cell_type": "code",
   "execution_count": 133,
   "id": "ec8b1935",
   "metadata": {},
   "outputs": [
    {
     "data": {
      "text/plain": [
       "0.01959960921117312"
      ]
     },
     "execution_count": 133,
     "metadata": {},
     "output_type": "execute_result"
    }
   ],
   "source": [
    "boundary_condition(endR)"
   ]
  },
  {
   "cell_type": "code",
   "execution_count": 134,
   "id": "53fe0e3d",
   "metadata": {},
   "outputs": [
    {
     "data": {
      "text/plain": [
       "0.0196388869326672"
      ]
     },
     "execution_count": 134,
     "metadata": {},
     "output_type": "execute_result"
    }
   ],
   "source": [
    "sols_1[len(sols_1)-1]"
   ]
  },
  {
   "cell_type": "code",
   "execution_count": 135,
   "id": "435d7c0f",
   "metadata": {},
   "outputs": [
    {
     "data": {
      "text/plain": [
       "0.9953222650189527"
      ]
     },
     "execution_count": 135,
     "metadata": {},
     "output_type": "execute_result"
    }
   ],
   "source": [
    "scipy.special.erf(2)"
   ]
  },
  {
   "cell_type": "code",
   "execution_count": 136,
   "id": "f1d69e7d",
   "metadata": {},
   "outputs": [
    {
     "data": {
      "text/plain": [
       "-0.019791547911788287"
      ]
     },
     "execution_count": 136,
     "metadata": {},
     "output_type": "execute_result"
    }
   ],
   "source": [
    "v_2s(endR)"
   ]
  },
  {
   "cell_type": "code",
   "execution_count": 137,
   "id": "bac8caaf",
   "metadata": {},
   "outputs": [
    {
     "data": {
      "text/plain": [
       "array([4.62115766e+01, 7.18637431e-21, 8.54946265e-21, 1.01673825e-20,\n",
       "       1.20870648e-20, 1.43639494e-20, 1.70635032e-20, 2.02630041e-20,\n",
       "       2.40536370e-20, 2.85429557e-20, 3.38577732e-20, 4.01475531e-20,\n",
       "       4.75883886e-20, 5.63876673e-20, 6.67895405e-20, 7.90813300e-20,\n",
       "       9.36010327e-20, 1.10746107e-19, 1.30983753e-19, 1.54862945e-19,\n",
       "       1.83028492e-19, 2.16237483e-19, 2.55378498e-19, 3.01494043e-19,\n",
       "       3.55806750e-19, 4.19749953e-19, 4.95003349e-19, 5.83534599e-19,\n",
       "       6.87647804e-19, 8.10040008e-19, 9.53866992e-19, 1.12281989e-18,\n",
       "       1.32121435e-18, 1.55409428e-18, 1.82735242e-18, 2.14787065e-18,\n",
       "       2.52368284e-18, 2.96416413e-18, 3.48025066e-18, 4.08469459e-18,\n",
       "       4.79235990e-18, 5.62056550e-18, 6.58948288e-18, 7.72259697e-18,\n",
       "       9.04723986e-18, 1.05952087e-17, 1.24034811e-17, 1.45150423e-17,\n",
       "       1.69798420e-17, 1.98559005e-17, 2.32105865e-17, 2.71220936e-17,\n",
       "       3.16811436e-17, 3.69929546e-17, 4.31795086e-17, 5.03821690e-17,\n",
       "       5.87646960e-17, 6.85167217e-17, 7.98577530e-17, 9.30417788e-17,\n",
       "       1.08362574e-16, 1.26159798e-16, 1.46826014e-16, 1.70814745e-16,\n",
       "       1.98649744e-16, 2.30935632e-16, 2.68370112e-16, 3.11757988e-16,\n",
       "       3.62027243e-16, 4.20247477e-16, 4.87651038e-16, 5.65657236e-16,\n",
       "       6.55900064e-16, 7.60259947e-16, 8.80900054e-16, 1.02030785e-15,\n",
       "       1.18134259e-15, 1.36728962e-15, 1.58192238e-15, 1.82957322e-15,\n",
       "       2.11521429e-15, 2.44454972e-15, 2.82412088e-15, 3.26142630e-15,\n",
       "       3.76505834e-15, 4.34485897e-15, 5.01209696e-15, 5.77966978e-15,\n",
       "       6.66233315e-15, 7.67696213e-15, 8.84284797e-15, 1.01820354e-14,\n",
       "       1.17197055e-14, 1.34846112e-14, 1.55095702e-14, 1.78320256e-14,\n",
       "       2.04946802e-14, 2.35462168e-14, 2.70421135e-14, 3.10455672e-14,\n",
       "       3.56285387e-14, 4.08729365e-14, 4.68719545e-14, 5.37315846e-14,\n",
       "       6.15723274e-14, 7.05311229e-14, 8.07635326e-14, 9.24462002e-14,\n",
       "       1.05779631e-13, 1.20991322e-13, 1.38339295e-13, 1.58116077e-13,\n",
       "       1.80653179e-13, 2.06326144e-13, 2.35560224e-13, 2.68836771e-13,\n",
       "       3.06700417e-13, 3.49767148e-13, 3.98733374e-13, 4.54386114e-13,\n",
       "       5.17614427e-13, 5.89422245e-13, 6.70942755e-13, 7.63454530e-13,\n",
       "       8.68399603e-13, 9.87403707e-13, 1.12229895e-12, 1.27514916e-12,\n",
       "       1.44827829e-12, 1.64430212e-12, 1.86616372e-12, 2.11717308e-12,\n",
       "       2.40105134e-12, 2.72198015e-12, 3.08465680e-12, 3.49435565e-12,\n",
       "       3.95699659e-12, 4.47922142e-12, 5.06847878e-12, 5.73311882e-12,\n",
       "       6.48249852e-12, 7.32709875e-12, 8.27865454e-12, 9.35029979e-12,\n",
       "       1.05567280e-11, 1.19143708e-11, 1.34415958e-11, 1.51589269e-11,\n",
       "       1.70892872e-11, 1.92582697e-11, 2.16944359e-11, 2.44296478e-11,\n",
       "       2.74994337e-11, 3.09433946e-11, 3.48056525e-11, 3.91353464e-11,\n",
       "       4.39871798e-11, 4.94220262e-11, 5.55075966e-11, 6.23191763e-11,\n",
       "       6.99404379e-11, 7.84643363e-11, 8.79940964e-11, 9.86442994e-11,\n",
       "       1.10542080e-10, 1.23828440e-10, 1.38659702e-10, 1.55209095e-10,\n",
       "       1.73668504e-10, 1.94250394e-10, 2.17189912e-10, 2.42747207e-10,\n",
       "       2.71209960e-10, 3.02896169e-10, 3.38157191e-10, 3.77381081e-10,\n",
       "       4.20996245e-10, 4.69475431e-10, 5.23340102e-10, 5.83165205e-10,\n",
       "       6.49584399e-10, 7.23295739e-10, 8.05067904e-10, 8.95746974e-10,\n",
       "       9.96263830e-10, 1.10764221e-09, 1.23100749e-09, 1.36759626e-09,\n",
       "       1.51876669e-09, 1.68600989e-09, 1.87096217e-09, 2.07541846e-09,\n",
       "       2.30134675e-09, 2.55090395e-09, 2.82645287e-09, 3.13058088e-09,\n",
       "       3.46611993e-09, 3.83616833e-09, 4.24411435e-09, 4.69366171e-09,\n",
       "       5.18885718e-09, 5.73412042e-09, 6.33427616e-09, 6.99458909e-09,\n",
       "       7.72080137e-09, 8.51917318e-09, 9.39652643e-09, 1.03602919e-08,\n",
       "       1.14185597e-08, 1.25801344e-08, 1.38545933e-08, 1.52523499e-08,\n",
       "       1.67847214e-08, 1.84640023e-08, 2.03035421e-08, 2.23178295e-08,\n",
       "       2.45225826e-08, 2.69348453e-08, 2.95730909e-08, 3.24573325e-08,\n",
       "       3.56092417e-08, 3.90522755e-08, 4.28118108e-08, 4.69152901e-08,\n",
       "       5.13923748e-08, 5.62751104e-08, 6.15981019e-08, 6.73987008e-08,\n",
       "       7.37172039e-08, 8.05970657e-08, 8.80851234e-08, 9.62318367e-08,\n",
       "       1.05091542e-07, 1.14722722e-07, 1.25188294e-07, 1.36555911e-07,\n",
       "       1.48898287e-07, 1.62293533e-07, 1.76825522e-07, 1.92584268e-07,\n",
       "       2.09666329e-07, 2.28175232e-07, 2.48221923e-07, 2.69925240e-07,\n",
       "       2.93412409e-07, 3.18819572e-07, 3.46292338e-07, 3.75986366e-07,\n",
       "       4.08067969e-07, 4.42714764e-07, 4.80116333e-07, 5.20474937e-07,\n",
       "       5.64006246e-07, 6.10940118e-07, 6.61521397e-07, 7.16010765e-07,\n",
       "       7.74685618e-07, 8.37840982e-07, 9.05790474e-07, 9.78867294e-07,\n",
       "       1.05742526e-06, 1.14183990e-06, 1.23250953e-06, 1.32985647e-06,\n",
       "       1.43432819e-06, 1.54639859e-06, 1.66656925e-06, 1.79537082e-06,\n",
       "       1.93336430e-06, 2.08114254e-06, 2.23933161e-06, 2.40859238e-06,\n",
       "       2.58962197e-06, 2.78315538e-06, 2.98996705e-06, 3.21087257e-06,\n",
       "       3.44673029e-06, 3.69844308e-06, 3.96696007e-06, 4.25327839e-06,\n",
       "       4.55844499e-06, 4.88355846e-06, 5.22977087e-06, 5.59828960e-06,\n",
       "       5.99037925e-06, 6.40736345e-06, 6.85062680e-06, 7.32161669e-06,\n",
       "       7.82184518e-06, 8.35289089e-06, 8.91640075e-06, 9.51409187e-06,\n",
       "       1.01477533e-05, 1.08192477e-05, 1.15305131e-05, 1.22835644e-05,\n",
       "       1.30804952e-05, 1.39234789e-05, 1.48147704e-05, 1.57567071e-05,\n",
       "       1.67517106e-05, 1.78022871e-05, 1.89110290e-05, 2.00806151e-05,\n",
       "       2.13138119e-05, 2.26134735e-05, 2.39825424e-05, 2.54240493e-05,\n",
       "       2.69411131e-05, 2.85369407e-05, 3.02148266e-05, 3.19781516e-05,\n",
       "       3.38303824e-05, 3.57750701e-05, 3.78158483e-05, 3.99564317e-05,\n",
       "       4.22006136e-05, 4.45522635e-05, 4.70153239e-05, 4.95938077e-05,\n",
       "       5.22917939e-05, 5.51134241e-05, 5.80628979e-05, 6.11444681e-05,\n",
       "       6.43624354e-05, 6.77211429e-05, 7.12249699e-05, 7.48783253e-05,\n",
       "       7.86856408e-05, 8.26513628e-05, 8.67799452e-05, 9.10758403e-05,\n",
       "       9.55434903e-05, 1.00187317e-04, 1.05011714e-04, 1.10021033e-04,\n",
       "       1.15219574e-04, 1.20611578e-04, 1.26201207e-04, 1.31992540e-04,\n",
       "       1.37989553e-04, 1.44196110e-04, 1.50615950e-04, 1.57252667e-04,\n",
       "       1.64109703e-04, 1.71190326e-04, 1.78497620e-04, 1.86034465e-04,\n",
       "       1.93803524e-04, 2.01807224e-04, 2.10047743e-04, 2.18526988e-04,\n",
       "       2.27246583e-04, 2.36207847e-04, 2.45411782e-04, 2.54859048e-04,\n",
       "       2.64549955e-04, 2.74484438e-04, 2.84662042e-04, 2.95081904e-04,\n",
       "       3.05742741e-04, 3.16642824e-04, 3.27779970e-04, 3.39151520e-04,\n",
       "       3.50754328e-04, 3.62584743e-04, 3.74638593e-04, 3.86911174e-04,\n",
       "       3.99397237e-04, 4.12090972e-04, 4.24985999e-04, 4.38075358e-04,\n",
       "       4.51351496e-04, 4.64806262e-04, 4.78430896e-04, 4.92216026e-04,\n",
       "       5.06151662e-04, 5.20227190e-04, 5.34431372e-04, 5.48752345e-04,\n",
       "       5.63177624e-04, 5.77694098e-04, 5.92288041e-04, 6.06945115e-04,\n",
       "       6.21650377e-04, 6.36388288e-04, 6.51142729e-04, 6.65897008e-04,\n",
       "       6.80633880e-04, 6.95335561e-04, 7.09983750e-04, 7.24559648e-04,\n",
       "       7.39043984e-04, 7.53417037e-04, 7.67658668e-04, 7.81748345e-04,\n",
       "       7.95665177e-04, 8.09387949e-04, 8.22895155e-04, 8.36165036e-04,\n",
       "       8.49175622e-04, 8.61904770e-04, 8.74330210e-04, 8.86429590e-04,\n",
       "       8.98180521e-04, 9.09560624e-04, 9.20547586e-04, 9.31119205e-04,\n",
       "       9.41253443e-04, 9.50928485e-04, 9.60122787e-04, 9.68815136e-04,\n",
       "       9.76984707e-04, 9.84611115e-04, 9.91674480e-04, 9.98155478e-04,\n",
       "       1.00403540e-03, 1.00929623e-03, 1.01392066e-03, 1.01789219e-03,\n",
       "       1.02119516e-03, 1.02381483e-03, 1.02573740e-03, 1.02695010e-03,\n",
       "       1.02744122e-03, 1.02720019e-03, 1.02621759e-03, 1.02448523e-03,\n",
       "       1.02199617e-03, 1.01874480e-03, 1.01472685e-03, 1.00993945e-03,\n",
       "       1.00438115e-03, 9.98051958e-04, 9.90953378e-04, 9.83088431e-04,\n",
       "       9.74461679e-04, 9.65079246e-04, 9.54948833e-04, 9.44079731e-04,\n",
       "       9.32482833e-04, 9.20170633e-04, 9.07157228e-04, 8.93458318e-04,\n",
       "       8.79091191e-04, 8.64074718e-04, 8.48429328e-04, 8.32176993e-04,\n",
       "       8.15341200e-04, 7.97946919e-04, 7.80020569e-04, 7.61589979e-04,\n",
       "       7.42684346e-04, 7.23334183e-04, 7.03571269e-04, 6.83428595e-04,\n",
       "       6.62940297e-04, 6.42141597e-04, 6.21068735e-04, 5.99758891e-04,\n",
       "       5.78250117e-04, 5.56581253e-04, 5.34791847e-04, 5.12922071e-04,\n",
       "       4.91012629e-04, 4.69104675e-04, 4.47239713e-04, 4.25459506e-04,\n",
       "       4.03805980e-04, 3.82321127e-04, 3.61046904e-04, 3.40025136e-04,\n",
       "       3.19297414e-04, 2.98904997e-04, 2.78888708e-04, 2.59288837e-04,\n",
       "       2.40145038e-04, 2.21496234e-04, 2.03380518e-04, 1.85835055e-04,\n",
       "       1.68895990e-04, 1.52598356e-04, 1.36975982e-04, 1.22061410e-04,\n",
       "       1.07885807e-04, 9.44788826e-05, 8.18688190e-05, 7.00821899e-05,\n",
       "       5.91438943e-05, 4.90770901e-05, 3.99031332e-05, 3.16415209e-05,\n",
       "       2.43098402e-05, 1.79237211e-05, 1.24967951e-05, 8.04065863e-06,\n",
       "       4.56484235e-06, 2.07678553e-06, 5.81816222e-07, 8.31327700e-08,\n",
       "       5.81816222e-07, 2.07678553e-06, 4.56484235e-06, 8.04065863e-06,\n",
       "       1.24967951e-05, 1.79237211e-05, 2.43098402e-05, 3.16415209e-05,\n",
       "       3.99031332e-05, 4.90770901e-05, 5.91438943e-05, 7.00821899e-05,\n",
       "       8.18688190e-05, 9.44788826e-05, 1.07885807e-04, 1.22061410e-04,\n",
       "       1.36975982e-04, 1.52598356e-04, 1.68895990e-04, 1.85835055e-04,\n",
       "       2.03380518e-04, 2.21496234e-04, 2.40145038e-04, 2.59288837e-04,\n",
       "       2.78888708e-04, 2.98904997e-04, 3.19297414e-04, 3.40025136e-04,\n",
       "       3.61046904e-04, 3.82321127e-04, 4.03805980e-04, 4.25459506e-04,\n",
       "       4.47239713e-04, 4.69104675e-04, 4.91012629e-04, 5.12922071e-04,\n",
       "       5.34791847e-04, 5.56581253e-04, 5.78250117e-04, 5.99758891e-04,\n",
       "       6.21068735e-04, 6.42141597e-04, 6.62940297e-04, 6.83428595e-04,\n",
       "       7.03571269e-04, 7.23334183e-04, 7.42684346e-04, 7.61589979e-04,\n",
       "       7.80020569e-04, 7.97946919e-04, 8.15341200e-04, 8.32176993e-04,\n",
       "       8.48429328e-04, 8.64074718e-04, 8.79091191e-04, 8.93458318e-04,\n",
       "       9.07157228e-04, 9.20170633e-04, 9.32482833e-04, 9.44079731e-04,\n",
       "       9.54948833e-04, 9.65079246e-04, 9.74461679e-04, 9.83088431e-04,\n",
       "       9.90953378e-04, 9.98051958e-04, 1.00438115e-03, 1.00993945e-03,\n",
       "       1.01472685e-03, 1.01874480e-03, 1.02199617e-03, 1.02448523e-03,\n",
       "       1.02621759e-03, 1.02720019e-03, 1.02744122e-03, 1.02695010e-03,\n",
       "       1.02573740e-03, 1.02381483e-03, 1.02119516e-03, 1.01789219e-03,\n",
       "       1.01392066e-03, 1.00929623e-03, 1.00403540e-03, 9.98155478e-04,\n",
       "       9.91674480e-04, 9.84611115e-04, 9.76984707e-04, 9.68815136e-04,\n",
       "       9.60122787e-04, 9.50928485e-04, 9.41253443e-04, 9.31119205e-04,\n",
       "       9.20547586e-04, 9.09560624e-04, 8.98180521e-04, 8.86429590e-04,\n",
       "       8.74330210e-04, 8.61904770e-04, 8.49175622e-04, 8.36165036e-04,\n",
       "       8.22895155e-04, 8.09387949e-04, 7.95665177e-04, 7.81748345e-04,\n",
       "       7.67658668e-04, 7.53417037e-04, 7.39043984e-04, 7.24559648e-04,\n",
       "       7.09983750e-04, 6.95335561e-04, 6.80633880e-04, 6.65897008e-04,\n",
       "       6.51142729e-04, 6.36388288e-04, 6.21650377e-04, 6.06945115e-04,\n",
       "       5.92288041e-04, 5.77694098e-04, 5.63177624e-04, 5.48752345e-04,\n",
       "       5.34431372e-04, 5.20227190e-04, 5.06151662e-04, 4.92216026e-04,\n",
       "       4.78430896e-04, 4.64806262e-04, 4.51351496e-04, 4.38075358e-04,\n",
       "       4.24985999e-04, 4.12090972e-04, 3.99397237e-04, 3.86911174e-04,\n",
       "       3.74638593e-04, 3.62584743e-04, 3.50754328e-04, 3.39151520e-04,\n",
       "       3.27779970e-04, 3.16642824e-04, 3.05742741e-04, 2.95081904e-04,\n",
       "       2.84662042e-04, 2.74484438e-04, 2.64549955e-04, 2.54859048e-04,\n",
       "       2.45411782e-04, 2.36207847e-04, 2.27246583e-04, 2.18526988e-04,\n",
       "       2.10047743e-04, 2.01807224e-04, 1.93803524e-04, 1.86034465e-04,\n",
       "       1.78497620e-04, 1.71190326e-04, 1.64109703e-04, 1.57252667e-04,\n",
       "       1.50615950e-04, 1.44196110e-04, 1.37989553e-04, 1.31992540e-04,\n",
       "       1.26201207e-04, 1.20611578e-04, 1.15219574e-04, 1.10021033e-04,\n",
       "       1.05011714e-04, 1.00187317e-04, 9.55434903e-05, 9.10758403e-05,\n",
       "       8.67799452e-05, 8.26513628e-05, 7.86856408e-05, 7.48783253e-05,\n",
       "       7.12249699e-05, 6.77211429e-05, 6.43624354e-05, 6.11444681e-05,\n",
       "       5.80628979e-05, 5.51134241e-05, 5.22917939e-05, 4.95938077e-05,\n",
       "       4.70153239e-05, 4.45522635e-05, 4.22006136e-05, 3.99564317e-05,\n",
       "       3.78158483e-05, 3.57750701e-05, 3.38303824e-05, 3.19781516e-05,\n",
       "       3.02148266e-05, 2.85369407e-05, 2.69411131e-05, 2.54240493e-05,\n",
       "       2.39825424e-05, 2.26134735e-05, 2.13138119e-05, 2.00806151e-05,\n",
       "       1.89110290e-05, 1.78022871e-05, 1.67517106e-05, 1.57567071e-05,\n",
       "       1.48147704e-05, 1.39234789e-05, 1.30804952e-05, 1.22835644e-05,\n",
       "       1.15305131e-05, 1.08192477e-05, 1.01477533e-05, 9.51409187e-06,\n",
       "       8.91640075e-06, 8.35289089e-06, 7.82184518e-06, 7.32161669e-06,\n",
       "       6.85062680e-06, 6.40736345e-06, 5.99037925e-06, 5.59828960e-06,\n",
       "       5.22977087e-06, 4.88355846e-06, 4.55844499e-06, 4.25327839e-06,\n",
       "       3.96696007e-06, 3.69844308e-06, 3.44673029e-06, 3.21087257e-06,\n",
       "       2.98996705e-06, 2.78315538e-06, 2.58962197e-06, 2.40859238e-06,\n",
       "       2.23933161e-06, 2.08114254e-06, 1.93336430e-06, 1.79537082e-06,\n",
       "       1.66656925e-06, 1.54639859e-06, 1.43432819e-06, 1.32985647e-06,\n",
       "       1.23250953e-06, 1.14183990e-06, 1.05742526e-06, 9.78867294e-07,\n",
       "       9.05790474e-07, 8.37840982e-07, 7.74685618e-07, 7.16010765e-07,\n",
       "       6.61521397e-07, 6.10940118e-07, 5.64006246e-07, 5.20474937e-07,\n",
       "       4.80116333e-07, 4.42714764e-07, 4.08067969e-07, 3.75986366e-07,\n",
       "       3.46292338e-07, 3.18819572e-07, 2.93412409e-07, 2.69925240e-07,\n",
       "       2.48221923e-07, 2.28175232e-07, 2.09666329e-07, 1.92584268e-07,\n",
       "       1.76825522e-07, 1.62293533e-07, 1.48898287e-07, 1.36555911e-07,\n",
       "       1.25188294e-07, 1.14722722e-07, 1.05091542e-07, 9.62318367e-08,\n",
       "       8.80851234e-08, 8.05970657e-08, 7.37172039e-08, 6.73987008e-08,\n",
       "       6.15981019e-08, 5.62751104e-08, 5.13923748e-08, 4.69152901e-08,\n",
       "       4.28118108e-08, 3.90522755e-08, 3.56092417e-08, 3.24573325e-08,\n",
       "       2.95730909e-08, 2.69348453e-08, 2.45225826e-08, 2.23178295e-08,\n",
       "       2.03035421e-08, 1.84640023e-08, 1.67847214e-08, 1.52523499e-08,\n",
       "       1.38545933e-08, 1.25801344e-08, 1.14185597e-08, 1.03602919e-08,\n",
       "       9.39652643e-09, 8.51917318e-09, 7.72080137e-09, 6.99458909e-09,\n",
       "       6.33427616e-09, 5.73412042e-09, 5.18885718e-09, 4.69366171e-09,\n",
       "       4.24411435e-09, 3.83616833e-09, 3.46611993e-09, 3.13058088e-09,\n",
       "       2.82645287e-09, 2.55090395e-09, 2.30134675e-09, 2.07541846e-09,\n",
       "       1.87096217e-09, 1.68600989e-09, 1.51876669e-09, 1.36759626e-09,\n",
       "       1.23100749e-09, 1.10764221e-09, 9.96263830e-10, 8.95746974e-10,\n",
       "       8.05067904e-10, 7.23295739e-10, 6.49584399e-10, 5.83165205e-10,\n",
       "       5.23340102e-10, 4.69475431e-10, 4.20996245e-10, 3.77381081e-10,\n",
       "       3.38157191e-10, 3.02896169e-10, 2.71209960e-10, 2.42747207e-10,\n",
       "       2.17189912e-10, 1.94250394e-10, 1.73668504e-10, 1.55209095e-10,\n",
       "       1.38659702e-10, 1.23828440e-10, 1.10542080e-10, 9.86442994e-11,\n",
       "       8.79940964e-11, 7.84643363e-11, 6.99404379e-11, 6.23191763e-11,\n",
       "       5.55075966e-11, 4.94220262e-11, 4.39871798e-11, 3.91353464e-11,\n",
       "       3.48056525e-11, 3.09433946e-11, 2.74994337e-11, 2.44296478e-11,\n",
       "       2.16944359e-11, 1.92582697e-11, 1.70892872e-11, 1.51589269e-11,\n",
       "       1.34415958e-11, 1.19143708e-11, 1.05567280e-11, 9.35029979e-12,\n",
       "       8.27865454e-12, 7.32709875e-12, 6.48249852e-12, 5.73311882e-12,\n",
       "       5.06847878e-12, 4.47922142e-12, 3.95699659e-12, 3.49435565e-12,\n",
       "       3.08465680e-12, 2.72198015e-12, 2.40105134e-12, 2.11717308e-12,\n",
       "       1.86616372e-12, 1.64430212e-12, 1.44827829e-12, 1.27514916e-12,\n",
       "       1.12229895e-12, 9.87403707e-13, 8.68399603e-13, 7.63454530e-13,\n",
       "       6.70942755e-13, 5.89422245e-13, 5.17614427e-13, 4.54386114e-13,\n",
       "       3.98733374e-13, 3.49767148e-13, 3.06700417e-13, 2.68836771e-13,\n",
       "       2.35560224e-13, 2.06326144e-13, 1.80653179e-13, 1.58116077e-13,\n",
       "       1.38339295e-13, 1.20991322e-13, 1.05779631e-13, 9.24462002e-14,\n",
       "       8.07635326e-14, 7.05311229e-14, 6.15723274e-14, 5.37315846e-14,\n",
       "       4.68719545e-14, 4.08729365e-14, 3.56285387e-14, 3.10455672e-14,\n",
       "       2.70421135e-14, 2.35462168e-14, 2.04946802e-14, 1.78320256e-14,\n",
       "       1.55095702e-14, 1.34846112e-14, 1.17197055e-14, 1.01820354e-14,\n",
       "       8.84284797e-15, 7.67696213e-15, 6.66233315e-15, 5.77966978e-15,\n",
       "       5.01209696e-15, 4.34485897e-15, 3.76505834e-15, 3.26142630e-15,\n",
       "       2.82412088e-15, 2.44454972e-15, 2.11521429e-15, 1.82957322e-15,\n",
       "       1.58192238e-15, 1.36728962e-15, 1.18134259e-15, 1.02030785e-15,\n",
       "       8.80900054e-16, 7.60259947e-16, 6.55900064e-16, 5.65657236e-16,\n",
       "       4.87651038e-16, 4.20247477e-16, 3.62027243e-16, 3.11757988e-16,\n",
       "       2.68370112e-16, 2.30935632e-16, 1.98649744e-16, 1.70814745e-16,\n",
       "       1.46826014e-16, 1.26159798e-16, 1.08362574e-16, 9.30417788e-17,\n",
       "       7.98577530e-17, 6.85167217e-17, 5.87646960e-17, 5.03821690e-17,\n",
       "       4.31795086e-17, 3.69929546e-17, 3.16811436e-17, 2.71220936e-17,\n",
       "       2.32105865e-17, 1.98559005e-17, 1.69798420e-17, 1.45150423e-17,\n",
       "       1.24034811e-17, 1.05952087e-17, 9.04723986e-18, 7.72259697e-18,\n",
       "       6.58948288e-18, 5.62056550e-18, 4.79235990e-18, 4.08469459e-18,\n",
       "       3.48025066e-18, 2.96416413e-18, 2.52368284e-18, 2.14787065e-18,\n",
       "       1.82735242e-18, 1.55409428e-18, 1.32121435e-18, 1.12281989e-18,\n",
       "       9.53866992e-19, 8.10040008e-19, 6.87647804e-19, 5.83534599e-19,\n",
       "       4.95003349e-19, 4.19749953e-19, 3.55806750e-19, 3.01494043e-19,\n",
       "       2.55378498e-19, 2.16237483e-19, 1.83028492e-19, 1.54862945e-19,\n",
       "       1.30983753e-19, 1.10746107e-19, 9.36010327e-20, 7.90813300e-20,\n",
       "       6.67895405e-20, 5.63876673e-20, 4.75883886e-20, 4.01475531e-20,\n",
       "       3.38577732e-20, 2.85429557e-20, 2.40536370e-20, 2.02630041e-20,\n",
       "       1.70635032e-20, 1.43639494e-20, 1.20870648e-20, 1.01673825e-20,\n",
       "       8.54946265e-21, 7.18637431e-21, 4.62115766e+01])"
      ]
     },
     "execution_count": 137,
     "metadata": {},
     "output_type": "execute_result"
    }
   ],
   "source": [
    "b_1"
   ]
  },
  {
   "cell_type": "code",
   "execution_count": 138,
   "id": "dc7aef90",
   "metadata": {},
   "outputs": [],
   "source": [
    "d=generateUniformGrid(N)\n",
    "f=generateListOfAdaptiveGridCoords(N, gaussianElectronDensity, 100, 5)\n",
    "for i in range(len(d)):\n",
    "    if(d[i][0] != f[i][0] or d[i][1] != f[i][1]):\n",
    "        print(\"d\", d[i])\n",
    "        print(\"f\", f[i])"
   ]
  },
  {
   "cell_type": "code",
   "execution_count": 139,
   "id": "c6ca6816",
   "metadata": {},
   "outputs": [
    {
     "ename": "NameError",
     "evalue": "name 'M' is not defined",
     "output_type": "error",
     "traceback": [
      "\u001b[0;31m---------------------------------------------------------------------------\u001b[0m",
      "\u001b[0;31mNameError\u001b[0m                                 Traceback (most recent call last)",
      "\u001b[0;32m/var/folders/w9/rpt2vk6943b30y910f1djt500000gq/T/ipykernel_7232/545986313.py\u001b[0m in \u001b[0;36m<module>\u001b[0;34m\u001b[0m\n\u001b[0;32m----> 1\u001b[0;31m \u001b[0mM\u001b[0m\u001b[0;34m\u001b[0m\u001b[0;34m\u001b[0m\u001b[0m\n\u001b[0m",
      "\u001b[0;31mNameError\u001b[0m: name 'M' is not defined"
     ]
    }
   ],
   "source": [
    "M"
   ]
  },
  {
   "cell_type": "code",
   "execution_count": null,
   "id": "72b75420",
   "metadata": {},
   "outputs": [],
   "source": [
    "np.array_equal(M, M_1)"
   ]
  },
  {
   "cell_type": "code",
   "execution_count": null,
   "id": "e40a136a",
   "metadata": {},
   "outputs": [],
   "source": [
    "np.array_equal(b, b_1)"
   ]
  },
  {
   "cell_type": "code",
   "execution_count": null,
   "id": "7e5410f5",
   "metadata": {},
   "outputs": [],
   "source": [
    "b"
   ]
  },
  {
   "cell_type": "code",
   "execution_count": null,
   "id": "c1a5f006",
   "metadata": {},
   "outputs": [],
   "source": [
    "b_1"
   ]
  },
  {
   "cell_type": "code",
   "execution_count": null,
   "id": "fb2977be",
   "metadata": {},
   "outputs": [],
   "source": []
  }
 ],
 "metadata": {
  "kernelspec": {
   "display_name": "Python 3 (ipykernel)",
   "language": "python",
   "name": "python3"
  },
  "language_info": {
   "codemirror_mode": {
    "name": "ipython",
    "version": 3
   },
   "file_extension": ".py",
   "mimetype": "text/x-python",
   "name": "python",
   "nbconvert_exporter": "python",
   "pygments_lexer": "ipython3",
   "version": "3.9.12"
  }
 },
 "nbformat": 4,
 "nbformat_minor": 5
}
