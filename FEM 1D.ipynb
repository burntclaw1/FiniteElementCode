{
 "cells": [
  {
   "cell_type": "code",
   "execution_count": 195,
   "id": "ea858970",
   "metadata": {},
   "outputs": [],
   "source": [
    "%matplotlib inline\n",
    "\n",
    "import numpy as np\n",
    "import matplotlib.pyplot as plt\n",
    "import scipy\n",
    "import scipy.integrate as integrate\n",
    "import numpy.linalg as linalg\n",
    "from multipledispatch import dispatch"
   ]
  },
  {
   "cell_type": "code",
   "execution_count": 196,
   "id": "4d0bb69d",
   "metadata": {},
   "outputs": [],
   "source": [
    "#must be greater than 0\n",
    "au2nm=0.05291\n",
    "au2ev=27.211\n",
    "\n",
    "adaptive=False\n",
    "startR=-2/au2nm\n",
    "endR=2/au2nm\n",
    "N=10\n",
    "sites=N+1\n",
    "a=0.05291*0.5/au2nm\n",
    "deltaX=np.abs(startR-endR)/(N)\n",
    "eps=0.5968404*au2nm*au2ev\n",
    "n=1\n",
    "sigma=1\n",
    "valueAtZero=1/(2*np.pi*a*eps)"
   ]
  },
  {
   "cell_type": "code",
   "execution_count": 197,
   "id": "eaee86b4",
   "metadata": {},
   "outputs": [],
   "source": [
    "def electronDensity(r, a):\n",
    "    return (1/(np.pi*a**3))*(np.exp(-2*r/a)) if r>0 else (1/(np.pi*a**3))*(np.exp(2*r/a))\n",
    "\n",
    "@dispatch(float, float)\n",
    "def linearFunction(r, n):\n",
    "    return 1/(deltaX) *(r-n)+1 if r<n else -1/(deltaX) *(r-n)+1\n",
    "\n",
    "#n is the middle\n",
    "#a_1 is the left most\n",
    "#a_2 is the right most\n",
    "@dispatch(float, float, float, float)\n",
    "def linearFunction(r, a_1, n, a_2):\n",
    "    return 1/(n-a_1) *(r-n)+1 if r<n else -1/(a_2-n) *(r-n)+1\n",
    "\n",
    "def integrand(r, eps, n, edensity):\n",
    "    return ((1/eps)*edensity(r,a)*linearFunction(r, n)*r**2)\n",
    "\n",
    "def integrandAdaptive(r, eps, n, edensity, a_1, a_2):\n",
    "    return (1/eps)*edensity(r,a)*linearFunction(r, a_1, n, a_2)*r**2\n",
    "\n",
    "def getIntegral(a_1, a_2, eps, n, edensity):\n",
    "    return integrate.quad(integrand, a_1, a_2, args=(eps, n, edensity))[0]\n",
    "\n",
    "def getIntegralAdaptive(a_1, a_2, eps, n, edensity):\n",
    "    return integrate.quad(integrandAdaptive, a_1, a_2, args=(eps, n, edensity, a_1, a_2))[0]\n",
    "\n",
    "def gaussianElectronDensity(r, sigma):\n",
    "    return (1/np.sqrt(2*np.pi*sigma**2))**3*(np.exp((-r**2)/(2*sigma**2)))\n",
    "\n",
    "def electronDensity_2s(r, a):\n",
    "    return -(1/(32*np.pi*a**3))*(2-r/a)*np.exp(-r/a) if r>0 else -(1/(32*np.pi*a**3))*(2+r/a)*np.exp(r/a)\n",
    "\n",
    "def v_gauss(r):\n",
    "    return 1/(4*np.pi*eps)*(1/r)*scipy.special.erf(r/np.sqrt(2*a**2))\n",
    "\n",
    "def v(r):\n",
    "    return (1/(4*np.pi*eps*a**2))*(a**2/r-(a**2/r-a)*np.exp(-2*r/a)) if r>0 else (1/(4*np.pi*eps*a**2))*(-a**2/r-(-a**2/r-a)*np.exp(2*r/a))\n",
    "\n",
    "def v_2s(r):\n",
    "    return -(1/(32*np.pi*eps))*(8/r-(8/r+2/a-2*r/(a**2)-r**2/a**3)*np.exp(-r/a)) if r>0 else (1/(32*np.pi*eps))*(-8/r-(-8/r+2/a+2*r/(a**2)-r**2/a**3)*np.exp(r/a))"
   ]
  },
  {
   "cell_type": "code",
   "execution_count": 198,
   "id": "8218ac79",
   "metadata": {},
   "outputs": [],
   "source": [
    "#func gives grid size at each point\n",
    "def generateUniformGrid(N):\n",
    "    delX=(endR-startR)/N\n",
    "    return [(startR+i*delX,startR+(i+1)*delX) for i in range(N)]\n",
    "\n",
    "def riemannEst(a_1, a_2, func):\n",
    "    return func((a_2-a_1)/2+a_1,a)*(a_2-a_1)\n",
    "\n",
    "def adaptivelySubdivide(l, func, eps,n,maxIt):\n",
    "    absError=np.abs(riemannEst(l[0], l[1], func)-(riemannEst(l[0], (l[1]-l[0])/2+l[0], func)+riemannEst((l[1]-l[0])/2+l[0], l[1],func)))\n",
    "    relError=np.abs(absError/(riemannEst(l[0], l[1], func)))\n",
    "    if(relError<eps or n>maxIt):\n",
    "        return np.array([l])\n",
    "    else:\n",
    "        left=(l[0], (l[1]-l[0])/2+l[0])\n",
    "        right=((l[1]-l[0])/2+l[0], l[1])\n",
    "        temp=(np.concatenate((adaptivelySubdivide(left, func, eps, n+1,maxIt),adaptivelySubdivide(right, func, eps,n+1,maxIt))))\n",
    "        return temp\n",
    "    \n",
    "#adaptively subdivided to func\n",
    "def generateListOfAdaptiveGridCoords(N, func, eps, maxIt):\n",
    "    uni=generateUniformGrid(N)\n",
    "    newList=[];\n",
    "    for i in range(len(uni)):\n",
    "        #adaptively subdivide returns a list\n",
    "        temp=adaptivelySubdivide(uni[i], func, eps, 0, maxIt);\n",
    "        for x in temp:\n",
    "            newList.append(x)\n",
    "    return np.array(newList,dtype=object)"
   ]
  },
  {
   "cell_type": "code",
   "execution_count": 199,
   "id": "559eda95",
   "metadata": {},
   "outputs": [],
   "source": [
    "#uniform\n",
    "def constructResultVector(eDensity):\n",
    "    theList=[getIntegral(startR+(i-1)*deltaX, startR+(i+1)*deltaX, eps, startR+i*deltaX,eDensity) for i in range(1,sites-1)];\n",
    "    return np.array(theList);\n",
    "\n",
    "def createListOfMidCoord(temp):\n",
    "    return np.array((x[1]-x[0])/2+x[0] for x in temp)\n",
    "\n",
    "def createListOfIntervals(adpGrid):\n",
    "    return np.array([np.abs(x[1]-x[0]) for x in adpGrid])\n",
    "\n",
    "#getIntegralAdaptive(a_1, a_2, eps, n, edensity)\n",
    "def constructResultVectorAdaptive(adpGrid, eDensity):\n",
    "    theList=[getIntegralAdaptive(adpGrid[i-1][0], adpGrid[i+1][0] if i+1<np.shape(adpGrid)[0] else adpGrid[i][1]+deltaX, eps, adpGrid[i][0], eDensity) for i in range(1, np.shape(adpGrid)[0])];\n",
    "    return np.array(theList);\n",
    "\n",
    "@dispatch(int)\n",
    "def mk(i):\n",
    "    return ((startR+deltaX*i)**3-(startR+deltaX*(i-1))**3)/(3*deltaX**2)\n",
    "\n",
    "@dispatch(int, np.ndarray)\n",
    "def mk(i, adpGrid):\n",
    "    one=adpGrid[i][0] if i<np.shape(adpGrid)[0] else adpGrid[np.shape(adpGrid)[0]-1][1]\n",
    "    return (one**3-(adpGrid[i-1][0])**3)/(3*(adpGrid[i-1][1]-adpGrid[i-1][0])*(adpGrid[i][1]-adpGrid[i][0]))"
   ]
  },
  {
   "cell_type": "code",
   "execution_count": 200,
   "id": "063c3ba7",
   "metadata": {},
   "outputs": [],
   "source": [
    "def boundary_condition(r):\n",
    "    if(0<=r and r<endR/2):\n",
    "        return valueAtZero\n",
    "    return (1/(4*np.pi*eps))*1/np.abs(r)\n",
    "\n",
    "def addBoundaryConditions(b):\n",
    "    b[0]+=boundary_condition(startR)*mk(1)\n",
    "    b[b.size-1]+=boundary_condition(endR)*mk(N)\n",
    "    return b"
   ]
  },
  {
   "cell_type": "code",
   "execution_count": 201,
   "id": "f30fbfcc",
   "metadata": {},
   "outputs": [],
   "source": [
    "def constructMatrix():\n",
    "    temp=np.zeros((sites, sites));\n",
    "    for i in range(sites-1):\n",
    "        if(i>0):\n",
    "            temp[i, i-1]=-mk(i)\n",
    "        if(i>=0):\n",
    "            temp[i, i]=mk(i+1)+mk(i)\n",
    "        if(i+1<sites):\n",
    "            temp[i, i+1]=-mk(i+1)\n",
    "    temp=np.delete(temp, [0, sites-1], axis=1)\n",
    "    temp=np.delete(temp, [0, sites-1], axis=0)\n",
    "    return temp\n",
    "\n",
    "def constructMatrixAdp(adGrid):\n",
    "    temp=np.zeros((np.shape(adpGrid)[0]+1, np.shape(adpGrid)[0]+1));\n",
    "    for i in range(sites-1):\n",
    "        if(i>0):\n",
    "            temp[i, i-1]=-mk(i, adpGrid)\n",
    "        if(i>=0):\n",
    "            temp[i, i]=mk(i+1,adpGrid)+mk(i,adpGrid)\n",
    "        if(i+1<sites):\n",
    "            temp[i, i+1]=-mk(i+1,adpGrid)\n",
    "    temp=np.delete(temp, [0, sites-1], axis=1)\n",
    "    temp=np.delete(temp, [0, sites-1], axis=0)\n",
    "    return temp"
   ]
  },
  {
   "cell_type": "code",
   "execution_count": 202,
   "id": "85e98221",
   "metadata": {},
   "outputs": [],
   "source": [
    "#adpGrid=generateListOfAdaptiveGridCoords(N, gaussianElectronDensity, 1e-4, 5)\n",
    "#b=constructResultVectorAdaptive(adpGrid, gaussianElectronDensity)\n",
    "#b=constructResultVector(electronDensity_2s)\n",
    "#b=addBoundaryConditions(b)\n",
    "\n",
    "b_1=constructResultVector(gaussianElectronDensity)\n",
    "#b_1=addBoundaryConditions(b_1)"
   ]
  },
  {
   "cell_type": "code",
   "execution_count": 203,
   "id": "c8194ded",
   "metadata": {},
   "outputs": [],
   "source": [
    "#M=constructMatrixAdp(adpGrid)\n",
    "M_1=constructMatrix()"
   ]
  },
  {
   "cell_type": "code",
   "execution_count": 204,
   "id": "803b978c",
   "metadata": {},
   "outputs": [
    {
     "data": {
      "text/plain": [
       "(9,)"
      ]
     },
     "execution_count": 204,
     "metadata": {},
     "output_type": "execute_result"
    }
   ],
   "source": [
    "np.shape(b_1)"
   ]
  },
  {
   "cell_type": "code",
   "execution_count": 205,
   "id": "289ccf60",
   "metadata": {},
   "outputs": [],
   "source": [
    "#sols=linalg.solve(M, b)\n",
    "sols_1=linalg.solve(M_1, b_1)"
   ]
  },
  {
   "cell_type": "code",
   "execution_count": null,
   "id": "4d6663ca",
   "metadata": {},
   "outputs": [],
   "source": []
  },
  {
   "cell_type": "code",
   "execution_count": 206,
   "id": "ae28c95c",
   "metadata": {},
   "outputs": [
    {
     "name": "stderr",
     "output_type": "stream",
     "text": [
      "/var/folders/w9/rpt2vk6943b30y910f1djt500000gq/T/ipykernel_35107/66112670.py:34: RuntimeWarning: divide by zero encountered in double_scalars\n",
      "  return 1/(4*np.pi*eps)*(1/r)*scipy.special.erf(r/np.sqrt(2*a**2))\n",
      "/var/folders/w9/rpt2vk6943b30y910f1djt500000gq/T/ipykernel_35107/66112670.py:34: RuntimeWarning: invalid value encountered in double_scalars\n",
      "  return 1/(4*np.pi*eps)*(1/r)*scipy.special.erf(r/np.sqrt(2*a**2))\n"
     ]
    },
    {
     "data": {
      "text/plain": [
       "<matplotlib.collections.PathCollection at 0x128711640>"
      ]
     },
     "execution_count": 206,
     "metadata": {},
     "output_type": "execute_result"
    },
    {
     "data": {
      "image/png": "[encoded data removed]",
      "text/plain": [
       "<Figure size 432x288 with 1 Axes>"
      ]
     },
     "metadata": {
      "needs_background": "light"
     },
     "output_type": "display_data"
    }
   ],
   "source": [
    "\n",
    "x = np.linspace(startR,endR,N-1)\n",
    "y=[v_gauss(r)*au2ev for r in x]\n",
    "plt.scatter(x, y)\n",
    "\n",
    "\n",
    "x1=[startR+i*deltaX for i in range(b_1.size)]\n",
    "plt.scatter(x1,sols_1*au2ev,c=\"green\")\n",
    "\n",
    "#try nonlinear elements\n"
   ]
  },
  {
   "cell_type": "code",
   "execution_count": null,
   "id": "cc04c405",
   "metadata": {},
   "outputs": [],
   "source": []
  },
  {
   "cell_type": "code",
   "execution_count": 207,
   "id": "dbbeceab",
   "metadata": {},
   "outputs": [
    {
     "data": {
      "text/plain": [
       "array([0.00903685, 0.01795157, 0.02647423, 0.03292453,        nan,\n",
       "       0.03292453, 0.02647423, 0.01795157, 0.00903685])"
      ]
     },
     "execution_count": 207,
     "metadata": {},
     "output_type": "execute_result"
    }
   ],
   "source": [
    "sols_1/y"
   ]
  },
  {
   "cell_type": "code",
   "execution_count": 208,
   "id": "0a8fb496",
   "metadata": {},
   "outputs": [
    {
     "data": {
      "text/plain": [
       "<matplotlib.collections.PathCollection at 0x128252fa0>"
      ]
     },
     "execution_count": 208,
     "metadata": {},
     "output_type": "execute_result"
    },
    {
     "data": {
      "image/png": "[encoded data removed]",
      "text/plain": [
       "<Figure size 432x288 with 1 Axes>"
      ]
     },
     "metadata": {
      "needs_background": "light"
     },
     "output_type": "display_data"
    }
   ],
   "source": [
    "plt.scatter(x, sols_1/y)"
   ]
  },
  {
   "cell_type": "code",
   "execution_count": 209,
   "id": "cc5ff70e",
   "metadata": {},
   "outputs": [
    {
     "data": {
      "text/plain": [
       "<matplotlib.collections.PathCollection at 0x12837b190>"
      ]
     },
     "execution_count": 209,
     "metadata": {},
     "output_type": "execute_result"
    },
    {
     "data": {
      "image/png": "[encoded data removed]",
      "text/plain": [
       "<Figure size 432x288 with 1 Axes>"
      ]
     },
     "metadata": {
      "needs_background": "light"
     },
     "output_type": "display_data"
    }
   ],
   "source": [
    "\n",
    "x = np.linspace(-5,5,10000)\n",
    "y=[v(r) for r in x]\n",
    "plt.scatter(x, y)"
   ]
  },
  {
   "cell_type": "code",
   "execution_count": null,
   "id": "68f4f886",
   "metadata": {},
   "outputs": [],
   "source": []
  },
  {
   "cell_type": "code",
   "execution_count": 210,
   "id": "652fbfe8",
   "metadata": {},
   "outputs": [
    {
     "data": {
      "text/plain": [
       "0.5556494767862348"
      ]
     },
     "execution_count": 210,
     "metadata": {},
     "output_type": "execute_result"
    }
   ],
   "source": [
    "3/(4*np.pi*a*eps)"
   ]
  },
  {
   "cell_type": "code",
   "execution_count": 211,
   "id": "9a157aa1",
   "metadata": {},
   "outputs": [
    {
     "data": {
      "text/plain": [
       "0.018521649569791507"
      ]
     },
     "execution_count": 211,
     "metadata": {},
     "output_type": "execute_result"
    }
   ],
   "source": [
    "y[np.shape(y)[0]-1]"
   ]
  },
  {
   "cell_type": "code",
   "execution_count": 212,
   "id": "74b96e82",
   "metadata": {},
   "outputs": [
    {
     "data": {
      "text/plain": [
       "10000"
      ]
     },
     "execution_count": 212,
     "metadata": {},
     "output_type": "execute_result"
    }
   ],
   "source": [
    "np.shape(y)[0]"
   ]
  },
  {
   "cell_type": "code",
   "execution_count": 213,
   "id": "73413820",
   "metadata": {},
   "outputs": [
    {
     "data": {
      "text/plain": [
       "0.00244995115139664"
      ]
     },
     "execution_count": 213,
     "metadata": {},
     "output_type": "execute_result"
    }
   ],
   "source": [
    "boundary_condition(startR)"
   ]
  },
  {
   "cell_type": "code",
   "execution_count": 214,
   "id": "ec8b1935",
   "metadata": {},
   "outputs": [
    {
     "data": {
      "text/plain": [
       "0.00244995115139664"
      ]
     },
     "execution_count": 214,
     "metadata": {},
     "output_type": "execute_result"
    }
   ],
   "source": [
    "boundary_condition(endR)"
   ]
  },
  {
   "cell_type": "code",
   "execution_count": 215,
   "id": "53fe0e3d",
   "metadata": {},
   "outputs": [
    {
     "data": {
      "text/plain": [
       "0.0006024470044417973"
      ]
     },
     "execution_count": 215,
     "metadata": {},
     "output_type": "execute_result"
    }
   ],
   "source": [
    "sols_1[len(sols_1)-1]"
   ]
  },
  {
   "cell_type": "code",
   "execution_count": 216,
   "id": "435d7c0f",
   "metadata": {},
   "outputs": [
    {
     "data": {
      "text/plain": [
       "0.9953222650189527"
      ]
     },
     "execution_count": 216,
     "metadata": {},
     "output_type": "execute_result"
    }
   ],
   "source": [
    "scipy.special.erf(2)"
   ]
  },
  {
   "cell_type": "code",
   "execution_count": 217,
   "id": "f1d69e7d",
   "metadata": {},
   "outputs": [
    {
     "data": {
      "text/plain": [
       "-0.00244995115139664"
      ]
     },
     "execution_count": 217,
     "metadata": {},
     "output_type": "execute_result"
    }
   ],
   "source": [
    "v_2s(endR)"
   ]
  },
  {
   "cell_type": "code",
   "execution_count": 218,
   "id": "bac8caaf",
   "metadata": {},
   "outputs": [
    {
     "data": {
      "text/plain": [
       "array([0.00000000e+000, 1.43694553e-201, 1.09753333e-052, 9.77389099e-003,\n",
       "       1.65668710e-001, 9.77389099e-003, 1.09753333e-052, 1.43694553e-201,\n",
       "       0.00000000e+000])"
      ]
     },
     "execution_count": 218,
     "metadata": {},
     "output_type": "execute_result"
    }
   ],
   "source": [
    "b_1"
   ]
  },
  {
   "cell_type": "code",
   "execution_count": 219,
   "id": "dc7aef90",
   "metadata": {},
   "outputs": [
    {
     "name": "stdout",
     "output_type": "stream",
     "text": [
      "d (-37.8000378000378, -30.24003024003024)\n",
      "f [-37.8000378000378 -37.68191268191268]\n",
      "d (-30.24003024003024, -22.68002268002268)\n",
      "f [-37.68191268191268 -37.563787563787564]\n",
      "d (-22.68002268002268, -15.120015120015118)\n",
      "f [-37.563787563787564 -37.44566244566245]\n",
      "d (-15.120015120015118, -7.560007560007559)\n",
      "f [-37.44566244566245 -37.32753732753733]\n",
      "d (-7.560007560007559, 0.0)\n",
      "f [-37.32753732753733 -37.20941220941221]\n",
      "d (0.0, 7.560007560007563)\n",
      "f [-37.20941220941221 -37.09128709128709]\n",
      "d (7.560007560007563, 15.120015120015118)\n",
      "f [-37.09128709128709 -36.97316197316198]\n",
      "d (15.120015120015118, 22.68002268002268)\n",
      "f [-36.97316197316198 -36.85503685503686]\n",
      "d (22.68002268002268, 30.240030240030237)\n",
      "f [-36.85503685503686 -36.736911736911736]\n",
      "d (30.240030240030237, 37.8000378000378)\n",
      "f [-36.736911736911736 -36.61878661878662]\n"
     ]
    },
    {
     "name": "stderr",
     "output_type": "stream",
     "text": [
      "/var/folders/w9/rpt2vk6943b30y910f1djt500000gq/T/ipykernel_35107/799342143.py:11: RuntimeWarning: invalid value encountered in double_scalars\n",
      "  relError=np.abs(absError/(riemannEst(l[0], l[1], func)))\n",
      "/var/folders/w9/rpt2vk6943b30y910f1djt500000gq/T/ipykernel_35107/799342143.py:11: RuntimeWarning: divide by zero encountered in double_scalars\n",
      "  relError=np.abs(absError/(riemannEst(l[0], l[1], func)))\n"
     ]
    }
   ],
   "source": [
    "d=generateUniformGrid(N)\n",
    "f=generateListOfAdaptiveGridCoords(N, gaussianElectronDensity, 100, 5)\n",
    "for i in range(len(d)):\n",
    "    if(d[i][0] != f[i][0] or d[i][1] != f[i][1]):\n",
    "        print(\"d\", d[i])\n",
    "        print(\"f\", f[i])"
   ]
  },
  {
   "cell_type": "code",
   "execution_count": 220,
   "id": "c6ca6816",
   "metadata": {},
   "outputs": [
    {
     "ename": "NameError",
     "evalue": "name 'M' is not defined",
     "output_type": "error",
     "traceback": [
      "\u001b[0;31m---------------------------------------------------------------------------\u001b[0m",
      "\u001b[0;31mNameError\u001b[0m                                 Traceback (most recent call last)",
      "\u001b[0;32m/var/folders/w9/rpt2vk6943b30y910f1djt500000gq/T/ipykernel_35107/545986313.py\u001b[0m in \u001b[0;36m<module>\u001b[0;34m\u001b[0m\n\u001b[0;32m----> 1\u001b[0;31m \u001b[0mM\u001b[0m\u001b[0;34m\u001b[0m\u001b[0;34m\u001b[0m\u001b[0m\n\u001b[0m",
      "\u001b[0;31mNameError\u001b[0m: name 'M' is not defined"
     ]
    }
   ],
   "source": [
    "M"
   ]
  },
  {
   "cell_type": "code",
   "execution_count": null,
   "id": "72b75420",
   "metadata": {},
   "outputs": [],
   "source": [
    "np.array_equal(M, M_1)"
   ]
  },
  {
   "cell_type": "code",
   "execution_count": null,
   "id": "e40a136a",
   "metadata": {},
   "outputs": [],
   "source": [
    "np.array_equal(b, b_1)"
   ]
  },
  {
   "cell_type": "code",
   "execution_count": null,
   "id": "7e5410f5",
   "metadata": {},
   "outputs": [],
   "source": [
    "b"
   ]
  },
  {
   "cell_type": "code",
   "execution_count": null,
   "id": "c1a5f006",
   "metadata": {},
   "outputs": [],
   "source": [
    "b_1"
   ]
  },
  {
   "cell_type": "code",
   "execution_count": null,
   "id": "fb2977be",
   "metadata": {},
   "outputs": [],
   "source": []
  }
 ],
 "metadata": {
  "kernelspec": {
   "display_name": "Python 3 (ipykernel)",
   "language": "python",
   "name": "python3"
  },
  "language_info": {
   "codemirror_mode": {
    "name": "ipython",
    "version": 3
   },
   "file_extension": ".py",
   "mimetype": "text/x-python",
   "name": "python",
   "nbconvert_exporter": "python",
   "pygments_lexer": "ipython3",
   "version": "3.9.12"
  }
 },
 "nbformat": 4,
 "nbformat_minor": 5
}
