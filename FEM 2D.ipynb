{
 "cells": [
  {
   "cell_type": "code",
   "execution_count": 21,
   "id": "364d40e9",
   "metadata": {},
   "outputs": [],
   "source": [
    "%matplotlib inline\n",
    "\n",
    "import numpy as np\n",
    "import matplotlib.pyplot as plt\n",
    "import scipy\n",
    "import scipy.integrate as integrate\n",
    "import numpy.linalg as linalg\n",
    "import time\n",
    "\n",
    "import cProfile\n",
    "from matplotlib.colors import LightSource\n",
    "import timeit\n",
    "\n",
    "#scipy sims"
   ]
  },
  {
   "cell_type": "code",
   "execution_count": 22,
   "id": "2fccd588",
   "metadata": {},
   "outputs": [],
   "source": [
    "class Point:\n",
    "    def __init__(self, x, y):\n",
    "        self.x=x\n",
    "        self.y=y\n",
    "        \n",
    "class Triangle:\n",
    "    #p_3 is the \"tip\" i.e. point in the middle of element, p_1 and p_2 are the other two verticies. doesnt matter which order\n",
    "    def __init__(self, p_1, p_2, p_3):\n",
    "        self.p1=p_1\n",
    "        self.p2=p_2\n",
    "        self.p3=p_3\n",
    "        \n",
    "    '''area of this triangle'''\n",
    "    def area(self):\n",
    "        p1x, p1y, p2x, p2y, p3x, p3y=self.p1.x, self.p1.y,self.p2.x,self.p2.y,self.p3.x,self.p3.y\n",
    "        return 0.5*np.abs((p1x*p2y+p3x*p1y+p2x*p3y-p1y*p2x-p2y*p3x-p3y*p1x))\n",
    "    \n",
    "    '''finds the area given the point p3 as the new vertex'''\n",
    "    def area_pt(self,p3):\n",
    "        return 0.5*np.abs((self.p1.x*self.p2.y+p3.x*self.p1.y+self.p2.x*p3.y-self.p1.y*self.p2.x-self.p2.y*p3.x-p3.y*self.p1.x))\n",
    "    \n",
    "    def area_pt_signed(self, p3):\n",
    "        return 0.5*((self.p1.x*self.p2.y+p3.x*self.p1.y+self.p2.x*p3.y-self.p1.y*self.p2.x-self.p2.y*p3.x-p3.y*self.p1.x))\n",
    "    \n",
    "    '''defines if the point x y is in the triangle. if not then returns false otherwise true'''\n",
    "    '''source: https://stackoverflow.com/questions/2049582/how-to-determine-if-a-point-is-in-a-2d-triangle'''\n",
    "    def is_in(self,x, y):\n",
    "        p1x, p1y, p2x, p2y, p3x, p3y=self.p1.x, self.p1.y,self.p2.x,self.p2.y,self.p3.x,self.p3.y\n",
    "        Area= 0.5 *(-p2y*p3x + p1y*(-p2x + p3x) + p1x*(p2y - p3y) + p2x*p3y)\n",
    "        s = 1/(2*Area)*(p1y*p3x - p1x*p3y + (p3y - p1y)*x + (p1x - p3x)*y);\n",
    "        t = 1/(2*Area)*(p1x*p2y - p1y*p2x + (p1y - p2y)*x + (p2x - p1x)*y);\n",
    "        return 0<=s and t>=0 and 1-s-t>=0\n",
    "\n",
    "    def evaluate(self,x,y):\n",
    "        return self.area_pt(Point(x, y))/self.area() if self.is_in(x,y) else 0\n",
    "    \n",
    "class FiniteElement:\n",
    "    #top left corner\n",
    "    def __init__(self, x, y, deltaX, deltaY, config):\n",
    "        self.deltaX=deltaX\n",
    "        self.deltaY=deltaY\n",
    "        \n",
    "        p1=Point(x, y)\n",
    "        p2=Point(x+deltaX, y)\n",
    "        p3=Point(x+2*deltaX, y)\n",
    "        \n",
    "        p4=Point(x, y-deltaY)\n",
    "        center=Point(x+deltaX, y-deltaY)\n",
    "        p5=Point(x+2*deltaX, y-deltaY)\n",
    "        \n",
    "        p6=Point(x, y-2*deltaY)\n",
    "        p7=Point(x+deltaX, y-2*deltaY)\n",
    "        p8=Point(x+2*deltaX, y-2*deltaY)\n",
    "        \n",
    "        self.triangles=[];\n",
    "        self.center=center\n",
    "        \n",
    "        if(config==0):\n",
    "        \n",
    "            #top left\n",
    "            self.tri_tl=Triangle(p2,p4,center)\n",
    "\n",
    "            #top right\n",
    "            self.tri_tr=Triangle(p2,p5,center)\n",
    "\n",
    "            #bottom left\n",
    "            self.tri_bl=Triangle(p4, p7, center)\n",
    "\n",
    "            #bottom right\n",
    "            self.tri_br=Triangle(p5,p7,center)\n",
    "            self.triangles.append(self.tri_tl)\n",
    "            self.triangles.append(self.tri_tr)\n",
    "            self.triangles.append(self.tri_bl)\n",
    "            self.triangles.append(self.tri_br)\n",
    "\n",
    "        else:\n",
    "            self.tri_tl=Triangle(p1,p2,center)\n",
    "\n",
    "            self.tri_ul=Triangle(p1, p4, center)\n",
    "\n",
    "            self.tri_ll=Triangle(p4, p6, center)\n",
    "\n",
    "            #top right\n",
    "            self.tri_tr=Triangle(p2,p3,center)\n",
    "\n",
    "            self.tri_ur=Triangle(p3, p5, center)\n",
    "\n",
    "            self.tri_lr=Triangle(p5, p8, center)\n",
    "\n",
    "\n",
    "            #bottom left\n",
    "            self.tri_bl=Triangle(p6, p7, center)\n",
    "\n",
    "            #bottom right\n",
    "            self.tri_br=Triangle(p7,p8,center)\n",
    "            self.triangles.append(self.tri_tl)\n",
    "            self.triangles.append(self.tri_tr)\n",
    "            self.triangles.append(self.tri_bl)\n",
    "            self.triangles.append(self.tri_br)\n",
    "            self.triangles.append(self.tri_ll)\n",
    "            self.triangles.append(self.tri_lr)\n",
    "            self.triangles.append(self.tri_ul)\n",
    "            self.triangles.append(self.tri_ur)\n",
    "            \n",
    "        self.top_left_x=x\n",
    "        self.top_left_y=y\n",
    "        \n",
    "    def in_region_1(self, x, y):\n",
    "        return x<self.top_left_x+self.deltaX and y>=self.top_left_y-self.deltaY\n",
    "    \n",
    "    def in_region_2(self,x, y):\n",
    "        return x>=self.top_left_x+self.deltaX and y>=self.top_left_y-self.deltaY\n",
    "    \n",
    "    def in_region_3(self,x, y):\n",
    "        return x<self.top_left_x+self.deltaX and y<self.top_left_y-self.deltaY\n",
    "    \n",
    "    def in_region_4(self,x, y):\n",
    "        return x>=self.top_left_x+self.deltaX and y<self.top_left_y-self.deltaY\n",
    "    \n",
    "    def evaluate(self, x, y):\n",
    "        thesum=0\n",
    "        i=0\n",
    "        tri=self.triangles\n",
    "        while i<len(tri):\n",
    "            thesum+=tri[i].evaluate(x, y)\n",
    "            if(thesum>0):\n",
    "                return thesum \n",
    "            i+=1           \n",
    "        return thesum\n",
    "    \n",
    "class FEM:\n",
    "    def __init__(self, N, M, minX, maxX, minY, maxY, electronDensity, eps, boundaryCondition):\n",
    "        self.N=N\n",
    "        self.M=M\n",
    "        self.minX=minX\n",
    "        self.maxX=maxX\n",
    "        self.minY=minY\n",
    "        self.maxY=maxY\n",
    "        self.deltaX=(maxX-minX)/N\n",
    "        self.deltaY=(maxY-minY)/M\n",
    "        #function\n",
    "        self.electronDensity=electronDensity\n",
    "        self.finiteElements=self.generateFiniteElements();\n",
    "        self.eps=eps\n",
    "        self.boundaryCondition=boundaryCondition\n",
    "        \n",
    "        #does not generate the boundary finite elements!\n",
    "    def generateFiniteElements(self):\n",
    "        finiteElements=np.ndarray(shape=(self.M-1,self.N-1), dtype=FiniteElement)\n",
    "        for m in range(0,self.M-1):\n",
    "            #ignore the last row\n",
    "            for n in range(0,self.N-1):\n",
    "                config=0 if n%2==0 else 1\n",
    "                finiteElements[m, n]=FiniteElement(self.minX+n*self.deltaX, self.maxY-m*self.deltaY, self.deltaX, self.deltaY, config)\n",
    "        return finiteElements\n",
    "    \n",
    "    #p1 gives the indicies\n",
    "    def integrand(self,x, y, p1):\n",
    "        return (1/self.eps)*self.electronDensity(x,y)*self.finiteElements[p1.x, p1.y].evaluate(x, y)\n",
    "\n",
    "    def getIntegral(self,p1):\n",
    "        temp=self.finiteElements[p1.x, p1.y]\n",
    "        minX=temp.top_left_x\n",
    "        maxX=minX+self.deltaX*2\n",
    "        maxY=temp.top_left_y\n",
    "        minY=maxY-2*self.deltaY\n",
    "        return integrate.dblquad(self.integrand, minY, maxY, lambda x: minX, lambda x: maxX, args=[p1],epsabs=1e-4)[0]\n",
    "\n",
    "    def constructBVector(self):\n",
    "        temp=np.zeros((self.N-1)*(self.M-1))\n",
    "        for r in range(self.M-1):\n",
    "            for c in range(self.N-1):\n",
    "                temp[c+r*(self.N-1)]=self.getIntegral(Point(r,c))\n",
    "        return temp;\n",
    "                \n",
    "    def area(self):\n",
    "        return self.deltaX*self.deltaY/2\n",
    "    \n",
    "    def generateFlagged(self, cols):\n",
    "        flaggedIndicies1=np.array([self.get1DIndex(0,x, cols) for x in range(self.N+1)]);\n",
    "        flaggedIndicies2=np.array([self.get1DIndex(y,0, cols) for y in range(1,self.M)]);\n",
    "        flaggedIndicies3=np.array([self.get1DIndex(self.M,x, cols) for x in range(self.N+1)])\n",
    "        flaggedIndicies4=np.array([self.get1DIndex(y,self.N, cols) for y in range(1,self.M)]);\n",
    "        flagged=np.concatenate((flaggedIndicies1,flaggedIndicies2,flaggedIndicies3,flaggedIndicies4))\n",
    "        return flagged\n",
    "    \n",
    "    def constructMatrix(self):\n",
    "        temp=np.zeros(((self.N+1)*(self.M+1),(self.N+1)*(self.M+1)));\n",
    "        flagged=self.generateFlagged(self.N+1)\n",
    "        for m in range(self.M+1):\n",
    "            for n in range(self.N+1):                \n",
    "                \n",
    "                currRow=m*(self.N+1)+n\n",
    "                index1=self.get1DIndex(m, n-1, self.N+1);\n",
    "                index2=self.get1DIndex(m+1,n, self.N+1)\n",
    "                index3=self.get1DIndex(m,n+1, self.N+1)\n",
    "                index4=self.get1DIndex(m-1,n, self.N+1)\n",
    "                index5=self.get1DIndex(m,n, self.N+1)\n",
    "                #print(\"row, \", currRow)\n",
    "                if(index1 in range((self.N+1)*(self.M+1))):\n",
    "                    temp[currRow,index1]=(-1/self.deltaX**2)*2\n",
    "                if(index2 in range((self.N+1)*(self.M+1))):\n",
    "                    temp[currRow,index2]=(-1/self.deltaY**2)*2\n",
    "                if(index3 in range((self.N+1)*(self.M+1))):\n",
    "                    temp[currRow,index3]=(-1/(self.deltaX)**2)*2\n",
    "                if(index4 in range((self.N+1)*(self.M+1))):\n",
    "                    temp[currRow,index4]=(-1/self.deltaY**2)*2\n",
    "                if(index5 in range((self.N+1)*(self.M+1))):\n",
    "                    #print(\"index, \",(currRow,index5))\n",
    "                    temp[currRow,index5]=4*(1/(self.deltaX)**2+1/self.deltaY**2)\n",
    "        temp=np.delete(temp, flagged, axis=1)\n",
    "        temp=np.delete(temp, flagged, axis=0)\n",
    "        return temp*self.deltaX*self.deltaY\n",
    "\n",
    "    def solveSystem(self):\n",
    "        b=self.constructBVector();\n",
    "        b=b+self.addBoundaryConditions(b, self.M-1, self.N-1)\n",
    "        M=self.constructMatrix();\n",
    "        sols=linalg.solve(M, b);\n",
    "        self.sols=sols\n",
    "        return self.extractSols(sols);\n",
    "    \n",
    "    def getPoint(self,m, n):\n",
    "        return Point(self.minX+n*self.deltaX, self.maxY-m*self.deltaY)\n",
    "    \n",
    "    #from 2d to 1d, assume length is self.N+1\n",
    "    def get1DIndex(self,m, n, cols):\n",
    "        return cols*m+n\n",
    "    \n",
    "    #in entire matrix\n",
    "    def get2Dindex(self,i):\n",
    "        return (i//(self.N+1), i%(self.N+1));\n",
    "    \n",
    "    #assumes boundary is removed already\n",
    "    def getBoundaryIndicies2D(self,arr):\n",
    "        temp=np.array([]);\n",
    "        for r in range(np.shape(arr)[0]):\n",
    "            np.append(temp, (r, 0))\n",
    "            np.append(temp, (r, np.shape(arr)[0]-1))\n",
    "\n",
    "        for c in range(1, np.shape(arr)[1]-1):\n",
    "            np.append(temp, (0, c))\n",
    "            np.append(temp, (np.shape(arr)[0]-1, c))\n",
    "        return temp\n",
    "    \n",
    "    def getBoundaryIndicies1D(self, rows, cols):        \n",
    "        y=np.zeros(rows*2, dtype=int)\n",
    "        x=np.zeros(cols*2,dtype=int)\n",
    "        county=0;\n",
    "        countx=0\n",
    "        for r in range(0, rows):\n",
    "            y[county]=r*cols\n",
    "            county+=1\n",
    "            y[county]=r*cols+cols-1\n",
    "            county+=1\n",
    "\n",
    "        for c in range(0, cols):\n",
    "            x[countx]=c\n",
    "            countx+=1\n",
    "            x[countx]=(rows-1)*cols+c\n",
    "            countx+=1\n",
    "        \n",
    "        return (x, y)\n",
    "    \n",
    "    #assumes boundary is removed from the index\n",
    "    #INPUT INDICIES!!!!!!\n",
    "    def getBoundaryXY(self, arr, rows, cols):\n",
    "        temp=np.zeros((len(arr),2))\n",
    "        for i in range(len(arr)):\n",
    "            r=arr[i]//cols\n",
    "            c=arr[i]%cols\n",
    "            if(r==0 and c==0):\n",
    "                temp[i, 0]=(c+1)*self.deltaX+self.minX\n",
    "                temp[i,1]=self.maxY \n",
    "            if(r==0):\n",
    "                temp[i, 0]=(c+1)*self.deltaX+self.minX\n",
    "                temp[i,1]=self.maxY                            \n",
    "            elif(r==rows-1):\n",
    "                #print(\"yay2\")\n",
    "                temp[i,0]=(c+1)*self.deltaX+self.minX\n",
    "                temp[i,1]=self.minY\n",
    "            elif(c==0):\n",
    "                #print(\"yay3\")\n",
    "                temp[i,0]=self.minX\n",
    "                temp[i,1]=self.maxY-(r+1)*self.deltaY\n",
    "            elif(c==cols-1):\n",
    "                #print(\"yay4\")\n",
    "                temp[i,0]=self.maxX\n",
    "                temp[i,1]=self.maxY-(r+1)*self.deltaY\n",
    "                #print(temp[i,:])\n",
    "        return temp\n",
    "\n",
    "    def addBoundaryConditions(self, arr, rows, cols):\n",
    "        temp=np.zeros(np.shape(arr))\n",
    "        ind=self.getBoundaryIndicies1D((rows), (cols));\n",
    "        xy=self.getBoundaryXY(np.concatenate(ind), rows,cols);\n",
    "        count=0;\n",
    "        for i in ind[0]:\n",
    "            temp[i]+=self.boundaryCondition(xy[count,0],xy[count,1])*self.deltaX*self.deltaY*(1/self.deltaX**2)*2;\n",
    "            count+=1\n",
    "        for i in ind[1]:\n",
    "            temp[i]+=self.boundaryCondition(xy[count,0],xy[count,1])*self.deltaX*self.deltaY*(1/self.deltaY**2)*2;\n",
    "            count+=1\n",
    "        return temp;\n",
    "                \n",
    "    def fillBoundary(self,temp):\n",
    "        print(np.shape(temp))\n",
    "        for i in range(np.shape(temp)[0]):\n",
    "            pt=self.getPoint(i,0)\n",
    "            pt1=self.getPoint(i, np.shape(temp)[1]-1)\n",
    "            temp[i,0]=self.boundaryCondition(pt.x, pt.y)\n",
    "            temp[i,np.shape(temp)[1]-1]=self.boundaryCondition(pt1.x, pt1.y)\n",
    "        for i in range(1, np.shape(temp)[1]-1):\n",
    "            pt=self.getPoint(0,i)\n",
    "            pt1=self.getPoint(np.shape(temp)[0]-1, i)\n",
    "            temp[0,i]=self.boundaryCondition(pt.x, pt.y)\n",
    "            temp[np.shape(temp)[0]-1, i]=self.boundaryCondition(pt1.x, pt1.y)\n",
    "        return temp\n",
    "    \n",
    "    def turnIntoGraphable(self, sols):\n",
    "        xy=np.zeros(((self.M+1)*(self.N+1),2));\n",
    "        for m in range(self.M+1):\n",
    "            for n in range(self.N+1):\n",
    "                xy[m*(self.N+1)+n,0]=n*self.deltaX+self.minX\n",
    "                xy[m*(self.N+1)+n,1]=self.maxY-m*self.deltaY\n",
    "        return (xy, sols.flatten())\n",
    "    \n",
    "    def getXYCoords(self):\n",
    "        x=np.zeros(((self.M+1),(self.N+1)));\n",
    "        y=np.zeros(((self.M+1),(self.N+1)));\n",
    "        for m in range(self.M+1):\n",
    "            for n in range(self.N+1):\n",
    "                x[m,n]=n*self.deltaX+self.minX\n",
    "                y[m,n]=self.maxY-m*self.deltaY\n",
    "        return (x,y)\n",
    "    \n",
    "    def extractSols(self,sols):\n",
    "        temp=np.zeros((self.M+1, self.N+1));\n",
    "        for i in range(len(sols)):\n",
    "            row=i//(self.N-1)+1\n",
    "            col=i%(self.N-1)+1\n",
    "            temp[row, col]=sols[i]\n",
    "        temp=self.fillBoundary(temp);\n",
    "        return temp;\n",
    "    \n",
    "    def getGraphableArrays(self):\n",
    "        sols=self.solveSystem()\n",
    "        return self.turnIntoGraphable(sols)\n",
    "    \n",
    "    def graphResults(self):\n",
    "        plt.clf();\n",
    "        sols=self.solveSystem()\n",
    "        graphData=self.turnIntoGraphable(sols)\n",
    "        xs = graphData[0][:,0]\n",
    "        ys = graphData[0][:,1]\n",
    "\n",
    "        function=graphData[1]\n",
    "\n",
    "        fig = plt.figure()\n",
    "        ax = plt.axes(projection='3d')\n",
    "\n",
    "        function.shape = (self.M+1, self.N+1)\n",
    "\n",
    "        ls = LightSource(azdeg=0, altdeg=65)\n",
    "        rgb = ls.shade(function, plt.cm.RdYlBu)\n",
    "\n",
    "        function.shape=((self.M+1)*(self.N+1),)\n",
    "\n",
    "        new_img = rgb.transpose((2, 0, 1))\n",
    "        # Dimensions: [3, m, n]\n",
    "        new_img = rgb.reshape(rgb.shape[0]*rgb.shape[1], rgb.shape[2])\n",
    "\n",
    "        # Create the SCATTER() plot \n",
    "        ax.scatter(xs,ys,function, facecolors=new_img);\n",
    "        plt.savefig(\"3dplot, N: \"+str(self.N)+\", M: \"+str(self.M)+\".png\")\n",
    "        \n",
    "    def graphSlice(self, n):\n",
    "        plt.clf();\n",
    "        fsols=finiteElement.extractSols(self.sols)\n",
    "        xy=finiteElement.getXYCoords()\n",
    "        y=xy[1][(n),:][0]\n",
    "        ys=(fsols[(M-1)*N+c] for c in range(N+1))\n",
    "        theys=[Test.erf_solution(x, y) for x in xy[0][(M-1),:]]\n",
    "        plt.scatter(xy[0][n,:], fsols[n,:],s=10)\n",
    "        plt.scatter(xy[0][n,:],theys, s=10,c=\"orange\")\n",
    "        plt.savefig(\"2dplot, N: \"+str(self.N)+\", M: \"+str(self.M)+\", y: \"+str(y)+\".png\")\n",
    "        \n",
    "    def computeError(self, func):\n",
    "        xs = np.linspace(startX, endX,num=self.N+1,axis=0)\n",
    "        ys = np.linspace(startY, endY,num=self.M+1,axis=0)\n",
    "\n",
    "        output=np.array([[x, y] for x in xs for y in ys])\n",
    "        function=np.array([func(p[0], p[1]) for p in output])\n",
    "        pass\n",
    "        \n",
    "class Test:\n",
    "    def __init__(self):\n",
    "        pass\n",
    "    \n",
    "    @staticmethod\n",
    "    def plot(startX, endX, startY, endY,num, func):\n",
    "        xs = np.linspace(startX, endX,num=num,axis=0)\n",
    "        ys = np.linspace(startY, endY,num=num,axis=0)\n",
    "\n",
    "        output=np.array([[x, y] for x in xs for y in ys])\n",
    "        function=np.array([func(p[0], p[1]) for p in output])\n",
    "\n",
    "        fig = plt.figure()\n",
    "        ax = plt.axes(projection='3d')\n",
    "\n",
    "        function.shape = (function.size//len(xs), len(xs))\n",
    "\n",
    "        ls = LightSource(azdeg=0, altdeg=65)\n",
    "        rgb = ls.shade(function, plt.cm.RdYlBu)\n",
    "\n",
    "        function.shape=(len(xs)*len(ys),)\n",
    "\n",
    "        new_img = rgb.transpose((2, 0, 1))\n",
    "        # Dimensions: [3, m, n]\n",
    "        new_img = rgb.reshape(rgb.shape[0]*rgb.shape[1], rgb.shape[2])\n",
    "\n",
    "        # Create the SCATTER() plot \n",
    "        ax.scatter(output[:,0],output[:,1],function, facecolors=new_img);\n",
    "        \n",
    "    @staticmethod\n",
    "    def erf_solution(x, y):\n",
    "        return 1/(4*np.pi*eps)*(1/(np.sqrt(x**2+y**2)))*scipy.special.erf(np.sqrt(x**2+y**2)/np.sqrt(2*a**2))\n",
    "    @staticmethod    \n",
    "    def createArrayOfValues(func, minX, minY, maxX, maxY, deltaX, deltaY):\n",
    "        cols=int((maxX-minX)//deltaX)\n",
    "        rows=int((maxY-minY)//deltaY)\n",
    "        temp=np.zeros((rows, cols))\n",
    "        for r in range(rows):\n",
    "            for c in range(cols):\n",
    "                temp[r, c]=func(minX+deltaX*c, maxY-deltaY*r)\n",
    "        return temp\n",
    "    @staticmethod    \n",
    "    def computeGradientMatrix(func, minX, minY, maxX, maxY, deltaX, deltaY):\n",
    "        values=Test.createArrayOfValues(func, minX, minY, maxX, maxY, deltaX, deltaY)\n",
    "        return np.gradient(values, deltaX)\n",
    "        "
   ]
  },
  {
   "cell_type": "code",
   "execution_count": 23,
   "id": "ced754ff",
   "metadata": {},
   "outputs": [],
   "source": [
    "eps=1\n",
    "\n",
    "minX=-5\n",
    "maxX=5\n",
    "minY=-5\n",
    "maxY=5\n",
    "\n",
    "N=100\n",
    "M=100\n",
    "sigma=1\n",
    "a=1\n",
    "\n",
    "\n",
    "def boundaryCondition(x, y):\n",
    "    return 1/(4*np.pi*eps)*1/np.sqrt(x**2+y**2)\n",
    "\n",
    "def electronDensity(x, y):\n",
    "    return (1/np.sqrt(2*np.pi*sigma**2))**3*(np.exp((-(x**2+y**2))/(2*sigma**2)))\n",
    "\n",
    "def electronDensity_hydrogen1s(x,y):\n",
    "    return (1/(np.pi*a**3))*(np.exp(-2*np.sqrt(x**2+y**2)/a)) if r>0 else (1/(np.pi*a**3))*(np.exp(2*np.sqrt(x**2+y**2)/a))\n",
    "\n",
    "#self, N, M, minX, maxX, minY, maxY, electronDensity, eps, boundaryCondition\n",
    "finiteElement=FEM(N, M, minX, maxX, minY, maxY, electronDensity, eps, boundaryCondition)"
   ]
  },
  {
   "cell_type": "code",
   "execution_count": null,
   "id": "a27304f6",
   "metadata": {},
   "outputs": [
    {
     "name": "stderr",
     "output_type": "stream",
     "text": [
      "/Users/Jessica/opt/miniconda3/envs/csc294/lib/python3.9/site-packages/scipy/integrate/quadpack.py:879: IntegrationWarning: The maximum number of subdivisions (50) has been achieved.\n",
      "  If increasing the limit yields no improvement it is advised to analyze \n",
      "  the integrand in order to determine the difficulties.  If the position of a \n",
      "  local difficulty can be determined (singularity, discontinuity) one will \n",
      "  probably gain from splitting up the interval and calling the integrator \n",
      "  on the subranges.  Perhaps a special-purpose integrator should be used.\n",
      "  quad_r = quad(f, low, high, args=args, full_output=self.full_output,\n"
     ]
    }
   ],
   "source": [
    "finiteElement.graphResults()\n",
    "Test.plot(minX,maxX,minY,maxY,100,Test.erf_solution)\n",
    "Test.plot(minX,maxX,minY,maxY,100,electronDensity)"
   ]
  },
  {
   "cell_type": "code",
   "execution_count": null,
   "id": "e6c64a48",
   "metadata": {},
   "outputs": [],
   "source": [
    "finiteElement.graphSlice(M//2)"
   ]
  },
  {
   "cell_type": "code",
   "execution_count": null,
   "id": "6faf8a0f",
   "metadata": {},
   "outputs": [],
   "source": [
    "finiteElement.graphSlice(M-1)"
   ]
  },
  {
   "cell_type": "code",
   "execution_count": 1093,
   "id": "856cb815",
   "metadata": {},
   "outputs": [
    {
     "data": {
      "text/plain": [
       "array([0.01125395, 0.01148124, 0.01171271, 0.01194798, 0.01218657,\n",
       "       0.01242791, 0.01267131, 0.01291597, 0.01316094, 0.01340517,\n",
       "       0.01364742, 0.01388636, 0.01412049, 0.01434819, 0.01456769,\n",
       "       0.01477717, 0.01497469, 0.0151583 , 0.01532605, 0.01547602,\n",
       "       0.01560643, 0.01571561, 0.01580213, 0.01586481, 0.01590278,\n",
       "       0.01591549, 0.01590278, 0.01586481, 0.01580213, 0.01571561,\n",
       "       0.01560643, 0.01547602, 0.01532605, 0.0151583 , 0.01497469,\n",
       "       0.01477717, 0.01456769, 0.01434819, 0.01412049, 0.01388636,\n",
       "       0.01364742, 0.01340517, 0.01316094, 0.01291597, 0.01267131,\n",
       "       0.01242791, 0.01218657, 0.01194798, 0.01171271, 0.01148124,\n",
       "       0.01125395])"
      ]
     },
     "execution_count": 1093,
     "metadata": {},
     "output_type": "execute_result"
    }
   ],
   "source": [
    "fsols[0,:]"
   ]
  },
  {
   "cell_type": "code",
   "execution_count": null,
   "id": "e42ffd83",
   "metadata": {},
   "outputs": [],
   "source": []
  },
  {
   "cell_type": "code",
   "execution_count": 1126,
   "id": "584f68be",
   "metadata": {},
   "outputs": [
    {
     "name": "stdout",
     "output_type": "stream",
     "text": [
      "         398790508 function calls (397479352 primitive calls) in 400.977 seconds\n",
      "\n",
      "   Ordered by: standard name\n",
      "\n",
      "   ncalls  tottime  percall  cumtime  percall filename:lineno(function)\n",
      " 24510003   81.790    0.000   81.790    0.000 1213147394.py:17(electronDensity)\n",
      " 24510003   51.583    0.000  267.550    0.000 870614964.py:120(evaluate)\n",
      " 14793831   21.558    0.000   21.558    0.000 870614964.py:14(area)\n",
      " 24510003   29.154    0.000  378.494    0.000 870614964.py:158(integrand)\n",
      "     7301    0.154    0.000  400.980    0.055 870614964.py:161(getIntegral)\n",
      "   327789    0.042    0.000    0.042    0.000 870614964.py:167(<lambda>)\n",
      "        1    0.046    0.046  401.030  401.030 870614964.py:169(constructBVector)\n",
      " 14793831   27.597    0.000   27.597    0.000 870614964.py:19(area_pt)\n",
      " 14801132    3.997    0.000    3.997    0.000 870614964.py:2(__init__)\n",
      " 88785560  113.658    0.000  113.658    0.000 870614964.py:27(is_in)\n",
      " 88785560   41.479    0.000  208.286    0.000 870614964.py:34(evaluate)\n",
      "        1    0.002    0.002  401.032  401.032 <string>:1(<module>)\n",
      "335090/7301    0.432    0.000  400.610    0.055 quadpack.py:445(_quad)\n",
      "335090/7301    0.861    0.000  400.631    0.055 quadpack.py:49(quad)\n",
      "     7301    0.030    0.000  400.826    0.055 quadpack.py:530(dblquad)\n",
      "   327789    0.608    0.000    0.801    0.000 quadpack.py:597(temp_ranges)\n",
      "     7301    0.058    0.000  400.796    0.055 quadpack.py:694(nquad)\n",
      "     7301    0.018    0.000    0.025    0.000 quadpack.py:815(<listcomp>)\n",
      "     7301    0.005    0.000    0.005    0.000 quadpack.py:829(__init__)\n",
      "     7301    0.001    0.000    0.001    0.000 quadpack.py:832(__call__)\n",
      "     7301    0.003    0.000    0.003    0.000 quadpack.py:842(__init__)\n",
      "   335090    0.134    0.000    0.134    0.000 quadpack.py:845(__call__)\n",
      "     7301    0.012    0.000    0.013    0.000 quadpack.py:851(__init__)\n",
      "335090/7301    2.361    0.000  400.693    0.055 quadpack.py:861(integrate)\n",
      "       26    0.005    0.000    0.005    0.000 {built-in method _warnings.warn}\n",
      "   670180    0.091    0.000    0.091    0.000 {built-in method builtins.callable}\n",
      "        1    0.007    0.007  401.039  401.039 {built-in method builtins.exec}\n",
      "   342391    0.072    0.000    0.072    0.000 {built-in method builtins.isinstance}\n",
      " 98558187    7.682    0.000    7.682    0.000 {built-in method builtins.len}\n",
      "   670180    0.344    0.000    0.344    0.000 {built-in method builtins.max}\n",
      "   335090    0.122    0.000    0.122    0.000 {built-in method builtins.min}\n",
      "        1    0.001    0.001    0.001    0.001 {built-in method numpy.zeros}\n",
      "335090/7301   16.988    0.000  400.600    0.055 {built-in method scipy.integrate._quadpack._qagse}\n",
      "        1    0.000    0.000    0.000    0.000 {method 'disable' of '_lsprof.Profiler' objects}\n",
      "   335090    0.081    0.000    0.081    0.000 {method 'pop' of 'dict' objects}\n",
      "\n",
      "\n"
     ]
    }
   ],
   "source": [
    "cProfile.run('finiteElement.constructBVector()')"
   ]
  },
  {
   "cell_type": "code",
   "execution_count": 328,
   "id": "da9024cb",
   "metadata": {},
   "outputs": [
    {
     "data": {
      "text/plain": [
       "array([1.55151627e-08, 2.03005076e-06, 4.15905038e-06, 5.37416210e-05,\n",
       "       2.68805763e-05, 5.37416210e-05, 4.15905038e-06, 2.03005076e-06,\n",
       "       1.55151627e-08, 4.04959042e-07, 3.95469260e-05, 1.02286066e-04,\n",
       "       1.07639908e-03, 6.47880260e-04, 1.07639908e-03, 1.02286066e-04,\n",
       "       3.95469260e-05, 4.04959042e-07, 4.15909076e-06, 3.16266299e-04,\n",
       "       1.00633186e-03, 8.84764089e-03, 6.26648911e-03, 8.84764089e-03,\n",
       "       1.00633186e-03, 3.16266299e-04, 4.15909076e-06, 1.68442203e-05,\n",
       "       1.07639927e-03, 3.96279664e-03, 3.07609608e-02, 2.43921457e-02,\n",
       "       3.07609608e-02, 3.96279664e-03, 1.07639927e-03, 1.68442203e-05,\n",
       "       2.68805845e-05, 1.61157981e-03, 6.26648908e-03, 4.64351063e-02,\n",
       "       3.84252238e-02, 4.64351063e-02, 6.26648908e-03, 1.61157981e-03,\n",
       "       2.68805845e-05, 1.68544646e-05, 1.07639927e-03, 3.96684320e-03,\n",
       "       3.07609608e-02, 2.44218537e-02, 3.07609608e-02, 3.96684320e-03,\n",
       "       1.07639927e-03, 1.68544646e-05, 4.15909076e-06, 3.16266299e-04,\n",
       "       1.00633186e-03, 8.84764089e-03, 6.26648911e-03, 8.84764089e-03,\n",
       "       1.00633186e-03, 3.16266299e-04, 4.15909076e-06, 4.04959042e-07,\n",
       "       3.95469260e-05, 1.02286066e-04, 1.07639908e-03, 6.47880260e-04,\n",
       "       1.07639908e-03, 1.02286066e-04, 3.95469260e-05, 4.04959042e-07,\n",
       "       1.55151627e-08, 2.03005076e-06, 4.15905038e-06, 5.37416210e-05,\n",
       "       2.68805763e-05, 5.37416210e-05, 4.15905038e-06, 2.03005076e-06,\n",
       "       1.55151627e-08])"
      ]
     },
     "execution_count": 328,
     "metadata": {},
     "output_type": "execute_result"
    }
   ],
   "source": [
    "b"
   ]
  },
  {
   "cell_type": "code",
   "execution_count": 322,
   "id": "c37c77d7",
   "metadata": {},
   "outputs": [
    {
     "data": {
      "text/plain": [
       "(81,)"
      ]
     },
     "execution_count": 322,
     "metadata": {},
     "output_type": "execute_result"
    }
   ],
   "source": [
    "b.shape"
   ]
  },
  {
   "cell_type": "code",
   "execution_count": 569,
   "id": "5533347d",
   "metadata": {},
   "outputs": [
    {
     "data": {
      "text/plain": [
       "9"
      ]
     },
     "execution_count": 569,
     "metadata": {},
     "output_type": "execute_result"
    }
   ],
   "source": [
    "finiteElement.M-1"
   ]
  },
  {
   "cell_type": "code",
   "execution_count": 567,
   "id": "b7ae2137",
   "metadata": {},
   "outputs": [],
   "source": [
    "te=finiteElement.getBoundaryIndicies1D(finiteElement.M-1,finiteElement.N-1)"
   ]
  },
  {
   "cell_type": "code",
   "execution_count": 568,
   "id": "a56832cc",
   "metadata": {},
   "outputs": [
    {
     "data": {
      "text/plain": [
       "(array([ 1, 73,  2, 74,  3, 75,  4, 76,  5, 77,  6, 78,  7, 79]),\n",
       " array([ 9, 17, 18, 26, 27, 35, 36, 44, 45, 53, 54, 62, 63, 71]))"
      ]
     },
     "execution_count": 568,
     "metadata": {},
     "output_type": "execute_result"
    }
   ],
   "source": [
    "te"
   ]
  },
  {
   "cell_type": "code",
   "execution_count": 305,
   "id": "051439b5",
   "metadata": {},
   "outputs": [
    {
     "name": "stdout",
     "output_type": "stream",
     "text": [
      "rows:  8\n",
      "cols:,  8\n",
      "(0, 0)\n",
      "(0, 8)\n",
      "(1, 0)\n",
      "(1, 8)\n",
      "(2, 0)\n",
      "(2, 8)\n",
      "(3, 0)\n",
      "(3, 8)\n",
      "(4, 0)\n",
      "(4, 8)\n",
      "(5, 0)\n",
      "(5, 8)\n",
      "(6, 0)\n",
      "(6, 8)\n",
      "(7, 0)\n",
      "(7, 8)\n",
      "(8, 0)\n",
      "(8, 8)\n",
      "(0, 1)\n",
      "(8, 1)\n",
      "(0, 2)\n",
      "(8, 2)\n",
      "(0, 3)\n",
      "(8, 3)\n",
      "(0, 4)\n",
      "(8, 4)\n",
      "(0, 5)\n",
      "(8, 5)\n",
      "(0, 6)\n",
      "(8, 6)\n",
      "(0, 7)\n",
      "(8, 7)\n"
     ]
    },
    {
     "data": {
      "text/plain": [
       "(32, 2)"
      ]
     },
     "execution_count": 305,
     "metadata": {},
     "output_type": "execute_result"
    }
   ],
   "source": [
    "finiteElement.getBoundaryXY(te, finiteElement.M-1,finiteElement.N-1).shape"
   ]
  },
  {
   "cell_type": "code",
   "execution_count": 159,
   "id": "d326b780",
   "metadata": {},
   "outputs": [
    {
     "data": {
      "text/plain": [
       "0.011253953951946524"
      ]
     },
     "execution_count": 159,
     "metadata": {},
     "output_type": "execute_result"
    }
   ],
   "source": [
    "Test.erf_solution(5,-5)"
   ]
  },
  {
   "cell_type": "code",
   "execution_count": 457,
   "id": "d15f652c",
   "metadata": {},
   "outputs": [
    {
     "data": {
      "text/plain": [
       "0.039283270476846995"
      ]
     },
     "execution_count": 457,
     "metadata": {},
     "output_type": "execute_result"
    }
   ],
   "source": [
    "finiteElement.getIntegral(Point(5, 5))"
   ]
  },
  {
   "cell_type": "code",
   "execution_count": 458,
   "id": "ca35297f",
   "metadata": {},
   "outputs": [
    {
     "name": "stdout",
     "output_type": "stream",
     "text": [
      "         60288 function calls (60204 primitive calls) in 0.087 seconds\n",
      "\n",
      "   Ordered by: standard name\n",
      "\n",
      "   ncalls  tottime  percall  cumtime  percall filename:lineno(function)\n",
      "     3759    0.013    0.000    0.013    0.000 2671086426.py:18(electronDensity)\n",
      "     3759    0.008    0.000    0.065    0.000 2815419501.py:127(evaluate)\n",
      "     3759    0.006    0.000    0.006    0.000 2815419501.py:14(area)\n",
      "     3759    0.004    0.000    0.083    0.000 2815419501.py:165(integrand)\n",
      "        1    0.000    0.000    0.087    0.087 2815419501.py:168(getIntegral)\n",
      "       21    0.000    0.000    0.000    0.000 2815419501.py:174(<lambda>)\n",
      "     3759    0.006    0.000    0.006    0.000 2815419501.py:19(area_pt)\n",
      "     3760    0.001    0.000    0.001    0.000 2815419501.py:2(__init__)\n",
      "    12471    0.034    0.000    0.034    0.000 2815419501.py:34(is_in)\n",
      "    12471    0.009    0.000    0.056    0.000 2815419501.py:41(evaluate)\n",
      "        1    0.000    0.000    0.087    0.087 <string>:1(<module>)\n",
      "     22/1    0.000    0.000    0.087    0.087 quadpack.py:445(_quad)\n",
      "     22/1    0.000    0.000    0.087    0.087 quadpack.py:49(quad)\n",
      "        1    0.000    0.000    0.087    0.087 quadpack.py:530(dblquad)\n",
      "       21    0.000    0.000    0.000    0.000 quadpack.py:597(temp_ranges)\n",
      "        1    0.000    0.000    0.087    0.087 quadpack.py:694(nquad)\n",
      "        1    0.000    0.000    0.000    0.000 quadpack.py:815(<listcomp>)\n",
      "        1    0.000    0.000    0.000    0.000 quadpack.py:829(__init__)\n",
      "        1    0.000    0.000    0.000    0.000 quadpack.py:832(__call__)\n",
      "        1    0.000    0.000    0.000    0.000 quadpack.py:842(__init__)\n",
      "       22    0.000    0.000    0.000    0.000 quadpack.py:845(__call__)\n",
      "        1    0.000    0.000    0.000    0.000 quadpack.py:851(__init__)\n",
      "     22/1    0.000    0.000    0.087    0.087 quadpack.py:861(integrate)\n",
      "       44    0.000    0.000    0.000    0.000 {built-in method builtins.callable}\n",
      "        1    0.000    0.000    0.087    0.087 {built-in method builtins.exec}\n",
      "       23    0.000    0.000    0.000    0.000 {built-in method builtins.isinstance}\n",
      "    12473    0.001    0.000    0.001    0.000 {built-in method builtins.len}\n",
      "       44    0.000    0.000    0.000    0.000 {built-in method builtins.max}\n",
      "       22    0.000    0.000    0.000    0.000 {built-in method builtins.min}\n",
      "     22/1    0.004    0.000    0.087    0.087 {built-in method scipy.integrate._quadpack._qagse}\n",
      "        1    0.000    0.000    0.000    0.000 {method 'disable' of '_lsprof.Profiler' objects}\n",
      "       22    0.000    0.000    0.000    0.000 {method 'pop' of 'dict' objects}\n",
      "\n",
      "\n"
     ]
    }
   ],
   "source": [
    "cProfile.run('finiteElement.getIntegral(Point(5, 5))')"
   ]
  },
  {
   "cell_type": "code",
   "execution_count": 119,
   "id": "866410be",
   "metadata": {},
   "outputs": [
    {
     "name": "stdout",
     "output_type": "stream",
     "text": [
      "         156186 function calls (156102 primitive calls) in 0.191 seconds\n",
      "\n",
      "   Ordered by: standard name\n",
      "\n",
      "   ncalls  tottime  percall  cumtime  percall filename:lineno(function)\n",
      "    10815    0.017    0.000    0.137    0.000 318662846.py:120(evaluate)\n",
      "    10804    0.016    0.000    0.016    0.000 318662846.py:14(area)\n",
      "    10815    0.012    0.000    0.184    0.000 318662846.py:155(integrand)\n",
      "        1    0.000    0.000    0.191    0.191 318662846.py:158(getIntegral)\n",
      "       21    0.000    0.000    0.000    0.000 318662846.py:164(<lambda>)\n",
      "    10804    0.019    0.000    0.019    0.000 318662846.py:19(area_pt)\n",
      "    10805    0.003    0.000    0.003    0.000 318662846.py:2(__init__)\n",
      "    45504    0.058    0.000    0.058    0.000 318662846.py:27(is_in)\n",
      "    45504    0.024    0.000    0.119    0.000 318662846.py:34(evaluate)\n",
      "    10815    0.035    0.000    0.035    0.000 440238750.py:17(electronDensity)\n",
      "        1    0.000    0.000    0.191    0.191 <string>:1(<module>)\n",
      "     22/1    0.000    0.000    0.191    0.191 quadpack.py:445(_quad)\n",
      "     22/1    0.000    0.000    0.191    0.191 quadpack.py:49(quad)\n",
      "        1    0.000    0.000    0.191    0.191 quadpack.py:530(dblquad)\n",
      "       21    0.000    0.000    0.000    0.000 quadpack.py:597(temp_ranges)\n",
      "        1    0.000    0.000    0.191    0.191 quadpack.py:694(nquad)\n",
      "        1    0.000    0.000    0.000    0.000 quadpack.py:815(<listcomp>)\n",
      "        1    0.000    0.000    0.000    0.000 quadpack.py:829(__init__)\n",
      "        1    0.000    0.000    0.000    0.000 quadpack.py:832(__call__)\n",
      "        1    0.000    0.000    0.000    0.000 quadpack.py:842(__init__)\n",
      "       22    0.000    0.000    0.000    0.000 quadpack.py:845(__call__)\n",
      "        1    0.000    0.000    0.000    0.000 quadpack.py:851(__init__)\n",
      "     22/1    0.000    0.000    0.191    0.191 quadpack.py:861(integrate)\n",
      "       44    0.000    0.000    0.000    0.000 {built-in method builtins.callable}\n",
      "        1    0.000    0.000    0.191    0.191 {built-in method builtins.exec}\n",
      "       23    0.000    0.000    0.000    0.000 {built-in method builtins.isinstance}\n",
      "        2    0.000    0.000    0.000    0.000 {built-in method builtins.len}\n",
      "       44    0.000    0.000    0.000    0.000 {built-in method builtins.max}\n",
      "       22    0.000    0.000    0.000    0.000 {built-in method builtins.min}\n",
      "     22/1    0.007    0.000    0.191    0.191 {built-in method scipy.integrate._quadpack._qagse}\n",
      "        1    0.000    0.000    0.000    0.000 {method 'disable' of '_lsprof.Profiler' objects}\n",
      "       22    0.000    0.000    0.000    0.000 {method 'pop' of 'dict' objects}\n",
      "\n",
      "\n"
     ]
    }
   ],
   "source": [
    "cProfile.run('finiteElement.getIntegral(Point(6, 5))')"
   ]
  },
  {
   "cell_type": "code",
   "execution_count": 118,
   "id": "b0476b8c",
   "metadata": {},
   "outputs": [
    {
     "data": {
      "text/plain": [
       "0.00010224424095003971"
      ]
     },
     "execution_count": 118,
     "metadata": {},
     "output_type": "execute_result"
    }
   ],
   "source": [
    "finiteElement.getIntegral(Point(6, 5))"
   ]
  },
  {
   "cell_type": "code",
   "execution_count": 469,
   "id": "1a498128",
   "metadata": {},
   "outputs": [
    {
     "data": {
      "image/png": "[encoded data removed]",
      "text/plain": [
       "<Figure size 432x288 with 1 Axes>"
      ]
     },
     "metadata": {
      "needs_background": "light"
     },
     "output_type": "display_data"
    }
   ],
   "source": [
    "Test.plot(-2, 2, -2, 2, 50, electronDensity)"
   ]
  },
  {
   "cell_type": "code",
   "execution_count": 104,
   "id": "b9ecbde1",
   "metadata": {},
   "outputs": [
    {
     "data": {
      "image/png": "[encoded data removed]",
      "text/plain": [
       "<Figure size 432x288 with 1 Axes>"
      ]
     },
     "metadata": {
      "needs_background": "light"
     },
     "output_type": "display_data"
    }
   ],
   "source": []
  },
  {
   "cell_type": "code",
   "execution_count": 442,
   "id": "d767ae1b",
   "metadata": {},
   "outputs": [],
   "source": []
  },
  {
   "cell_type": "code",
   "execution_count": 447,
   "id": "d80eadbb",
   "metadata": {},
   "outputs": [
    {
     "data": {
      "text/plain": [
       "(10, 10, 4)"
      ]
     },
     "execution_count": 447,
     "metadata": {},
     "output_type": "execute_result"
    }
   ],
   "source": [
    "rgb.shape"
   ]
  },
  {
   "cell_type": "code",
   "execution_count": 457,
   "id": "5d7cfc51",
   "metadata": {},
   "outputs": [],
   "source": [
    "new_img = rgb.transpose((2, 0, 1))\n",
    "# Dimensions: [3, m, n]\n",
    "new_img = rgb.reshape(rgb.shape[0]*rgb.shape[1], rgb.shape[2])\n"
   ]
  },
  {
   "cell_type": "code",
   "execution_count": 458,
   "id": "3747ed33",
   "metadata": {},
   "outputs": [
    {
     "data": {
      "text/plain": [
       "array([[0.68481796, 0.        , 0.16496235, 1.        ],\n",
       "       [0.75905341, 0.05379805, 0.18212881, 1.        ],\n",
       "       [0.84628762, 0.14192815, 0.20761217, 1.        ],\n",
       "       [0.92329873, 0.27363132, 0.23586449, 1.        ],\n",
       "       [0.95482765, 0.39779499, 0.29295771, 1.        ],\n",
       "       [0.95482765, 0.39779499, 0.29295771, 1.        ],\n",
       "       [0.92329873, 0.27363132, 0.23586449, 1.        ],\n",
       "       [0.84628762, 0.14192815, 0.20761217, 1.        ],\n",
       "       [0.75905341, 0.05379805, 0.18212881, 1.        ],\n",
       "       [0.68481796, 0.        , 0.16496235, 1.        ],\n",
       "       [0.73246635, 0.04995992, 0.16913513, 1.        ],\n",
       "       [0.84716872, 0.17687766, 0.19161746, 1.        ],\n",
       "       [0.94752375, 0.45880295, 0.30754923, 1.        ],\n",
       "       [0.98984129, 0.84021039, 0.50778829, 1.        ],\n",
       "       [0.9978578 , 0.93506363, 0.66781057, 1.        ],\n",
       "       [0.9978578 , 0.93506363, 0.66781057, 1.        ],\n",
       "       [0.98984129, 0.84021039, 0.50778829, 1.        ],\n",
       "       [0.94752375, 0.45880295, 0.30754923, 1.        ],\n",
       "       [0.84716872, 0.17687766, 0.19161746, 1.        ],\n",
       "       [0.73246635, 0.04995992, 0.16913513, 1.        ],\n",
       "       [0.79237962, 0.11921582, 0.17438862, 1.        ],\n",
       "       [0.93409703, 0.41506196, 0.27822835, 1.        ],\n",
       "       [0.99502678, 0.84924724, 0.57542699, 1.        ],\n",
       "       [0.99960528, 0.98776362, 0.93702146, 1.        ],\n",
       "       [1.        , 1.        , 1.        , 1.        ],\n",
       "       [1.        , 1.        , 1.        , 1.        ],\n",
       "       [0.99960528, 0.98776362, 0.93702146, 1.        ],\n",
       "       [0.99502678, 0.84924724, 0.57542699, 1.        ],\n",
       "       [0.93409703, 0.41506196, 0.27822835, 1.        ],\n",
       "       [0.79237962, 0.11921582, 0.17438862, 1.        ],\n",
       "       [0.85396026, 0.20068345, 0.17298495, 1.        ],\n",
       "       [0.97773316, 0.64975761, 0.38770836, 1.        ],\n",
       "       [0.99884529, 0.96420392, 0.81576368, 1.        ],\n",
       "       [0.92529849, 0.96696617, 0.98085539, 1.        ],\n",
       "       [0.78369256, 0.95312728, 0.97394422, 1.        ],\n",
       "       [0.78369256, 0.95312728, 0.97394422, 1.        ],\n",
       "       [0.92529849, 0.96696617, 0.98085539, 1.        ],\n",
       "       [0.99884529, 0.96420392, 0.81576368, 1.        ],\n",
       "       [0.97773316, 0.64975761, 0.38770836, 1.        ],\n",
       "       [0.85396026, 0.20068345, 0.17298495, 1.        ],\n",
       "       [0.87541165, 0.25386791, 0.18696204, 1.        ],\n",
       "       [0.98997067, 0.6959818 , 0.41043275, 1.        ],\n",
       "       [0.95572377, 0.98286082, 0.87872164, 1.        ],\n",
       "       [0.53978525, 0.74074967, 0.855887  , 1.        ],\n",
       "       [0.26158331, 0.28827549, 0.73450156, 1.        ],\n",
       "       [0.26158331, 0.28827549, 0.73450156, 1.        ],\n",
       "       [0.53978525, 0.74074967, 0.855887  , 1.        ],\n",
       "       [0.95572377, 0.98286082, 0.87872164, 1.        ],\n",
       "       [0.98997067, 0.6959818 , 0.41043275, 1.        ],\n",
       "       [0.87541165, 0.25386791, 0.18696204, 1.        ],\n",
       "       [0.86263396, 0.23071067, 0.16990779, 1.        ],\n",
       "       [0.98756563, 0.62307792, 0.33194983, 1.        ],\n",
       "       [0.93462609, 0.97469397, 0.82093234, 1.        ],\n",
       "       [0.30056023, 0.53244908, 0.74009611, 1.        ],\n",
       "       [0.12782741, 0.14087102, 0.44515205, 1.        ],\n",
       "       [0.12782741, 0.14087102, 0.44515205, 1.        ],\n",
       "       [0.30056023, 0.53244908, 0.74009611, 1.        ],\n",
       "       [0.93462609, 0.97469397, 0.82093234, 1.        ],\n",
       "       [0.98756563, 0.62307792, 0.33194983, 1.        ],\n",
       "       [0.86263396, 0.23071067, 0.16990779, 1.        ],\n",
       "       [0.81340127, 0.15801317, 0.13620406, 1.        ],\n",
       "       [0.96144952, 0.39362711, 0.22621881, 1.        ],\n",
       "       [0.99670479, 0.89784844, 0.47424329, 1.        ],\n",
       "       [0.55462937, 0.80305218, 0.88585979, 1.        ],\n",
       "       [0.05665292, 0.32007147, 0.62203888, 1.        ],\n",
       "       [0.05665292, 0.32007147, 0.62203888, 1.        ],\n",
       "       [0.55462937, 0.80305218, 0.88585979, 1.        ],\n",
       "       [0.99670479, 0.89784844, 0.47424329, 1.        ],\n",
       "       [0.96144952, 0.39362711, 0.22621881, 1.        ],\n",
       "       [0.81340127, 0.15801317, 0.13620406, 1.        ],\n",
       "       [0.7243197 , 0.09054104, 0.13244322, 1.        ],\n",
       "       [0.87499876, 0.22253419, 0.14917127, 1.        ],\n",
       "       [0.98252708, 0.47034471, 0.16752855, 1.        ],\n",
       "       [0.9959448 , 0.87428874, 0.35298552, 1.        ],\n",
       "       [0.89034987, 0.95755479, 0.69965398, 1.        ],\n",
       "       [0.89034987, 0.95755479, 0.69965398, 1.        ],\n",
       "       [0.9959448 , 0.87428874, 0.35298552, 1.        ],\n",
       "       [0.98252708, 0.47034471, 0.16752855, 1.        ],\n",
       "       [0.87499876, 0.22253419, 0.14917127, 1.        ],\n",
       "       [0.7243197 , 0.09054104, 0.13244322, 1.        ],\n",
       "       [0.66401236, 0.04007784, 0.13568017, 1.        ],\n",
       "       [0.74546875, 0.10791828, 0.11691147, 1.        ],\n",
       "       [0.86157204, 0.1787932 , 0.11985039, 1.        ],\n",
       "       [0.94934139, 0.20317433, 0.10613888, 1.        ],\n",
       "       [0.97967851, 0.38399609, 0.07457201, 1.        ],\n",
       "       [0.97967851, 0.38399609, 0.07457201, 1.        ],\n",
       "       [0.94934139, 0.20317433, 0.10613888, 1.        ],\n",
       "       [0.86157204, 0.1787932 , 0.11985039, 1.        ],\n",
       "       [0.74546875, 0.10791828, 0.11691147, 1.        ],\n",
       "       [0.66401236, 0.04007784, 0.13568017, 1.        ],\n",
       "       [0.62132444, 0.        , 0.13815398, 1.        ],\n",
       "       [0.6374253 , 0.0362397 , 0.1226865 , 1.        ],\n",
       "       [0.6704117 , 0.06782871, 0.09921967, 1.        ],\n",
       "       [0.7440628 , 0.0850653 , 0.07332452, 1.        ],\n",
       "       [0.78321796, 0.08678359, 0.06391212, 1.        ],\n",
       "       [0.78321796, 0.08678359, 0.06391212, 1.        ],\n",
       "       [0.7440628 , 0.0850653 , 0.07332452, 1.        ],\n",
       "       [0.6704117 , 0.06782871, 0.09921967, 1.        ],\n",
       "       [0.6374253 , 0.0362397 , 0.1226865 , 1.        ],\n",
       "       [0.62132444, 0.        , 0.13815398, 1.        ]])"
      ]
     },
     "execution_count": 458,
     "metadata": {},
     "output_type": "execute_result"
    }
   ],
   "source": [
    "new_img"
   ]
  },
  {
   "cell_type": "code",
   "execution_count": 763,
   "id": "6c116cbc",
   "metadata": {},
   "outputs": [],
   "source": [
    "fin=FiniteElement(0, 0, 1, 1, 1)"
   ]
  },
  {
   "cell_type": "code",
   "execution_count": 776,
   "id": "1ee129f7",
   "metadata": {},
   "outputs": [
    {
     "data": {
      "image/png": "[encoded data removed]",
      "text/plain": [
       "<Figure size 432x288 with 1 Axes>"
      ]
     },
     "metadata": {
      "needs_background": "light"
     },
     "output_type": "display_data"
    }
   ],
   "source": [
    "fin=FiniteElement(0, 0, 1, 1, 0)\n",
    "Test.plot(0, 2, -2, 0,100,fin.evaluate)"
   ]
  },
  {
   "cell_type": "code",
   "execution_count": 784,
   "id": "970fff07",
   "metadata": {},
   "outputs": [
    {
     "data": {
      "text/plain": [
       "0.09999999999999987"
      ]
     },
     "execution_count": 784,
     "metadata": {},
     "output_type": "execute_result"
    }
   ],
   "source": [
    "fin.evaluate(0.6,-1.5)"
   ]
  },
  {
   "cell_type": "code",
   "execution_count": 764,
   "id": "881da1d2",
   "metadata": {},
   "outputs": [
    {
     "data": {
      "image/png": "[encoded data removed]",
      "text/plain": [
       "<Figure size 432x288 with 1 Axes>"
      ]
     },
     "metadata": {
      "needs_background": "light"
     },
     "output_type": "display_data"
    }
   ],
   "source": [
    "Test.plot(0, 2, -2, 0,100,fin.evaluate)"
   ]
  },
  {
   "cell_type": "code",
   "execution_count": 775,
   "id": "328a889d",
   "metadata": {},
   "outputs": [
    {
     "data": {
      "text/plain": [
       "0.5"
      ]
     },
     "execution_count": 775,
     "metadata": {},
     "output_type": "execute_result"
    }
   ],
   "source": [
    "fin.evaluate(0.55,-1.5)"
   ]
  },
  {
   "cell_type": "code",
   "execution_count": 101,
   "id": "aabb3b5f",
   "metadata": {},
   "outputs": [
    {
     "data": {
      "text/plain": [
       "1"
      ]
     },
     "execution_count": 101,
     "metadata": {},
     "output_type": "execute_result"
    }
   ],
   "source": [
    "fin.evaluate(1,-1)"
   ]
  },
  {
   "cell_type": "code",
   "execution_count": 83,
   "id": "c04c954d",
   "metadata": {},
   "outputs": [
    {
     "data": {
      "text/plain": [
       "4.0"
      ]
     },
     "execution_count": 83,
     "metadata": {},
     "output_type": "execute_result"
    }
   ],
   "source": [
    "fin.evaluate(1,-1)"
   ]
  },
  {
   "cell_type": "code",
   "execution_count": 26,
   "id": "bd1f6672",
   "metadata": {},
   "outputs": [
    {
     "data": {
      "text/plain": [
       "0.6666666498972109"
      ]
     },
     "execution_count": 26,
     "metadata": {},
     "output_type": "execute_result"
    }
   ],
   "source": [
    "integrate.dblquad(fin.evaluate, -2, 0,lambda x: 0, lambda x: 2)[0]"
   ]
  },
  {
   "cell_type": "code",
   "execution_count": 573,
   "id": "2eb604c8",
   "metadata": {},
   "outputs": [
    {
     "data": {
      "text/plain": [
       "0"
      ]
     },
     "execution_count": 573,
     "metadata": {},
     "output_type": "execute_result"
    }
   ],
   "source": [
    "fin.evaluate(1.8,-1.8)"
   ]
  },
  {
   "cell_type": "code",
   "execution_count": 607,
   "id": "0f370b33",
   "metadata": {},
   "outputs": [
    {
     "data": {
      "text/plain": [
       "0.090866060540632"
      ]
     },
     "execution_count": 607,
     "metadata": {},
     "output_type": "execute_result"
    }
   ],
   "source": [
    "integrate.dblquad(electronDensity, -2, 0,lambda x: 0, lambda x: 2,epsabs=1e-8)[0]"
   ]
  },
  {
   "cell_type": "code",
   "execution_count": null,
   "id": "87bca308",
   "metadata": {},
   "outputs": [],
   "source": [
    "Test.plot(0, 0.4, -0.4, 0,100,finiteElement.finiteElements[5, 5].evaluate)\n",
    "Test.plot(0, 0.4, -0.4, 0,100,electronDensity)"
   ]
  },
  {
   "cell_type": "code",
   "execution_count": 13,
   "id": "4e674387",
   "metadata": {},
   "outputs": [],
   "source": [
    "def lol(x, y):\n",
    "    return electronDensity(x, y)*fin.evaluate(x, y)"
   ]
  },
  {
   "cell_type": "code",
   "execution_count": 636,
   "id": "13bbee5a",
   "metadata": {},
   "outputs": [],
   "source": [
    "test=[(integrate.dblquad(lol, -2, 0,lambda x: 0, lambda x: 2,epsabs=1e-8*10**i)[0]) for i in range(0, 7)]"
   ]
  },
  {
   "cell_type": "code",
   "execution_count": 637,
   "id": "1dcd6634",
   "metadata": {},
   "outputs": [
    {
     "data": {
      "text/plain": [
       "[0.0016191353028300304,\n",
       " 0.0016191286222514505,\n",
       " 0.0016191289772780834,\n",
       " 0.00161919315870105,\n",
       " 0.0016219522329523855,\n",
       " 0.001613626045322107,\n",
       " 0.0015999807360674192]"
      ]
     },
     "execution_count": 637,
     "metadata": {},
     "output_type": "execute_result"
    }
   ],
   "source": [
    "test"
   ]
  },
  {
   "cell_type": "code",
   "execution_count": 640,
   "id": "fc670089",
   "metadata": {},
   "outputs": [
    {
     "data": {
      "text/plain": [
       "0.0001"
      ]
     },
     "execution_count": 640,
     "metadata": {},
     "output_type": "execute_result"
    }
   ],
   "source": [
    "1e-8*10**4"
   ]
  },
  {
   "cell_type": "code",
   "execution_count": 29,
   "id": "6dbf20fb",
   "metadata": {},
   "outputs": [
    {
     "name": "stdout",
     "output_type": "stream",
     "text": [
      "         473690 function calls (473438 primitive calls) in 0.569 seconds\n",
      "\n",
      "   Ordered by: standard name\n",
      "\n",
      "   ncalls  tottime  percall  cumtime  percall filename:lineno(function)\n",
      "    38073    0.113    0.000    0.113    0.000 1226877424.py:16(electronDensity)\n",
      "    38073    0.027    0.000    0.546    0.000 2234026894.py:1(lol)\n",
      "    17993    0.071    0.000    0.071    0.000 74039619.py:14(area)\n",
      "    17993    0.031    0.000    0.031    0.000 74039619.py:18(area_pt)\n",
      "    17993    0.005    0.000    0.005    0.000 74039619.py:2(__init__)\n",
      "   152292    0.192    0.000    0.192    0.000 74039619.py:23(is_in)\n",
      "   152292    0.061    0.000    0.361    0.000 74039619.py:35(evaluate)\n",
      "    38073    0.045    0.000    0.406    0.000 74039619.py:84(evaluate)\n",
      "       63    0.000    0.000    0.000    0.000 <string>:1(<lambda>)\n",
      "        1    0.000    0.000    0.569    0.569 <string>:1(<module>)\n",
      "     64/1    0.000    0.000    0.568    0.568 quadpack.py:445(_quad)\n",
      "     64/1    0.000    0.000    0.568    0.568 quadpack.py:49(quad)\n",
      "        1    0.000    0.000    0.569    0.569 quadpack.py:530(dblquad)\n",
      "       63    0.000    0.000    0.000    0.000 quadpack.py:597(temp_ranges)\n",
      "        1    0.000    0.000    0.569    0.569 quadpack.py:694(nquad)\n",
      "        1    0.000    0.000    0.000    0.000 quadpack.py:815(<listcomp>)\n",
      "        1    0.000    0.000    0.000    0.000 quadpack.py:829(__init__)\n",
      "        1    0.000    0.000    0.000    0.000 quadpack.py:832(__call__)\n",
      "        1    0.000    0.000    0.000    0.000 quadpack.py:842(__init__)\n",
      "       64    0.000    0.000    0.000    0.000 quadpack.py:845(__call__)\n",
      "        1    0.000    0.000    0.000    0.000 quadpack.py:851(__init__)\n",
      "     64/1    0.001    0.000    0.569    0.569 quadpack.py:861(integrate)\n",
      "        1    0.000    0.000    0.000    0.000 {built-in method _warnings.warn}\n",
      "      128    0.000    0.000    0.000    0.000 {built-in method builtins.callable}\n",
      "        1    0.000    0.000    0.569    0.569 {built-in method builtins.exec}\n",
      "       65    0.000    0.000    0.000    0.000 {built-in method builtins.isinstance}\n",
      "        2    0.000    0.000    0.000    0.000 {built-in method builtins.len}\n",
      "      128    0.000    0.000    0.000    0.000 {built-in method builtins.max}\n",
      "       64    0.000    0.000    0.000    0.000 {built-in method builtins.min}\n",
      "     64/1    0.021    0.000    0.568    0.568 {built-in method scipy.integrate._quadpack._qagse}\n",
      "        1    0.000    0.000    0.000    0.000 {method 'disable' of '_lsprof.Profiler' objects}\n",
      "       64    0.000    0.000    0.000    0.000 {method 'pop' of 'dict' objects}\n",
      "\n",
      "\n"
     ]
    }
   ],
   "source": [
    "cProfile.run('integrate.dblquad(lol, -2, 0,lambda x: 0, lambda x: 2)[0]')"
   ]
  },
  {
   "cell_type": "code",
   "execution_count": 622,
   "id": "6cb7a930",
   "metadata": {},
   "outputs": [
    {
     "data": {
      "text/plain": [
       "0.0016219522329523855"
      ]
     },
     "execution_count": 622,
     "metadata": {},
     "output_type": "execute_result"
    }
   ],
   "source": [
    "integrate.dblquad(lol, -2, 0,lambda x: 0, lambda x: 2,epsabs=1e-4)[0]"
   ]
  },
  {
   "cell_type": "code",
   "execution_count": 36,
   "id": "579008c2",
   "metadata": {},
   "outputs": [],
   "source": [
    "def integrand(x, y):\n",
    "    return (1/finiteElement.eps)*finiteElement.electronDensity(x,y)*finiteElement.finiteElements[5, 5].evaluate(x, y)"
   ]
  },
  {
   "cell_type": "code",
   "execution_count": 40,
   "id": "cfd1145b",
   "metadata": {},
   "outputs": [
    {
     "data": {
      "text/plain": [
       "0.00161919315870105"
      ]
     },
     "execution_count": 40,
     "metadata": {},
     "output_type": "execute_result"
    }
   ],
   "source": [
    "integrate.dblquad(integrand, -2, 0,lambda x: 0, lambda x: 2,epsabs=1e-5)[0]"
   ]
  },
  {
   "cell_type": "code",
   "execution_count": null,
   "id": "211cca6e",
   "metadata": {},
   "outputs": [],
   "source": [
    "0.0016191281781632982"
   ]
  }
 ],
 "metadata": {
  "kernelspec": {
   "display_name": "Python 3 (ipykernel)",
   "language": "python",
   "name": "python3"
  },
  "language_info": {
   "codemirror_mode": {
    "name": "ipython",
    "version": 3
   },
   "file_extension": ".py",
   "mimetype": "text/x-python",
   "name": "python",
   "nbconvert_exporter": "python",
   "pygments_lexer": "ipython3",
   "version": "3.9.12"
  }
 },
 "nbformat": 4,
 "nbformat_minor": 5
}
