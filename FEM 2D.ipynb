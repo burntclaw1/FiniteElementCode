{
 "cells": [
  {
   "cell_type": "code",
   "execution_count": 1,
   "id": "95f53600",
   "metadata": {},
   "outputs": [],
   "source": [
    "%matplotlib inline\n",
    "\n",
    "import numpy as np\n",
    "import matplotlib.pyplot as plt\n",
    "import scipy\n",
    "import scipy.integrate as integrate\n",
    "import numpy.linalg as linalg\n",
    "from multipledispatch import dispatch"
   ]
  },
  {
   "cell_type": "code",
   "execution_count": 2,
   "id": "955449b5",
   "metadata": {},
   "outputs": [],
   "source": [
    "N=1000\n",
    "startR=-0.25/au2nm\n",
    "endR=0.25/au2nm\n",
    "N=1000\n",
    "sites=N+1\n",
    "a=0.0529/au2nm\n",
    "deltaX=np.abs(startR-endR)/(N) #grid size\n",
    "\n",
    "\n",
    "eps=0.5968404*au2nm*au2ev\n",
    "n=1\n",
    "sigma=1\n",
    "valueAtZero=1/(2*np.pi*a*eps)"
   ]
  },
  {
   "cell_type": "code",
   "execution_count": null,
   "id": "0d854f71",
   "metadata": {},
   "outputs": [],
   "source": [
    "class Point:\n",
    "    def __init__(self, x, y):\n",
    "        self.x=x\n",
    "        self.y=y\n",
    "        \n",
    "class Triangle:\n",
    "    def __init__(self, p_1, p_2, p_3):\n",
    "        self.p_1=p_1\n",
    "        self.p_2=p_2\n",
    "        self.p_3=p_3\n",
    "    def area():\n",
    "        return (0.5)*(self.p2.y+p1.y)*(self.p1.x-p2.x)+0.5*(self.p1.y+self.p3.y)*(self.p3.x-self.p1.x)-0.5*(self.p2.y+self.p3.y)*(self.p3.x-self.p2.x)  \n",
    "    \n",
    "    def is_in(x, y):\n",
    "        Area=self.area();\n",
    "        s = 1/(2*Area)*(self.p_1.y*self.p_1.x - self.p_1.x*self.p_1.y + (p2y - p0y)*px + (p0x - p2x)*py);\n",
    "        t = 1/(2*Area)*(p0x*p1y - p0y*p1x + (p0y - p1y)*px + (p1x - p0x)*py);\n",
    "        return 0<s and s<1 and t>0 and t<1 and t+s<1\n",
    "    \n",
    "    def evaluate(x, y):\n",
    "        return 1-x-y if\n",
    "class FiniteElement:\n",
    "    def _init_(tri_1, tri_2, tri_3):\n",
    "        self.tri_1=tri_1\n",
    "        self.tri_2=tri_2\n",
    "        self.tri_3=tri_3\n",
    "    \n",
    "    def evaluate(x, y):\n",
    "        "
   ]
  },
  {
   "cell_type": "code",
   "execution_count": null,
   "id": "4d9b9bc5",
   "metadata": {},
   "outputs": [],
   "source": [
    "def tri_area(p1,p2,p3):\n",
    "\n",
    "\n",
    "def linear_element(x, p_1, p_2):\n",
    "    return ((p_1.y-p_2.y)/(p_1.x-p_2.x))(x-p_1.x)+p_1.y\n",
    "\n",
    "def triangle(x, y):\n",
    "    "
   ]
  }
 ],
 "metadata": {
  "kernelspec": {
   "display_name": "Python 3 (ipykernel)",
   "language": "python",
   "name": "python3"
  },
  "language_info": {
   "codemirror_mode": {
    "name": "ipython",
    "version": 3
   },
   "file_extension": ".py",
   "mimetype": "text/x-python",
   "name": "python",
   "nbconvert_exporter": "python",
   "pygments_lexer": "ipython3",
   "version": "3.9.12"
  }
 },
 "nbformat": 4,
 "nbformat_minor": 5
}
