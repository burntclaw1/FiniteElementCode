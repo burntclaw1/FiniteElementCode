{
 "cells": [
  {
   "cell_type": "code",
   "execution_count": 46,
   "id": "364d40e9",
   "metadata": {},
   "outputs": [],
   "source": [
    "%matplotlib inline\n",
    "\n",
    "import numpy as np\n",
    "import matplotlib.pyplot as plt\n",
    "import scipy\n",
    "import scipy.integrate as integrate\n",
    "import numpy.linalg as linalg\n",
    "from multipledispatch import dispatch\n",
    "import time\n",
    "\n",
    "import cProfile\n",
    "from matplotlib.colors import LightSource\n",
    "import timeit\n",
    "\n",
    "#scipy sims"
   ]
  },
  {
   "cell_type": "code",
   "execution_count": 87,
   "id": "2fccd588",
   "metadata": {},
   "outputs": [],
   "source": [
    "class Point:\n",
    "    def __init__(self, x, y):\n",
    "        self.x=x\n",
    "        self.y=y\n",
    "        \n",
    "class Triangle:\n",
    "    #p_3 is the \"tip\" i.e. point in the middle of element, p_1 and p_2 are the other two verticies. doesnt matter which order\n",
    "    def __init__(self, p_1, p_2, p_3):\n",
    "        self.p1=p_1\n",
    "        self.p2=p_2\n",
    "        self.p3=p_3\n",
    "        \n",
    "    '''area of this triangle'''\n",
    "    def area(self):\n",
    "        return 0.5*np.abs((self.p1.x*self.p2.y+self.p3.x*self.p1.y+self.p2.x*self.p3.y-self.p1.y*self.p2.x-self.p2.y*self.p3.x-self.p3.y*self.p1.x))\n",
    "    \n",
    "    '''finds the area given the point p3 as the new vertex'''\n",
    "    def area_pt(self,p3):\n",
    "        return 0.5*np.abs((self.p1.x*self.p2.y+p3.x*self.p1.y+self.p2.x*p3.y-self.p1.y*self.p2.x-self.p2.y*p3.x-p3.y*self.p1.x))\n",
    "    \n",
    "    def area_pt_signed(self, p3):\n",
    "        return 0.5*((self.p1.x*self.p2.y+p3.x*self.p1.y+self.p2.x*p3.y-self.p1.y*self.p2.x-self.p2.y*p3.x-p3.y*self.p1.x))\n",
    "    \n",
    "    '''defines if the point x y is in the triangle. if not then returns false otherwise true'''\n",
    "    '''source: https://stackoverflow.com/questions/2049582/how-to-determine-if-a-point-is-in-a-2d-triangle'''\n",
    "    def is_in(self,x, y):\n",
    "        p1x, p1y, p2x, p2y, p3x, p3y=self.p1.x, self.p1.y,self.p2.x,self.p2.y,self.p3.x,self.p3.y\n",
    "        Area= 0.5 *(-p2y*p3x + p1y*(-p2x + p3x) + p1x*(p2y - p3y) + p2x*p3y)\n",
    "        s = 1/(2*Area)*(p1y*p3x - p1x*p3y + (p3y - p1y)*x + (p1x - p3x)*y);\n",
    "        t = 1/(2*Area)*(p1x*p2y - p1y*p2x + (p1y - p2y)*x + (p2x - p1x)*y);\n",
    "        return 0<=s and t>=0 and 1-s-t>=0\n",
    "    \n",
    "    def evaluate(self,x, y):\n",
    "        return self.area_pt(Point(x, y))/self.area() if self.is_in(x,y) else 0\n",
    "    \n",
    "    \n",
    "class FiniteElement:\n",
    "    #top left corner\n",
    "    def __init__(self, x, y, deltaX, deltaY):\n",
    "        self.deltaX=deltaX\n",
    "        self.deltaY=deltaY\n",
    "        \n",
    "        p1=Point(x, y)\n",
    "        p2=Point(x+deltaX, y)\n",
    "        p3=Point(x+2*deltaX, y)\n",
    "        \n",
    "        p4=Point(x, y-deltaY)\n",
    "        center=Point(x+deltaX, y-deltaY)\n",
    "        p5=Point(x+2*deltaX, y-deltaY)\n",
    "        \n",
    "        p6=Point(x, y-2*deltaY)\n",
    "        p7=Point(x+deltaX, y-2*deltaY)\n",
    "        p8=Point(x+2*deltaX, y-2*deltaY)\n",
    "        \n",
    "        #top left\n",
    "        self.tri_tl=Triangle(p2,p4,center)\n",
    "        \n",
    "        #top right\n",
    "        self.tri_tr=Triangle(p2,p5,center)\n",
    "        \n",
    "        #bottom left\n",
    "        self.tri_bl=Triangle(p4, p7, center)\n",
    "        \n",
    "        #bottom right\n",
    "        self.tri_br=Triangle(p5,p7,center)\n",
    "        \n",
    "        self.top_left_x=x\n",
    "        self.top_left_y=y\n",
    "        \n",
    "    def in_region_1(self, x, y):\n",
    "        return x<self.top_left_x+self.deltaX and y>=self.top_left_y-self.deltaY\n",
    "    \n",
    "    def in_region_2(self,x, y):\n",
    "        return x>=self.top_left_x+self.deltaX and y>=self.top_left_y-self.deltaY\n",
    "    \n",
    "    def in_region_3(self,x, y):\n",
    "        return x<self.top_left_x+self.deltaX and y<self.top_left_y-self.deltaY\n",
    "    \n",
    "    def in_region_4(self,x, y):\n",
    "        return x>=self.top_left_x+self.deltaX and y<self.top_left_y-self.deltaY\n",
    "    \n",
    "    def evaluate(self, x, y):\n",
    "        temp=self.tri_tl.evaluate(x, y)\n",
    "        temp1=self.tri_tr.evaluate(x, y)\n",
    "        temp2=self.tri_bl.evaluate(x, y)\n",
    "        temp3=self.tri_br.evaluate(x, y)\n",
    "        return temp+temp1+temp2+temp3\n",
    "    \n",
    "class FEM:\n",
    "    def __init__(self, N, M, minX, maxX, minY, maxY, electronDensity, eps, boundaryCondition):\n",
    "        self.N=N\n",
    "        self.M=M\n",
    "        self.minX=minX\n",
    "        self.maxX=maxX\n",
    "        self.minY=minY\n",
    "        self.maxY=maxY\n",
    "        self.deltaX=(maxX-minX)/N\n",
    "        self.deltaY=(maxY-minY)/M\n",
    "        #function\n",
    "        self.electronDensity=electronDensity\n",
    "        self.finiteElements=self.generateFiniteElements();\n",
    "        self.eps=eps\n",
    "        self.boundaryCondition=boundaryCondition\n",
    "        \n",
    "        #does not generate the boundary finite elements!\n",
    "    def generateFiniteElements(self):\n",
    "        finiteElements=np.ndarray(shape=(self.M-1,self.N-1), dtype=FiniteElement)\n",
    "        for m in range(self.M-1):\n",
    "            #ignore the last row\n",
    "            for n in range(self.N-1):\n",
    "                finiteElements[m, n]=FiniteElement(self.minX+n*self.deltaX, self.maxY-m*self.deltaY, self.deltaX, self.deltaY)\n",
    "        return finiteElements\n",
    "    \n",
    "    #p1 gives the indicies\n",
    "    def integrand(self,x, y, p1):\n",
    "        return (1/self.eps)*self.electronDensity(x,y)*self.finiteElements[p1.x, p1.y].evaluate(x, y)\n",
    "\n",
    "    def getIntegral(self,p1):\n",
    "        temp=self.finiteElements[p1.x, p1.y]\n",
    "        minX=temp.top_left_x\n",
    "        maxX=minX+self.deltaX*2\n",
    "        maxY=temp.top_left_y\n",
    "        minY=maxY-2*self.deltaY\n",
    "        return integrate.dblquad(self.integrand, minY, maxY, lambda x: minX, lambda x: maxX, args=[p1], epsabs=1e-4)[0]\n",
    "\n",
    "    def constructBVector(self):\n",
    "        temp=np.zeros((self.N-1)*(self.M-1))\n",
    "        for r in range(self.M-1):\n",
    "            for c in range(self.N-1):\n",
    "                temp[c+r*c]=self.getIntegral(Point(r,c))\n",
    "        return temp;\n",
    "                \n",
    "    def area(self):\n",
    "        return self.deltaX*self.deltaY/2\n",
    "    \n",
    "    def generateFlagged(self):\n",
    "        flaggedIndicies1=np.array([self.get1DIndex(0,x) for x in range(self.N+1)]);\n",
    "        flaggedIndicies2=np.array([self.get1DIndex(y,0) for y in range(self.M+1)]);\n",
    "        flaggedIndicies3=np.array([self.get1DIndex(self.M,x) for x in range(self.N+1)])\n",
    "        flaggedIndicies4=np.array([self.get1DIndex(y,self.N) for y in range(self.M+1)]);\n",
    "        flagged=np.concatenate((flaggedIndicies1,flaggedIndicies2,flaggedIndicies3,flaggedIndicies4))\n",
    "        return flagged\n",
    "    \n",
    "    def constructMatrix(self):\n",
    "        temp=np.zeros(((self.N+1)*(self.M+1),(self.N+1)*(self.M+1)));\n",
    "        flagged=self.generateFlagged()\n",
    "        for m in range(self.M+1):\n",
    "            for n in range(self.N+1):\n",
    "                currRow=m*(self.N+1)+n\n",
    "                index1=self.get1DIndex(m, n-1);\n",
    "                index2=self.get1DIndex(n,m+1)\n",
    "                index3=self.get1DIndex(n+1,m)\n",
    "                index4=self.get1DIndex(n,m-1)\n",
    "                index5=self.get1DIndex(n, m)\n",
    "                #print(\"row, \", currRow)\n",
    "                if(index1 in range((self.N+1)*(self.M+1))):\n",
    "                    temp[currRow,index1]=2*(-1/(self.deltaX)**2+1/self.deltaY**2)\n",
    "                if(index2 in range((self.N+1)*(self.M+1))):\n",
    "                    temp[currRow,index2]=2*(1/(self.deltaX)**2-1/self.deltaY**2)\n",
    "                if(index3 in range((self.N+1)*(self.M+1))):\n",
    "                    temp[currRow,index3]=2*(-1/(self.deltaX)**2+1/self.deltaY**2)\n",
    "                if(index4 in range((self.N+1)*(self.M+1))):\n",
    "                    temp[currRow,index4]=2*(1/(self.deltaX)**2-1/self.deltaY**2)\n",
    "                if(index5 in range((self.N+1)*(self.M+1))):\n",
    "                    #print(\"index, \",(currRow,index5))\n",
    "                    temp[currRow,index5]=4*(1/(self.deltaX)**2+1/self.deltaY**2)\n",
    "        temp=np.delete(temp, flagged, axis=1)\n",
    "        temp=np.delete(temp, flagged, axis=0)\n",
    "        return temp*self.deltaX*self.deltaY/2\n",
    "\n",
    "    def solveSystem(self):\n",
    "        b=self.constructBVector();\n",
    "        M=self.constructMatrix();\n",
    "        sols=linalg.solve(M, b);\n",
    "        return self.extractSols(sols);\n",
    "                \n",
    "    def getPoint(self,m, n):\n",
    "        return Point(self.minX+n*self.deltaX, self.minY-m*self.deltaY)\n",
    "    \n",
    "    #from 2d to 1d\n",
    "    def get1DIndex(self,m, n):\n",
    "        return (self.N+1)*m+n\n",
    "    \n",
    "    #in entire matrix\n",
    "    def get2Dindex(self,i):\n",
    "        return (i//(self.N+1), i%(self.N+1));\n",
    "                \n",
    "    def fillBoundary(self,temp):\n",
    "        for i in range(np.shape(temp)[0]):\n",
    "            pt=self.getPoint(i,0)\n",
    "            pt1=self.getPoint(i, np.shape(temp)[1]-1)\n",
    "            temp[i,0]=self.boundaryCondition(pt.x, pt.y)\n",
    "            temp[i,np.shape(temp)[1]-1]=self.boundaryCondition(pt1.x, pt1.y)\n",
    "        for i in range(np.shape(temp)[1]):\n",
    "            pt=self.getPoint(0,i)\n",
    "            pt1=self.getPoint(np.shape(temp)[1]-1, i)\n",
    "            temp[0,i]=self.boundaryCondition(pt.x, pt.y)\n",
    "            temp[np.shape(temp)[1]-1, i]=self.boundaryCondition(pt1.x, pt1.y)\n",
    "        return temp\n",
    "    \n",
    "    def turnIntoGraphable(self, sols):\n",
    "        xy=np.zeros(((self.M+1)*(self.N+1),2));\n",
    "        for m in range(self.M+1):\n",
    "            for n in range(self.N+1):\n",
    "                xy[m*self.N+n,0]=n*self.deltaX+self.minX\n",
    "                xy[m*self.M+n,1]=self.maxY-m*self.deltaY\n",
    "        return (xy, sols.flatten())\n",
    "    \n",
    "    def extractSols(self,sols):\n",
    "        temp=np.zeros((self.M+1, self.N+1));\n",
    "        for i in range(len(sols)):\n",
    "            row=i//(self.N-1)+1\n",
    "            col=i%(self.M-1)+1\n",
    "            temp[row, col]=sols[i]\n",
    "        temp=self.fillBoundary(temp);\n",
    "        return temp;\n",
    "    \n",
    "    def getGraphableArrays(self):\n",
    "        sols=self.solveSystem()\n",
    "        return self.turnIntoGraphable(sols)\n",
    "    \n",
    "    def graphResults(self):\n",
    "        sols=self.solveSystem()\n",
    "        graphData=self.turnIntoGraphable(sols)\n",
    "        xs = graphData[0][:,0]\n",
    "        ys = graphData[0][:,1]\n",
    "\n",
    "        function=graphData[1]\n",
    "\n",
    "        fig = plt.figure()\n",
    "        ax = plt.axes(projection='3d')\n",
    "\n",
    "        function.shape = (self.M+1, self.N+1)\n",
    "\n",
    "        ls = LightSource(azdeg=0, altdeg=65)\n",
    "        rgb = ls.shade(function, plt.cm.RdYlBu)\n",
    "\n",
    "        function.shape=((self.M+1)*(self.N+1),)\n",
    "\n",
    "        new_img = rgb.transpose((2, 0, 1))\n",
    "        # Dimensions: [3, m, n]\n",
    "        new_img = rgb.reshape(rgb.shape[0]*rgb.shape[1], rgb.shape[2])\n",
    "\n",
    "        # Create the SCATTER() plot \n",
    "        ax.scatter(xs,ys,function, facecolors=new_img);\n",
    "    \n",
    "class Test:\n",
    "    def __init__(self):\n",
    "        pass\n",
    "    \n",
    "    @staticmethod\n",
    "    def plot(startX, endX, startY, endY,num, func):\n",
    "        xs = np.linspace(startX, endX,num=num,axis=0)\n",
    "        ys = np.linspace(startY, endY,num=num,axis=0)\n",
    "\n",
    "        output=np.array([[x, y] for x in xs for y in ys])\n",
    "        function=np.array([func(p[0], p[1]) for p in output])\n",
    "\n",
    "        fig = plt.figure()\n",
    "        ax = plt.axes(projection='3d')\n",
    "\n",
    "        function.shape = (function.size//len(xs), len(xs))\n",
    "\n",
    "        ls = LightSource(azdeg=0, altdeg=65)\n",
    "        rgb = ls.shade(function, plt.cm.RdYlBu)\n",
    "\n",
    "        function.shape=(len(xs)*len(ys),)\n",
    "\n",
    "        new_img = rgb.transpose((2, 0, 1))\n",
    "        # Dimensions: [3, m, n]\n",
    "        new_img = rgb.reshape(rgb.shape[0]*rgb.shape[1], rgb.shape[2])\n",
    "\n",
    "        # Create the SCATTER() plot \n",
    "        ax.scatter(output[:,0],output[:,1],function, facecolors=new_img);\n",
    "        \n",
    "    @staticmethod\n",
    "    def erf_solution(x, y):\n",
    "        return 1/(4*np.pi*eps)*(1/(np.sqrt(x**2+y**2)))*scipy.special.erf(np.sqrt(x**2+y**2)/np.sqrt(2*a**2))"
   ]
  },
  {
   "cell_type": "code",
   "execution_count": 76,
   "id": "ced754ff",
   "metadata": {},
   "outputs": [],
   "source": [
    "eps=1\n",
    "\n",
    "minX=-1\n",
    "maxX=1\n",
    "minY=-1\n",
    "maxY=1\n",
    "\n",
    "N=10\n",
    "M=10\n",
    "sigma=1\n",
    "\n",
    "\n",
    "def boundaryCondition(x, y):\n",
    "    return 0\n",
    "\n",
    "def electronDensity(x, y):\n",
    "    return (1/np.sqrt(2*np.pi*sigma**2))**3*(np.exp((-(x**2+y**2))/(2*sigma**2)))\n",
    "\n",
    "#self, N, M, minX, maxX, minY, maxY, electronDensity, eps, boundaryCondition\n",
    "finiteElement=FEM(N, M,minX, maxX, minY, maxY, electronDensity, eps, boundaryCondition)"
   ]
  },
  {
   "cell_type": "code",
   "execution_count": 55,
   "id": "a27304f6",
   "metadata": {},
   "outputs": [
    {
     "data": {
      "image/png": "[encoded data removed]",
      "text/plain": [
       "<Figure size 432x288 with 1 Axes>"
      ]
     },
     "metadata": {
      "needs_background": "light"
     },
     "output_type": "display_data"
    }
   ],
   "source": [
    "finiteElement.graphResults()"
   ]
  },
  {
   "cell_type": "code",
   "execution_count": 67,
   "id": "193e0b94",
   "metadata": {},
   "outputs": [
    {
     "name": "stdout",
     "output_type": "stream",
     "text": [
      "         13247752 function calls (13225324 primitive calls) in 14.694 seconds\n",
      "\n",
      "   Ordered by: standard name\n",
      "\n",
      "   ncalls  tottime  percall  cumtime  percall filename:lineno(function)\n",
      "  1032087    3.029    0.000    3.029    0.000 1226877424.py:16(electronDensity)\n",
      "  1032087    1.113    0.000   14.088    0.000 2174232556.py:112(integrand)\n",
      "       81    0.001    0.000   14.695    0.181 2174232556.py:115(getIntegral)\n",
      "     5607    0.001    0.000    0.001    0.000 2174232556.py:121(<lambda>)\n",
      "        1    0.000    0.000   14.695   14.695 2174232556.py:123(constructBVector)\n",
      "   604769    0.903    0.000    0.903    0.000 2174232556.py:14(area)\n",
      "   604769    0.961    0.000    0.961    0.000 2174232556.py:18(area_pt)\n",
      "   604850    0.157    0.000    0.157    0.000 2174232556.py:2(__init__)\n",
      "  4128348    5.009    0.000    5.009    0.000 2174232556.py:23(is_in)\n",
      "  4128348    1.668    0.000    8.698    0.000 2174232556.py:30(evaluate)\n",
      "  1032087    1.248    0.000    9.946    0.000 2174232556.py:79(evaluate)\n",
      "        1    0.000    0.000   14.695   14.695 <string>:1(<module>)\n",
      "  5688/81    0.005    0.000   14.692    0.181 quadpack.py:445(_quad)\n",
      "  5688/81    0.012    0.000   14.692    0.181 quadpack.py:49(quad)\n",
      "       81    0.000    0.000   14.694    0.181 quadpack.py:530(dblquad)\n",
      "     5607    0.008    0.000    0.011    0.000 quadpack.py:597(temp_ranges)\n",
      "       81    0.001    0.000   14.694    0.181 quadpack.py:694(nquad)\n",
      "       81    0.000    0.000    0.000    0.000 quadpack.py:815(<listcomp>)\n",
      "       81    0.000    0.000    0.000    0.000 quadpack.py:829(__init__)\n",
      "       81    0.000    0.000    0.000    0.000 quadpack.py:832(__call__)\n",
      "       81    0.000    0.000    0.000    0.000 quadpack.py:842(__init__)\n",
      "     5688    0.001    0.000    0.001    0.000 quadpack.py:845(__call__)\n",
      "       81    0.000    0.000    0.000    0.000 quadpack.py:851(__init__)\n",
      "  5688/81    0.029    0.000   14.693    0.181 quadpack.py:861(integrate)\n",
      "       41    0.000    0.000    0.000    0.000 {built-in method _warnings.warn}\n",
      "    11376    0.001    0.000    0.001    0.000 {built-in method builtins.callable}\n",
      "        1    0.000    0.000   14.695   14.695 {built-in method builtins.exec}\n",
      "     5769    0.001    0.000    0.001    0.000 {built-in method builtins.isinstance}\n",
      "      162    0.000    0.000    0.000    0.000 {built-in method builtins.len}\n",
      "    11376    0.004    0.000    0.004    0.000 {built-in method builtins.max}\n",
      "     5688    0.002    0.000    0.002    0.000 {built-in method builtins.min}\n",
      "        1    0.000    0.000    0.000    0.000 {built-in method numpy.zeros}\n",
      "  5688/81    0.538    0.000   14.692    0.181 {built-in method scipy.integrate._quadpack._qagse}\n",
      "        1    0.000    0.000    0.000    0.000 {method 'disable' of '_lsprof.Profiler' objects}\n",
      "     5688    0.001    0.000    0.001    0.000 {method 'pop' of 'dict' objects}\n",
      "\n",
      "\n"
     ]
    }
   ],
   "source": [
    "cProfile.run('finiteElement.constructBVector()');"
   ]
  },
  {
   "cell_type": "code",
   "execution_count": 66,
   "id": "866410be",
   "metadata": {},
   "outputs": [
    {
     "name": "stdout",
     "output_type": "stream",
     "text": [
      "         254539 function calls (254119 primitive calls) in 0.296 seconds\n",
      "\n",
      "   Ordered by: standard name\n",
      "\n",
      "   ncalls  tottime  percall  cumtime  percall filename:lineno(function)\n",
      "    19677    0.060    0.000    0.060    0.000 1226877424.py:16(electronDensity)\n",
      "    19677    0.023    0.000    0.283    0.000 2174232556.py:112(integrand)\n",
      "        1    0.000    0.000    0.296    0.296 2174232556.py:115(getIntegral)\n",
      "      105    0.000    0.000    0.000    0.000 2174232556.py:121(<lambda>)\n",
      "    12198    0.019    0.000    0.019    0.000 2174232556.py:14(area)\n",
      "    12198    0.020    0.000    0.020    0.000 2174232556.py:18(area_pt)\n",
      "    12199    0.003    0.000    0.003    0.000 2174232556.py:2(__init__)\n",
      "    78708    0.099    0.000    0.099    0.000 2174232556.py:23(is_in)\n",
      "    78708    0.033    0.000    0.175    0.000 2174232556.py:30(evaluate)\n",
      "    19677    0.024    0.000    0.200    0.000 2174232556.py:79(evaluate)\n",
      "        1    0.000    0.000    0.296    0.296 <string>:1(<module>)\n",
      "    106/1    0.000    0.000    0.296    0.296 quadpack.py:445(_quad)\n",
      "    106/1    0.000    0.000    0.296    0.296 quadpack.py:49(quad)\n",
      "        1    0.000    0.000    0.296    0.296 quadpack.py:530(dblquad)\n",
      "      105    0.000    0.000    0.000    0.000 quadpack.py:597(temp_ranges)\n",
      "        1    0.000    0.000    0.296    0.296 quadpack.py:694(nquad)\n",
      "        1    0.000    0.000    0.000    0.000 quadpack.py:815(<listcomp>)\n",
      "        1    0.000    0.000    0.000    0.000 quadpack.py:829(__init__)\n",
      "        1    0.000    0.000    0.000    0.000 quadpack.py:832(__call__)\n",
      "        1    0.000    0.000    0.000    0.000 quadpack.py:842(__init__)\n",
      "      106    0.000    0.000    0.000    0.000 quadpack.py:845(__call__)\n",
      "        1    0.000    0.000    0.000    0.000 quadpack.py:851(__init__)\n",
      "    106/1    0.001    0.000    0.296    0.296 quadpack.py:861(integrate)\n",
      "        1    0.000    0.000    0.000    0.000 {built-in method _warnings.warn}\n",
      "      212    0.000    0.000    0.000    0.000 {built-in method builtins.callable}\n",
      "        1    0.000    0.000    0.296    0.296 {built-in method builtins.exec}\n",
      "      107    0.000    0.000    0.000    0.000 {built-in method builtins.isinstance}\n",
      "        2    0.000    0.000    0.000    0.000 {built-in method builtins.len}\n",
      "      212    0.000    0.000    0.000    0.000 {built-in method builtins.max}\n",
      "      106    0.000    0.000    0.000    0.000 {built-in method builtins.min}\n",
      "    106/1    0.011    0.000    0.296    0.296 {built-in method scipy.integrate._quadpack._qagse}\n",
      "        1    0.000    0.000    0.000    0.000 {method 'disable' of '_lsprof.Profiler' objects}\n",
      "      106    0.000    0.000    0.000    0.000 {method 'pop' of 'dict' objects}\n",
      "\n",
      "\n"
     ]
    }
   ],
   "source": [
    "cProfile.run('finiteElement.getIntegral(Point(5, 5))')"
   ]
  },
  {
   "cell_type": "code",
   "execution_count": 469,
   "id": "1a498128",
   "metadata": {},
   "outputs": [
    {
     "data": {
      "image/png": "[encoded data removed]",
      "text/plain": [
       "<Figure size 432x288 with 1 Axes>"
      ]
     },
     "metadata": {
      "needs_background": "light"
     },
     "output_type": "display_data"
    }
   ],
   "source": [
    "Test.plot(-2, 2, -2, 2, 50, electronDensity)"
   ]
  },
  {
   "cell_type": "code",
   "execution_count": 7,
   "id": "b9ecbde1",
   "metadata": {},
   "outputs": [
    {
     "ename": "NameError",
     "evalue": "name 'fin' is not defined",
     "output_type": "error",
     "traceback": [
      "\u001b[0;31m---------------------------------------------------------------------------\u001b[0m",
      "\u001b[0;31mNameError\u001b[0m                                 Traceback (most recent call last)",
      "\u001b[0;32m/var/folders/w9/rpt2vk6943b30y910f1djt500000gq/T/ipykernel_10173/365575298.py\u001b[0m in \u001b[0;36m<module>\u001b[0;34m\u001b[0m\n\u001b[0;32m----> 1\u001b[0;31m \u001b[0mTest\u001b[0m\u001b[0;34m.\u001b[0m\u001b[0mplot\u001b[0m\u001b[0;34m(\u001b[0m\u001b[0;36m0\u001b[0m\u001b[0;34m,\u001b[0m\u001b[0;36m2\u001b[0m\u001b[0;34m,\u001b[0m\u001b[0;34m-\u001b[0m\u001b[0;36m2\u001b[0m\u001b[0;34m,\u001b[0m\u001b[0;36m0\u001b[0m\u001b[0;34m,\u001b[0m\u001b[0;36m50\u001b[0m\u001b[0;34m,\u001b[0m\u001b[0mfin\u001b[0m\u001b[0;34m.\u001b[0m\u001b[0mevaluate\u001b[0m\u001b[0;34m)\u001b[0m\u001b[0;34m\u001b[0m\u001b[0;34m\u001b[0m\u001b[0m\n\u001b[0m",
      "\u001b[0;31mNameError\u001b[0m: name 'fin' is not defined"
     ]
    }
   ],
   "source": [
    "Test.plot(0,2,-2,0,50,fin.evaluate)"
   ]
  },
  {
   "cell_type": "code",
   "execution_count": 442,
   "id": "d767ae1b",
   "metadata": {},
   "outputs": [],
   "source": []
  },
  {
   "cell_type": "code",
   "execution_count": 451,
   "id": "07e150ed",
   "metadata": {},
   "outputs": [
    {
     "data": {
      "text/plain": [
       "array([[[0.68481796, 0.        , 0.16496235, 1.        ],\n",
       "        [0.75905341, 0.05379805, 0.18212881, 1.        ],\n",
       "        [0.84628762, 0.14192815, 0.20761217, 1.        ],\n",
       "        [0.92329873, 0.27363132, 0.23586449, 1.        ],\n",
       "        [0.95482765, 0.39779499, 0.29295771, 1.        ],\n",
       "        [0.95482765, 0.39779499, 0.29295771, 1.        ],\n",
       "        [0.92329873, 0.27363132, 0.23586449, 1.        ],\n",
       "        [0.84628762, 0.14192815, 0.20761217, 1.        ],\n",
       "        [0.75905341, 0.05379805, 0.18212881, 1.        ],\n",
       "        [0.68481796, 0.        , 0.16496235, 1.        ]],\n",
       "\n",
       "       [[0.73246635, 0.04995992, 0.16913513, 1.        ],\n",
       "        [0.84716872, 0.17687766, 0.19161746, 1.        ],\n",
       "        [0.94752375, 0.45880295, 0.30754923, 1.        ],\n",
       "        [0.98984129, 0.84021039, 0.50778829, 1.        ],\n",
       "        [0.9978578 , 0.93506363, 0.66781057, 1.        ],\n",
       "        [0.9978578 , 0.93506363, 0.66781057, 1.        ],\n",
       "        [0.98984129, 0.84021039, 0.50778829, 1.        ],\n",
       "        [0.94752375, 0.45880295, 0.30754923, 1.        ],\n",
       "        [0.84716872, 0.17687766, 0.19161746, 1.        ],\n",
       "        [0.73246635, 0.04995992, 0.16913513, 1.        ]],\n",
       "\n",
       "       [[0.79237962, 0.11921582, 0.17438862, 1.        ],\n",
       "        [0.93409703, 0.41506196, 0.27822835, 1.        ],\n",
       "        [0.99502678, 0.84924724, 0.57542699, 1.        ],\n",
       "        [0.99960528, 0.98776362, 0.93702146, 1.        ],\n",
       "        [1.        , 1.        , 1.        , 1.        ],\n",
       "        [1.        , 1.        , 1.        , 1.        ],\n",
       "        [0.99960528, 0.98776362, 0.93702146, 1.        ],\n",
       "        [0.99502678, 0.84924724, 0.57542699, 1.        ],\n",
       "        [0.93409703, 0.41506196, 0.27822835, 1.        ],\n",
       "        [0.79237962, 0.11921582, 0.17438862, 1.        ]],\n",
       "\n",
       "       [[0.85396026, 0.20068345, 0.17298495, 1.        ],\n",
       "        [0.97773316, 0.64975761, 0.38770836, 1.        ],\n",
       "        [0.99884529, 0.96420392, 0.81576368, 1.        ],\n",
       "        [0.92529849, 0.96696617, 0.98085539, 1.        ],\n",
       "        [0.78369256, 0.95312728, 0.97394422, 1.        ],\n",
       "        [0.78369256, 0.95312728, 0.97394422, 1.        ],\n",
       "        [0.92529849, 0.96696617, 0.98085539, 1.        ],\n",
       "        [0.99884529, 0.96420392, 0.81576368, 1.        ],\n",
       "        [0.97773316, 0.64975761, 0.38770836, 1.        ],\n",
       "        [0.85396026, 0.20068345, 0.17298495, 1.        ]],\n",
       "\n",
       "       [[0.87541165, 0.25386791, 0.18696204, 1.        ],\n",
       "        [0.98997067, 0.6959818 , 0.41043275, 1.        ],\n",
       "        [0.95572377, 0.98286082, 0.87872164, 1.        ],\n",
       "        [0.53978525, 0.74074967, 0.855887  , 1.        ],\n",
       "        [0.26158331, 0.28827549, 0.73450156, 1.        ],\n",
       "        [0.26158331, 0.28827549, 0.73450156, 1.        ],\n",
       "        [0.53978525, 0.74074967, 0.855887  , 1.        ],\n",
       "        [0.95572377, 0.98286082, 0.87872164, 1.        ],\n",
       "        [0.98997067, 0.6959818 , 0.41043275, 1.        ],\n",
       "        [0.87541165, 0.25386791, 0.18696204, 1.        ]],\n",
       "\n",
       "       [[0.86263396, 0.23071067, 0.16990779, 1.        ],\n",
       "        [0.98756563, 0.62307792, 0.33194983, 1.        ],\n",
       "        [0.93462609, 0.97469397, 0.82093234, 1.        ],\n",
       "        [0.30056023, 0.53244908, 0.74009611, 1.        ],\n",
       "        [0.12782741, 0.14087102, 0.44515205, 1.        ],\n",
       "        [0.12782741, 0.14087102, 0.44515205, 1.        ],\n",
       "        [0.30056023, 0.53244908, 0.74009611, 1.        ],\n",
       "        [0.93462609, 0.97469397, 0.82093234, 1.        ],\n",
       "        [0.98756563, 0.62307792, 0.33194983, 1.        ],\n",
       "        [0.86263396, 0.23071067, 0.16990779, 1.        ]],\n",
       "\n",
       "       [[0.81340127, 0.15801317, 0.13620406, 1.        ],\n",
       "        [0.96144952, 0.39362711, 0.22621881, 1.        ],\n",
       "        [0.99670479, 0.89784844, 0.47424329, 1.        ],\n",
       "        [0.55462937, 0.80305218, 0.88585979, 1.        ],\n",
       "        [0.05665292, 0.32007147, 0.62203888, 1.        ],\n",
       "        [0.05665292, 0.32007147, 0.62203888, 1.        ],\n",
       "        [0.55462937, 0.80305218, 0.88585979, 1.        ],\n",
       "        [0.99670479, 0.89784844, 0.47424329, 1.        ],\n",
       "        [0.96144952, 0.39362711, 0.22621881, 1.        ],\n",
       "        [0.81340127, 0.15801317, 0.13620406, 1.        ]],\n",
       "\n",
       "       [[0.7243197 , 0.09054104, 0.13244322, 1.        ],\n",
       "        [0.87499876, 0.22253419, 0.14917127, 1.        ],\n",
       "        [0.98252708, 0.47034471, 0.16752855, 1.        ],\n",
       "        [0.9959448 , 0.87428874, 0.35298552, 1.        ],\n",
       "        [0.89034987, 0.95755479, 0.69965398, 1.        ],\n",
       "        [0.89034987, 0.95755479, 0.69965398, 1.        ],\n",
       "        [0.9959448 , 0.87428874, 0.35298552, 1.        ],\n",
       "        [0.98252708, 0.47034471, 0.16752855, 1.        ],\n",
       "        [0.87499876, 0.22253419, 0.14917127, 1.        ],\n",
       "        [0.7243197 , 0.09054104, 0.13244322, 1.        ]],\n",
       "\n",
       "       [[0.66401236, 0.04007784, 0.13568017, 1.        ],\n",
       "        [0.74546875, 0.10791828, 0.11691147, 1.        ],\n",
       "        [0.86157204, 0.1787932 , 0.11985039, 1.        ],\n",
       "        [0.94934139, 0.20317433, 0.10613888, 1.        ],\n",
       "        [0.97967851, 0.38399609, 0.07457201, 1.        ],\n",
       "        [0.97967851, 0.38399609, 0.07457201, 1.        ],\n",
       "        [0.94934139, 0.20317433, 0.10613888, 1.        ],\n",
       "        [0.86157204, 0.1787932 , 0.11985039, 1.        ],\n",
       "        [0.74546875, 0.10791828, 0.11691147, 1.        ],\n",
       "        [0.66401236, 0.04007784, 0.13568017, 1.        ]],\n",
       "\n",
       "       [[0.62132444, 0.        , 0.13815398, 1.        ],\n",
       "        [0.6374253 , 0.0362397 , 0.1226865 , 1.        ],\n",
       "        [0.6704117 , 0.06782871, 0.09921967, 1.        ],\n",
       "        [0.7440628 , 0.0850653 , 0.07332452, 1.        ],\n",
       "        [0.78321796, 0.08678359, 0.06391212, 1.        ],\n",
       "        [0.78321796, 0.08678359, 0.06391212, 1.        ],\n",
       "        [0.7440628 , 0.0850653 , 0.07332452, 1.        ],\n",
       "        [0.6704117 , 0.06782871, 0.09921967, 1.        ],\n",
       "        [0.6374253 , 0.0362397 , 0.1226865 , 1.        ],\n",
       "        [0.62132444, 0.        , 0.13815398, 1.        ]]])"
      ]
     },
     "execution_count": 451,
     "metadata": {},
     "output_type": "execute_result"
    }
   ],
   "source": [
    "rgb"
   ]
  },
  {
   "cell_type": "code",
   "execution_count": 447,
   "id": "d80eadbb",
   "metadata": {},
   "outputs": [
    {
     "data": {
      "text/plain": [
       "(10, 10, 4)"
      ]
     },
     "execution_count": 447,
     "metadata": {},
     "output_type": "execute_result"
    }
   ],
   "source": [
    "rgb.shape"
   ]
  },
  {
   "cell_type": "code",
   "execution_count": 457,
   "id": "5d7cfc51",
   "metadata": {},
   "outputs": [],
   "source": [
    "new_img = rgb.transpose((2, 0, 1))\n",
    "# Dimensions: [3, m, n]\n",
    "new_img = rgb.reshape(rgb.shape[0]*rgb.shape[1], rgb.shape[2])\n"
   ]
  },
  {
   "cell_type": "code",
   "execution_count": 458,
   "id": "3747ed33",
   "metadata": {},
   "outputs": [
    {
     "data": {
      "text/plain": [
       "array([[0.68481796, 0.        , 0.16496235, 1.        ],\n",
       "       [0.75905341, 0.05379805, 0.18212881, 1.        ],\n",
       "       [0.84628762, 0.14192815, 0.20761217, 1.        ],\n",
       "       [0.92329873, 0.27363132, 0.23586449, 1.        ],\n",
       "       [0.95482765, 0.39779499, 0.29295771, 1.        ],\n",
       "       [0.95482765, 0.39779499, 0.29295771, 1.        ],\n",
       "       [0.92329873, 0.27363132, 0.23586449, 1.        ],\n",
       "       [0.84628762, 0.14192815, 0.20761217, 1.        ],\n",
       "       [0.75905341, 0.05379805, 0.18212881, 1.        ],\n",
       "       [0.68481796, 0.        , 0.16496235, 1.        ],\n",
       "       [0.73246635, 0.04995992, 0.16913513, 1.        ],\n",
       "       [0.84716872, 0.17687766, 0.19161746, 1.        ],\n",
       "       [0.94752375, 0.45880295, 0.30754923, 1.        ],\n",
       "       [0.98984129, 0.84021039, 0.50778829, 1.        ],\n",
       "       [0.9978578 , 0.93506363, 0.66781057, 1.        ],\n",
       "       [0.9978578 , 0.93506363, 0.66781057, 1.        ],\n",
       "       [0.98984129, 0.84021039, 0.50778829, 1.        ],\n",
       "       [0.94752375, 0.45880295, 0.30754923, 1.        ],\n",
       "       [0.84716872, 0.17687766, 0.19161746, 1.        ],\n",
       "       [0.73246635, 0.04995992, 0.16913513, 1.        ],\n",
       "       [0.79237962, 0.11921582, 0.17438862, 1.        ],\n",
       "       [0.93409703, 0.41506196, 0.27822835, 1.        ],\n",
       "       [0.99502678, 0.84924724, 0.57542699, 1.        ],\n",
       "       [0.99960528, 0.98776362, 0.93702146, 1.        ],\n",
       "       [1.        , 1.        , 1.        , 1.        ],\n",
       "       [1.        , 1.        , 1.        , 1.        ],\n",
       "       [0.99960528, 0.98776362, 0.93702146, 1.        ],\n",
       "       [0.99502678, 0.84924724, 0.57542699, 1.        ],\n",
       "       [0.93409703, 0.41506196, 0.27822835, 1.        ],\n",
       "       [0.79237962, 0.11921582, 0.17438862, 1.        ],\n",
       "       [0.85396026, 0.20068345, 0.17298495, 1.        ],\n",
       "       [0.97773316, 0.64975761, 0.38770836, 1.        ],\n",
       "       [0.99884529, 0.96420392, 0.81576368, 1.        ],\n",
       "       [0.92529849, 0.96696617, 0.98085539, 1.        ],\n",
       "       [0.78369256, 0.95312728, 0.97394422, 1.        ],\n",
       "       [0.78369256, 0.95312728, 0.97394422, 1.        ],\n",
       "       [0.92529849, 0.96696617, 0.98085539, 1.        ],\n",
       "       [0.99884529, 0.96420392, 0.81576368, 1.        ],\n",
       "       [0.97773316, 0.64975761, 0.38770836, 1.        ],\n",
       "       [0.85396026, 0.20068345, 0.17298495, 1.        ],\n",
       "       [0.87541165, 0.25386791, 0.18696204, 1.        ],\n",
       "       [0.98997067, 0.6959818 , 0.41043275, 1.        ],\n",
       "       [0.95572377, 0.98286082, 0.87872164, 1.        ],\n",
       "       [0.53978525, 0.74074967, 0.855887  , 1.        ],\n",
       "       [0.26158331, 0.28827549, 0.73450156, 1.        ],\n",
       "       [0.26158331, 0.28827549, 0.73450156, 1.        ],\n",
       "       [0.53978525, 0.74074967, 0.855887  , 1.        ],\n",
       "       [0.95572377, 0.98286082, 0.87872164, 1.        ],\n",
       "       [0.98997067, 0.6959818 , 0.41043275, 1.        ],\n",
       "       [0.87541165, 0.25386791, 0.18696204, 1.        ],\n",
       "       [0.86263396, 0.23071067, 0.16990779, 1.        ],\n",
       "       [0.98756563, 0.62307792, 0.33194983, 1.        ],\n",
       "       [0.93462609, 0.97469397, 0.82093234, 1.        ],\n",
       "       [0.30056023, 0.53244908, 0.74009611, 1.        ],\n",
       "       [0.12782741, 0.14087102, 0.44515205, 1.        ],\n",
       "       [0.12782741, 0.14087102, 0.44515205, 1.        ],\n",
       "       [0.30056023, 0.53244908, 0.74009611, 1.        ],\n",
       "       [0.93462609, 0.97469397, 0.82093234, 1.        ],\n",
       "       [0.98756563, 0.62307792, 0.33194983, 1.        ],\n",
       "       [0.86263396, 0.23071067, 0.16990779, 1.        ],\n",
       "       [0.81340127, 0.15801317, 0.13620406, 1.        ],\n",
       "       [0.96144952, 0.39362711, 0.22621881, 1.        ],\n",
       "       [0.99670479, 0.89784844, 0.47424329, 1.        ],\n",
       "       [0.55462937, 0.80305218, 0.88585979, 1.        ],\n",
       "       [0.05665292, 0.32007147, 0.62203888, 1.        ],\n",
       "       [0.05665292, 0.32007147, 0.62203888, 1.        ],\n",
       "       [0.55462937, 0.80305218, 0.88585979, 1.        ],\n",
       "       [0.99670479, 0.89784844, 0.47424329, 1.        ],\n",
       "       [0.96144952, 0.39362711, 0.22621881, 1.        ],\n",
       "       [0.81340127, 0.15801317, 0.13620406, 1.        ],\n",
       "       [0.7243197 , 0.09054104, 0.13244322, 1.        ],\n",
       "       [0.87499876, 0.22253419, 0.14917127, 1.        ],\n",
       "       [0.98252708, 0.47034471, 0.16752855, 1.        ],\n",
       "       [0.9959448 , 0.87428874, 0.35298552, 1.        ],\n",
       "       [0.89034987, 0.95755479, 0.69965398, 1.        ],\n",
       "       [0.89034987, 0.95755479, 0.69965398, 1.        ],\n",
       "       [0.9959448 , 0.87428874, 0.35298552, 1.        ],\n",
       "       [0.98252708, 0.47034471, 0.16752855, 1.        ],\n",
       "       [0.87499876, 0.22253419, 0.14917127, 1.        ],\n",
       "       [0.7243197 , 0.09054104, 0.13244322, 1.        ],\n",
       "       [0.66401236, 0.04007784, 0.13568017, 1.        ],\n",
       "       [0.74546875, 0.10791828, 0.11691147, 1.        ],\n",
       "       [0.86157204, 0.1787932 , 0.11985039, 1.        ],\n",
       "       [0.94934139, 0.20317433, 0.10613888, 1.        ],\n",
       "       [0.97967851, 0.38399609, 0.07457201, 1.        ],\n",
       "       [0.97967851, 0.38399609, 0.07457201, 1.        ],\n",
       "       [0.94934139, 0.20317433, 0.10613888, 1.        ],\n",
       "       [0.86157204, 0.1787932 , 0.11985039, 1.        ],\n",
       "       [0.74546875, 0.10791828, 0.11691147, 1.        ],\n",
       "       [0.66401236, 0.04007784, 0.13568017, 1.        ],\n",
       "       [0.62132444, 0.        , 0.13815398, 1.        ],\n",
       "       [0.6374253 , 0.0362397 , 0.1226865 , 1.        ],\n",
       "       [0.6704117 , 0.06782871, 0.09921967, 1.        ],\n",
       "       [0.7440628 , 0.0850653 , 0.07332452, 1.        ],\n",
       "       [0.78321796, 0.08678359, 0.06391212, 1.        ],\n",
       "       [0.78321796, 0.08678359, 0.06391212, 1.        ],\n",
       "       [0.7440628 , 0.0850653 , 0.07332452, 1.        ],\n",
       "       [0.6704117 , 0.06782871, 0.09921967, 1.        ],\n",
       "       [0.6374253 , 0.0362397 , 0.1226865 , 1.        ],\n",
       "       [0.62132444, 0.        , 0.13815398, 1.        ]])"
      ]
     },
     "execution_count": 458,
     "metadata": {},
     "output_type": "execute_result"
    }
   ],
   "source": [
    "new_img"
   ]
  },
  {
   "cell_type": "code",
   "execution_count": 88,
   "id": "6c116cbc",
   "metadata": {},
   "outputs": [],
   "source": [
    "fin=FiniteElement(0, 0, 1, 1)"
   ]
  },
  {
   "cell_type": "code",
   "execution_count": 89,
   "id": "881da1d2",
   "metadata": {},
   "outputs": [
    {
     "data": {
      "image/png": "[encoded data removed]",
      "text/plain": [
       "<Figure size 432x288 with 1 Axes>"
      ]
     },
     "metadata": {
      "needs_background": "light"
     },
     "output_type": "display_data"
    }
   ],
   "source": [
    "Test.plot(0, 2, -2, 0,100,fin.evaluate)"
   ]
  },
  {
   "cell_type": "code",
   "execution_count": 83,
   "id": "837a20d3",
   "metadata": {},
   "outputs": [
    {
     "data": {
      "text/plain": [
       "4.0"
      ]
     },
     "execution_count": 83,
     "metadata": {},
     "output_type": "execute_result"
    }
   ],
   "source": [
    "fin.evaluate(1,-1)"
   ]
  },
  {
   "cell_type": "code",
   "execution_count": 26,
   "id": "bd1f6672",
   "metadata": {},
   "outputs": [
    {
     "data": {
      "text/plain": [
       "0.6666666498972109"
      ]
     },
     "execution_count": 26,
     "metadata": {},
     "output_type": "execute_result"
    }
   ],
   "source": [
    "integrate.dblquad(fin.evaluate, -2, 0,lambda x: 0, lambda x: 2)[0]"
   ]
  },
  {
   "cell_type": "code",
   "execution_count": 573,
   "id": "2eb604c8",
   "metadata": {},
   "outputs": [
    {
     "data": {
      "text/plain": [
       "0"
      ]
     },
     "execution_count": 573,
     "metadata": {},
     "output_type": "execute_result"
    }
   ],
   "source": [
    "fin.evaluate(1.8,-1.8)"
   ]
  },
  {
   "cell_type": "code",
   "execution_count": 607,
   "id": "0f370b33",
   "metadata": {},
   "outputs": [
    {
     "data": {
      "text/plain": [
       "0.090866060540632"
      ]
     },
     "execution_count": 607,
     "metadata": {},
     "output_type": "execute_result"
    }
   ],
   "source": [
    "integrate.dblquad(electronDensity, -2, 0,lambda x: 0, lambda x: 2,epsabs=1e-8)[0]"
   ]
  },
  {
   "cell_type": "code",
   "execution_count": null,
   "id": "87bca308",
   "metadata": {},
   "outputs": [],
   "source": [
    "Test.plot(0, 0.4, -0.4, 0,100,finiteElement.finiteElements[5, 5].evaluate)\n",
    "Test.plot(0, 0.4, -0.4, 0,100,electronDensity)"
   ]
  },
  {
   "cell_type": "code",
   "execution_count": 13,
   "id": "4e674387",
   "metadata": {},
   "outputs": [],
   "source": [
    "def lol(x, y):\n",
    "    return electronDensity(x, y)*fin.evaluate(x, y)"
   ]
  },
  {
   "cell_type": "code",
   "execution_count": 636,
   "id": "13bbee5a",
   "metadata": {},
   "outputs": [],
   "source": [
    "test=[(integrate.dblquad(lol, -2, 0,lambda x: 0, lambda x: 2,epsabs=1e-8*10**i)[0]) for i in range(0, 7)]"
   ]
  },
  {
   "cell_type": "code",
   "execution_count": 637,
   "id": "1dcd6634",
   "metadata": {},
   "outputs": [
    {
     "data": {
      "text/plain": [
       "[0.0016191353028300304,\n",
       " 0.0016191286222514505,\n",
       " 0.0016191289772780834,\n",
       " 0.00161919315870105,\n",
       " 0.0016219522329523855,\n",
       " 0.001613626045322107,\n",
       " 0.0015999807360674192]"
      ]
     },
     "execution_count": 637,
     "metadata": {},
     "output_type": "execute_result"
    }
   ],
   "source": [
    "test"
   ]
  },
  {
   "cell_type": "code",
   "execution_count": 640,
   "id": "fc670089",
   "metadata": {},
   "outputs": [
    {
     "data": {
      "text/plain": [
       "0.0001"
      ]
     },
     "execution_count": 640,
     "metadata": {},
     "output_type": "execute_result"
    }
   ],
   "source": [
    "1e-8*10**4"
   ]
  },
  {
   "cell_type": "code",
   "execution_count": 29,
   "id": "6dbf20fb",
   "metadata": {},
   "outputs": [
    {
     "name": "stdout",
     "output_type": "stream",
     "text": [
      "         473690 function calls (473438 primitive calls) in 0.569 seconds\n",
      "\n",
      "   Ordered by: standard name\n",
      "\n",
      "   ncalls  tottime  percall  cumtime  percall filename:lineno(function)\n",
      "    38073    0.113    0.000    0.113    0.000 1226877424.py:16(electronDensity)\n",
      "    38073    0.027    0.000    0.546    0.000 2234026894.py:1(lol)\n",
      "    17993    0.071    0.000    0.071    0.000 74039619.py:14(area)\n",
      "    17993    0.031    0.000    0.031    0.000 74039619.py:18(area_pt)\n",
      "    17993    0.005    0.000    0.005    0.000 74039619.py:2(__init__)\n",
      "   152292    0.192    0.000    0.192    0.000 74039619.py:23(is_in)\n",
      "   152292    0.061    0.000    0.361    0.000 74039619.py:35(evaluate)\n",
      "    38073    0.045    0.000    0.406    0.000 74039619.py:84(evaluate)\n",
      "       63    0.000    0.000    0.000    0.000 <string>:1(<lambda>)\n",
      "        1    0.000    0.000    0.569    0.569 <string>:1(<module>)\n",
      "     64/1    0.000    0.000    0.568    0.568 quadpack.py:445(_quad)\n",
      "     64/1    0.000    0.000    0.568    0.568 quadpack.py:49(quad)\n",
      "        1    0.000    0.000    0.569    0.569 quadpack.py:530(dblquad)\n",
      "       63    0.000    0.000    0.000    0.000 quadpack.py:597(temp_ranges)\n",
      "        1    0.000    0.000    0.569    0.569 quadpack.py:694(nquad)\n",
      "        1    0.000    0.000    0.000    0.000 quadpack.py:815(<listcomp>)\n",
      "        1    0.000    0.000    0.000    0.000 quadpack.py:829(__init__)\n",
      "        1    0.000    0.000    0.000    0.000 quadpack.py:832(__call__)\n",
      "        1    0.000    0.000    0.000    0.000 quadpack.py:842(__init__)\n",
      "       64    0.000    0.000    0.000    0.000 quadpack.py:845(__call__)\n",
      "        1    0.000    0.000    0.000    0.000 quadpack.py:851(__init__)\n",
      "     64/1    0.001    0.000    0.569    0.569 quadpack.py:861(integrate)\n",
      "        1    0.000    0.000    0.000    0.000 {built-in method _warnings.warn}\n",
      "      128    0.000    0.000    0.000    0.000 {built-in method builtins.callable}\n",
      "        1    0.000    0.000    0.569    0.569 {built-in method builtins.exec}\n",
      "       65    0.000    0.000    0.000    0.000 {built-in method builtins.isinstance}\n",
      "        2    0.000    0.000    0.000    0.000 {built-in method builtins.len}\n",
      "      128    0.000    0.000    0.000    0.000 {built-in method builtins.max}\n",
      "       64    0.000    0.000    0.000    0.000 {built-in method builtins.min}\n",
      "     64/1    0.021    0.000    0.568    0.568 {built-in method scipy.integrate._quadpack._qagse}\n",
      "        1    0.000    0.000    0.000    0.000 {method 'disable' of '_lsprof.Profiler' objects}\n",
      "       64    0.000    0.000    0.000    0.000 {method 'pop' of 'dict' objects}\n",
      "\n",
      "\n"
     ]
    }
   ],
   "source": [
    "cProfile.run('integrate.dblquad(lol, -2, 0,lambda x: 0, lambda x: 2)[0]')"
   ]
  },
  {
   "cell_type": "code",
   "execution_count": 622,
   "id": "6cb7a930",
   "metadata": {},
   "outputs": [
    {
     "data": {
      "text/plain": [
       "0.0016219522329523855"
      ]
     },
     "execution_count": 622,
     "metadata": {},
     "output_type": "execute_result"
    }
   ],
   "source": [
    "integrate.dblquad(lol, -2, 0,lambda x: 0, lambda x: 2,epsabs=1e-4)[0]"
   ]
  },
  {
   "cell_type": "code",
   "execution_count": 36,
   "id": "579008c2",
   "metadata": {},
   "outputs": [],
   "source": [
    "def integrand(x, y):\n",
    "    return (1/finiteElement.eps)*finiteElement.electronDensity(x,y)*finiteElement.finiteElements[5, 5].evaluate(x, y)"
   ]
  },
  {
   "cell_type": "code",
   "execution_count": 40,
   "id": "cfd1145b",
   "metadata": {},
   "outputs": [
    {
     "data": {
      "text/plain": [
       "0.00161919315870105"
      ]
     },
     "execution_count": 40,
     "metadata": {},
     "output_type": "execute_result"
    }
   ],
   "source": [
    "integrate.dblquad(integrand, -2, 0,lambda x: 0, lambda x: 2,epsabs=1e-5)[0]"
   ]
  },
  {
   "cell_type": "code",
   "execution_count": null,
   "id": "211cca6e",
   "metadata": {},
   "outputs": [],
   "source": [
    "0.0016191281781632982"
   ]
  }
 ],
 "metadata": {
  "kernelspec": {
   "display_name": "Python 3 (ipykernel)",
   "language": "python",
   "name": "python3"
  },
  "language_info": {
   "codemirror_mode": {
    "name": "ipython",
    "version": 3
   },
   "file_extension": ".py",
   "mimetype": "text/x-python",
   "name": "python",
   "nbconvert_exporter": "python",
   "pygments_lexer": "ipython3",
   "version": "3.9.12"
  }
 },
 "nbformat": 4,
 "nbformat_minor": 5
}
