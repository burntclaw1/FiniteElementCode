{
 "cells": [
  {
   "cell_type": "code",
   "execution_count": 4,
   "id": "364d40e9",
   "metadata": {},
   "outputs": [],
   "source": [
    "%matplotlib inline\n",
    "\n",
    "import numpy as np\n",
    "import matplotlib.pyplot as plt\n",
    "import scipy\n",
    "import scipy.integrate as integrate\n",
    "import numpy.linalg as linalg\n",
    "from multipledispatch import dispatch"
   ]
  },
  {
   "cell_type": "code",
   "execution_count": 368,
   "id": "2fccd588",
   "metadata": {},
   "outputs": [],
   "source": [
    "class Point:\n",
    "    def __init__(self, x, y):\n",
    "        self.x=x\n",
    "        self.y=y\n",
    "        \n",
    "class Triangle:\n",
    "    #p_3 is the \"tip\" i.e. point in the middle of element, p_1 and p_2 are the other two verticies. doesnt matter which order\n",
    "    def __init__(self, p_1, p_2, p_3):\n",
    "        self.p1=p_1\n",
    "        self.p2=p_2\n",
    "        self.p3=p_3\n",
    "        \n",
    "    '''area of this triangle'''\n",
    "    def area(self):\n",
    "        return 0.5*np.abs((self.p1.x*self.p2.y+self.p3.x*self.p1.y+self.p2.x*self.p3.y-self.p1.y*self.p2.x-self.p2.y*self.p3.x-self.p3.y*self.p1.x))\n",
    "    \n",
    "    '''finds the area given the point p3 as the new vertex'''\n",
    "    def area_pt(self,p3):\n",
    "        return 0.5*np.abs((self.p1.x*self.p2.y+p3.x*self.p1.y+self.p2.x*p3.y-self.p1.y*self.p2.x-self.p2.y*p3.x-p3.y*self.p1.x))\n",
    "    \n",
    "    '''defines if the point x y is in the triangle. if not then returns false otherwise true'''\n",
    "    '''source: https://stackoverflow.com/questions/2049582/how-to-determine-if-a-point-is-in-a-2d-triangle'''\n",
    "    def is_in(self,x, y):\n",
    "        Area= 0.5 *(-self.p2.y*self.p3.x + self.p1.y*(-self.p2.x + self.p3.x) + self.p1.x*(self.p2.y - self.p3.y) + self.p2.x*self.p3.y)\n",
    "        s = 1/(2*Area)*(self.p1.y*self.p3.x - self.p1.x*self.p3.y + (self.p3.y - self.p1.y)*x + (self.p1.x - self.p3.x)*y);\n",
    "        t = 1/(2*Area)*(self.p1.x*self.p2.y - self.p1.y*self.p2.x + (self.p1.y - self.p2.y)*x + (self.p2.x - self.p1.x)*y);\n",
    "        return 0<=s and t>=0 and 1-s-t>=0\n",
    "    \n",
    "    def evaluate(self,x, y):\n",
    "        return self.area_pt(Point(x, y))/self.area() if self.is_in(x, y) else 0\n",
    "    \n",
    "    \n",
    "class FiniteElement:\n",
    "    #top left corner\n",
    "    def __init__(self, x, y, deltaX, deltaY):\n",
    "        self.deltaX=deltaX\n",
    "        self.deltaY=deltaY\n",
    "        \n",
    "        p1=Point(x, y)\n",
    "        p2=Point(x+deltaX, y)\n",
    "        p3=Point(x+2*deltaX, y)\n",
    "        \n",
    "        p4=Point(x, y-deltaY)\n",
    "        center=Point(x+deltaX, y-deltaY)\n",
    "        p5=Point(x+2*deltaX, y-deltaY)\n",
    "        \n",
    "        p6=Point(x, y-2*deltaY)\n",
    "        p7=Point(x+deltaX, y-2*deltaY)\n",
    "        p8=Point(x+2*deltaX, y-2*deltaY)\n",
    "        \n",
    "        #top left\n",
    "        self.tri_tl=Triangle(p2,p4,center)\n",
    "        \n",
    "        #top right\n",
    "        self.tri_tr=Triangle(p2,p5,center)\n",
    "        \n",
    "        #bottom left\n",
    "        self.tri_bl=Triangle(p4, p7, center)\n",
    "        \n",
    "        #bottom right\n",
    "        self.tri_br=Triangle(p5,p7,center)\n",
    "        \n",
    "        self.top_left_x=x\n",
    "        self.top_left_y=y\n",
    "        \n",
    "    def in_region_1(self, x, y):\n",
    "        return x<self.top_left_x+self.deltaX and y>=self.top_left_y-self.deltaY\n",
    "    \n",
    "    def in_region_2(self,x, y):\n",
    "        return x>=self.top_left_x+self.deltaX and y>=self.top_left_y-self.deltaY\n",
    "    \n",
    "    def in_region_3(self,x, y):\n",
    "        return x<self.top_left_x+self.deltaX and y<self.top_left_y-self.deltaY\n",
    "    \n",
    "    def in_region_4(self,x, y):\n",
    "        return x>=self.top_left_x+self.deltaX and y<self.top_left_y-self.deltaY\n",
    "    \n",
    "    def evaluate(self,x, y):\n",
    "        if(self.in_region_1(x, y)):\n",
    "            return self.tri_tl.evaluate(x, y);\n",
    "        elif(self.in_region_2(x, y)):\n",
    "            return self.tri_tr.evaluate(x, y);\n",
    "        elif(self.in_region_3(x, y)):\n",
    "            return self.tri_bl.evaluate(x, y);\n",
    "        elif(self.in_region_4(x, y)):\n",
    "            return self.tri_br.evaluate(x, y);\n",
    "        else:\n",
    "            return 0\n",
    "    \n",
    "\n",
    "class FEM:\n",
    "    def __init__(self, N, M, minX, maxX, minY, maxY, electronDensity, eps, boundaryCondition):\n",
    "        self.N=N\n",
    "        self.M=M\n",
    "        self.minX=minX\n",
    "        self.maxX=maxX\n",
    "        self.minY=minY\n",
    "        self.maxY=maxY\n",
    "        self.deltaX=(maxX-minX)/N\n",
    "        self.deltaY=(maxY-minY)/M\n",
    "        #function\n",
    "        self.electronDensity=electronDensity\n",
    "        self.finiteElements=self.generateFiniteElements();\n",
    "        self.eps=eps\n",
    "        self.boundaryCondition=boundaryCondition\n",
    "        \n",
    "    def generateFiniteElements(self):\n",
    "        finiteElements=np.ndarray(shape=(M,N), dtype=FiniteElement)\n",
    "        for m in range(M):\n",
    "            #ignore the last row\n",
    "            for n in range(N):\n",
    "                finiteElements[m, n]=FiniteElement(self.minX+n*self.deltaX, self.minY+n*self.deltaY, self.deltaX, self.deltaY)\n",
    "        return finiteElements\n",
    "    \n",
    "    #p1 gives the indicies\n",
    "    def integrand(self,x, y, p1):\n",
    "        return (1/self.eps)*self.electronDensity(x,y)*self.finiteElements[p1.x, p1.y].evaluate(x, y)\n",
    "\n",
    "    def getIntegral(self,p1):\n",
    "        temp=self.finiteElements[p1.x, p1.y]\n",
    "        minX=temp.top_left_x\n",
    "        maxX=minX+self.deltaX*2\n",
    "        maxY=temp.top_left_y\n",
    "        minY=maxY-2*self.deltaY\n",
    "        return integrate.dblquad(self.integrand, minX, maxX,lambda x: minY, lambda x: maxY, args=[p1])[0]\n",
    "\n",
    "    def constructBVector(self):\n",
    "        temp=np.zeros((self.N-1)*(self.M-1))\n",
    "        for r in range(self.M-1):\n",
    "            for c in range(self.N-1):\n",
    "                temp[c+r*c]=self.getIntegral(Point(r,c))\n",
    "        return temp;\n",
    "                \n",
    "    def area(self):\n",
    "        return self.deltaX*self.deltaY/2\n",
    "    \n",
    "    def generateFlagged(self):\n",
    "        flaggedIndicies1=np.array([self.get1DIndex(0,x) for x in range(self.N+1)]);\n",
    "        flaggedIndicies2=np.array([self.get1DIndex(y,0) for y in range(self.M+1)]);\n",
    "        flaggedIndicies3=np.array([self.get1DIndex(self.M,x) for x in range(self.N+1)])\n",
    "        flaggedIndicies4=np.array([self.get1DIndex(y,self.N) for y in range(self.M+1)]);\n",
    "        flagged=np.concatenate((flaggedIndicies1,flaggedIndicies2,flaggedIndicies3,flaggedIndicies4))\n",
    "        return flagged\n",
    "    \n",
    "    def constructMatrix(self):\n",
    "        temp=np.zeros(((self.N+1)*(self.M+1),(self.N+1)*(self.M+1)));\n",
    "        flagged=self.generateFlagged()\n",
    "        for m in range(self.M+1):\n",
    "            for n in range(self.N+1):\n",
    "                currRow=m*(self.N+1)+n\n",
    "                index1=self.get1DIndex(m, n-1);\n",
    "                index2=self.get1DIndex(n,m+1)\n",
    "                index3=self.get1DIndex(n+1,m)\n",
    "                index4=self.get1DIndex(n,m-1)\n",
    "                index5=self.get1DIndex(n, m)\n",
    "                if(index1 in range((self.N+1)*(self.M+1))):\n",
    "                    temp[currRow,index1]=2*(-1/(self.deltaX)**2+1/self.deltaY**2)\n",
    "                if(index2 in range((self.N+1)*(self.M+1))):\n",
    "                    temp[currRow,index2]=2*(1/(self.deltaX)**2-1/self.deltaY**2)\n",
    "                if(index3 in range((self.N+1)*(self.M+1))):\n",
    "                    temp[currRow,index3]=2*(-1/(self.deltaX)**2+1/self.deltaY**2)\n",
    "                if(index4 in range((self.N+1)*(self.M+1))):\n",
    "                    temp[currRow,index4]=2*(1/(self.deltaX)**2-1/self.deltaY**2)\n",
    "                if(index5 in range((self.N+1)*(self.M+1))):\n",
    "                    temp[currRow,index5]=4*(1/(self.deltaX)**2+1/self.deltaY**2)\n",
    "        temp=np.delete(temp, flagged, axis=1)\n",
    "        temp=np.delete(temp, flagged, axis=0)\n",
    "        return temp\n",
    "\n",
    "    def solveSystem(self):\n",
    "        b=self.constructBVector();\n",
    "        M=self.constructMatrix();\n",
    "        sols=linalg.solve(M, b);\n",
    "        return self.extractSols(sols);\n",
    "                \n",
    "    def getPoint(self,m, n):\n",
    "        return Point(self.minX+n*self.deltaX, self.minY-m*self.deltaY)\n",
    "    \n",
    "    #from 2d to 1d\n",
    "    def get1DIndex(self,m, n):\n",
    "        return (self.N+1)*m+n\n",
    "    \n",
    "    #in entire matrix\n",
    "    def get2Dindex(self,i):\n",
    "        return (i//(self.N+1), i%(self.N+1));\n",
    "                \n",
    "    def fillBoundary(self,temp):\n",
    "        for i in range(np.shape(temp)[0]):\n",
    "            pt=self.getPoint(i,0)\n",
    "            pt1=self.getPoint(i, np.shape(temp)[1]-1)\n",
    "            temp[i,0]=self.boundaryCondition(pt.x, pt.y)\n",
    "            temp[i,np.shape(temp)[1]-1]=self.boundaryCondition(pt1.x, pt1.y)\n",
    "        for i in range(np.shape(temp)[1]):\n",
    "            pt=self.getPoint(0,i)\n",
    "            pt1=self.getPoint(np.shape(temp)[1]-1, i)\n",
    "            temp[0,i]=self.boundaryCondition(pt.x, pt.y)\n",
    "            temp[np.shape(temp)[1]-1, i]=self.boundaryCondition(pt1.x, pt1.y)\n",
    "        return temp\n",
    "    \n",
    "    def extractSols(self,sols):\n",
    "        temp=np.zeros((self.M+1, self.N+1));\n",
    "        for i in range(len(sols)):\n",
    "            row=i//(self.N-1)+1\n",
    "            col=i%(self.M-1)+1\n",
    "            temp[row, col]=sols[i]\n",
    "        temp=self.fillBoundary(temp);\n",
    "        return temp;\n",
    "    \n",
    "    def graphResults(self):\n",
    "        pass"
   ]
  },
  {
   "cell_type": "code",
   "execution_count": 373,
   "id": "ced754ff",
   "metadata": {},
   "outputs": [],
   "source": [
    "eps=1\n",
    "\n",
    "minX=0\n",
    "maxX=1\n",
    "minY=0\n",
    "maxY=1\n",
    "\n",
    "N=10\n",
    "M=10\n",
    "\n",
    "\n",
    "def boundaryCondition(x, y):\n",
    "    return 0\n",
    "\n",
    "def electronDensity(x, y):\n",
    "    return (1/np.sqrt(2*np.pi*sigma**2))**3*(np.exp((-(x**2+y**2)**2)/(2*sigma**2)))\n",
    "\n",
    "\n",
    "#self, N, M, minX, maxX, minY, maxY, electronDensity, eps, boundaryCondition\n",
    "finiteElement=FEM(N, M,minX, maxX, minY, maxY, electronDensity, eps, boundaryCondition)"
   ]
  },
  {
   "cell_type": "code",
   "execution_count": 370,
   "id": "77aa4605",
   "metadata": {},
   "outputs": [],
   "source": [
    "#x, y, deltaX, deltaY\n",
    "#self, x, y, deltaX, deltaY\n",
    "M=finiteElement.constructMatrix()\n",
    "b=finiteElement.constructBVector()"
   ]
  },
  {
   "cell_type": "code",
   "execution_count": 372,
   "id": "e52626d3",
   "metadata": {},
   "outputs": [
    {
     "data": {
      "text/plain": [
       "(11, 11)"
      ]
     },
     "execution_count": 372,
     "metadata": {},
     "output_type": "execute_result"
    }
   ],
   "source": [
    "np.shape(finiteElement.solveSystem())"
   ]
  },
  {
   "cell_type": "code",
   "execution_count": 361,
   "id": "b3d2f5a7",
   "metadata": {},
   "outputs": [
    {
     "data": {
      "text/plain": [
       "(81,)"
      ]
     },
     "execution_count": 361,
     "metadata": {},
     "output_type": "execute_result"
    }
   ],
   "source": [
    "np.shape(b)"
   ]
  },
  {
   "cell_type": "code",
   "execution_count": 321,
   "id": "1db704db",
   "metadata": {},
   "outputs": [
    {
     "data": {
      "text/plain": [
       "False"
      ]
     },
     "execution_count": 321,
     "metadata": {},
     "output_type": "execute_result"
    }
   ],
   "source": [
    "1 in range(1)"
   ]
  },
  {
   "cell_type": "code",
   "execution_count": 278,
   "id": "a0e80640",
   "metadata": {},
   "outputs": [
    {
     "data": {
      "text/plain": [
       "1.0"
      ]
     },
     "execution_count": 278,
     "metadata": {},
     "output_type": "execute_result"
    }
   ],
   "source": [
    "fin.evaluate(1,-1)"
   ]
  },
  {
   "cell_type": "code",
   "execution_count": 279,
   "id": "92975499",
   "metadata": {},
   "outputs": [
    {
     "data": {
      "text/plain": [
       "-1"
      ]
     },
     "execution_count": 279,
     "metadata": {},
     "output_type": "execute_result"
    }
   ],
   "source": [
    "fin.tri_tl.p2.y"
   ]
  },
  {
   "cell_type": "code",
   "execution_count": 280,
   "id": "64897d5e",
   "metadata": {},
   "outputs": [],
   "source": [
    "def plot(startX, endX, startY, endY,num):\n",
    "    xs = np.linspace(startX, endX,num=num,axis=0)\n",
    "    ys = np.linspace(startY, endY,num=num,axis=0)\n",
    "\n",
    "    output=np.array([[x, y] for x in xs for y in ys])\n",
    "    function=[fin.evaluate(p[0], p[1]) for p in output]\n",
    "    fig = plt.figure()\n",
    "    ax = plt.axes(projection='3d')\n",
    "    \n",
    "    # Create the SCATTER() plot \n",
    "    ax.scatter(output[:,0],output[:,1],function);\n",
    "\n",
    "    ax.scatter(0,-1,0,c=\"orange\")\n",
    "    ax.scatter(1,-1,1,c=\"orange\")\n",
    "    ax.scatter(1,0,0,c=\"orange\")"
   ]
  },
  {
   "cell_type": "code",
   "execution_count": 282,
   "id": "ad1e82df",
   "metadata": {},
   "outputs": [
    {
     "data": {
      "image/png": "[encoded data removed]",
      "text/plain": [
       "<Figure size 432x288 with 1 Axes>"
      ]
     },
     "metadata": {
      "needs_background": "light"
     },
     "output_type": "display_data"
    }
   ],
   "source": [
    "plot(0,2,-2,0,50)"
   ]
  },
  {
   "cell_type": "code",
   "execution_count": 112,
   "id": "fa206f3a",
   "metadata": {},
   "outputs": [
    {
     "name": "stdout",
     "output_type": "stream",
     "text": [
      "1 ,  0\n",
      "0 ,  -1\n",
      "1 ,  -1\n"
     ]
    }
   ],
   "source": [
    "print(fin.tri_tl.p1.x,\", \",fin.tri_tl.p1.y)\n",
    "print(fin.tri_tl.p2.x,\", \",fin.tri_tl.p2.y)\n",
    "print(fin.tri_tl.p3.x,\", \",fin.tri_tl.p3.y)"
   ]
  },
  {
   "cell_type": "code",
   "execution_count": 254,
   "id": "779ee680",
   "metadata": {},
   "outputs": [
    {
     "name": "stdout",
     "output_type": "stream",
     "text": [
      "ugh\n"
     ]
    },
    {
     "data": {
      "text/plain": [
       "0"
      ]
     },
     "execution_count": 254,
     "metadata": {},
     "output_type": "execute_result"
    }
   ],
   "source": [
    "fin.tri_br.evaluate(1,-1)"
   ]
  },
  {
   "cell_type": "code",
   "execution_count": 255,
   "id": "35029d1d",
   "metadata": {},
   "outputs": [
    {
     "name": "stdout",
     "output_type": "stream",
     "text": [
      "ugh\n"
     ]
    },
    {
     "data": {
      "text/plain": [
       "0"
      ]
     },
     "execution_count": 255,
     "metadata": {},
     "output_type": "execute_result"
    }
   ],
   "source": [
    "fin.evaluate(1,-0.5)"
   ]
  },
  {
   "cell_type": "code",
   "execution_count": 115,
   "id": "8c5412ae",
   "metadata": {},
   "outputs": [
    {
     "data": {
      "text/plain": [
       "<mpl_toolkits.mplot3d.art3d.Path3DCollection at 0x1279cc370>"
      ]
     },
     "execution_count": 115,
     "metadata": {},
     "output_type": "execute_result"
    },
    {
     "data": {
      "image/png": "[encoded data removed]",
      "text/plain": [
       "<Figure size 432x288 with 1 Axes>"
      ]
     },
     "metadata": {
      "needs_background": "light"
     },
     "output_type": "display_data"
    }
   ],
   "source": []
  },
  {
   "cell_type": "code",
   "execution_count": 218,
   "id": "9d56c2e5",
   "metadata": {},
   "outputs": [
    {
     "name": "stdout",
     "output_type": "stream",
     "text": [
      "0.0\n"
     ]
    }
   ],
   "source": [
    "print(fin.tri_tr.area())"
   ]
  },
  {
   "cell_type": "code",
   "execution_count": 260,
   "id": "9fa1daf3",
   "metadata": {},
   "outputs": [
    {
     "name": "stdout",
     "output_type": "stream",
     "text": [
      "2 -1\n",
      "1 -2\n",
      "1 -1\n"
     ]
    }
   ],
   "source": [
    "print(fin.tri_br.p1.x,fin.tri_br.p1.y)\n",
    "print(fin.tri_br.p2.x,fin.tri_br.p2.y)\n",
    "print(fin.tri_br.p3.x,fin.tri_br.p3.y)"
   ]
  },
  {
   "cell_type": "code",
   "execution_count": 265,
   "id": "28dc0b71",
   "metadata": {},
   "outputs": [
    {
     "name": "stdout",
     "output_type": "stream",
     "text": [
      "s 0.5\n",
      "t -2.0\n"
     ]
    },
    {
     "data": {
      "text/plain": [
       "False"
      ]
     },
     "execution_count": 265,
     "metadata": {},
     "output_type": "execute_result"
    }
   ],
   "source": [
    "fin.tri_br.is_in(0.5,-0.5)"
   ]
  },
  {
   "cell_type": "code",
   "execution_count": 266,
   "id": "2c5b3c9a",
   "metadata": {},
   "outputs": [
    {
     "name": "stdout",
     "output_type": "stream",
     "text": [
      "s 0.5\n",
      "t 0.0\n"
     ]
    },
    {
     "data": {
      "text/plain": [
       "True"
      ]
     },
     "execution_count": 266,
     "metadata": {},
     "output_type": "execute_result"
    }
   ],
   "source": [
    "fin.tri_tl.is_in(0.5,-0.5)"
   ]
  },
  {
   "cell_type": "code",
   "execution_count": 237,
   "id": "a6156195",
   "metadata": {},
   "outputs": [
    {
     "name": "stdout",
     "output_type": "stream",
     "text": [
      "0.5\n"
     ]
    }
   ],
   "source": [
    "print(fin.tri_br.area())"
   ]
  },
  {
   "cell_type": "code",
   "execution_count": 222,
   "id": "f58ca2a3",
   "metadata": {},
   "outputs": [
    {
     "ename": "NameError",
     "evalue": "name 'self' is not defined",
     "output_type": "error",
     "traceback": [
      "\u001b[0;31m---------------------------------------------------------------------------\u001b[0m",
      "\u001b[0;31mNameError\u001b[0m                                 Traceback (most recent call last)",
      "\u001b[0;32m/var/folders/w9/rpt2vk6943b30y910f1djt500000gq/T/ipykernel_2411/3833589487.py\u001b[0m in \u001b[0;36m<module>\u001b[0;34m\u001b[0m\n\u001b[0;32m----> 1\u001b[0;31m \u001b[0;34m(\u001b[0m\u001b[0;36m0.5\u001b[0m\u001b[0;34m)\u001b[0m\u001b[0;34m*\u001b[0m\u001b[0mnp\u001b[0m\u001b[0;34m.\u001b[0m\u001b[0mabs\u001b[0m\u001b[0;34m(\u001b[0m\u001b[0;36m1\u001b[0m\u001b[0;34m*\u001b[0m\u001b[0;34m(\u001b[0m\u001b[0;36m0\u001b[0m\u001b[0;34m-\u001b[0m\u001b[0;34m-\u001b[0m\u001b[0;36m1\u001b[0m\u001b[0;34m)\u001b[0m\u001b[0;34m+\u001b[0m\u001b[0;36m2\u001b[0m\u001b[0;34m*\u001b[0m\u001b[0;34m(\u001b[0m\u001b[0;34m-\u001b[0m\u001b[0;36m1\u001b[0m\u001b[0;34m-\u001b[0m\u001b[0;36m0\u001b[0m\u001b[0;34m)\u001b[0m\u001b[0;34m+\u001b[0m\u001b[0mself\u001b[0m\u001b[0;34m.\u001b[0m\u001b[0mp3\u001b[0m\u001b[0;34m.\u001b[0m\u001b[0mx\u001b[0m\u001b[0;34m*\u001b[0m\u001b[0;34m(\u001b[0m\u001b[0mself\u001b[0m\u001b[0;34m.\u001b[0m\u001b[0mp1\u001b[0m\u001b[0;34m.\u001b[0m\u001b[0my\u001b[0m\u001b[0;34m-\u001b[0m\u001b[0mself\u001b[0m\u001b[0;34m.\u001b[0m\u001b[0mp2\u001b[0m\u001b[0;34m.\u001b[0m\u001b[0my\u001b[0m\u001b[0;34m)\u001b[0m\u001b[0;34m)\u001b[0m\u001b[0;34m\u001b[0m\u001b[0;34m\u001b[0m\u001b[0m\n\u001b[0m",
      "\u001b[0;31mNameError\u001b[0m: name 'self' is not defined"
     ]
    }
   ],
   "source": [
    "(0.5)*np.abs(1*(0--1)+2*(-1-0)+self.p3.x*(self.p1.y-self.p2.y))"
   ]
  },
  {
   "cell_type": "code",
   "execution_count": null,
   "id": "237121a8",
   "metadata": {},
   "outputs": [],
   "source": []
  }
 ],
 "metadata": {
  "kernelspec": {
   "display_name": "Python 3 (ipykernel)",
   "language": "python",
   "name": "python3"
  },
  "language_info": {
   "codemirror_mode": {
    "name": "ipython",
    "version": 3
   },
   "file_extension": ".py",
   "mimetype": "text/x-python",
   "name": "python",
   "nbconvert_exporter": "python",
   "pygments_lexer": "ipython3",
   "version": "3.9.12"
  }
 },
 "nbformat": 4,
 "nbformat_minor": 5
}
