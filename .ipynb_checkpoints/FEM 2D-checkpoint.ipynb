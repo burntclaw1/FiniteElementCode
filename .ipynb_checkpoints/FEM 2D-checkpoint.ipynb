{
 "cells": [
  {
   "cell_type": "code",
   "execution_count": 2,
   "id": "364d40e9",
   "metadata": {},
   "outputs": [],
   "source": [
    "%matplotlib inline\n",
    "\n",
    "import numpy as np\n",
    "import matplotlib.pyplot as plt\n",
    "import scipy\n",
    "import scipy.integrate as integrate\n",
    "import numpy.linalg as linalg\n",
    "from multipledispatch import dispatch\n",
    "import time\n",
    "\n",
    "import cProfile\n",
    "from matplotlib.colors import LightSource\n",
    "import timeit\n",
    "\n",
    "#scipy sims"
   ]
  },
  {
   "cell_type": "code",
   "execution_count": 3,
   "id": "2fccd588",
   "metadata": {},
   "outputs": [],
   "source": [
    "class Point:\n",
    "    def __init__(self, x, y):\n",
    "        self.x=x\n",
    "        self.y=y\n",
    "        \n",
    "class Triangle:\n",
    "    #p_3 is the \"tip\" i.e. point in the middle of element, p_1 and p_2 are the other two verticies. doesnt matter which order\n",
    "    def __init__(self, p_1, p_2, p_3):\n",
    "        self.p1=p_1\n",
    "        self.p2=p_2\n",
    "        self.p3=p_3\n",
    "        \n",
    "    '''area of this triangle'''\n",
    "    def area(self):\n",
    "        return 0.5*np.abs((self.p1.x*self.p2.y+self.p3.x*self.p1.y+self.p2.x*self.p3.y-self.p1.y*self.p2.x-self.p2.y*self.p3.x-self.p3.y*self.p1.x))\n",
    "    \n",
    "    '''finds the area given the point p3 as the new vertex'''\n",
    "    def area_pt(self,p3):\n",
    "        return 0.5*np.abs((self.p1.x*self.p2.y+p3.x*self.p1.y+self.p2.x*p3.y-self.p1.y*self.p2.x-self.p2.y*p3.x-p3.y*self.p1.x))\n",
    "    \n",
    "    '''defines if the point x y is in the triangle. if not then returns false otherwise true'''\n",
    "    '''source: https://stackoverflow.com/questions/2049582/how-to-determine-if-a-point-is-in-a-2d-triangle'''\n",
    "    def is_in(self,x, y):\n",
    "        p2y=self.p2.y\n",
    "        p2x=self.p2.x\n",
    "        p3x=self.p3.x\n",
    "        p3y=self.p3.y\n",
    "        p1x=self.p1.x\n",
    "        p1y=self.p1.y\n",
    "        Area= 0.5 *(-self.p2.y*x + self.p1.y*(-self.p2.x + self.p3.x) + self.p1.x*(self.p2.y - self.p3.y) + self.p2.x*self.p3.y)\n",
    "        s = 1/(2*Area)*(self.p1.y*self.p3.x - self.p1.x*self.p3.y + (self.p3.y - self.p1.y)*x + (self.p1.x - self.p3.x)*y);\n",
    "        t = 1/(2*Area)*(self.p1.x*self.p2.y - self.p1.y*self.p2.x + (self.p1.y - self.p2.y)*x + (self.p2.x - self.p1.x)*y);\n",
    "        return 0<=s and t>=0 and 1-s-t>=0\n",
    "    \n",
    "    def evaluate(self,x, y):\n",
    "        return self.area_pt(Point(x, y))/self.area() if self.is_in(x, y) else 0\n",
    "    \n",
    "    \n",
    "class FiniteElement:\n",
    "    #top left corner\n",
    "    def __init__(self, x, y, deltaX, deltaY):\n",
    "        self.deltaX=deltaX\n",
    "        self.deltaY=deltaY\n",
    "        \n",
    "        p1=Point(x, y)\n",
    "        p2=Point(x+deltaX, y)\n",
    "        p3=Point(x+2*deltaX, y)\n",
    "        \n",
    "        p4=Point(x, y-deltaY)\n",
    "        center=Point(x+deltaX, y-deltaY)\n",
    "        p5=Point(x+2*deltaX, y-deltaY)\n",
    "        \n",
    "        p6=Point(x, y-2*deltaY)\n",
    "        p7=Point(x+deltaX, y-2*deltaY)\n",
    "        p8=Point(x+2*deltaX, y-2*deltaY)\n",
    "        \n",
    "        #top left\n",
    "        self.tri_tl=Triangle(p2,p4,center)\n",
    "        \n",
    "        #top right\n",
    "        self.tri_tr=Triangle(p2,p5,center)\n",
    "        \n",
    "        #bottom left\n",
    "        self.tri_bl=Triangle(p4, p7, center)\n",
    "        \n",
    "        #bottom right\n",
    "        self.tri_br=Triangle(p5,p7,center)\n",
    "        \n",
    "        self.top_left_x=x\n",
    "        self.top_left_y=y\n",
    "        \n",
    "    def in_region_1(self, x, y):\n",
    "        return x<self.top_left_x+self.deltaX and y>=self.top_left_y-self.deltaY\n",
    "    \n",
    "    def in_region_2(self,x, y):\n",
    "        return x>=self.top_left_x+self.deltaX and y>=self.top_left_y-self.deltaY\n",
    "    \n",
    "    def in_region_3(self,x, y):\n",
    "        return x<self.top_left_x+self.deltaX and y<self.top_left_y-self.deltaY\n",
    "    \n",
    "    def in_region_4(self,x, y):\n",
    "        return x>=self.top_left_x+self.deltaX and y<self.top_left_y-self.deltaY\n",
    "    \n",
    "    def evaluate(self, x, y):\n",
    "        temp=self.tri_tl.evaluate(x, y)\n",
    "        temp1=self.tri_tr.evaluate(x, y)\n",
    "        temp2=self.tri_bl.evaluate(x, y)\n",
    "        temp3=self.tri_br.evaluate(x, y)\n",
    "        return temp+temp1+temp2+temp3\n",
    "    \n",
    "class FEM:\n",
    "    def __init__(self, N, M, minX, maxX, minY, maxY, electronDensity, eps, boundaryCondition):\n",
    "        self.N=N\n",
    "        self.M=M\n",
    "        self.minX=minX\n",
    "        self.maxX=maxX\n",
    "        self.minY=minY\n",
    "        self.maxY=maxY\n",
    "        self.deltaX=(maxX-minX)/N\n",
    "        self.deltaY=(maxY-minY)/M\n",
    "        #function\n",
    "        self.electronDensity=electronDensity\n",
    "        self.finiteElements=self.generateFiniteElements();\n",
    "        self.eps=eps\n",
    "        self.boundaryCondition=boundaryCondition\n",
    "        \n",
    "        #does not generate the boundary finite elements!\n",
    "    def generateFiniteElements(self):\n",
    "        finiteElements=np.ndarray(shape=(self.M-1,self.N-1), dtype=FiniteElement)\n",
    "        for m in range(self.M-1):\n",
    "            #ignore the last row\n",
    "            for n in range(self.N-1):\n",
    "                finiteElements[m, n]=FiniteElement(self.minX+n*self.deltaX, self.maxY-m*self.deltaY, self.deltaX, self.deltaY)\n",
    "        return finiteElements\n",
    "    \n",
    "    #p1 gives the indicies\n",
    "    def integrand(self,x, y, p1):\n",
    "        return (1/self.eps)*self.electronDensity(x,y)*self.finiteElements[p1.x, p1.y].evaluate(x, y)\n",
    "\n",
    "    def getIntegral(self,p1):\n",
    "        temp=self.finiteElements[p1.x, p1.y]\n",
    "        minX=temp.top_left_x\n",
    "        maxX=minX+self.deltaX*2\n",
    "        maxY=temp.top_left_y\n",
    "        minY=maxY-2*self.deltaY\n",
    "        return integrate.dblquad(self.integrand, minY, maxY, lambda x: minX, lambda x: maxX, args=[p1])[0]\n",
    "\n",
    "    def constructBVector(self):\n",
    "        temp=np.zeros((self.N-1)*(self.M-1))\n",
    "        for r in range(self.M-1):\n",
    "            for c in range(self.N-1):\n",
    "                temp[c+r*c]=self.getIntegral(Point(r,c))\n",
    "                print(c+r*c)\n",
    "        return temp;\n",
    "                \n",
    "    def area(self):\n",
    "        return self.deltaX*self.deltaY/2\n",
    "    \n",
    "    def generateFlagged(self):\n",
    "        flaggedIndicies1=np.array([self.get1DIndex(0,x) for x in range(self.N+1)]);\n",
    "        flaggedIndicies2=np.array([self.get1DIndex(y,0) for y in range(self.M+1)]);\n",
    "        flaggedIndicies3=np.array([self.get1DIndex(self.M,x) for x in range(self.N+1)])\n",
    "        flaggedIndicies4=np.array([self.get1DIndex(y,self.N) for y in range(self.M+1)]);\n",
    "        flagged=np.concatenate((flaggedIndicies1,flaggedIndicies2,flaggedIndicies3,flaggedIndicies4))\n",
    "        return flagged\n",
    "    \n",
    "    def constructMatrix(self):\n",
    "        temp=np.zeros(((self.N+1)*(self.M+1),(self.N+1)*(self.M+1)));\n",
    "        flagged=self.generateFlagged()\n",
    "        for m in range(self.M+1):\n",
    "            for n in range(self.N+1):\n",
    "                currRow=m*(self.N+1)+n\n",
    "                index1=self.get1DIndex(m, n-1);\n",
    "                index2=self.get1DIndex(n,m+1)\n",
    "                index3=self.get1DIndex(n+1,m)\n",
    "                index4=self.get1DIndex(n,m-1)\n",
    "                index5=self.get1DIndex(n, m)\n",
    "                #print(\"row, \", currRow)\n",
    "                if(index1 in range((self.N+1)*(self.M+1))):\n",
    "                    temp[currRow,index1]=2*(-1/(self.deltaX)**2+1/self.deltaY**2)\n",
    "                if(index2 in range((self.N+1)*(self.M+1))):\n",
    "                    temp[currRow,index2]=2*(1/(self.deltaX)**2-1/self.deltaY**2)\n",
    "                if(index3 in range((self.N+1)*(self.M+1))):\n",
    "                    temp[currRow,index3]=2*(-1/(self.deltaX)**2+1/self.deltaY**2)\n",
    "                if(index4 in range((self.N+1)*(self.M+1))):\n",
    "                    temp[currRow,index4]=2*(1/(self.deltaX)**2-1/self.deltaY**2)\n",
    "                if(index5 in range((self.N+1)*(self.M+1))):\n",
    "                    temp[currRow,index5]=4*(1/(self.deltaX)**2+1/self.deltaY**2)\n",
    "        temp=np.delete(temp, flagged, axis=1)\n",
    "        temp=np.delete(temp, flagged, axis=0)\n",
    "        return temp*self.deltaX*self.deltaY/2\n",
    "\n",
    "    def solveSystem(self):\n",
    "        b=self.constructBVector();\n",
    "        M=self.constructMatrix();\n",
    "        sols=linalg.solve(M, b);\n",
    "        return self.extractSols(sols);\n",
    "                \n",
    "    def getPoint(self,m, n):\n",
    "        return Point(self.minX+n*self.deltaX, self.minY-m*self.deltaY)\n",
    "    \n",
    "    #from 2d to 1d\n",
    "    def get1DIndex(self,m, n):\n",
    "        return (self.N+1)*m+n\n",
    "    \n",
    "    #in entire matrix\n",
    "    def get2Dindex(self,i):\n",
    "        return (i//(self.N+1), i%(self.N+1));\n",
    "                \n",
    "    def fillBoundary(self,temp):\n",
    "        for i in range(np.shape(temp)[0]):\n",
    "            pt=self.getPoint(i,0)\n",
    "            pt1=self.getPoint(i, np.shape(temp)[1]-1)\n",
    "            temp[i,0]=self.boundaryCondition(pt.x, pt.y)\n",
    "            temp[i,np.shape(temp)[1]-1]=self.boundaryCondition(pt1.x, pt1.y)\n",
    "        for i in range(np.shape(temp)[1]):\n",
    "            pt=self.getPoint(0,i)\n",
    "            pt1=self.getPoint(np.shape(temp)[1]-1, i)\n",
    "            temp[0,i]=self.boundaryCondition(pt.x, pt.y)\n",
    "            temp[np.shape(temp)[1]-1, i]=self.boundaryCondition(pt1.x, pt1.y)\n",
    "        return temp\n",
    "    \n",
    "    def extractSols(self,sols):\n",
    "        temp=np.zeros((self.M+1, self.N+1));\n",
    "        for i in range(len(sols)):\n",
    "            row=i//(self.N-1)+1\n",
    "            col=i%(self.M-1)+1\n",
    "            temp[row, col]=sols[i]\n",
    "        temp=self.fillBoundary(temp);\n",
    "        return temp;\n",
    "    \n",
    "    def graphResults(self):\n",
    "        pass\n",
    "    \n",
    "class Test:\n",
    "    def __init__(self):\n",
    "        pass\n",
    "    \n",
    "    @staticmethod\n",
    "    def plot(startX, endX, startY, endY,num, func):\n",
    "        xs = np.linspace(startX, endX,num=num,axis=0)\n",
    "        ys = np.linspace(startY, endY,num=num,axis=0)\n",
    "\n",
    "        output=np.array([[x, y] for x in xs for y in ys])\n",
    "        function=np.array([func(p[0], p[1]) for p in output])\n",
    "\n",
    "        fig = plt.figure()\n",
    "        ax = plt.axes(projection='3d')\n",
    "\n",
    "        function.shape = (function.size//len(xs), len(xs))\n",
    "\n",
    "        ls = LightSource(azdeg=0, altdeg=65)\n",
    "        rgb = ls.shade(function, plt.cm.RdYlBu)\n",
    "\n",
    "        function.shape=(len(xs)*len(ys),)\n",
    "\n",
    "        new_img = rgb.transpose((2, 0, 1))\n",
    "        # Dimensions: [3, m, n]\n",
    "        new_img = rgb.reshape(rgb.shape[0]*rgb.shape[1], rgb.shape[2])\n",
    "\n",
    "        # Create the SCATTER() plot \n",
    "        ax.scatter(output[:,0],output[:,1],function, facecolors=new_img);"
   ]
  },
  {
   "cell_type": "code",
   "execution_count": 4,
   "id": "ced754ff",
   "metadata": {},
   "outputs": [],
   "source": [
    "eps=1\n",
    "\n",
    "minX=-1\n",
    "maxX=1\n",
    "minY=-1\n",
    "maxY=1\n",
    "\n",
    "N=10\n",
    "M=10\n",
    "sigma=1\n",
    "\n",
    "\n",
    "def boundaryCondition(x, y):\n",
    "    return 0\n",
    "\n",
    "def electronDensity(x, y):\n",
    "    return (1/np.sqrt(2*np.pi*sigma**2))**3*(np.exp((-(x**2+y**2))/(2*sigma**2)))\n",
    "\n",
    "#self, N, M, minX, maxX, minY, maxY, electronDensity, eps, boundaryCondition\n",
    "finiteElement=FEM(N, M,minX, maxX, minY, maxY, electronDensity, eps, boundaryCondition)"
   ]
  },
  {
   "cell_type": "code",
   "execution_count": null,
   "id": "a27304f6",
   "metadata": {},
   "outputs": [],
   "source": []
  },
  {
   "cell_type": "code",
   "execution_count": 12,
   "id": "866410be",
   "metadata": {},
   "outputs": [
    {
     "name": "stdout",
     "output_type": "stream",
     "text": [
      "         5238044 function calls (5229728 primitive calls) in 7.099 seconds\n",
      "\n",
      "   Ordered by: standard name\n",
      "\n",
      "   ncalls  tottime  percall  cumtime  percall filename:lineno(function)\n",
      "   428799    1.234    0.000    1.234    0.000 1226877424.py:16(electronDensity)\n",
      "   428799    0.453    0.000    6.846    0.000 880219933.py:111(integrand)\n",
      "        1    0.000    0.000    7.099    7.099 880219933.py:114(getIntegral)\n",
      "     2079    0.000    0.000    0.000    0.000 880219933.py:120(<lambda>)\n",
      "   164040    0.243    0.000    0.243    0.000 880219933.py:14(area)\n",
      "   164040    0.258    0.000    0.258    0.000 880219933.py:18(area_pt)\n",
      "   164041    0.042    0.000    0.042    0.000 880219933.py:2(__init__)\n",
      "  1715196    3.540    0.000    3.540    0.000 880219933.py:23(is_in)\n",
      "  1715196    0.594    0.000    4.676    0.000 880219933.py:29(evaluate)\n",
      "   428799    0.483    0.000    5.159    0.000 880219933.py:78(evaluate)\n",
      "        1    0.000    0.000    7.099    7.099 <string>:1(<module>)\n",
      "   2080/1    0.002    0.000    7.099    7.099 quadpack.py:445(_quad)\n",
      "   2080/1    0.004    0.000    7.099    7.099 quadpack.py:49(quad)\n",
      "        1    0.000    0.000    7.099    7.099 quadpack.py:530(dblquad)\n",
      "     2079    0.003    0.000    0.004    0.000 quadpack.py:597(temp_ranges)\n",
      "        1    0.000    0.000    7.099    7.099 quadpack.py:694(nquad)\n",
      "        1    0.000    0.000    0.000    0.000 quadpack.py:815(<listcomp>)\n",
      "        1    0.000    0.000    0.000    0.000 quadpack.py:829(__init__)\n",
      "        1    0.000    0.000    0.000    0.000 quadpack.py:832(__call__)\n",
      "        1    0.000    0.000    0.000    0.000 quadpack.py:842(__init__)\n",
      "     2080    0.001    0.000    0.001    0.000 quadpack.py:845(__call__)\n",
      "        1    0.000    0.000    0.000    0.000 quadpack.py:851(__init__)\n",
      "   2080/1    0.010    0.000    7.099    7.099 quadpack.py:861(integrate)\n",
      "        2    0.000    0.000    0.000    0.000 {built-in method _warnings.warn}\n",
      "     4160    0.000    0.000    0.000    0.000 {built-in method builtins.callable}\n",
      "        1    0.000    0.000    7.099    7.099 {built-in method builtins.exec}\n",
      "     2081    0.000    0.000    0.000    0.000 {built-in method builtins.isinstance}\n",
      "        2    0.000    0.000    0.000    0.000 {built-in method builtins.len}\n",
      "     4160    0.001    0.000    0.001    0.000 {built-in method builtins.max}\n",
      "     2080    0.001    0.000    0.001    0.000 {built-in method builtins.min}\n",
      "   2080/1    0.230    0.000    7.099    7.099 {built-in method scipy.integrate._quadpack._qagse}\n",
      "        1    0.000    0.000    0.000    0.000 {method 'disable' of '_lsprof.Profiler' objects}\n",
      "     2080    0.000    0.000    0.000    0.000 {method 'pop' of 'dict' objects}\n",
      "\n",
      "\n"
     ]
    }
   ],
   "source": [
    "cProfile.run('finiteElement.getIntegral(Point(5, 5))')"
   ]
  },
  {
   "cell_type": "code",
   "execution_count": 520,
   "id": "5af97978",
   "metadata": {},
   "outputs": [
    {
     "ename": "NameError",
     "evalue": "name 'y' is not defined",
     "output_type": "error",
     "traceback": [
      "\u001b[0;31m---------------------------------------------------------------------------\u001b[0m",
      "\u001b[0;31mNameError\u001b[0m                                 Traceback (most recent call last)",
      "\u001b[0;32m/var/folders/w9/rpt2vk6943b30y910f1djt500000gq/T/ipykernel_2411/1249557289.py\u001b[0m in \u001b[0;36m<module>\u001b[0;34m\u001b[0m\n\u001b[1;32m      1\u001b[0m \u001b[0mtopLeftX\u001b[0m\u001b[0;34m=\u001b[0m\u001b[0;34m[\u001b[0m\u001b[0my\u001b[0m \u001b[0;32mfor\u001b[0m \u001b[0my\u001b[0m \u001b[0;32min\u001b[0m \u001b[0mx\u001b[0m \u001b[0;32mfor\u001b[0m \u001b[0mx\u001b[0m \u001b[0;32min\u001b[0m \u001b[0mfiniteElement\u001b[0m\u001b[0;34m.\u001b[0m\u001b[0mfiniteElements\u001b[0m\u001b[0;34m]\u001b[0m\u001b[0;34m\u001b[0m\u001b[0;34m\u001b[0m\u001b[0m\n\u001b[0;32m----> 2\u001b[0;31m \u001b[0mtopLeftY\u001b[0m\u001b[0;34m=\u001b[0m\u001b[0;34m[\u001b[0m\u001b[0my\u001b[0m\u001b[0;34m.\u001b[0m\u001b[0mtop_left_y\u001b[0m \u001b[0;32mfor\u001b[0m \u001b[0mx\u001b[0m \u001b[0;32min\u001b[0m \u001b[0mfiniteElement\u001b[0m\u001b[0;34m.\u001b[0m\u001b[0mfiniteElements\u001b[0m\u001b[0;34m]\u001b[0m\u001b[0;34m\u001b[0m\u001b[0;34m\u001b[0m\u001b[0m\n\u001b[0m",
      "\u001b[0;32m/var/folders/w9/rpt2vk6943b30y910f1djt500000gq/T/ipykernel_2411/1249557289.py\u001b[0m in \u001b[0;36m<listcomp>\u001b[0;34m(.0)\u001b[0m\n\u001b[1;32m      1\u001b[0m \u001b[0mtopLeftX\u001b[0m\u001b[0;34m=\u001b[0m\u001b[0;34m[\u001b[0m\u001b[0my\u001b[0m \u001b[0;32mfor\u001b[0m \u001b[0my\u001b[0m \u001b[0;32min\u001b[0m \u001b[0mx\u001b[0m \u001b[0;32mfor\u001b[0m \u001b[0mx\u001b[0m \u001b[0;32min\u001b[0m \u001b[0mfiniteElement\u001b[0m\u001b[0;34m.\u001b[0m\u001b[0mfiniteElements\u001b[0m\u001b[0;34m]\u001b[0m\u001b[0;34m\u001b[0m\u001b[0;34m\u001b[0m\u001b[0m\n\u001b[0;32m----> 2\u001b[0;31m \u001b[0mtopLeftY\u001b[0m\u001b[0;34m=\u001b[0m\u001b[0;34m[\u001b[0m\u001b[0my\u001b[0m\u001b[0;34m.\u001b[0m\u001b[0mtop_left_y\u001b[0m \u001b[0;32mfor\u001b[0m \u001b[0mx\u001b[0m \u001b[0;32min\u001b[0m \u001b[0mfiniteElement\u001b[0m\u001b[0;34m.\u001b[0m\u001b[0mfiniteElements\u001b[0m\u001b[0;34m]\u001b[0m\u001b[0;34m\u001b[0m\u001b[0;34m\u001b[0m\u001b[0m\n\u001b[0m",
      "\u001b[0;31mNameError\u001b[0m: name 'y' is not defined"
     ]
    }
   ],
   "source": [
    "topLeftY=[y.top_left_y for x in finiteElement.finiteElements]"
   ]
  },
  {
   "cell_type": "code",
   "execution_count": 535,
   "id": "23dd3e30",
   "metadata": {},
   "outputs": [],
   "source": [
    "topLeftX=[y.top_left_x for finiteElementList in finiteElement.finiteElements for y in finiteElementList]\n",
    "topLeftY=[y.top_left_y for finiteElementList in finiteElement.finiteElements for y in finiteElementList]"
   ]
  },
  {
   "cell_type": "code",
   "execution_count": 536,
   "id": "fd4af424",
   "metadata": {},
   "outputs": [
    {
     "data": {
      "text/plain": [
       "[-1.0,\n",
       " -0.8,\n",
       " -0.6,\n",
       " -0.3999999999999999,\n",
       " -0.19999999999999996,\n",
       " 0.0,\n",
       " 0.20000000000000018,\n",
       " 0.40000000000000013,\n",
       " 0.6000000000000001,\n",
       " 0.8,\n",
       " -1.0,\n",
       " -0.8,\n",
       " -0.6,\n",
       " -0.3999999999999999,\n",
       " -0.19999999999999996,\n",
       " 0.0,\n",
       " 0.20000000000000018,\n",
       " 0.40000000000000013,\n",
       " 0.6000000000000001,\n",
       " 0.8,\n",
       " -1.0,\n",
       " -0.8,\n",
       " -0.6,\n",
       " -0.3999999999999999,\n",
       " -0.19999999999999996,\n",
       " 0.0,\n",
       " 0.20000000000000018,\n",
       " 0.40000000000000013,\n",
       " 0.6000000000000001,\n",
       " 0.8,\n",
       " -1.0,\n",
       " -0.8,\n",
       " -0.6,\n",
       " -0.3999999999999999,\n",
       " -0.19999999999999996,\n",
       " 0.0,\n",
       " 0.20000000000000018,\n",
       " 0.40000000000000013,\n",
       " 0.6000000000000001,\n",
       " 0.8,\n",
       " -1.0,\n",
       " -0.8,\n",
       " -0.6,\n",
       " -0.3999999999999999,\n",
       " -0.19999999999999996,\n",
       " 0.0,\n",
       " 0.20000000000000018,\n",
       " 0.40000000000000013,\n",
       " 0.6000000000000001,\n",
       " 0.8,\n",
       " -1.0,\n",
       " -0.8,\n",
       " -0.6,\n",
       " -0.3999999999999999,\n",
       " -0.19999999999999996,\n",
       " 0.0,\n",
       " 0.20000000000000018,\n",
       " 0.40000000000000013,\n",
       " 0.6000000000000001,\n",
       " 0.8,\n",
       " -1.0,\n",
       " -0.8,\n",
       " -0.6,\n",
       " -0.3999999999999999,\n",
       " -0.19999999999999996,\n",
       " 0.0,\n",
       " 0.20000000000000018,\n",
       " 0.40000000000000013,\n",
       " 0.6000000000000001,\n",
       " 0.8,\n",
       " -1.0,\n",
       " -0.8,\n",
       " -0.6,\n",
       " -0.3999999999999999,\n",
       " -0.19999999999999996,\n",
       " 0.0,\n",
       " 0.20000000000000018,\n",
       " 0.40000000000000013,\n",
       " 0.6000000000000001,\n",
       " 0.8,\n",
       " -1.0,\n",
       " -0.8,\n",
       " -0.6,\n",
       " -0.3999999999999999,\n",
       " -0.19999999999999996,\n",
       " 0.0,\n",
       " 0.20000000000000018,\n",
       " 0.40000000000000013,\n",
       " 0.6000000000000001,\n",
       " 0.8,\n",
       " -1.0,\n",
       " -0.8,\n",
       " -0.6,\n",
       " -0.3999999999999999,\n",
       " -0.19999999999999996,\n",
       " 0.0,\n",
       " 0.20000000000000018,\n",
       " 0.40000000000000013,\n",
       " 0.6000000000000001,\n",
       " 0.8]"
      ]
     },
     "execution_count": 536,
     "metadata": {},
     "output_type": "execute_result"
    }
   ],
   "source": [
    "topLeftX"
   ]
  },
  {
   "cell_type": "code",
   "execution_count": 537,
   "id": "2264b57c",
   "metadata": {},
   "outputs": [
    {
     "data": {
      "text/plain": [
       "[1.0,\n",
       " 1.0,\n",
       " 1.0,\n",
       " 1.0,\n",
       " 1.0,\n",
       " 1.0,\n",
       " 1.0,\n",
       " 1.0,\n",
       " 1.0,\n",
       " 1.0,\n",
       " 0.8,\n",
       " 0.8,\n",
       " 0.8,\n",
       " 0.8,\n",
       " 0.8,\n",
       " 0.8,\n",
       " 0.8,\n",
       " 0.8,\n",
       " 0.8,\n",
       " 0.8,\n",
       " 0.6,\n",
       " 0.6,\n",
       " 0.6,\n",
       " 0.6,\n",
       " 0.6,\n",
       " 0.6,\n",
       " 0.6,\n",
       " 0.6,\n",
       " 0.6,\n",
       " 0.6,\n",
       " 0.3999999999999999,\n",
       " 0.3999999999999999,\n",
       " 0.3999999999999999,\n",
       " 0.3999999999999999,\n",
       " 0.3999999999999999,\n",
       " 0.3999999999999999,\n",
       " 0.3999999999999999,\n",
       " 0.3999999999999999,\n",
       " 0.3999999999999999,\n",
       " 0.3999999999999999,\n",
       " 0.19999999999999996,\n",
       " 0.19999999999999996,\n",
       " 0.19999999999999996,\n",
       " 0.19999999999999996,\n",
       " 0.19999999999999996,\n",
       " 0.19999999999999996,\n",
       " 0.19999999999999996,\n",
       " 0.19999999999999996,\n",
       " 0.19999999999999996,\n",
       " 0.19999999999999996,\n",
       " 0.0,\n",
       " 0.0,\n",
       " 0.0,\n",
       " 0.0,\n",
       " 0.0,\n",
       " 0.0,\n",
       " 0.0,\n",
       " 0.0,\n",
       " 0.0,\n",
       " 0.0,\n",
       " -0.20000000000000018,\n",
       " -0.20000000000000018,\n",
       " -0.20000000000000018,\n",
       " -0.20000000000000018,\n",
       " -0.20000000000000018,\n",
       " -0.20000000000000018,\n",
       " -0.20000000000000018,\n",
       " -0.20000000000000018,\n",
       " -0.20000000000000018,\n",
       " -0.20000000000000018,\n",
       " -0.40000000000000013,\n",
       " -0.40000000000000013,\n",
       " -0.40000000000000013,\n",
       " -0.40000000000000013,\n",
       " -0.40000000000000013,\n",
       " -0.40000000000000013,\n",
       " -0.40000000000000013,\n",
       " -0.40000000000000013,\n",
       " -0.40000000000000013,\n",
       " -0.40000000000000013,\n",
       " -0.6000000000000001,\n",
       " -0.6000000000000001,\n",
       " -0.6000000000000001,\n",
       " -0.6000000000000001,\n",
       " -0.6000000000000001,\n",
       " -0.6000000000000001,\n",
       " -0.6000000000000001,\n",
       " -0.6000000000000001,\n",
       " -0.6000000000000001,\n",
       " -0.6000000000000001,\n",
       " -0.8,\n",
       " -0.8,\n",
       " -0.8,\n",
       " -0.8,\n",
       " -0.8,\n",
       " -0.8,\n",
       " -0.8,\n",
       " -0.8,\n",
       " -0.8,\n",
       " -0.8]"
      ]
     },
     "execution_count": 537,
     "metadata": {},
     "output_type": "execute_result"
    }
   ],
   "source": [
    "topLeftY"
   ]
  },
  {
   "cell_type": "code",
   "execution_count": 407,
   "id": "77aa4605",
   "metadata": {},
   "outputs": [],
   "source": [
    "#x, y, deltaX, deltaY\n",
    "#self, x, y, deltaX, deltaY\n",
    "M=finiteElement.constructMatrix()\n",
    "b=finiteElement.constructBVector()"
   ]
  },
  {
   "cell_type": "code",
   "execution_count": 408,
   "id": "3ce6d865",
   "metadata": {},
   "outputs": [
    {
     "data": {
      "text/plain": [
       "array([4., 0., 0., 0., 0., 0., 0., 0., 0., 0., 0., 0., 0., 0., 0., 0., 0.,\n",
       "       0., 0., 0., 0., 0., 0., 0., 0., 0., 0., 0., 0., 0., 0., 0., 0., 0.,\n",
       "       0., 0., 0., 0., 0., 0., 0., 0., 0., 0., 0., 0., 0., 0., 0., 0., 0.,\n",
       "       0., 0., 0., 0., 0., 0., 0., 0., 0., 0., 0., 0., 0., 0., 0., 0., 0.,\n",
       "       0., 0., 0., 0., 0., 0., 0., 0., 0., 0., 0., 0., 0.])"
      ]
     },
     "execution_count": 408,
     "metadata": {},
     "output_type": "execute_result"
    }
   ],
   "source": [
    "M[0]"
   ]
  },
  {
   "cell_type": "code",
   "execution_count": 409,
   "id": "2b8e355d",
   "metadata": {},
   "outputs": [
    {
     "data": {
      "text/plain": [
       "array([0., 0., 0., 0., 0., 0., 0., 0., 0., 0., 0., 0., 0., 0., 0., 0., 0.,\n",
       "       0., 0., 0., 0., 0., 0., 0., 0., 0., 0., 0., 0., 0., 0., 0., 0., 0.,\n",
       "       0., 0., 0., 0., 0., 0., 0., 0., 0., 0., 0., 0., 0., 0., 0., 0., 0.,\n",
       "       0., 0., 0., 0., 0., 0., 0., 0., 0., 0., 0., 0., 0., 0., 0., 0., 0.,\n",
       "       0., 0., 0., 0., 0., 0., 0., 0., 0., 0., 0., 0., 0.])"
      ]
     },
     "execution_count": 409,
     "metadata": {},
     "output_type": "execute_result"
    }
   ],
   "source": [
    "b"
   ]
  },
  {
   "cell_type": "code",
   "execution_count": 410,
   "id": "4c4f5cf7",
   "metadata": {},
   "outputs": [
    {
     "data": {
      "text/plain": [
       "array([[0., 0., 0., 0., 0., 0., 0., 0., 0., 0., 0.],\n",
       "       [0., 0., 0., 0., 0., 0., 0., 0., 0., 0., 0.],\n",
       "       [0., 0., 0., 0., 0., 0., 0., 0., 0., 0., 0.],\n",
       "       [0., 0., 0., 0., 0., 0., 0., 0., 0., 0., 0.],\n",
       "       [0., 0., 0., 0., 0., 0., 0., 0., 0., 0., 0.],\n",
       "       [0., 0., 0., 0., 0., 0., 0., 0., 0., 0., 0.],\n",
       "       [0., 0., 0., 0., 0., 0., 0., 0., 0., 0., 0.],\n",
       "       [0., 0., 0., 0., 0., 0., 0., 0., 0., 0., 0.],\n",
       "       [0., 0., 0., 0., 0., 0., 0., 0., 0., 0., 0.],\n",
       "       [0., 0., 0., 0., 0., 0., 0., 0., 0., 0., 0.],\n",
       "       [0., 0., 0., 0., 0., 0., 0., 0., 0., 0., 0.]])"
      ]
     },
     "execution_count": 410,
     "metadata": {},
     "output_type": "execute_result"
    }
   ],
   "source": [
    "finiteElement.solveSystem()"
   ]
  },
  {
   "cell_type": "code",
   "execution_count": 411,
   "id": "9c3c9c63",
   "metadata": {},
   "outputs": [
    {
     "data": {
      "text/plain": [
       "(81,)"
      ]
     },
     "execution_count": 411,
     "metadata": {},
     "output_type": "execute_result"
    }
   ],
   "source": [
    "np.shape(b)"
   ]
  },
  {
   "cell_type": "code",
   "execution_count": 280,
   "id": "64897d5e",
   "metadata": {},
   "outputs": [],
   "source": [
    "def plot(startX, endX, startY, endY,num):\n",
    "    xs = np.linspace(startX, endX,num=num,axis=0)\n",
    "    ys = np.linspace(startY, endY,num=num,axis=0)\n",
    "\n",
    "    output=np.array([[x, y] for x in xs for y in ys])\n",
    "    function=[fin.evaluate(p[0], p[1]) for p in output]\n",
    "    fig = plt.figure()\n",
    "    ax = plt.axes(projection='3d')\n",
    "    \n",
    "    # Create the SCATTER() plot \n",
    "    ax.scatter(output[:,0],output[:,1],function);\n",
    "\n",
    "    ax.scatter(0,-1,0,c=\"orange\")\n",
    "    ax.scatter(1,-1,1,c=\"orange\")\n",
    "    ax.scatter(1,0,0,c=\"orange\")"
   ]
  },
  {
   "cell_type": "code",
   "execution_count": 112,
   "id": "cee5c7fe",
   "metadata": {},
   "outputs": [
    {
     "name": "stdout",
     "output_type": "stream",
     "text": [
      "1 ,  0\n",
      "0 ,  -1\n",
      "1 ,  -1\n"
     ]
    }
   ],
   "source": [
    "print(fin.tri_tl.p1.x,\", \",fin.tri_tl.p1.y)\n",
    "print(fin.tri_tl.p2.x,\", \",fin.tri_tl.p2.y)\n",
    "print(fin.tri_tl.p3.x,\", \",fin.tri_tl.p3.y)"
   ]
  },
  {
   "cell_type": "code",
   "execution_count": 254,
   "id": "54436886",
   "metadata": {},
   "outputs": [
    {
     "name": "stdout",
     "output_type": "stream",
     "text": [
      "ugh\n"
     ]
    },
    {
     "data": {
      "text/plain": [
       "0"
      ]
     },
     "execution_count": 254,
     "metadata": {},
     "output_type": "execute_result"
    }
   ],
   "source": [
    "fin.tri_br.evaluate(1,-1)"
   ]
  },
  {
   "cell_type": "code",
   "execution_count": 255,
   "id": "bcfd4a20",
   "metadata": {},
   "outputs": [
    {
     "name": "stdout",
     "output_type": "stream",
     "text": [
      "ugh\n"
     ]
    },
    {
     "data": {
      "text/plain": [
       "0"
      ]
     },
     "execution_count": 255,
     "metadata": {},
     "output_type": "execute_result"
    }
   ],
   "source": [
    "fin.evaluate(1,-0.5)"
   ]
  },
  {
   "cell_type": "code",
   "execution_count": 115,
   "id": "8c5412ae",
   "metadata": {},
   "outputs": [
    {
     "data": {
      "text/plain": [
       "<mpl_toolkits.mplot3d.art3d.Path3DCollection at 0x1279cc370>"
      ]
     },
     "execution_count": 115,
     "metadata": {},
     "output_type": "execute_result"
    },
    {
     "data": {
      "image/png": "[encoded data removed]",
      "text/plain": [
       "<Figure size 432x288 with 1 Axes>"
      ]
     },
     "metadata": {
      "needs_background": "light"
     },
     "output_type": "display_data"
    }
   ],
   "source": []
  },
  {
   "cell_type": "code",
   "execution_count": 218,
   "id": "9d56c2e5",
   "metadata": {},
   "outputs": [
    {
     "name": "stdout",
     "output_type": "stream",
     "text": [
      "0.0\n"
     ]
    }
   ],
   "source": [
    "print(fin.tri_tr.area())"
   ]
  },
  {
   "cell_type": "code",
   "execution_count": 260,
   "id": "9fa1daf3",
   "metadata": {},
   "outputs": [
    {
     "name": "stdout",
     "output_type": "stream",
     "text": [
      "2 -1\n",
      "1 -2\n",
      "1 -1\n"
     ]
    }
   ],
   "source": [
    "print(fin.tri_br.p1.x,fin.tri_br.p1.y)\n",
    "print(fin.tri_br.p2.x,fin.tri_br.p2.y)\n",
    "print(fin.tri_br.p3.x,fin.tri_br.p3.y)"
   ]
  },
  {
   "cell_type": "code",
   "execution_count": 265,
   "id": "ea9aeb46",
   "metadata": {},
   "outputs": [
    {
     "name": "stdout",
     "output_type": "stream",
     "text": [
      "s 0.5\n",
      "t -2.0\n"
     ]
    },
    {
     "data": {
      "text/plain": [
       "False"
      ]
     },
     "execution_count": 265,
     "metadata": {},
     "output_type": "execute_result"
    }
   ],
   "source": [
    "fin.tri_br.is_in(0.5,-0.5)"
   ]
  },
  {
   "cell_type": "code",
   "execution_count": 266,
   "id": "aea25885",
   "metadata": {},
   "outputs": [
    {
     "name": "stdout",
     "output_type": "stream",
     "text": [
      "s 0.5\n",
      "t 0.0\n"
     ]
    },
    {
     "data": {
      "text/plain": [
       "True"
      ]
     },
     "execution_count": 266,
     "metadata": {},
     "output_type": "execute_result"
    }
   ],
   "source": [
    "fin.tri_tl.is_in(0.5,-0.5)"
   ]
  },
  {
   "cell_type": "code",
   "execution_count": 237,
   "id": "e74f93bd",
   "metadata": {},
   "outputs": [
    {
     "name": "stdout",
     "output_type": "stream",
     "text": [
      "0.5\n"
     ]
    }
   ],
   "source": [
    "print(fin.tri_br.area())"
   ]
  },
  {
   "cell_type": "code",
   "execution_count": 461,
   "id": "0eb2711d",
   "metadata": {},
   "outputs": [],
   "source": []
  },
  {
   "cell_type": "code",
   "execution_count": 469,
   "id": "1a498128",
   "metadata": {},
   "outputs": [
    {
     "data": {
      "image/png": "[encoded data removed]",
      "text/plain": [
       "<Figure size 432x288 with 1 Axes>"
      ]
     },
     "metadata": {
      "needs_background": "light"
     },
     "output_type": "display_data"
    }
   ],
   "source": [
    "Test.plot(-2, 2, -2, 2, 50, electronDensity)"
   ]
  },
  {
   "cell_type": "code",
   "execution_count": 7,
   "id": "b9ecbde1",
   "metadata": {},
   "outputs": [
    {
     "ename": "NameError",
     "evalue": "name 'fin' is not defined",
     "output_type": "error",
     "traceback": [
      "\u001b[0;31m---------------------------------------------------------------------------\u001b[0m",
      "\u001b[0;31mNameError\u001b[0m                                 Traceback (most recent call last)",
      "\u001b[0;32m/var/folders/w9/rpt2vk6943b30y910f1djt500000gq/T/ipykernel_10173/365575298.py\u001b[0m in \u001b[0;36m<module>\u001b[0;34m\u001b[0m\n\u001b[0;32m----> 1\u001b[0;31m \u001b[0mTest\u001b[0m\u001b[0;34m.\u001b[0m\u001b[0mplot\u001b[0m\u001b[0;34m(\u001b[0m\u001b[0;36m0\u001b[0m\u001b[0;34m,\u001b[0m\u001b[0;36m2\u001b[0m\u001b[0;34m,\u001b[0m\u001b[0;34m-\u001b[0m\u001b[0;36m2\u001b[0m\u001b[0;34m,\u001b[0m\u001b[0;36m0\u001b[0m\u001b[0;34m,\u001b[0m\u001b[0;36m50\u001b[0m\u001b[0;34m,\u001b[0m\u001b[0mfin\u001b[0m\u001b[0;34m.\u001b[0m\u001b[0mevaluate\u001b[0m\u001b[0;34m)\u001b[0m\u001b[0;34m\u001b[0m\u001b[0;34m\u001b[0m\u001b[0m\n\u001b[0m",
      "\u001b[0;31mNameError\u001b[0m: name 'fin' is not defined"
     ]
    }
   ],
   "source": [
    "Test.plot(0,2,-2,0,50,fin.evaluate)"
   ]
  },
  {
   "cell_type": "code",
   "execution_count": 442,
   "id": "d767ae1b",
   "metadata": {},
   "outputs": [],
   "source": []
  },
  {
   "cell_type": "code",
   "execution_count": 451,
   "id": "07e150ed",
   "metadata": {},
   "outputs": [
    {
     "data": {
      "text/plain": [
       "array([[[0.68481796, 0.        , 0.16496235, 1.        ],\n",
       "        [0.75905341, 0.05379805, 0.18212881, 1.        ],\n",
       "        [0.84628762, 0.14192815, 0.20761217, 1.        ],\n",
       "        [0.92329873, 0.27363132, 0.23586449, 1.        ],\n",
       "        [0.95482765, 0.39779499, 0.29295771, 1.        ],\n",
       "        [0.95482765, 0.39779499, 0.29295771, 1.        ],\n",
       "        [0.92329873, 0.27363132, 0.23586449, 1.        ],\n",
       "        [0.84628762, 0.14192815, 0.20761217, 1.        ],\n",
       "        [0.75905341, 0.05379805, 0.18212881, 1.        ],\n",
       "        [0.68481796, 0.        , 0.16496235, 1.        ]],\n",
       "\n",
       "       [[0.73246635, 0.04995992, 0.16913513, 1.        ],\n",
       "        [0.84716872, 0.17687766, 0.19161746, 1.        ],\n",
       "        [0.94752375, 0.45880295, 0.30754923, 1.        ],\n",
       "        [0.98984129, 0.84021039, 0.50778829, 1.        ],\n",
       "        [0.9978578 , 0.93506363, 0.66781057, 1.        ],\n",
       "        [0.9978578 , 0.93506363, 0.66781057, 1.        ],\n",
       "        [0.98984129, 0.84021039, 0.50778829, 1.        ],\n",
       "        [0.94752375, 0.45880295, 0.30754923, 1.        ],\n",
       "        [0.84716872, 0.17687766, 0.19161746, 1.        ],\n",
       "        [0.73246635, 0.04995992, 0.16913513, 1.        ]],\n",
       "\n",
       "       [[0.79237962, 0.11921582, 0.17438862, 1.        ],\n",
       "        [0.93409703, 0.41506196, 0.27822835, 1.        ],\n",
       "        [0.99502678, 0.84924724, 0.57542699, 1.        ],\n",
       "        [0.99960528, 0.98776362, 0.93702146, 1.        ],\n",
       "        [1.        , 1.        , 1.        , 1.        ],\n",
       "        [1.        , 1.        , 1.        , 1.        ],\n",
       "        [0.99960528, 0.98776362, 0.93702146, 1.        ],\n",
       "        [0.99502678, 0.84924724, 0.57542699, 1.        ],\n",
       "        [0.93409703, 0.41506196, 0.27822835, 1.        ],\n",
       "        [0.79237962, 0.11921582, 0.17438862, 1.        ]],\n",
       "\n",
       "       [[0.85396026, 0.20068345, 0.17298495, 1.        ],\n",
       "        [0.97773316, 0.64975761, 0.38770836, 1.        ],\n",
       "        [0.99884529, 0.96420392, 0.81576368, 1.        ],\n",
       "        [0.92529849, 0.96696617, 0.98085539, 1.        ],\n",
       "        [0.78369256, 0.95312728, 0.97394422, 1.        ],\n",
       "        [0.78369256, 0.95312728, 0.97394422, 1.        ],\n",
       "        [0.92529849, 0.96696617, 0.98085539, 1.        ],\n",
       "        [0.99884529, 0.96420392, 0.81576368, 1.        ],\n",
       "        [0.97773316, 0.64975761, 0.38770836, 1.        ],\n",
       "        [0.85396026, 0.20068345, 0.17298495, 1.        ]],\n",
       "\n",
       "       [[0.87541165, 0.25386791, 0.18696204, 1.        ],\n",
       "        [0.98997067, 0.6959818 , 0.41043275, 1.        ],\n",
       "        [0.95572377, 0.98286082, 0.87872164, 1.        ],\n",
       "        [0.53978525, 0.74074967, 0.855887  , 1.        ],\n",
       "        [0.26158331, 0.28827549, 0.73450156, 1.        ],\n",
       "        [0.26158331, 0.28827549, 0.73450156, 1.        ],\n",
       "        [0.53978525, 0.74074967, 0.855887  , 1.        ],\n",
       "        [0.95572377, 0.98286082, 0.87872164, 1.        ],\n",
       "        [0.98997067, 0.6959818 , 0.41043275, 1.        ],\n",
       "        [0.87541165, 0.25386791, 0.18696204, 1.        ]],\n",
       "\n",
       "       [[0.86263396, 0.23071067, 0.16990779, 1.        ],\n",
       "        [0.98756563, 0.62307792, 0.33194983, 1.        ],\n",
       "        [0.93462609, 0.97469397, 0.82093234, 1.        ],\n",
       "        [0.30056023, 0.53244908, 0.74009611, 1.        ],\n",
       "        [0.12782741, 0.14087102, 0.44515205, 1.        ],\n",
       "        [0.12782741, 0.14087102, 0.44515205, 1.        ],\n",
       "        [0.30056023, 0.53244908, 0.74009611, 1.        ],\n",
       "        [0.93462609, 0.97469397, 0.82093234, 1.        ],\n",
       "        [0.98756563, 0.62307792, 0.33194983, 1.        ],\n",
       "        [0.86263396, 0.23071067, 0.16990779, 1.        ]],\n",
       "\n",
       "       [[0.81340127, 0.15801317, 0.13620406, 1.        ],\n",
       "        [0.96144952, 0.39362711, 0.22621881, 1.        ],\n",
       "        [0.99670479, 0.89784844, 0.47424329, 1.        ],\n",
       "        [0.55462937, 0.80305218, 0.88585979, 1.        ],\n",
       "        [0.05665292, 0.32007147, 0.62203888, 1.        ],\n",
       "        [0.05665292, 0.32007147, 0.62203888, 1.        ],\n",
       "        [0.55462937, 0.80305218, 0.88585979, 1.        ],\n",
       "        [0.99670479, 0.89784844, 0.47424329, 1.        ],\n",
       "        [0.96144952, 0.39362711, 0.22621881, 1.        ],\n",
       "        [0.81340127, 0.15801317, 0.13620406, 1.        ]],\n",
       "\n",
       "       [[0.7243197 , 0.09054104, 0.13244322, 1.        ],\n",
       "        [0.87499876, 0.22253419, 0.14917127, 1.        ],\n",
       "        [0.98252708, 0.47034471, 0.16752855, 1.        ],\n",
       "        [0.9959448 , 0.87428874, 0.35298552, 1.        ],\n",
       "        [0.89034987, 0.95755479, 0.69965398, 1.        ],\n",
       "        [0.89034987, 0.95755479, 0.69965398, 1.        ],\n",
       "        [0.9959448 , 0.87428874, 0.35298552, 1.        ],\n",
       "        [0.98252708, 0.47034471, 0.16752855, 1.        ],\n",
       "        [0.87499876, 0.22253419, 0.14917127, 1.        ],\n",
       "        [0.7243197 , 0.09054104, 0.13244322, 1.        ]],\n",
       "\n",
       "       [[0.66401236, 0.04007784, 0.13568017, 1.        ],\n",
       "        [0.74546875, 0.10791828, 0.11691147, 1.        ],\n",
       "        [0.86157204, 0.1787932 , 0.11985039, 1.        ],\n",
       "        [0.94934139, 0.20317433, 0.10613888, 1.        ],\n",
       "        [0.97967851, 0.38399609, 0.07457201, 1.        ],\n",
       "        [0.97967851, 0.38399609, 0.07457201, 1.        ],\n",
       "        [0.94934139, 0.20317433, 0.10613888, 1.        ],\n",
       "        [0.86157204, 0.1787932 , 0.11985039, 1.        ],\n",
       "        [0.74546875, 0.10791828, 0.11691147, 1.        ],\n",
       "        [0.66401236, 0.04007784, 0.13568017, 1.        ]],\n",
       "\n",
       "       [[0.62132444, 0.        , 0.13815398, 1.        ],\n",
       "        [0.6374253 , 0.0362397 , 0.1226865 , 1.        ],\n",
       "        [0.6704117 , 0.06782871, 0.09921967, 1.        ],\n",
       "        [0.7440628 , 0.0850653 , 0.07332452, 1.        ],\n",
       "        [0.78321796, 0.08678359, 0.06391212, 1.        ],\n",
       "        [0.78321796, 0.08678359, 0.06391212, 1.        ],\n",
       "        [0.7440628 , 0.0850653 , 0.07332452, 1.        ],\n",
       "        [0.6704117 , 0.06782871, 0.09921967, 1.        ],\n",
       "        [0.6374253 , 0.0362397 , 0.1226865 , 1.        ],\n",
       "        [0.62132444, 0.        , 0.13815398, 1.        ]]])"
      ]
     },
     "execution_count": 451,
     "metadata": {},
     "output_type": "execute_result"
    }
   ],
   "source": [
    "rgb"
   ]
  },
  {
   "cell_type": "code",
   "execution_count": 447,
   "id": "d80eadbb",
   "metadata": {},
   "outputs": [
    {
     "data": {
      "text/plain": [
       "(10, 10, 4)"
      ]
     },
     "execution_count": 447,
     "metadata": {},
     "output_type": "execute_result"
    }
   ],
   "source": [
    "rgb.shape"
   ]
  },
  {
   "cell_type": "code",
   "execution_count": 457,
   "id": "5d7cfc51",
   "metadata": {},
   "outputs": [],
   "source": [
    "new_img = rgb.transpose((2, 0, 1))\n",
    "# Dimensions: [3, m, n]\n",
    "new_img = rgb.reshape(rgb.shape[0]*rgb.shape[1], rgb.shape[2])\n"
   ]
  },
  {
   "cell_type": "code",
   "execution_count": 458,
   "id": "3747ed33",
   "metadata": {},
   "outputs": [
    {
     "data": {
      "text/plain": [
       "array([[0.68481796, 0.        , 0.16496235, 1.        ],\n",
       "       [0.75905341, 0.05379805, 0.18212881, 1.        ],\n",
       "       [0.84628762, 0.14192815, 0.20761217, 1.        ],\n",
       "       [0.92329873, 0.27363132, 0.23586449, 1.        ],\n",
       "       [0.95482765, 0.39779499, 0.29295771, 1.        ],\n",
       "       [0.95482765, 0.39779499, 0.29295771, 1.        ],\n",
       "       [0.92329873, 0.27363132, 0.23586449, 1.        ],\n",
       "       [0.84628762, 0.14192815, 0.20761217, 1.        ],\n",
       "       [0.75905341, 0.05379805, 0.18212881, 1.        ],\n",
       "       [0.68481796, 0.        , 0.16496235, 1.        ],\n",
       "       [0.73246635, 0.04995992, 0.16913513, 1.        ],\n",
       "       [0.84716872, 0.17687766, 0.19161746, 1.        ],\n",
       "       [0.94752375, 0.45880295, 0.30754923, 1.        ],\n",
       "       [0.98984129, 0.84021039, 0.50778829, 1.        ],\n",
       "       [0.9978578 , 0.93506363, 0.66781057, 1.        ],\n",
       "       [0.9978578 , 0.93506363, 0.66781057, 1.        ],\n",
       "       [0.98984129, 0.84021039, 0.50778829, 1.        ],\n",
       "       [0.94752375, 0.45880295, 0.30754923, 1.        ],\n",
       "       [0.84716872, 0.17687766, 0.19161746, 1.        ],\n",
       "       [0.73246635, 0.04995992, 0.16913513, 1.        ],\n",
       "       [0.79237962, 0.11921582, 0.17438862, 1.        ],\n",
       "       [0.93409703, 0.41506196, 0.27822835, 1.        ],\n",
       "       [0.99502678, 0.84924724, 0.57542699, 1.        ],\n",
       "       [0.99960528, 0.98776362, 0.93702146, 1.        ],\n",
       "       [1.        , 1.        , 1.        , 1.        ],\n",
       "       [1.        , 1.        , 1.        , 1.        ],\n",
       "       [0.99960528, 0.98776362, 0.93702146, 1.        ],\n",
       "       [0.99502678, 0.84924724, 0.57542699, 1.        ],\n",
       "       [0.93409703, 0.41506196, 0.27822835, 1.        ],\n",
       "       [0.79237962, 0.11921582, 0.17438862, 1.        ],\n",
       "       [0.85396026, 0.20068345, 0.17298495, 1.        ],\n",
       "       [0.97773316, 0.64975761, 0.38770836, 1.        ],\n",
       "       [0.99884529, 0.96420392, 0.81576368, 1.        ],\n",
       "       [0.92529849, 0.96696617, 0.98085539, 1.        ],\n",
       "       [0.78369256, 0.95312728, 0.97394422, 1.        ],\n",
       "       [0.78369256, 0.95312728, 0.97394422, 1.        ],\n",
       "       [0.92529849, 0.96696617, 0.98085539, 1.        ],\n",
       "       [0.99884529, 0.96420392, 0.81576368, 1.        ],\n",
       "       [0.97773316, 0.64975761, 0.38770836, 1.        ],\n",
       "       [0.85396026, 0.20068345, 0.17298495, 1.        ],\n",
       "       [0.87541165, 0.25386791, 0.18696204, 1.        ],\n",
       "       [0.98997067, 0.6959818 , 0.41043275, 1.        ],\n",
       "       [0.95572377, 0.98286082, 0.87872164, 1.        ],\n",
       "       [0.53978525, 0.74074967, 0.855887  , 1.        ],\n",
       "       [0.26158331, 0.28827549, 0.73450156, 1.        ],\n",
       "       [0.26158331, 0.28827549, 0.73450156, 1.        ],\n",
       "       [0.53978525, 0.74074967, 0.855887  , 1.        ],\n",
       "       [0.95572377, 0.98286082, 0.87872164, 1.        ],\n",
       "       [0.98997067, 0.6959818 , 0.41043275, 1.        ],\n",
       "       [0.87541165, 0.25386791, 0.18696204, 1.        ],\n",
       "       [0.86263396, 0.23071067, 0.16990779, 1.        ],\n",
       "       [0.98756563, 0.62307792, 0.33194983, 1.        ],\n",
       "       [0.93462609, 0.97469397, 0.82093234, 1.        ],\n",
       "       [0.30056023, 0.53244908, 0.74009611, 1.        ],\n",
       "       [0.12782741, 0.14087102, 0.44515205, 1.        ],\n",
       "       [0.12782741, 0.14087102, 0.44515205, 1.        ],\n",
       "       [0.30056023, 0.53244908, 0.74009611, 1.        ],\n",
       "       [0.93462609, 0.97469397, 0.82093234, 1.        ],\n",
       "       [0.98756563, 0.62307792, 0.33194983, 1.        ],\n",
       "       [0.86263396, 0.23071067, 0.16990779, 1.        ],\n",
       "       [0.81340127, 0.15801317, 0.13620406, 1.        ],\n",
       "       [0.96144952, 0.39362711, 0.22621881, 1.        ],\n",
       "       [0.99670479, 0.89784844, 0.47424329, 1.        ],\n",
       "       [0.55462937, 0.80305218, 0.88585979, 1.        ],\n",
       "       [0.05665292, 0.32007147, 0.62203888, 1.        ],\n",
       "       [0.05665292, 0.32007147, 0.62203888, 1.        ],\n",
       "       [0.55462937, 0.80305218, 0.88585979, 1.        ],\n",
       "       [0.99670479, 0.89784844, 0.47424329, 1.        ],\n",
       "       [0.96144952, 0.39362711, 0.22621881, 1.        ],\n",
       "       [0.81340127, 0.15801317, 0.13620406, 1.        ],\n",
       "       [0.7243197 , 0.09054104, 0.13244322, 1.        ],\n",
       "       [0.87499876, 0.22253419, 0.14917127, 1.        ],\n",
       "       [0.98252708, 0.47034471, 0.16752855, 1.        ],\n",
       "       [0.9959448 , 0.87428874, 0.35298552, 1.        ],\n",
       "       [0.89034987, 0.95755479, 0.69965398, 1.        ],\n",
       "       [0.89034987, 0.95755479, 0.69965398, 1.        ],\n",
       "       [0.9959448 , 0.87428874, 0.35298552, 1.        ],\n",
       "       [0.98252708, 0.47034471, 0.16752855, 1.        ],\n",
       "       [0.87499876, 0.22253419, 0.14917127, 1.        ],\n",
       "       [0.7243197 , 0.09054104, 0.13244322, 1.        ],\n",
       "       [0.66401236, 0.04007784, 0.13568017, 1.        ],\n",
       "       [0.74546875, 0.10791828, 0.11691147, 1.        ],\n",
       "       [0.86157204, 0.1787932 , 0.11985039, 1.        ],\n",
       "       [0.94934139, 0.20317433, 0.10613888, 1.        ],\n",
       "       [0.97967851, 0.38399609, 0.07457201, 1.        ],\n",
       "       [0.97967851, 0.38399609, 0.07457201, 1.        ],\n",
       "       [0.94934139, 0.20317433, 0.10613888, 1.        ],\n",
       "       [0.86157204, 0.1787932 , 0.11985039, 1.        ],\n",
       "       [0.74546875, 0.10791828, 0.11691147, 1.        ],\n",
       "       [0.66401236, 0.04007784, 0.13568017, 1.        ],\n",
       "       [0.62132444, 0.        , 0.13815398, 1.        ],\n",
       "       [0.6374253 , 0.0362397 , 0.1226865 , 1.        ],\n",
       "       [0.6704117 , 0.06782871, 0.09921967, 1.        ],\n",
       "       [0.7440628 , 0.0850653 , 0.07332452, 1.        ],\n",
       "       [0.78321796, 0.08678359, 0.06391212, 1.        ],\n",
       "       [0.78321796, 0.08678359, 0.06391212, 1.        ],\n",
       "       [0.7440628 , 0.0850653 , 0.07332452, 1.        ],\n",
       "       [0.6704117 , 0.06782871, 0.09921967, 1.        ],\n",
       "       [0.6374253 , 0.0362397 , 0.1226865 , 1.        ],\n",
       "       [0.62132444, 0.        , 0.13815398, 1.        ]])"
      ]
     },
     "execution_count": 458,
     "metadata": {},
     "output_type": "execute_result"
    }
   ],
   "source": [
    "new_img"
   ]
  },
  {
   "cell_type": "code",
   "execution_count": 10,
   "id": "6c116cbc",
   "metadata": {},
   "outputs": [],
   "source": [
    "fin=FiniteElement(0, 0, 1, 1)"
   ]
  },
  {
   "cell_type": "code",
   "execution_count": 11,
   "id": "881da1d2",
   "metadata": {},
   "outputs": [
    {
     "data": {
      "image/png": "[encoded data removed]",
      "text/plain": [
       "<Figure size 432x288 with 1 Axes>"
      ]
     },
     "metadata": {
      "needs_background": "light"
     },
     "output_type": "display_data"
    }
   ],
   "source": [
    "Test.plot(0, 2, -2, 0,100,fin.evaluate)"
   ]
  },
  {
   "cell_type": "code",
   "execution_count": 579,
   "id": "bd1f6672",
   "metadata": {},
   "outputs": [
    {
     "data": {
      "text/plain": [
       "0.6666666499049005"
      ]
     },
     "execution_count": 579,
     "metadata": {},
     "output_type": "execute_result"
    }
   ],
   "source": [
    "integrate.dblquad(fin.evaluate, -2, 0,lambda x: 0, lambda x: 2)[0]"
   ]
  },
  {
   "cell_type": "code",
   "execution_count": 573,
   "id": "2eb604c8",
   "metadata": {},
   "outputs": [
    {
     "data": {
      "text/plain": [
       "0"
      ]
     },
     "execution_count": 573,
     "metadata": {},
     "output_type": "execute_result"
    }
   ],
   "source": [
    "fin.evaluate(1.8,-1.8)"
   ]
  },
  {
   "cell_type": "code",
   "execution_count": 607,
   "id": "0f370b33",
   "metadata": {},
   "outputs": [
    {
     "data": {
      "text/plain": [
       "0.090866060540632"
      ]
     },
     "execution_count": 607,
     "metadata": {},
     "output_type": "execute_result"
    }
   ],
   "source": [
    "integrate.dblquad(electronDensity, -2, 0,lambda x: 0, lambda x: 2,epsabs=1e-8)[0]"
   ]
  },
  {
   "cell_type": "code",
   "execution_count": null,
   "id": "87bca308",
   "metadata": {},
   "outputs": [],
   "source": [
    "Test.plot(0, 0.4, -0.4, 0,100,finiteElement.finiteElements[5, 5].evaluate)\n",
    "Test.plot(0, 0.4, -0.4, 0,100,electronDensity)"
   ]
  },
  {
   "cell_type": "code",
   "execution_count": 13,
   "id": "4e674387",
   "metadata": {},
   "outputs": [],
   "source": [
    "def lol(x, y):\n",
    "    return electronDensity(x, y)*fin.evaluate(x, y)"
   ]
  },
  {
   "cell_type": "code",
   "execution_count": 636,
   "id": "13bbee5a",
   "metadata": {},
   "outputs": [],
   "source": [
    "test=[(integrate.dblquad(lol, -2, 0,lambda x: 0, lambda x: 2,epsabs=1e-8*10**i)[0]) for i in range(0, 7)]"
   ]
  },
  {
   "cell_type": "code",
   "execution_count": 637,
   "id": "1dcd6634",
   "metadata": {},
   "outputs": [
    {
     "data": {
      "text/plain": [
       "[0.0016191353028300304,\n",
       " 0.0016191286222514505,\n",
       " 0.0016191289772780834,\n",
       " 0.00161919315870105,\n",
       " 0.0016219522329523855,\n",
       " 0.001613626045322107,\n",
       " 0.0015999807360674192]"
      ]
     },
     "execution_count": 637,
     "metadata": {},
     "output_type": "execute_result"
    }
   ],
   "source": [
    "test"
   ]
  },
  {
   "cell_type": "code",
   "execution_count": 640,
   "id": "fc670089",
   "metadata": {},
   "outputs": [
    {
     "data": {
      "text/plain": [
       "0.0001"
      ]
     },
     "execution_count": 640,
     "metadata": {},
     "output_type": "execute_result"
    }
   ],
   "source": [
    "1e-8*10**4"
   ]
  },
  {
   "cell_type": "code",
   "execution_count": 16,
   "id": "6dbf20fb",
   "metadata": {},
   "outputs": [
    {
     "name": "stdout",
     "output_type": "stream",
     "text": [
      "         473690 function calls (473438 primitive calls) in 0.759 seconds\n",
      "\n",
      "   Ordered by: standard name\n",
      "\n",
      "   ncalls  tottime  percall  cumtime  percall filename:lineno(function)\n",
      "    38073    0.123    0.000    0.123    0.000 1226877424.py:16(electronDensity)\n",
      "    38073    0.030    0.000    0.732    0.000 2234026894.py:1(lol)\n",
      "    17993    0.079    0.000    0.079    0.000 880219933.py:14(area)\n",
      "    17993    0.032    0.000    0.032    0.000 880219933.py:18(area_pt)\n",
      "    17993    0.005    0.000    0.005    0.000 880219933.py:2(__init__)\n",
      "   152292    0.351    0.000    0.351    0.000 880219933.py:23(is_in)\n",
      "   152292    0.063    0.000    0.530    0.000 880219933.py:29(evaluate)\n",
      "    38073    0.049    0.000    0.579    0.000 880219933.py:78(evaluate)\n",
      "       63    0.000    0.000    0.000    0.000 <string>:1(<lambda>)\n",
      "        1    0.000    0.000    0.758    0.758 <string>:1(<module>)\n",
      "     64/1    0.000    0.000    0.758    0.758 quadpack.py:445(_quad)\n",
      "     64/1    0.000    0.000    0.758    0.758 quadpack.py:49(quad)\n",
      "        1    0.000    0.000    0.758    0.758 quadpack.py:530(dblquad)\n",
      "       63    0.000    0.000    0.000    0.000 quadpack.py:597(temp_ranges)\n",
      "        1    0.000    0.000    0.758    0.758 quadpack.py:694(nquad)\n",
      "        1    0.000    0.000    0.000    0.000 quadpack.py:815(<listcomp>)\n",
      "        1    0.000    0.000    0.000    0.000 quadpack.py:829(__init__)\n",
      "        1    0.000    0.000    0.000    0.000 quadpack.py:832(__call__)\n",
      "        1    0.000    0.000    0.000    0.000 quadpack.py:842(__init__)\n",
      "       64    0.000    0.000    0.000    0.000 quadpack.py:845(__call__)\n",
      "        1    0.000    0.000    0.000    0.000 quadpack.py:851(__init__)\n",
      "     64/1    0.001    0.000    0.758    0.758 quadpack.py:861(integrate)\n",
      "        1    0.000    0.000    0.000    0.000 {built-in method _warnings.warn}\n",
      "      128    0.000    0.000    0.000    0.000 {built-in method builtins.callable}\n",
      "        1    0.001    0.001    0.759    0.759 {built-in method builtins.exec}\n",
      "       65    0.000    0.000    0.000    0.000 {built-in method builtins.isinstance}\n",
      "        2    0.000    0.000    0.000    0.000 {built-in method builtins.len}\n",
      "      128    0.000    0.000    0.000    0.000 {built-in method builtins.max}\n",
      "       64    0.000    0.000    0.000    0.000 {built-in method builtins.min}\n",
      "     64/1    0.024    0.000    0.758    0.758 {built-in method scipy.integrate._quadpack._qagse}\n",
      "        1    0.000    0.000    0.000    0.000 {method 'disable' of '_lsprof.Profiler' objects}\n",
      "       64    0.000    0.000    0.000    0.000 {method 'pop' of 'dict' objects}\n",
      "\n",
      "\n"
     ]
    }
   ],
   "source": [
    "cProfile.run('integrate.dblquad(lol, -2, 0,lambda x: 0, lambda x: 2)[0]')"
   ]
  },
  {
   "cell_type": "code",
   "execution_count": 622,
   "id": "6cb7a930",
   "metadata": {},
   "outputs": [
    {
     "data": {
      "text/plain": [
       "0.0016219522329523855"
      ]
     },
     "execution_count": 622,
     "metadata": {},
     "output_type": "execute_result"
    }
   ],
   "source": [
    "integrate.dblquad(lol, -2, 0,lambda x: 0, lambda x: 2,epsabs=1e-4)[0]"
   ]
  },
  {
   "cell_type": "code",
   "execution_count": 623,
   "id": "579008c2",
   "metadata": {},
   "outputs": [
    {
     "data": {
      "text/plain": [
       "0.10000001"
      ]
     },
     "execution_count": 623,
     "metadata": {},
     "output_type": "execute_result"
    }
   ],
   "source": [
    "1e-8+1e-1"
   ]
  },
  {
   "cell_type": "code",
   "execution_count": 634,
   "id": "cfd1145b",
   "metadata": {},
   "outputs": [
    {
     "data": {
      "text/plain": [
       "6.000000000000001e-07"
      ]
     },
     "execution_count": 634,
     "metadata": {},
     "output_type": "execute_result"
    }
   ],
   "source": [
    "1e-8*6*10"
   ]
  },
  {
   "cell_type": "code",
   "execution_count": null,
   "id": "211cca6e",
   "metadata": {},
   "outputs": [],
   "source": []
  }
 ],
 "metadata": {
  "kernelspec": {
   "display_name": "Python 3 (ipykernel)",
   "language": "python",
   "name": "python3"
  },
  "language_info": {
   "codemirror_mode": {
    "name": "ipython",
    "version": 3
   },
   "file_extension": ".py",
   "mimetype": "text/x-python",
   "name": "python",
   "nbconvert_exporter": "python",
   "pygments_lexer": "ipython3",
   "version": "3.9.12"
  }
 },
 "nbformat": 4,
 "nbformat_minor": 5
}
