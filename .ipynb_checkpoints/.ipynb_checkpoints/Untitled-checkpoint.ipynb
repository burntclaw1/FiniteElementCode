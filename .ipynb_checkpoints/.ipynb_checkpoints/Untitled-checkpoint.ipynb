{
 "cells": [
  {
   "cell_type": "code",
   "execution_count": 3,
   "id": "9363b638",
   "metadata": {},
   "outputs": [
    {
     "name": "stderr",
     "output_type": "stream",
     "text": [
      "[INFO] (vegasflow.monte_carlo) Result for iteration 0: 0.2498 +/- 0.0007(took 0.12057 s)\n",
      "[INFO] (vegasflow.monte_carlo) Result for iteration 1: 0.2499 +/- 0.0002(took 0.04949 s)\n"
     ]
    },
    {
     "name": "stdout",
     "output_type": "stream",
     "text": [
      "Events sent to the computing device: 100.0 %\r",
      "Events sent to the computing device: 100.0 %\r",
      "Events sent to the computing device: 100.0 %\r"
     ]
    },
    {
     "name": "stderr",
     "output_type": "stream",
     "text": [
      "[INFO] (vegasflow.monte_carlo) Result for iteration 2: 0.2502 +/- 0.0001(took 0.05423 s)\n",
      "[INFO] (vegasflow.monte_carlo) Result for iteration 3: 0.2501 +/- 0.0001(took 0.05465 s)\n",
      "[INFO] (vegasflow.monte_carlo) Result for iteration 4: 0.2500 +/- 0.0001(took 0.05206 s)\n",
      "[INFO] (vegasflow.monte_carlo)  > Final results: 0.250099 +/- 5.07274e-05\n"
     ]
    },
    {
     "name": "stdout",
     "output_type": "stream",
     "text": [
      "Events sent to the computing device: 100.0 %\r",
      "Events sent to the computing device: 100.0 %\r"
     ]
    },
    {
     "data": {
      "text/plain": [
       "(0.25009877363586236, 5.072735045101433e-05)"
      ]
     },
     "execution_count": 3,
     "metadata": {},
     "output_type": "execute_result"
    }
   ],
   "source": [
    "from vegasflow import vegas_wrapper\n",
    "import tensorflow as tf\n",
    "import numpy as np\n",
    "\n",
    "def integrand(x, y):\n",
    "    return np.exp(-(x**2+y**2))\n",
    "\n",
    "dimensions = 2\n",
    "iterations = 5\n",
    "events_per_iteration = int(1e5)\n",
    "vegas_wrapper(integrand, dimensions, iterations, events_per_iteration, compilable=True)"
   ]
  },
  {
   "cell_type": "code",
   "execution_count": null,
   "id": "6dd909a8",
   "metadata": {},
   "outputs": [],
   "source": []
  }
 ],
 "metadata": {
  "kernelspec": {
   "display_name": "Python 3 (ipykernel)",
   "language": "python",
   "name": "python3"
  },
  "language_info": {
   "codemirror_mode": {
    "name": "ipython",
    "version": 3
   },
   "file_extension": ".py",
   "mimetype": "text/x-python",
   "name": "python",
   "nbconvert_exporter": "python",
   "pygments_lexer": "ipython3",
   "version": "3.9.12"
  }
 },
 "nbformat": 4,
 "nbformat_minor": 5
}
