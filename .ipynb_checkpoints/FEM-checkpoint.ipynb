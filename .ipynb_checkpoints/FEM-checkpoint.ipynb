{
 "cells": [
  {
   "cell_type": "code",
   "execution_count": 3,
   "id": "ea858970",
   "metadata": {},
   "outputs": [],
   "source": [
    "%matplotlib inline\n",
    "\n",
    "import numpy as np\n",
    "import matplotlib.pyplot as plt\n",
    "import scipy\n",
    "import scipy.integrate as integrate\n",
    "import numpy.linalg as linalg"
   ]
  },
  {
   "cell_type": "code",
   "execution_count": 4,
   "id": "4d0bb69d",
   "metadata": {},
   "outputs": [],
   "source": [
    "#must be greater than 0\n",
    "startR=0\n",
    "endR=10\n",
    "N=10000\n",
    "sites=N+1\n",
    "deltaX=np.abs(startR-endR)/N\n",
    "eps=1\n",
    "n=1\n",
    "a=1"
   ]
  },
  {
   "cell_type": "code",
   "execution_count": 5,
   "id": "eaee86b4",
   "metadata": {},
   "outputs": [],
   "source": [
    "def electronDensity(r, a):\n",
    "    return (1/(np.pi*a**3))*(np.exp(-2*r/a)) if r>0 else (1/(np.pi*a**3))*(np.exp(2*r/a))\n",
    "    \n",
    "def linearFunction(r, n):\n",
    "    return 1/(deltaX) *(r-n)+1 if r<n else -1/(deltaX) *(r-n)+1\n",
    "    \n",
    "def integrand(r, eps, n):\n",
    "    return (1/eps)*electronDensity(r,a)*linearFunction(r, n)*r**2\n",
    "\n",
    "def getIntegral(a_1, a_2, eps, n):\n",
    "    return integrate.quad(integrand, a_1, a_2, args=(eps, n))[0]\n",
    "\n",
    "def v(r):\n",
    "    return (1/(4*np.pi*eps*a**2))*(a**2/r-(a**2/r-a)*np.exp(-2*r/a)) if r>0 else (1/(4*np.pi*eps))*(-a**2/r-(-a**2/r-a)*np.exp(2*r/a))"
   ]
  },
  {
   "cell_type": "code",
   "execution_count": 6,
   "id": "559eda95",
   "metadata": {},
   "outputs": [],
   "source": [
    "\n",
    "#uniform\n",
    "def constructResultVector():\n",
    "    theList=[getIntegral(startR+(i-1)*deltaX, startR+(i+1)*deltaX, eps, startR+i*deltaX) for i in range(1,sites-1)];\n",
    "    return np.array(theList);\n",
    "\n",
    "def mk(i):\n",
    "    return ((startR+deltaX*i)**3-(startR+deltaX*(i-1))**3)/(3*deltaX**2)\n",
    "\n",
    "def boundary_condition(r):\n",
    "    if(0<=r and r<endR/2):\n",
    "        return 3/(4*np.pi*a*eps)\n",
    "    return (1/(4*np.pi*eps))*1/np.abs(r)\n",
    "\n",
    "def addBoundaryConditions(b):\n",
    "    b[0]+=boundary_condition(startR)*mk(1)\n",
    "    b[b.size-1]+=boundary_condition(endR)*mk(N)\n",
    "    return b\n"
   ]
  },
  {
   "cell_type": "code",
   "execution_count": 7,
   "id": "f30fbfcc",
   "metadata": {},
   "outputs": [],
   "source": [
    "def constructMatrix():\n",
    "    temp=np.zeros((sites, sites));\n",
    "    for i in range(sites-1):\n",
    "        if(i>0):\n",
    "            temp[i, i-1]=-mk(i)\n",
    "        if(i>=0):\n",
    "            temp[i, i]=mk(i+1)+mk(i)\n",
    "        if(i+1<sites):\n",
    "            temp[i, i+1]=-mk(i+1)\n",
    "    temp=np.delete(temp, [0, sites-1], axis=1)\n",
    "    temp=np.delete(temp, [0, sites-1], axis=0)\n",
    "    return temp"
   ]
  },
  {
   "cell_type": "code",
   "execution_count": 8,
   "id": "dc8b8719",
   "metadata": {},
   "outputs": [],
   "source": [
    "#func gives grid size at each point\n",
    "def generateUniformGrid(N):\n",
    "    delX=(endR-startR)/N\n",
    "    return [(startR+i*delX,startR+(i+1)*delX) for i in range(N)]\n",
    "\n",
    "def riemannEst(a_1, a_2, func):\n",
    "    return func((a_2-a_1)/2+a_1,a)*(a_2-a_1)\n",
    "\n",
    "def adaptivelySubdivide(l, func, eps,n,maxIt):\n",
    "    absError=np.abs(riemannEst(l[0], l[1], func)-(riemannEst(l[0], (l[1]-l[0])/2+l[0], func)+riemannEst((l[1]-l[0])/2+l[0], l[1],func)))\n",
    "    relError=absError/(riemannEst(l[0], l[1], func))\n",
    "    #print(relError)\n",
    "    if(relError<eps or n>maxIt):\n",
    "        return np.array([l])\n",
    "    else:\n",
    "        left=(l[0], (l[1]-l[0])/2+l[0])\n",
    "        right=((l[1]-l[0])/2+l[0], l[1])\n",
    "        temp=(np.concatenate((adaptivelySubdivide(left, func, eps, n+1,maxIt),adaptivelySubdivide(right, func, eps,n+1,maxIt))))\n",
    "        return temp\n",
    "    \n",
    "#adaptively subdivided to func\n",
    "def generateListOfAdaptiveGridCoords(N, func, eps, maxIt):\n",
    "    uni=generateUniformGrid(N)\n",
    "    newList=[];\n",
    "    for i in range(len(uni)):\n",
    "        #adaptively subdivide returns a list\n",
    "        temp=adaptivelySubdivide(uni[i], func, eps, 0, maxIt);\n",
    "        for x in temp:\n",
    "            newList.append(x)\n",
    "    return np.array(newList,dtype=object)"
   ]
  },
  {
   "cell_type": "code",
   "execution_count": 13,
   "id": "61702797",
   "metadata": {},
   "outputs": [],
   "source": [
    "temp=generateListOfAdaptiveGridCoords(10, electronDensity, 1e-4, 5)"
   ]
  },
  {
   "cell_type": "code",
   "execution_count": 14,
   "id": "9275babf",
   "metadata": {},
   "outputs": [
    {
     "data": {
      "text/plain": [
       "640"
      ]
     },
     "execution_count": 14,
     "metadata": {},
     "output_type": "execute_result"
    }
   ],
   "source": [
    "len(temp)"
   ]
  },
  {
   "cell_type": "code",
   "execution_count": 331,
   "id": "85e98221",
   "metadata": {},
   "outputs": [],
   "source": [
    "b=constructResultVector()\n",
    "b=addBoundaryConditions(b)"
   ]
  },
  {
   "cell_type": "code",
   "execution_count": 332,
   "id": "eb6e4d33",
   "metadata": {},
   "outputs": [
    {
     "data": {
      "text/plain": [
       "(9999,)"
      ]
     },
     "execution_count": 332,
     "metadata": {},
     "output_type": "execute_result"
    }
   ],
   "source": [
    "np.shape(b)"
   ]
  },
  {
   "cell_type": "code",
   "execution_count": 333,
   "id": "c8194ded",
   "metadata": {},
   "outputs": [],
   "source": [
    "M=constructMatrix()"
   ]
  },
  {
   "cell_type": "code",
   "execution_count": 334,
   "id": "bfb46232",
   "metadata": {},
   "outputs": [
    {
     "data": {
      "text/plain": [
       "(9999, 9999)"
      ]
     },
     "execution_count": 334,
     "metadata": {},
     "output_type": "execute_result"
    }
   ],
   "source": [
    "np.shape(M)"
   ]
  },
  {
   "cell_type": "code",
   "execution_count": 335,
   "id": "289ccf60",
   "metadata": {},
   "outputs": [],
   "source": [
    "sols=linalg.solve(M, b)"
   ]
  },
  {
   "cell_type": "code",
   "execution_count": 336,
   "id": "ae28c95c",
   "metadata": {},
   "outputs": [
    {
     "name": "stderr",
     "output_type": "stream",
     "text": [
      "/var/folders/w9/rpt2vk6943b30y910f1djt500000gq/T/ipykernel_60195/1968919149.py:14: RuntimeWarning: divide by zero encountered in double_scalars\n",
      "  return (1/(4*np.pi*eps*a**2))*(a**2/r-(a**2/r-a)*np.exp(-2*r/a)) if r>0 else (1/(4*np.pi*eps))*(-a**2/r-(-a**2/r-a)*np.exp(2*r/a))\n",
      "/var/folders/w9/rpt2vk6943b30y910f1djt500000gq/T/ipykernel_60195/1968919149.py:14: RuntimeWarning: invalid value encountered in double_scalars\n",
      "  return (1/(4*np.pi*eps*a**2))*(a**2/r-(a**2/r-a)*np.exp(-2*r/a)) if r>0 else (1/(4*np.pi*eps))*(-a**2/r-(-a**2/r-a)*np.exp(2*r/a))\n"
     ]
    },
    {
     "data": {
      "text/plain": [
       "<matplotlib.collections.PathCollection at 0x123fd46a0>"
      ]
     },
     "execution_count": 336,
     "metadata": {},
     "output_type": "execute_result"
    },
    {
     "data": {
      "image/png": "[encoded data removed]",
      "text/plain": [
       "<Figure size 432x288 with 1 Axes>"
      ]
     },
     "metadata": {
      "needs_background": "light"
     },
     "output_type": "display_data"
    }
   ],
   "source": [
    "x1=[startR+i*deltaX for i in range(b.size)]\n",
    "plt.scatter(x1,sols,c=\"red\")\n",
    "x = np.linspace(startR,endR,1000)\n",
    "y=[v(r) for r in x]\n",
    "plt.scatter(x, y)"
   ]
  },
  {
   "cell_type": "code",
   "execution_count": 337,
   "id": "652fbfe8",
   "metadata": {},
   "outputs": [
    {
     "data": {
      "text/plain": [
       "0.238732414637843"
      ]
     },
     "execution_count": 337,
     "metadata": {},
     "output_type": "execute_result"
    }
   ],
   "source": [
    "3/(4*np.pi*a*eps)"
   ]
  },
  {
   "cell_type": "code",
   "execution_count": 338,
   "id": "8f2fd524",
   "metadata": {},
   "outputs": [
    {
     "data": {
      "text/plain": [
       "array([0.11679805, 0.09937869, 0.09296083, ..., 0.00796014, 0.00795934,\n",
       "       0.00795854])"
      ]
     },
     "execution_count": 338,
     "metadata": {},
     "output_type": "execute_result"
    }
   ],
   "source": [
    "sols"
   ]
  },
  {
   "cell_type": "code",
   "execution_count": 339,
   "id": "9a157aa1",
   "metadata": {},
   "outputs": [
    {
     "data": {
      "text/plain": [
       "0.007957747302214022"
      ]
     },
     "execution_count": 339,
     "metadata": {},
     "output_type": "execute_result"
    }
   ],
   "source": [
    "y[np.shape(y)[0]-1]"
   ]
  },
  {
   "cell_type": "code",
   "execution_count": 340,
   "id": "74b96e82",
   "metadata": {},
   "outputs": [
    {
     "data": {
      "text/plain": [
       "1000"
      ]
     },
     "execution_count": 340,
     "metadata": {},
     "output_type": "execute_result"
    }
   ],
   "source": [
    "np.shape(y)[0]"
   ]
  },
  {
   "cell_type": "code",
   "execution_count": 341,
   "id": "73413820",
   "metadata": {},
   "outputs": [
    {
     "data": {
      "text/plain": [
       "0.238732414637843"
      ]
     },
     "execution_count": 341,
     "metadata": {},
     "output_type": "execute_result"
    }
   ],
   "source": [
    "boundary_condition(startR)"
   ]
  },
  {
   "cell_type": "code",
   "execution_count": 342,
   "id": "ec8b1935",
   "metadata": {},
   "outputs": [
    {
     "data": {
      "text/plain": [
       "0.007957747154594767"
      ]
     },
     "execution_count": 342,
     "metadata": {},
     "output_type": "execute_result"
    }
   ],
   "source": [
    "boundary_condition(endR)"
   ]
  },
  {
   "cell_type": "code",
   "execution_count": null,
   "id": "53fe0e3d",
   "metadata": {},
   "outputs": [],
   "source": []
  }
 ],
 "metadata": {
  "kernelspec": {
   "display_name": "Python 3 (ipykernel)",
   "language": "python",
   "name": "python3"
  },
  "language_info": {
   "codemirror_mode": {
    "name": "ipython",
    "version": 3
   },
   "file_extension": ".py",
   "mimetype": "text/x-python",
   "name": "python",
   "nbconvert_exporter": "python",
   "pygments_lexer": "ipython3",
   "version": "3.9.12"
  }
 },
 "nbformat": 4,
 "nbformat_minor": 5
}
