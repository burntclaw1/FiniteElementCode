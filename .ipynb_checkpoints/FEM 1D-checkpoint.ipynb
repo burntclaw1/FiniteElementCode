{
 "cells": [
  {
   "cell_type": "code",
   "execution_count": 1564,
   "id": "ea858970",
   "metadata": {},
   "outputs": [],
   "source": [
    "%matplotlib inline\n",
    "\n",
    "import numpy as np\n",
    "import matplotlib.pyplot as plt\n",
    "import scipy\n",
    "import scipy.integrate as integrate\n",
    "import numpy.linalg as linalg\n",
    "from multipledispatch import dispatch"
   ]
  },
  {
   "cell_type": "code",
   "execution_count": 1565,
   "id": "4d0bb69d",
   "metadata": {},
   "outputs": [],
   "source": [
    "#must be greater than 0\n",
    "au2nm=0.05291\n",
    "au2ev=27.211\n",
    "\n",
    "adaptive=False\n",
    "startR=-0.25/au2nm\n",
    "endR=0.25/au2nm\n",
    "N=1000\n",
    "sites=N+1\n",
    "a=0.0529/au2nm\n",
    "deltaX=np.abs(startR-endR)/(N)\n",
    "eps=0.5968404*au2nm*au2ev\n",
    "n=1\n",
    "sigma=1\n",
    "valueAtZero=1/(2*np.pi*a*eps)"
   ]
  },
  {
   "cell_type": "code",
   "execution_count": 1566,
   "id": "eaee86b4",
   "metadata": {},
   "outputs": [],
   "source": [
    "def electronDensity(r, a):\n",
    "    return (1/(np.pi*a**3))*(np.exp(-2*r/a)) if r>0 else (1/(np.pi*a**3))*(np.exp(2*r/a))\n",
    "\n",
    "@dispatch(float, float)\n",
    "def linearFunction(r, n):\n",
    "    return 1/(deltaX) *(r-n)+1 if r<n else -1/(deltaX) *(r-n)+1\n",
    "\n",
    "#n is the middle\n",
    "#a_1 is the left most\n",
    "#a_2 is the right most\n",
    "@dispatch(float, float, float, float)\n",
    "def linearFunction(r, a_1, n, a_2):\n",
    "    return 1/(n-a_1) *(r-n)+1 if r<n else -1/(a_2-n) *(r-n)+1\n",
    "\n",
    "def integrand(r, eps, n, edensity):\n",
    "    return ((1/eps)*edensity(r,a)*linearFunction(r, n)*r**2)\n",
    "\n",
    "def integrandAdaptive(r, eps, n, edensity, a_1, a_2):\n",
    "    return (1/eps)*edensity(r,a)*linearFunction(r, a_1, n, a_2)*r**2\n",
    "\n",
    "def getIntegral(a_1, a_2, eps, n, edensity):\n",
    "    return integrate.quad(integrand, a_1, a_2, args=(eps, n, edensity))[0]\n",
    "\n",
    "def getIntegralAdaptive(a_1, a_2, eps, n, edensity):\n",
    "    return integrate.quad(integrandAdaptive, a_1, a_2, args=(eps, n, edensity, a_1, a_2))[0]\n",
    "\n",
    "def gaussianElectronDensity(r, sigma):\n",
    "    return (1/np.sqrt(2*np.pi*sigma**2))**3*(np.exp((-r**2)/(2*sigma**2)))\n",
    "\n",
    "def electronDensity_2s(r, a):\n",
    "    return -(1/(32*np.pi*a**3))*(2-r/a)*np.exp(-r/a) if r>0 else -(1/(32*np.pi*a**3))*(2+r/a)*np.exp(r/a)\n",
    "\n",
    "def v_gauss(r):\n",
    "    return 1/(4*np.pi*eps)*(1/r)*scipy.special.erf(r/np.sqrt(2*sigma**2))\n",
    "\n",
    "def v(r):\n",
    "    return (1/(4*np.pi*eps*a**2))*(a**2/r-(a**2/r-a)*np.exp(-2*r/a)) if r>0 else (1/(4*np.pi*eps*a**2))*(-a**2/r-(-a**2/r-a)*np.exp(2*r/a))\n",
    "\n",
    "def v_2s(r):\n",
    "    return -(1/(32*np.pi*eps))*(8/r-(8/r+2/a-2*r/(a**2)-r**2/a**3)*np.exp(-r/a)) if r>0 else (1/(32*np.pi*eps))*(-8/r-(-8/r+2/a+2*r/(a**2)-r**2/a**3)*np.exp(r/a))"
   ]
  },
  {
   "cell_type": "code",
   "execution_count": 1567,
   "id": "8218ac79",
   "metadata": {},
   "outputs": [],
   "source": [
    "#func gives grid size at each point\n",
    "def generateUniformGrid(N):\n",
    "    delX=(endR-startR)/N\n",
    "    return [(startR+i*delX,startR+(i+1)*delX) for i in range(N)]\n",
    "\n",
    "def riemannEst(a_1, a_2, func):\n",
    "    return func((a_2-a_1)/2+a_1,a)*(a_2-a_1)\n",
    "\n",
    "def adaptivelySubdivide(l, func, eps,n,maxIt):\n",
    "    absError=np.abs(riemannEst(l[0], l[1], func)-(riemannEst(l[0], (l[1]-l[0])/2+l[0], func)+riemannEst((l[1]-l[0])/2+l[0], l[1],func)))\n",
    "    relError=np.abs(absError/(riemannEst(l[0], l[1], func)))\n",
    "    if(relError<eps or n>maxIt):\n",
    "        return np.array([l])\n",
    "    else:\n",
    "        left=(l[0], (l[1]-l[0])/2+l[0])\n",
    "        right=((l[1]-l[0])/2+l[0], l[1])\n",
    "        temp=(np.concatenate((adaptivelySubdivide(left, func, eps, n+1,maxIt),adaptivelySubdivide(right, func, eps,n+1,maxIt))))\n",
    "        return temp\n",
    "    \n",
    "#adaptively subdivided to func\n",
    "def generateListOfAdaptiveGridCoords(N, func, eps, maxIt):\n",
    "    uni=generateUniformGrid(N)\n",
    "    newList=[];\n",
    "    for i in range(len(uni)):\n",
    "        #adaptively subdivide returns a list\n",
    "        temp=adaptivelySubdivide(uni[i], func, eps, 0, maxIt);\n",
    "        for x in temp:\n",
    "            newList.append(x)\n",
    "    return np.array(newList,dtype=object)"
   ]
  },
  {
   "cell_type": "code",
   "execution_count": 1568,
   "id": "559eda95",
   "metadata": {},
   "outputs": [],
   "source": [
    "#uniform\n",
    "def constructResultVector(eDensity):\n",
    "    theList=[getIntegral(startR+(i-1)*deltaX, startR+(i+1)*deltaX, eps, startR+i*deltaX,eDensity) for i in range(1,sites-1)];\n",
    "    return np.array(theList);\n",
    "\n",
    "def createListOfMidCoord(temp):\n",
    "    return np.array((x[1]-x[0])/2+x[0] for x in temp)\n",
    "\n",
    "def createListOfIntervals(adpGrid):\n",
    "    return np.array([np.abs(x[1]-x[0]) for x in adpGrid])\n",
    "\n",
    "#getIntegralAdaptive(a_1, a_2, eps, n, edensity)\n",
    "def constructResultVectorAdaptive(adpGrid, eDensity):\n",
    "    theList=[getIntegralAdaptive(adpGrid[i-1][0], adpGrid[i+1][0] if i+1<np.shape(adpGrid)[0] else adpGrid[i][1]+deltaX, eps, adpGrid[i][0], eDensity) for i in range(1, np.shape(adpGrid)[0])];\n",
    "    return np.array(theList);\n",
    "\n",
    "@dispatch(int)\n",
    "def mk(i):\n",
    "    return ((startR+deltaX*i)**3-(startR+deltaX*(i-1))**3)/(3*deltaX**2)\n",
    "\n",
    "@dispatch(int, np.ndarray)\n",
    "def mk(i, adpGrid):\n",
    "    one=adpGrid[i][0] if i<np.shape(adpGrid)[0] else adpGrid[np.shape(adpGrid)[0]-1][1]\n",
    "    return (one**3-(adpGrid[i-1][0])**3)/(3*(adpGrid[i-1][1]-adpGrid[i-1][0])*(adpGrid[i][1]-adpGrid[i][0]))"
   ]
  },
  {
   "cell_type": "code",
   "execution_count": 1569,
   "id": "58df6dc8",
   "metadata": {},
   "outputs": [],
   "source": [
    "def boundary_condition(r):\n",
    "    if(0<=r and r<endR/2):\n",
    "        return valueAtZero\n",
    "    return (1/(4*np.pi*eps))*1/np.abs(r)\n",
    "\n",
    "def addBoundaryConditions(b):\n",
    "    b[0]+=boundary_condition(startR)*mk(1)\n",
    "    b[b.size-1]+=boundary_condition(endR)*mk(N)\n",
    "    return b"
   ]
  },
  {
   "cell_type": "code",
   "execution_count": 1570,
   "id": "f30fbfcc",
   "metadata": {},
   "outputs": [],
   "source": [
    "def constructMatrix():\n",
    "    temp=np.zeros((sites, sites));\n",
    "    for i in range(sites-1):\n",
    "        if(i>0):\n",
    "            temp[i, i-1]=-mk(i)\n",
    "        if(i>=0):\n",
    "            temp[i, i]=mk(i+1)+mk(i)\n",
    "        if(i+1<sites):\n",
    "            temp[i, i+1]=-mk(i+1)\n",
    "    temp=np.delete(temp, [0, sites-1], axis=1)\n",
    "    temp=np.delete(temp, [0, sites-1], axis=0)\n",
    "    return temp\n",
    "\n",
    "def constructMatrixAdp(adGrid):\n",
    "    temp=np.zeros((np.shape(adpGrid)[0]+1, np.shape(adpGrid)[0]+1));\n",
    "    for i in range(sites-1):\n",
    "        if(i>0):\n",
    "            temp[i, i-1]=-mk(i, adpGrid)\n",
    "        if(i>=0):\n",
    "            temp[i, i]=mk(i+1,adpGrid)+mk(i,adpGrid)\n",
    "        if(i+1<sites):\n",
    "            temp[i, i+1]=-mk(i+1,adpGrid)\n",
    "    temp=np.delete(temp, [0, sites-1], axis=1)\n",
    "    temp=np.delete(temp, [0, sites-1], axis=0)\n",
    "    return temp"
   ]
  },
  {
   "cell_type": "code",
   "execution_count": 1571,
   "id": "7dc171ba",
   "metadata": {},
   "outputs": [
    {
     "data": {
      "text/plain": [
       "5386"
      ]
     },
     "execution_count": 1571,
     "metadata": {},
     "output_type": "execute_result"
    }
   ],
   "source": [
    "np.shape(adpGrid)[0]"
   ]
  },
  {
   "cell_type": "code",
   "execution_count": 1572,
   "id": "85e98221",
   "metadata": {},
   "outputs": [],
   "source": [
    "#adpGrid=generateListOfAdaptiveGridCoords(N, gaussianElectronDensity, 1e-4, 5)\n",
    "#b=constructResultVectorAdaptive(adpGrid, gaussianElectronDensity)\n",
    "#b=constructResultVector(electronDensity_2s)\n",
    "#b=addBoundaryConditions(b)\n",
    "\n",
    "b_1=constructResultVector(electronDensity)\n",
    "b_1=addBoundaryConditions(b_1)"
   ]
  },
  {
   "cell_type": "code",
   "execution_count": 1573,
   "id": "c8194ded",
   "metadata": {},
   "outputs": [],
   "source": [
    "M=constructMatrixAdp(adpGrid)\n",
    "M_1=constructMatrix()"
   ]
  },
  {
   "cell_type": "code",
   "execution_count": 1574,
   "id": "bfb46232",
   "metadata": {},
   "outputs": [
    {
     "data": {
      "text/plain": [
       "(5385, 5385)"
      ]
     },
     "execution_count": 1574,
     "metadata": {},
     "output_type": "execute_result"
    }
   ],
   "source": [
    "np.shape(M)"
   ]
  },
  {
   "cell_type": "code",
   "execution_count": 1575,
   "id": "6009e650",
   "metadata": {},
   "outputs": [
    {
     "data": {
      "text/plain": [
       "(5385,)"
      ]
     },
     "execution_count": 1575,
     "metadata": {},
     "output_type": "execute_result"
    }
   ],
   "source": [
    "np.shape(b)"
   ]
  },
  {
   "cell_type": "code",
   "execution_count": 1576,
   "id": "2512a279",
   "metadata": {},
   "outputs": [
    {
     "data": {
      "text/plain": [
       "(999,)"
      ]
     },
     "execution_count": 1576,
     "metadata": {},
     "output_type": "execute_result"
    }
   ],
   "source": [
    "np.shape(b_1)"
   ]
  },
  {
   "cell_type": "code",
   "execution_count": 1577,
   "id": "289ccf60",
   "metadata": {},
   "outputs": [],
   "source": [
    "#sols=linalg.solve(M, b)\n",
    "sols_1=linalg.solve(M_1, b_1)"
   ]
  },
  {
   "cell_type": "code",
   "execution_count": null,
   "id": "dc6a3c35",
   "metadata": {},
   "outputs": [],
   "source": []
  },
  {
   "cell_type": "code",
   "execution_count": 1578,
   "id": "ae28c95c",
   "metadata": {},
   "outputs": [
    {
     "data": {
      "text/plain": [
       "<matplotlib.collections.PathCollection at 0x122a3b850>"
      ]
     },
     "execution_count": 1578,
     "metadata": {},
     "output_type": "execute_result"
    },
    {
     "data": {
      "image/png": "[encoded data removed]",
      "text/plain": [
       "<Figure size 432x288 with 1 Axes>"
      ]
     },
     "metadata": {
      "needs_background": "light"
     },
     "output_type": "display_data"
    }
   ],
   "source": [
    "\n",
    "x = np.linspace(startR,endR,N-1)\n",
    "y=[v(r) for r in x]\n",
    "plt.scatter(x, y)\n",
    "\n",
    "\n",
    "x1=[startR+i*deltaX for i in range(b_1.size)]\n",
    "plt.scatter(x1,sols_1,c=\"green\")"
   ]
  },
  {
   "cell_type": "code",
   "execution_count": null,
   "id": "d7816dcb",
   "metadata": {},
   "outputs": [],
   "source": []
  },
  {
   "cell_type": "code",
   "execution_count": 1579,
   "id": "aca9fa96",
   "metadata": {},
   "outputs": [
    {
     "data": {
      "text/plain": [
       "array([1.0017021 , 1.00168838, 1.00167444, 1.00166028, 1.0016459 ,\n",
       "       1.00163129, 1.00161646, 1.00160139, 1.00158608, 1.00157053,\n",
       "       1.00155473, 1.00153869, 1.00152239, 1.00150583, 1.00148901,\n",
       "       1.00147193, 1.00145457, 1.00143694, 1.00141903, 1.00140084,\n",
       "       1.00138236, 1.00136358, 1.0013445 , 1.00132513, 1.00130544,\n",
       "       1.00128544, 1.00126512, 1.00124448, 1.00122351, 1.0012022 ,\n",
       "       1.00118056, 1.00115857, 1.00113623, 1.00111353, 1.00109047,\n",
       "       1.00106705, 1.00104324, 1.00101906, 1.0009945 , 1.00096953,\n",
       "       1.00094418, 1.00091841, 1.00089223, 1.00086564, 1.00083862,\n",
       "       1.00081116, 1.00078327, 1.00075493, 1.00072614, 1.00069689,\n",
       "       1.00066717, 1.00063697, 1.00060629, 1.00057511, 1.00054344,\n",
       "       1.00051126, 1.00047857, 1.00044535, 1.0004116 , 1.00037731,\n",
       "       1.00034247, 1.00030708, 1.00027111, 1.00023457, 1.00019745,\n",
       "       1.00015973, 1.0001214 , 1.00008247, 1.00004291, 1.00000271,\n",
       "       0.99996188, 0.99992038, 0.99987823, 0.9998354 , 0.99979188,\n",
       "       0.99974767, 0.99970275, 0.99965712, 0.99961075, 0.99956364,\n",
       "       0.99951578, 0.99946716, 0.99941775, 0.99936756, 0.99931657,\n",
       "       0.99926476, 0.99921213, 0.99915865, 0.99910432, 0.99904913,\n",
       "       0.99899305, 0.99893608, 0.9988782 , 0.9988194 , 0.99875967,\n",
       "       0.99869898, 0.99863732, 0.99857469, 0.99851105, 0.99844641,\n",
       "       0.99838074, 0.99831402, 0.99824624, 0.99817739, 0.99810744,\n",
       "       0.99803638, 0.9979642 , 0.99789087, 0.99781637, 0.9977407 ,\n",
       "       0.99766383, 0.99758574, 0.99750641, 0.99742583, 0.99734398,\n",
       "       0.99726083, 0.99717637, 0.99709057, 0.99700342, 0.99691489,\n",
       "       0.99682497, 0.99673363, 0.99664085, 0.99654661, 0.99645088,\n",
       "       0.99635365, 0.9962549 , 0.99615459, 0.9960527 , 0.99594921,\n",
       "       0.99584411, 0.99573735, 0.99562892, 0.99551879, 0.99540694,\n",
       "       0.99529334, 0.99517796, 0.99506078, 0.99494176, 0.9948209 ,\n",
       "       0.99469814, 0.99457348, 0.99444687, 0.99431829, 0.99418771,\n",
       "       0.9940551 , 0.99392043, 0.99378367, 0.99364479, 0.99350375,\n",
       "       0.99336054, 0.9932151 , 0.99306741, 0.99291744, 0.99276516,\n",
       "       0.99261052, 0.9924535 , 0.99229406, 0.99213216, 0.99196777,\n",
       "       0.99180086, 0.99163138, 0.9914593 , 0.99128458, 0.99110718,\n",
       "       0.99092706, 0.99074419, 0.99055852, 0.99037002, 0.99017864,\n",
       "       0.98998435, 0.98978709, 0.98958683, 0.98938352, 0.98917713,\n",
       "       0.9889676 , 0.9887549 , 0.98853897, 0.98831978, 0.98809727,\n",
       "       0.9878714 , 0.98764212, 0.98740938, 0.98717314, 0.98693335,\n",
       "       0.98668995, 0.98644289, 0.98619213, 0.98593761, 0.98567928,\n",
       "       0.98541709, 0.98515098, 0.9848809 , 0.9846068 , 0.98432861,\n",
       "       0.98404629, 0.98375978, 0.98346901, 0.98317394, 0.9828745 ,\n",
       "       0.98257063, 0.98226227, 0.98194937, 0.98163185, 0.98130967,\n",
       "       0.98098275, 0.98065103, 0.98031445, 0.97997294, 0.97962644,\n",
       "       0.97927488, 0.97891819, 0.97855631, 0.97818917, 0.97781669,\n",
       "       0.97743882, 0.97705546, 0.97666657, 0.97627206, 0.97587185,\n",
       "       0.97546589, 0.97505408, 0.97463637, 0.97421266, 0.97378289,\n",
       "       0.97334697, 0.97290483, 0.97245639, 0.97200157, 0.97154029,\n",
       "       0.97107246, 0.97059801, 0.97011685, 0.9696289 , 0.96913407,\n",
       "       0.96863228, 0.96812344, 0.96760746, 0.96708427, 0.96655376,\n",
       "       0.96601585, 0.96547046, 0.96491748, 0.96435683, 0.96378841,\n",
       "       0.96321214, 0.96262791, 0.96203564, 0.96143523, 0.96082658,\n",
       "       0.96020959, 0.95958418, 0.95895023, 0.95830765, 0.95765635,\n",
       "       0.95699621, 0.95632714, 0.95564904, 0.9549618 , 0.95426532,\n",
       "       0.9535595 , 0.95284423, 0.9521194 , 0.95138491, 0.95064065,\n",
       "       0.94988652, 0.9491224 , 0.94834819, 0.94756378, 0.94676906,\n",
       "       0.94596391, 0.94514822, 0.94432189, 0.9434848 , 0.94263683,\n",
       "       0.94177788, 0.94090782, 0.94002655, 0.93913394, 0.93822989,\n",
       "       0.93731427, 0.93638697, 0.93544787, 0.93449686, 0.93353381,\n",
       "       0.9325586 , 0.93157112, 0.93057125, 0.92955887, 0.92853385,\n",
       "       0.92749608, 0.92644543, 0.92538179, 0.92430504, 0.92321504,\n",
       "       0.92211169, 0.92099485, 0.91986441, 0.91872024, 0.91756222,\n",
       "       0.91639023, 0.91520415, 0.91400385, 0.91278921, 0.91156011,\n",
       "       0.91031642, 0.90905803, 0.90778481, 0.90649663, 0.90519338,\n",
       "       0.90387494, 0.90254118, 0.90119198, 0.89982722, 0.89844678,\n",
       "       0.89705054, 0.89563837, 0.89421017, 0.89276581, 0.89130517,\n",
       "       0.88982813, 0.88833458, 0.88682439, 0.88529746, 0.88375367,\n",
       "       0.8821929 , 0.88061504, 0.87901998, 0.8774076 , 0.87577778,\n",
       "       0.87413044, 0.87246544, 0.87078268, 0.86908207, 0.86736348,\n",
       "       0.86562681, 0.86387197, 0.86209884, 0.86030733, 0.85849733,\n",
       "       0.85666875, 0.85482149, 0.85295546, 0.85107055, 0.84916668,\n",
       "       0.84724376, 0.84530169, 0.84334039, 0.84135977, 0.83935975,\n",
       "       0.83734025, 0.83530118, 0.83324246, 0.83116403, 0.8290658 ,\n",
       "       0.8269477 , 0.82480966, 0.82265162, 0.8204735 , 0.81827525,\n",
       "       0.81605679, 0.81381809, 0.81155906, 0.80927967, 0.80697986,\n",
       "       0.80465958, 0.80231879, 0.79995743, 0.79757548, 0.79517288,\n",
       "       0.79274961, 0.79030563, 0.7878409 , 0.78535542, 0.78284914,\n",
       "       0.78032205, 0.77777413, 0.77520536, 0.77261573, 0.77000524,\n",
       "       0.76737387, 0.76472162, 0.7620485 , 0.7593545 , 0.75663964,\n",
       "       0.75390392, 0.75114736, 0.74836997, 0.74557177, 0.7427528 ,\n",
       "       0.73991307, 0.73705262, 0.73417147, 0.73126968, 0.72834728,\n",
       "       0.72540431, 0.72244082, 0.71945686, 0.7164525 , 0.71342779,\n",
       "       0.71038279, 0.70731757, 0.7042322 , 0.70112676, 0.69800131,\n",
       "       0.69485595, 0.69169076, 0.68850583, 0.68530125, 0.68207711,\n",
       "       0.67883352, 0.67557057, 0.67228839, 0.66898707, 0.66566674,\n",
       "       0.66232751, 0.6589695 , 0.65559284, 0.65219766, 0.6487841 ,\n",
       "       0.64535228, 0.64190235, 0.63843445, 0.63494873, 0.63144534,\n",
       "       0.62792444, 0.62438618, 0.62083073, 0.61725824, 0.61366889,\n",
       "       0.61006284, 0.60644028, 0.60280138, 0.59914632, 0.59547528,\n",
       "       0.59178845, 0.58808603, 0.58436821, 0.58063517, 0.57688713,\n",
       "       0.57312429, 0.56934684, 0.565555  , 0.56174898, 0.55792898,\n",
       "       0.55409524, 0.55024796, 0.54638737, 0.54251368, 0.53862714,\n",
       "       0.53472796, 0.53081637, 0.52689261, 0.52295691, 0.51900951,\n",
       "       0.51505064, 0.51108056, 0.5070995 , 0.5031077 , 0.49910541,\n",
       "       0.49509288, 0.49107037, 0.48703811, 0.48299636, 0.47894538,\n",
       "       0.47488543, 0.47081674, 0.4667396 , 0.46265424, 0.45856094,\n",
       "       0.45445996, 0.45035155, 0.44623597, 0.4421135 , 0.43798438,\n",
       "       0.4338489 , 0.42970731, 0.42555988, 0.42140687, 0.41724855,\n",
       "       0.41308518, 0.40891704, 0.40474439, 0.40056749, 0.39638662,\n",
       "       0.39220204, 0.38801402, 0.38382283, 0.37962874, 0.37543202,\n",
       "       0.37123295, 0.3670318 , 0.36282885, 0.35862439, 0.35441873,\n",
       "       0.35021221, 0.34600522, 0.34179835, 0.33759273, 0.37624469,\n",
       "       0.33759273, 0.34179835, 0.34600522, 0.35021221, 0.35441873,\n",
       "       0.35862439, 0.36282885, 0.3670318 , 0.37123295, 0.37543202,\n",
       "       0.37962874, 0.38382283, 0.38801402, 0.39220204, 0.39638662,\n",
       "       0.40056749, 0.40474439, 0.40891704, 0.41308518, 0.41724855,\n",
       "       0.42140687, 0.42555988, 0.42970731, 0.4338489 , 0.43798438,\n",
       "       0.4421135 , 0.44623597, 0.45035155, 0.45445996, 0.45856094,\n",
       "       0.46265424, 0.4667396 , 0.47081674, 0.47488543, 0.47894538,\n",
       "       0.48299636, 0.48703811, 0.49107037, 0.49509288, 0.49910541,\n",
       "       0.5031077 , 0.5070995 , 0.51108056, 0.51505064, 0.51900951,\n",
       "       0.52295691, 0.52689261, 0.53081637, 0.53472796, 0.53862714,\n",
       "       0.54251368, 0.54638737, 0.55024796, 0.55409524, 0.55792898,\n",
       "       0.56174898, 0.565555  , 0.56934684, 0.57312429, 0.57688713,\n",
       "       0.58063517, 0.58436821, 0.58808603, 0.59178845, 0.59547528,\n",
       "       0.59914632, 0.60280138, 0.60644028, 0.61006284, 0.61366889,\n",
       "       0.61725824, 0.62083073, 0.62438618, 0.62792444, 0.63144534,\n",
       "       0.63494873, 0.63843445, 0.64190235, 0.64535228, 0.6487841 ,\n",
       "       0.65219766, 0.65559284, 0.6589695 , 0.66232751, 0.66566674,\n",
       "       0.66898707, 0.67228839, 0.67557057, 0.67883352, 0.68207711,\n",
       "       0.68530125, 0.68850583, 0.69169076, 0.69485595, 0.69800131,\n",
       "       0.70112676, 0.7042322 , 0.70731757, 0.71038279, 0.71342779,\n",
       "       0.7164525 , 0.71945686, 0.72244082, 0.72540431, 0.72834728,\n",
       "       0.73126968, 0.73417147, 0.73705262, 0.73991307, 0.7427528 ,\n",
       "       0.74557177, 0.74836997, 0.75114736, 0.75390392, 0.75663964,\n",
       "       0.7593545 , 0.7620485 , 0.76472162, 0.76737387, 0.77000524,\n",
       "       0.77261573, 0.77520536, 0.77777413, 0.78032205, 0.78284914,\n",
       "       0.78535542, 0.7878409 , 0.79030563, 0.79274961, 0.79517288,\n",
       "       0.79757548, 0.79995743, 0.80231879, 0.80465958, 0.80697986,\n",
       "       0.80927967, 0.81155906, 0.81381809, 0.81605679, 0.81827525,\n",
       "       0.8204735 , 0.82265162, 0.82480966, 0.8269477 , 0.8290658 ,\n",
       "       0.83116403, 0.83324246, 0.83530118, 0.83734025, 0.83935975,\n",
       "       0.84135977, 0.84334039, 0.84530169, 0.84724376, 0.84916668,\n",
       "       0.85107055, 0.85295546, 0.85482149, 0.85666875, 0.85849733,\n",
       "       0.86030733, 0.86209884, 0.86387197, 0.86562681, 0.86736348,\n",
       "       0.86908207, 0.87078268, 0.87246544, 0.87413044, 0.87577778,\n",
       "       0.8774076 , 0.87901998, 0.88061504, 0.8821929 , 0.88375367,\n",
       "       0.88529746, 0.88682439, 0.88833458, 0.88982813, 0.89130517,\n",
       "       0.89276581, 0.89421017, 0.89563837, 0.89705054, 0.89844678,\n",
       "       0.89982722, 0.90119198, 0.90254118, 0.90387494, 0.90519338,\n",
       "       0.90649663, 0.90778481, 0.90905803, 0.91031642, 0.91156011,\n",
       "       0.91278921, 0.91400385, 0.91520415, 0.91639023, 0.91756222,\n",
       "       0.91872024, 0.91986441, 0.92099485, 0.92211169, 0.92321504,\n",
       "       0.92430504, 0.92538179, 0.92644543, 0.92749608, 0.92853385,\n",
       "       0.92955887, 0.93057125, 0.93157112, 0.9325586 , 0.93353381,\n",
       "       0.93449686, 0.93544787, 0.93638697, 0.93731427, 0.93822989,\n",
       "       0.93913394, 0.94002655, 0.94090782, 0.94177788, 0.94263683,\n",
       "       0.9434848 , 0.94432189, 0.94514822, 0.94596391, 0.94676906,\n",
       "       0.94756378, 0.94834819, 0.9491224 , 0.94988652, 0.95064065,\n",
       "       0.95138491, 0.9521194 , 0.95284423, 0.9535595 , 0.95426532,\n",
       "       0.9549618 , 0.95564904, 0.95632714, 0.95699621, 0.95765635,\n",
       "       0.95830765, 0.95895023, 0.95958418, 0.96020959, 0.96082658,\n",
       "       0.96143523, 0.96203564, 0.96262791, 0.96321214, 0.96378841,\n",
       "       0.96435683, 0.96491748, 0.96547046, 0.96601585, 0.96655376,\n",
       "       0.96708427, 0.96760746, 0.96812344, 0.96863228, 0.96913407,\n",
       "       0.9696289 , 0.97011685, 0.97059801, 0.97107246, 0.97154029,\n",
       "       0.97200157, 0.97245639, 0.97290483, 0.97334697, 0.97378289,\n",
       "       0.97421266, 0.97463637, 0.97505408, 0.97546589, 0.97587185,\n",
       "       0.97627206, 0.97666657, 0.97705546, 0.97743882, 0.97781669,\n",
       "       0.97818917, 0.97855631, 0.97891819, 0.97927488, 0.97962644,\n",
       "       0.97997294, 0.98031445, 0.98065103, 0.98098275, 0.98130967,\n",
       "       0.98163185, 0.98194937, 0.98226227, 0.98257063, 0.9828745 ,\n",
       "       0.98317394, 0.98346901, 0.98375978, 0.98404629, 0.98432861,\n",
       "       0.9846068 , 0.9848809 , 0.98515098, 0.98541709, 0.98567928,\n",
       "       0.98593761, 0.98619213, 0.98644289, 0.98668995, 0.98693335,\n",
       "       0.98717314, 0.98740938, 0.98764212, 0.9878714 , 0.98809727,\n",
       "       0.98831978, 0.98853897, 0.9887549 , 0.9889676 , 0.98917713,\n",
       "       0.98938352, 0.98958683, 0.98978709, 0.98998435, 0.99017864,\n",
       "       0.99037002, 0.99055852, 0.99074419, 0.99092706, 0.99110718,\n",
       "       0.99128458, 0.9914593 , 0.99163138, 0.99180086, 0.99196777,\n",
       "       0.99213216, 0.99229406, 0.9924535 , 0.99261052, 0.99276516,\n",
       "       0.99291744, 0.99306741, 0.9932151 , 0.99336054, 0.99350375,\n",
       "       0.99364479, 0.99378367, 0.99392043, 0.9940551 , 0.99418771,\n",
       "       0.99431829, 0.99444687, 0.99457348, 0.99469814, 0.9948209 ,\n",
       "       0.99494176, 0.99506078, 0.99517796, 0.99529334, 0.99540694,\n",
       "       0.99551879, 0.99562892, 0.99573735, 0.99584411, 0.99594921,\n",
       "       0.9960527 , 0.99615459, 0.9962549 , 0.99635365, 0.99645088,\n",
       "       0.99654661, 0.99664085, 0.99673363, 0.99682497, 0.99691489,\n",
       "       0.99700342, 0.99709057, 0.99717637, 0.99726083, 0.99734398,\n",
       "       0.99742583, 0.99750641, 0.99758574, 0.99766383, 0.9977407 ,\n",
       "       0.99781637, 0.99789087, 0.9979642 , 0.99803638, 0.99810744,\n",
       "       0.99817739, 0.99824624, 0.99831402, 0.99838074, 0.99844641,\n",
       "       0.99851105, 0.99857469, 0.99863732, 0.99869898, 0.99875967,\n",
       "       0.9988194 , 0.9988782 , 0.99893608, 0.99899305, 0.99904913,\n",
       "       0.99910432, 0.99915865, 0.99921213, 0.99926476, 0.99931657,\n",
       "       0.99936756, 0.99941775, 0.99946716, 0.99951578, 0.99956364,\n",
       "       0.99961075, 0.99965712, 0.99970275, 0.99974767, 0.99979188,\n",
       "       0.9998354 , 0.99987823, 0.99992038, 0.99996188, 1.00000271,\n",
       "       1.00004291, 1.00008247, 1.0001214 , 1.00015973, 1.00019745,\n",
       "       1.00023457, 1.00027111, 1.00030708, 1.00034247, 1.00037731,\n",
       "       1.0004116 , 1.00044535, 1.00047857, 1.00051126, 1.00054344,\n",
       "       1.00057511, 1.00060629, 1.00063697, 1.00066717, 1.00069689,\n",
       "       1.00072614, 1.00075493, 1.00078327, 1.00081116, 1.00083862,\n",
       "       1.00086564, 1.00089223, 1.00091841, 1.00094418, 1.00096953,\n",
       "       1.0009945 , 1.00101906, 1.00104324, 1.00106705, 1.00109047,\n",
       "       1.00111353, 1.00113623, 1.00115857, 1.00118056, 1.0012022 ,\n",
       "       1.00122351, 1.00124448, 1.00126512, 1.00128544, 1.00130544,\n",
       "       1.00132513, 1.0013445 , 1.00136358, 1.00138236, 1.00140084,\n",
       "       1.00141903, 1.00143694, 1.00145457, 1.00147193, 1.00148901,\n",
       "       1.00150583, 1.00152239, 1.00153869, 1.00155473, 1.00157053,\n",
       "       1.00158608, 1.00160139, 1.00161646, 1.00163129, 1.0016459 ,\n",
       "       1.00166028, 1.00167444, 1.00168838, 1.0017021 ])"
      ]
     },
     "execution_count": 1579,
     "metadata": {},
     "output_type": "execute_result"
    }
   ],
   "source": [
    "sols_1/y"
   ]
  },
  {
   "cell_type": "code",
   "execution_count": 1580,
   "id": "7b99d6c1",
   "metadata": {},
   "outputs": [
    {
     "data": {
      "text/plain": [
       "<matplotlib.collections.PathCollection at 0x1229fcd30>"
      ]
     },
     "execution_count": 1580,
     "metadata": {},
     "output_type": "execute_result"
    },
    {
     "data": {
      "image/png": "[encoded data removed]",
      "text/plain": [
       "<Figure size 432x288 with 1 Axes>"
      ]
     },
     "metadata": {
      "needs_background": "light"
     },
     "output_type": "display_data"
    }
   ],
   "source": [
    "plt.scatter(x, sols_1/y)"
   ]
  },
  {
   "cell_type": "code",
   "execution_count": 1581,
   "id": "8ae01174",
   "metadata": {},
   "outputs": [
    {
     "data": {
      "text/plain": [
       "<matplotlib.collections.PathCollection at 0x122ad13d0>"
      ]
     },
     "execution_count": 1581,
     "metadata": {},
     "output_type": "execute_result"
    },
    {
     "data": {
      "image/png": "[encoded data removed]",
      "text/plain": [
       "<Figure size 432x288 with 1 Axes>"
      ]
     },
     "metadata": {
      "needs_background": "light"
     },
     "output_type": "display_data"
    }
   ],
   "source": [
    "\n",
    "x = np.linspace(-5,5,10000)\n",
    "y=[v(r) for r in x]\n",
    "plt.scatter(x, y)"
   ]
  },
  {
   "cell_type": "code",
   "execution_count": null,
   "id": "cb1bbfdf",
   "metadata": {},
   "outputs": [],
   "source": []
  },
  {
   "cell_type": "code",
   "execution_count": 1582,
   "id": "652fbfe8",
   "metadata": {},
   "outputs": [
    {
     "data": {
      "text/plain": [
       "7.5613180469550825"
      ]
     },
     "execution_count": 1582,
     "metadata": {},
     "output_type": "execute_result"
    }
   ],
   "source": [
    "3/(4*np.pi*a*eps)"
   ]
  },
  {
   "cell_type": "code",
   "execution_count": 1583,
   "id": "9a157aa1",
   "metadata": {},
   "outputs": [
    {
     "data": {
      "text/plain": [
       "0.02666624831226159"
      ]
     },
     "execution_count": 1583,
     "metadata": {},
     "output_type": "execute_result"
    }
   ],
   "source": [
    "y[np.shape(y)[0]-1]"
   ]
  },
  {
   "cell_type": "code",
   "execution_count": 1584,
   "id": "74b96e82",
   "metadata": {},
   "outputs": [
    {
     "data": {
      "text/plain": [
       "10000"
      ]
     },
     "execution_count": 1584,
     "metadata": {},
     "output_type": "execute_result"
    }
   ],
   "source": [
    "np.shape(y)[0]"
   ]
  },
  {
   "cell_type": "code",
   "execution_count": 1585,
   "id": "73413820",
   "metadata": {},
   "outputs": [
    {
     "data": {
      "text/plain": [
       "0.5333249662452318"
      ]
     },
     "execution_count": 1585,
     "metadata": {},
     "output_type": "execute_result"
    }
   ],
   "source": [
    "boundary_condition(startR)"
   ]
  },
  {
   "cell_type": "code",
   "execution_count": 1586,
   "id": "ec8b1935",
   "metadata": {},
   "outputs": [
    {
     "data": {
      "text/plain": [
       "0.5333249662452318"
      ]
     },
     "execution_count": 1586,
     "metadata": {},
     "output_type": "execute_result"
    }
   ],
   "source": [
    "boundary_condition(endR)"
   ]
  },
  {
   "cell_type": "code",
   "execution_count": 1587,
   "id": "53fe0e3d",
   "metadata": {},
   "outputs": [
    {
     "data": {
      "text/plain": [
       "0.5343890893008295"
      ]
     },
     "execution_count": 1587,
     "metadata": {},
     "output_type": "execute_result"
    }
   ],
   "source": [
    "sols_1[len(sols_1)-1]"
   ]
  },
  {
   "cell_type": "code",
   "execution_count": 1588,
   "id": "435d7c0f",
   "metadata": {},
   "outputs": [
    {
     "data": {
      "text/plain": [
       "0.9953222650189527"
      ]
     },
     "execution_count": 1588,
     "metadata": {},
     "output_type": "execute_result"
    }
   ],
   "source": [
    "scipy.special.erf(2)"
   ]
  },
  {
   "cell_type": "code",
   "execution_count": 1589,
   "id": "f1d69e7d",
   "metadata": {},
   "outputs": [
    {
     "data": {
      "text/plain": [
       "-0.6117680482281648"
      ]
     },
     "execution_count": 1589,
     "metadata": {},
     "output_type": "execute_result"
    }
   ],
   "source": [
    "v_2s(endR)"
   ]
  },
  {
   "cell_type": "code",
   "execution_count": 1590,
   "id": "831b8b22",
   "metadata": {},
   "outputs": [
    {
     "data": {
      "text/plain": [
       "array([6.65323874e+01, 9.11083118e-06, 9.24744607e-06, 9.38603347e-06,\n",
       "       9.52662036e-06, 9.66923409e-06, 9.81390231e-06, 9.96065305e-06,\n",
       "       1.01095147e-05, 1.02605159e-05, 1.04136858e-05, 1.05690539e-05,\n",
       "       1.07266499e-05, 1.08865040e-05, 1.10486468e-05, 1.12131092e-05,\n",
       "       1.13799226e-05, 1.15491185e-05, 1.17207291e-05, 1.18947869e-05,\n",
       "       1.20713247e-05, 1.22503759e-05, 1.24319740e-05, 1.26161532e-05,\n",
       "       1.28029481e-05, 1.29923934e-05, 1.31845246e-05, 1.33793775e-05,\n",
       "       1.35769881e-05, 1.37773932e-05, 1.39806299e-05, 1.41867356e-05,\n",
       "       1.43957482e-05, 1.46077063e-05, 1.48226487e-05, 1.50406147e-05,\n",
       "       1.52616441e-05, 1.54857771e-05, 1.57130545e-05, 1.59435176e-05,\n",
       "       1.61772079e-05, 1.64141677e-05, 1.66544396e-05, 1.68980668e-05,\n",
       "       1.71450930e-05, 1.73955623e-05, 1.76495194e-05, 1.79070094e-05,\n",
       "       1.81680782e-05, 1.84327719e-05, 1.87011372e-05, 1.89732214e-05,\n",
       "       1.92490725e-05, 1.95287386e-05, 1.98122687e-05, 2.00997123e-05,\n",
       "       2.03911194e-05, 2.06865404e-05, 2.09860266e-05, 2.12896297e-05,\n",
       "       2.15974018e-05, 2.19093958e-05, 2.22256652e-05, 2.25462638e-05,\n",
       "       2.28712464e-05, 2.32006681e-05, 2.35345846e-05, 2.38730524e-05,\n",
       "       2.42161284e-05, 2.45638702e-05, 2.49163360e-05, 2.52735847e-05,\n",
       "       2.56356758e-05, 2.60026692e-05, 2.63746257e-05, 2.67516067e-05,\n",
       "       2.71336741e-05, 2.75208906e-05, 2.79133194e-05, 2.83110245e-05,\n",
       "       2.87140706e-05, 2.91225227e-05, 2.95364469e-05, 2.99559098e-05,\n",
       "       3.03809786e-05, 3.08117211e-05, 3.12482062e-05, 3.16905029e-05,\n",
       "       3.21386814e-05, 3.25928123e-05, 3.30529670e-05, 3.35192175e-05,\n",
       "       3.39916366e-05, 3.44702977e-05, 3.49552751e-05, 3.54466437e-05,\n",
       "       3.59444790e-05, 3.64488573e-05, 3.69598557e-05, 3.74775520e-05,\n",
       "       3.80020246e-05, 3.85333528e-05, 3.90716164e-05, 3.96168961e-05,\n",
       "       4.01692735e-05, 4.07288305e-05, 4.12956500e-05, 4.18698158e-05,\n",
       "       4.24514121e-05, 4.30405240e-05, 4.36372375e-05, 4.42416390e-05,\n",
       "       4.48538159e-05, 4.54738563e-05, 4.61018491e-05, 4.67378837e-05,\n",
       "       4.73820506e-05, 4.80344409e-05, 4.86951463e-05, 4.93642594e-05,\n",
       "       5.00418736e-05, 5.07280830e-05, 5.14229823e-05, 5.21266672e-05,\n",
       "       5.28392340e-05, 5.35607798e-05, 5.42914023e-05, 5.50312001e-05,\n",
       "       5.57802725e-05, 5.65387196e-05, 5.73066421e-05, 5.80841416e-05,\n",
       "       5.88713201e-05, 5.96682808e-05, 6.04751273e-05, 6.12919639e-05,\n",
       "       6.21188959e-05, 6.29560290e-05, 6.38034698e-05, 6.46613254e-05,\n",
       "       6.55297039e-05, 6.64087138e-05, 6.72984645e-05, 6.81990659e-05,\n",
       "       6.91106287e-05, 7.00332641e-05, 7.09670843e-05, 7.19122017e-05,\n",
       "       7.28687296e-05, 7.38367819e-05, 7.48164732e-05, 7.58079186e-05,\n",
       "       7.68112337e-05, 7.78265350e-05, 7.88539392e-05, 7.98935639e-05,\n",
       "       8.09455271e-05, 8.20099474e-05, 8.30869439e-05, 8.41766362e-05,\n",
       "       8.52791444e-05, 8.63945892e-05, 8.75230917e-05, 8.86647735e-05,\n",
       "       8.98197565e-05, 9.09881632e-05, 9.21701164e-05, 9.33657394e-05,\n",
       "       9.45751559e-05, 9.57984898e-05, 9.70358653e-05, 9.82874073e-05,\n",
       "       9.95532405e-05, 1.00833490e-04, 1.02128282e-04, 1.03437741e-04,\n",
       "       1.04761994e-04, 1.06101166e-04, 1.07455385e-04, 1.08824775e-04,\n",
       "       1.10209464e-04, 1.11609578e-04, 1.13025244e-04, 1.14456589e-04,\n",
       "       1.15903738e-04, 1.17366819e-04, 1.18845958e-04, 1.20341281e-04,\n",
       "       1.21852915e-04, 1.23380986e-04, 1.24925618e-04, 1.26486939e-04,\n",
       "       1.28065074e-04, 1.29660146e-04, 1.31272282e-04, 1.32901604e-04,\n",
       "       1.34548238e-04, 1.36212306e-04, 1.37893930e-04, 1.39593234e-04,\n",
       "       1.41310339e-04, 1.43045364e-04, 1.44798432e-04, 1.46569661e-04,\n",
       "       1.48359169e-04, 1.50167075e-04, 1.51993495e-04, 1.53838544e-04,\n",
       "       1.55702339e-04, 1.57584992e-04, 1.59486615e-04, 1.61407321e-04,\n",
       "       1.63347220e-04, 1.65306419e-04, 1.67285027e-04, 1.69283149e-04,\n",
       "       1.71300889e-04, 1.73338351e-04, 1.75395635e-04, 1.77472841e-04,\n",
       "       1.79570066e-04, 1.81687406e-04, 1.83824955e-04, 1.85982804e-04,\n",
       "       1.88161042e-04, 1.90359758e-04, 1.92579036e-04, 1.94818959e-04,\n",
       "       1.97079607e-04, 1.99361058e-04, 2.01663387e-04, 2.03986666e-04,\n",
       "       2.06330965e-04, 2.08696351e-04, 2.11082886e-04, 2.13490633e-04,\n",
       "       2.15919647e-04, 2.18369983e-04, 2.20841692e-04, 2.23334821e-04,\n",
       "       2.25849413e-04, 2.28385508e-04, 2.30943142e-04, 2.33522347e-04,\n",
       "       2.36123151e-04, 2.38745577e-04, 2.41389645e-04, 2.44055369e-04,\n",
       "       2.46742760e-04, 2.49451824e-04, 2.52182562e-04, 2.54934969e-04,\n",
       "       2.57709036e-04, 2.60504748e-04, 2.63322087e-04, 2.66161026e-04,\n",
       "       2.69021534e-04, 2.71903576e-04, 2.74807108e-04, 2.77732081e-04,\n",
       "       2.80678441e-04, 2.83646126e-04, 2.86635067e-04, 2.89645191e-04,\n",
       "       2.92676416e-04, 2.95728654e-04, 2.98801807e-04, 3.01895774e-04,\n",
       "       3.05010444e-04, 3.08145698e-04, 3.11301409e-04, 3.14477444e-04,\n",
       "       3.17673660e-04, 3.20889905e-04, 3.24126021e-04, 3.27381838e-04,\n",
       "       3.30657178e-04, 3.33951856e-04, 3.37265675e-04, 3.40598429e-04,\n",
       "       3.43949902e-04, 3.47319870e-04, 3.50708097e-04, 3.54114335e-04,\n",
       "       3.57538330e-04, 3.60979812e-04, 3.64438504e-04, 3.67914115e-04,\n",
       "       3.71406345e-04, 3.74914880e-04, 3.78439394e-04, 3.81979552e-04,\n",
       "       3.85535003e-04, 3.89105385e-04, 3.92690324e-04, 3.96289431e-04,\n",
       "       3.99902306e-04, 4.03528532e-04, 4.07167682e-04, 4.10819312e-04,\n",
       "       4.14482966e-04, 4.18158173e-04, 4.21844446e-04, 4.25541284e-04,\n",
       "       4.29248171e-04, 4.32964574e-04, 4.36689947e-04, 4.40423725e-04,\n",
       "       4.44165328e-04, 4.47914160e-04, 4.51669609e-04, 4.55431043e-04,\n",
       "       4.59197816e-04, 4.62969263e-04, 4.66744701e-04, 4.70523429e-04,\n",
       "       4.74304729e-04, 4.78087862e-04, 4.81872074e-04, 4.85656589e-04,\n",
       "       4.89440612e-04, 4.93223329e-04, 4.97003907e-04, 5.00781492e-04,\n",
       "       5.04555210e-04, 5.08324167e-04, 5.12087446e-04, 5.15844113e-04,\n",
       "       5.19593210e-04, 5.23333757e-04, 5.27064755e-04, 5.30785181e-04,\n",
       "       5.34493991e-04, 5.38190118e-04, 5.41872473e-04, 5.45539943e-04,\n",
       "       5.49191394e-04, 5.52825667e-04, 5.56441582e-04, 5.60037933e-04,\n",
       "       5.63613493e-04, 5.67167007e-04, 5.70697201e-04, 5.74202774e-04,\n",
       "       5.77682401e-04, 5.81134732e-04, 5.84558395e-04, 5.87951990e-04,\n",
       "       5.91314095e-04, 5.94643262e-04, 5.97938018e-04, 6.01196864e-04,\n",
       "       6.04418280e-04, 6.07600715e-04, 6.10742599e-04, 6.13842332e-04,\n",
       "       6.16898291e-04, 6.19908829e-04, 6.22872273e-04, 6.25786923e-04,\n",
       "       6.28651058e-04, 6.31462931e-04, 6.34220767e-04, 6.36922772e-04,\n",
       "       6.39567125e-04, 6.42151979e-04, 6.44675467e-04, 6.47135695e-04,\n",
       "       6.49530749e-04, 6.51858689e-04, 6.54117554e-04, 6.56305359e-04,\n",
       "       6.58420100e-04, 6.60459748e-04, 6.62422256e-04, 6.64305555e-04,\n",
       "       6.66107555e-04, 6.67826149e-04, 6.69459209e-04, 6.71004591e-04,\n",
       "       6.72460131e-04, 6.73823651e-04, 6.75092955e-04, 6.76265833e-04,\n",
       "       6.77340061e-04, 6.78313402e-04, 6.79183606e-04, 6.79948412e-04,\n",
       "       6.80605550e-04, 6.81152739e-04, 6.81587694e-04, 6.81908120e-04,\n",
       "       6.82111720e-04, 6.82196192e-04, 6.82159233e-04, 6.81998538e-04,\n",
       "       6.81711806e-04, 6.81296737e-04, 6.80751037e-04, 6.80072418e-04,\n",
       "       6.79258601e-04, 6.78307320e-04, 6.77216319e-04, 6.75983359e-04,\n",
       "       6.74606220e-04, 6.73082700e-04, 6.71410622e-04, 6.69587834e-04,\n",
       "       6.67612211e-04, 6.65481662e-04, 6.63194129e-04, 6.60747592e-04,\n",
       "       6.58140072e-04, 6.55369634e-04, 6.52434393e-04, 6.49332514e-04,\n",
       "       6.46062218e-04, 6.42621787e-04, 6.39009566e-04, 6.35223968e-04,\n",
       "       6.31263481e-04, 6.27126668e-04, 6.22812177e-04, 6.18318742e-04,\n",
       "       6.13645190e-04, 6.08790448e-04, 6.03753546e-04, 5.98533623e-04,\n",
       "       5.93129934e-04, 5.87541860e-04, 5.81768905e-04, 5.75810715e-04,\n",
       "       5.69667073e-04, 5.63337915e-04, 5.56823335e-04, 5.50123591e-04,\n",
       "       5.43239114e-04, 5.36170519e-04, 5.28918608e-04, 5.21484385e-04,\n",
       "       5.13869062e-04, 5.06074068e-04, 4.98101062e-04, 4.89951940e-04,\n",
       "       4.81628846e-04, 4.73134187e-04, 4.64470637e-04, 4.55641156e-04,\n",
       "       4.46648998e-04, 4.37497723e-04, 4.28191213e-04, 4.18733683e-04,\n",
       "       4.09129695e-04, 3.99384172e-04, 3.89502415e-04, 3.79490114e-04,\n",
       "       3.69353368e-04, 3.59098697e-04, 3.48733063e-04, 3.38263884e-04,\n",
       "       3.27699051e-04, 3.17046950e-04, 3.06316478e-04, 2.95517064e-04,\n",
       "       2.84658686e-04, 2.73751898e-04, 2.62807844e-04, 2.51838286e-04,\n",
       "       2.40855621e-04, 2.29872911e-04, 2.18903903e-04, 2.07963053e-04,\n",
       "       1.97065556e-04, 1.86227367e-04, 1.75465233e-04, 1.64796719e-04,\n",
       "       1.54240236e-04, 1.43815074e-04, 1.33541430e-04, 1.23440439e-04,\n",
       "       1.13534210e-04, 1.03845856e-04, 9.43995313e-05, 8.52204664e-05,\n",
       "       7.63350039e-05, 6.77706370e-05, 5.95560483e-05, 5.17211500e-05,\n",
       "       4.42971251e-05, 3.73164700e-05, 3.08130379e-05, 2.48220845e-05,\n",
       "       1.93803138e-05, 1.45259261e-05, 1.02986668e-05, 6.73987742e-06,\n",
       "       3.89254741e-06, 1.80136757e-06, 5.12785256e-07, 7.42058862e-08,\n",
       "       5.12785256e-07, 1.80136757e-06, 3.89254741e-06, 6.73987742e-06,\n",
       "       1.02986668e-05, 1.45259261e-05, 1.93803138e-05, 2.48220845e-05,\n",
       "       3.08130379e-05, 3.73164700e-05, 4.42971251e-05, 5.17211500e-05,\n",
       "       5.95560483e-05, 6.77706370e-05, 7.63350039e-05, 8.52204664e-05,\n",
       "       9.43995313e-05, 1.03845856e-04, 1.13534210e-04, 1.23440439e-04,\n",
       "       1.33541430e-04, 1.43815074e-04, 1.54240236e-04, 1.64796719e-04,\n",
       "       1.75465233e-04, 1.86227367e-04, 1.97065556e-04, 2.07963053e-04,\n",
       "       2.18903903e-04, 2.29872911e-04, 2.40855621e-04, 2.51838286e-04,\n",
       "       2.62807844e-04, 2.73751898e-04, 2.84658686e-04, 2.95517064e-04,\n",
       "       3.06316478e-04, 3.17046950e-04, 3.27699051e-04, 3.38263884e-04,\n",
       "       3.48733063e-04, 3.59098697e-04, 3.69353368e-04, 3.79490114e-04,\n",
       "       3.89502415e-04, 3.99384172e-04, 4.09129695e-04, 4.18733683e-04,\n",
       "       4.28191213e-04, 4.37497723e-04, 4.46648998e-04, 4.55641156e-04,\n",
       "       4.64470637e-04, 4.73134187e-04, 4.81628846e-04, 4.89951940e-04,\n",
       "       4.98101062e-04, 5.06074068e-04, 5.13869062e-04, 5.21484385e-04,\n",
       "       5.28918608e-04, 5.36170519e-04, 5.43239114e-04, 5.50123591e-04,\n",
       "       5.56823335e-04, 5.63337915e-04, 5.69667073e-04, 5.75810715e-04,\n",
       "       5.81768905e-04, 5.87541860e-04, 5.93129934e-04, 5.98533623e-04,\n",
       "       6.03753546e-04, 6.08790448e-04, 6.13645190e-04, 6.18318742e-04,\n",
       "       6.22812177e-04, 6.27126668e-04, 6.31263481e-04, 6.35223968e-04,\n",
       "       6.39009566e-04, 6.42621787e-04, 6.46062218e-04, 6.49332514e-04,\n",
       "       6.52434393e-04, 6.55369634e-04, 6.58140072e-04, 6.60747592e-04,\n",
       "       6.63194129e-04, 6.65481662e-04, 6.67612211e-04, 6.69587834e-04,\n",
       "       6.71410622e-04, 6.73082700e-04, 6.74606220e-04, 6.75983359e-04,\n",
       "       6.77216319e-04, 6.78307320e-04, 6.79258601e-04, 6.80072418e-04,\n",
       "       6.80751037e-04, 6.81296737e-04, 6.81711806e-04, 6.81998538e-04,\n",
       "       6.82159233e-04, 6.82196192e-04, 6.82111720e-04, 6.81908120e-04,\n",
       "       6.81587694e-04, 6.81152739e-04, 6.80605550e-04, 6.79948412e-04,\n",
       "       6.79183606e-04, 6.78313402e-04, 6.77340061e-04, 6.76265833e-04,\n",
       "       6.75092955e-04, 6.73823651e-04, 6.72460131e-04, 6.71004591e-04,\n",
       "       6.69459209e-04, 6.67826149e-04, 6.66107555e-04, 6.64305555e-04,\n",
       "       6.62422256e-04, 6.60459748e-04, 6.58420100e-04, 6.56305359e-04,\n",
       "       6.54117554e-04, 6.51858689e-04, 6.49530749e-04, 6.47135695e-04,\n",
       "       6.44675467e-04, 6.42151979e-04, 6.39567125e-04, 6.36922772e-04,\n",
       "       6.34220767e-04, 6.31462931e-04, 6.28651058e-04, 6.25786923e-04,\n",
       "       6.22872273e-04, 6.19908829e-04, 6.16898291e-04, 6.13842332e-04,\n",
       "       6.10742599e-04, 6.07600715e-04, 6.04418280e-04, 6.01196864e-04,\n",
       "       5.97938018e-04, 5.94643262e-04, 5.91314095e-04, 5.87951990e-04,\n",
       "       5.84558395e-04, 5.81134732e-04, 5.77682401e-04, 5.74202774e-04,\n",
       "       5.70697201e-04, 5.67167007e-04, 5.63613493e-04, 5.60037933e-04,\n",
       "       5.56441582e-04, 5.52825667e-04, 5.49191394e-04, 5.45539943e-04,\n",
       "       5.41872473e-04, 5.38190118e-04, 5.34493991e-04, 5.30785181e-04,\n",
       "       5.27064755e-04, 5.23333757e-04, 5.19593210e-04, 5.15844113e-04,\n",
       "       5.12087446e-04, 5.08324167e-04, 5.04555210e-04, 5.00781492e-04,\n",
       "       4.97003907e-04, 4.93223329e-04, 4.89440612e-04, 4.85656589e-04,\n",
       "       4.81872074e-04, 4.78087862e-04, 4.74304729e-04, 4.70523429e-04,\n",
       "       4.66744701e-04, 4.62969263e-04, 4.59197816e-04, 4.55431043e-04,\n",
       "       4.51669609e-04, 4.47914160e-04, 4.44165328e-04, 4.40423725e-04,\n",
       "       4.36689947e-04, 4.32964574e-04, 4.29248171e-04, 4.25541284e-04,\n",
       "       4.21844446e-04, 4.18158173e-04, 4.14482966e-04, 4.10819312e-04,\n",
       "       4.07167682e-04, 4.03528532e-04, 3.99902306e-04, 3.96289431e-04,\n",
       "       3.92690324e-04, 3.89105385e-04, 3.85535003e-04, 3.81979552e-04,\n",
       "       3.78439394e-04, 3.74914880e-04, 3.71406345e-04, 3.67914115e-04,\n",
       "       3.64438504e-04, 3.60979812e-04, 3.57538330e-04, 3.54114335e-04,\n",
       "       3.50708097e-04, 3.47319870e-04, 3.43949902e-04, 3.40598429e-04,\n",
       "       3.37265675e-04, 3.33951856e-04, 3.30657178e-04, 3.27381838e-04,\n",
       "       3.24126021e-04, 3.20889905e-04, 3.17673660e-04, 3.14477444e-04,\n",
       "       3.11301409e-04, 3.08145698e-04, 3.05010444e-04, 3.01895774e-04,\n",
       "       2.98801807e-04, 2.95728654e-04, 2.92676416e-04, 2.89645191e-04,\n",
       "       2.86635067e-04, 2.83646126e-04, 2.80678441e-04, 2.77732081e-04,\n",
       "       2.74807108e-04, 2.71903576e-04, 2.69021534e-04, 2.66161026e-04,\n",
       "       2.63322087e-04, 2.60504748e-04, 2.57709036e-04, 2.54934969e-04,\n",
       "       2.52182562e-04, 2.49451824e-04, 2.46742760e-04, 2.44055369e-04,\n",
       "       2.41389645e-04, 2.38745577e-04, 2.36123151e-04, 2.33522347e-04,\n",
       "       2.30943142e-04, 2.28385508e-04, 2.25849413e-04, 2.23334821e-04,\n",
       "       2.20841692e-04, 2.18369983e-04, 2.15919647e-04, 2.13490633e-04,\n",
       "       2.11082886e-04, 2.08696351e-04, 2.06330965e-04, 2.03986666e-04,\n",
       "       2.01663387e-04, 1.99361058e-04, 1.97079607e-04, 1.94818959e-04,\n",
       "       1.92579036e-04, 1.90359758e-04, 1.88161042e-04, 1.85982804e-04,\n",
       "       1.83824955e-04, 1.81687406e-04, 1.79570066e-04, 1.77472841e-04,\n",
       "       1.75395635e-04, 1.73338351e-04, 1.71300889e-04, 1.69283149e-04,\n",
       "       1.67285027e-04, 1.65306419e-04, 1.63347220e-04, 1.61407321e-04,\n",
       "       1.59486615e-04, 1.57584992e-04, 1.55702339e-04, 1.53838544e-04,\n",
       "       1.51993495e-04, 1.50167075e-04, 1.48359169e-04, 1.46569661e-04,\n",
       "       1.44798432e-04, 1.43045364e-04, 1.41310339e-04, 1.39593234e-04,\n",
       "       1.37893930e-04, 1.36212306e-04, 1.34548238e-04, 1.32901604e-04,\n",
       "       1.31272282e-04, 1.29660146e-04, 1.28065074e-04, 1.26486939e-04,\n",
       "       1.24925618e-04, 1.23380986e-04, 1.21852915e-04, 1.20341281e-04,\n",
       "       1.18845958e-04, 1.17366819e-04, 1.15903738e-04, 1.14456589e-04,\n",
       "       1.13025244e-04, 1.11609578e-04, 1.10209464e-04, 1.08824775e-04,\n",
       "       1.07455385e-04, 1.06101166e-04, 1.04761994e-04, 1.03437741e-04,\n",
       "       1.02128282e-04, 1.00833490e-04, 9.95532405e-05, 9.82874073e-05,\n",
       "       9.70358653e-05, 9.57984898e-05, 9.45751559e-05, 9.33657394e-05,\n",
       "       9.21701164e-05, 9.09881632e-05, 8.98197565e-05, 8.86647735e-05,\n",
       "       8.75230917e-05, 8.63945892e-05, 8.52791444e-05, 8.41766362e-05,\n",
       "       8.30869439e-05, 8.20099474e-05, 8.09455271e-05, 7.98935639e-05,\n",
       "       7.88539392e-05, 7.78265350e-05, 7.68112337e-05, 7.58079186e-05,\n",
       "       7.48164732e-05, 7.38367819e-05, 7.28687296e-05, 7.19122017e-05,\n",
       "       7.09670843e-05, 7.00332641e-05, 6.91106287e-05, 6.81990659e-05,\n",
       "       6.72984645e-05, 6.64087138e-05, 6.55297039e-05, 6.46613254e-05,\n",
       "       6.38034698e-05, 6.29560290e-05, 6.21188959e-05, 6.12919639e-05,\n",
       "       6.04751273e-05, 5.96682808e-05, 5.88713201e-05, 5.80841416e-05,\n",
       "       5.73066421e-05, 5.65387196e-05, 5.57802725e-05, 5.50312001e-05,\n",
       "       5.42914023e-05, 5.35607798e-05, 5.28392340e-05, 5.21266672e-05,\n",
       "       5.14229823e-05, 5.07280830e-05, 5.00418736e-05, 4.93642594e-05,\n",
       "       4.86951463e-05, 4.80344409e-05, 4.73820506e-05, 4.67378837e-05,\n",
       "       4.61018491e-05, 4.54738563e-05, 4.48538159e-05, 4.42416390e-05,\n",
       "       4.36372375e-05, 4.30405240e-05, 4.24514121e-05, 4.18698158e-05,\n",
       "       4.12956500e-05, 4.07288305e-05, 4.01692735e-05, 3.96168961e-05,\n",
       "       3.90716164e-05, 3.85333528e-05, 3.80020246e-05, 3.74775520e-05,\n",
       "       3.69598557e-05, 3.64488573e-05, 3.59444790e-05, 3.54466437e-05,\n",
       "       3.49552751e-05, 3.44702977e-05, 3.39916366e-05, 3.35192175e-05,\n",
       "       3.30529670e-05, 3.25928123e-05, 3.21386814e-05, 3.16905029e-05,\n",
       "       3.12482062e-05, 3.08117211e-05, 3.03809786e-05, 2.99559098e-05,\n",
       "       2.95364469e-05, 2.91225227e-05, 2.87140706e-05, 2.83110245e-05,\n",
       "       2.79133194e-05, 2.75208906e-05, 2.71336741e-05, 2.67516067e-05,\n",
       "       2.63746257e-05, 2.60026692e-05, 2.56356758e-05, 2.52735847e-05,\n",
       "       2.49163360e-05, 2.45638702e-05, 2.42161284e-05, 2.38730524e-05,\n",
       "       2.35345846e-05, 2.32006681e-05, 2.28712464e-05, 2.25462638e-05,\n",
       "       2.22256652e-05, 2.19093958e-05, 2.15974018e-05, 2.12896297e-05,\n",
       "       2.09860266e-05, 2.06865404e-05, 2.03911194e-05, 2.00997123e-05,\n",
       "       1.98122687e-05, 1.95287386e-05, 1.92490725e-05, 1.89732214e-05,\n",
       "       1.87011372e-05, 1.84327719e-05, 1.81680782e-05, 1.79070094e-05,\n",
       "       1.76495194e-05, 1.73955623e-05, 1.71450930e-05, 1.68980668e-05,\n",
       "       1.66544396e-05, 1.64141677e-05, 1.61772079e-05, 1.59435176e-05,\n",
       "       1.57130545e-05, 1.54857771e-05, 1.52616441e-05, 1.50406147e-05,\n",
       "       1.48226487e-05, 1.46077063e-05, 1.43957482e-05, 1.41867356e-05,\n",
       "       1.39806299e-05, 1.37773932e-05, 1.35769881e-05, 1.33793775e-05,\n",
       "       1.31845246e-05, 1.29923934e-05, 1.28029481e-05, 1.26161532e-05,\n",
       "       1.24319740e-05, 1.22503759e-05, 1.20713247e-05, 1.18947869e-05,\n",
       "       1.17207291e-05, 1.15491185e-05, 1.13799226e-05, 1.12131092e-05,\n",
       "       1.10486468e-05, 1.08865040e-05, 1.07266499e-05, 1.05690539e-05,\n",
       "       1.04136858e-05, 1.02605159e-05, 1.01095147e-05, 9.96065305e-06,\n",
       "       9.81390231e-06, 9.66923409e-06, 9.52662036e-06, 9.38603347e-06,\n",
       "       9.24744607e-06, 9.11083118e-06, 6.65323874e+01])"
      ]
     },
     "execution_count": 1590,
     "metadata": {},
     "output_type": "execute_result"
    }
   ],
   "source": [
    "b_1"
   ]
  },
  {
   "cell_type": "code",
   "execution_count": 1591,
   "id": "bfa2d812",
   "metadata": {},
   "outputs": [],
   "source": [
    "d=generateUniformGrid(N)\n",
    "f=generateListOfAdaptiveGridCoords(N, gaussianElectronDensity, 100, 5)\n",
    "for i in range(len(d)):\n",
    "    if(d[i][0] != f[i][0] or d[i][1] != f[i][1]):\n",
    "        print(\"d\", d[i])\n",
    "        print(\"f\", f[i])"
   ]
  },
  {
   "cell_type": "code",
   "execution_count": 1592,
   "id": "624165a7",
   "metadata": {},
   "outputs": [
    {
     "data": {
      "text/plain": [
       "array([[127920.01666671, -63940.01458335,      0.        , ...,\n",
       "             0.        ,      0.        ,      0.        ],\n",
       "       [-63940.01458335, 127840.05416667, -63900.03958332, ...,\n",
       "             0.        ,      0.        ,      0.        ],\n",
       "       [     0.        , -63900.03958332, 127760.11666664, ...,\n",
       "             0.        ,      0.        ,      0.        ],\n",
       "       ...,\n",
       "       [     0.        ,      0.        ,      0.        , ...,\n",
       "             0.        ,      0.        ,      0.        ],\n",
       "       [     0.        ,      0.        ,      0.        , ...,\n",
       "             0.        ,      0.        ,      0.        ],\n",
       "       [     0.        ,      0.        ,      0.        , ...,\n",
       "             0.        ,      0.        ,      0.        ]])"
      ]
     },
     "execution_count": 1592,
     "metadata": {},
     "output_type": "execute_result"
    }
   ],
   "source": [
    "M"
   ]
  },
  {
   "cell_type": "code",
   "execution_count": 1593,
   "id": "b8056d31",
   "metadata": {},
   "outputs": [
    {
     "data": {
      "text/plain": [
       "False"
      ]
     },
     "execution_count": 1593,
     "metadata": {},
     "output_type": "execute_result"
    }
   ],
   "source": [
    "np.array_equal(M, M_1)"
   ]
  },
  {
   "cell_type": "code",
   "execution_count": 1594,
   "id": "74cfddb4",
   "metadata": {},
   "outputs": [
    {
     "data": {
      "text/plain": [
       "False"
      ]
     },
     "execution_count": 1594,
     "metadata": {},
     "output_type": "execute_result"
    }
   ],
   "source": [
    "np.array_equal(b, b_1)"
   ]
  },
  {
   "cell_type": "code",
   "execution_count": 1595,
   "id": "ad7292c5",
   "metadata": {},
   "outputs": [
    {
     "data": {
      "text/plain": [
       "array([3.89982662e+00, 2.82051312e-88, 3.19374710e-88, ...,\n",
       "       3.19374710e-88, 2.82051312e-88, 3.89982662e+00])"
      ]
     },
     "execution_count": 1595,
     "metadata": {},
     "output_type": "execute_result"
    }
   ],
   "source": [
    "b"
   ]
  },
  {
   "cell_type": "code",
   "execution_count": 1596,
   "id": "98fb6279",
   "metadata": {},
   "outputs": [
    {
     "data": {
      "text/plain": [
       "array([6.65323874e+01, 9.11083118e-06, 9.24744607e-06, 9.38603347e-06,\n",
       "       9.52662036e-06, 9.66923409e-06, 9.81390231e-06, 9.96065305e-06,\n",
       "       1.01095147e-05, 1.02605159e-05, 1.04136858e-05, 1.05690539e-05,\n",
       "       1.07266499e-05, 1.08865040e-05, 1.10486468e-05, 1.12131092e-05,\n",
       "       1.13799226e-05, 1.15491185e-05, 1.17207291e-05, 1.18947869e-05,\n",
       "       1.20713247e-05, 1.22503759e-05, 1.24319740e-05, 1.26161532e-05,\n",
       "       1.28029481e-05, 1.29923934e-05, 1.31845246e-05, 1.33793775e-05,\n",
       "       1.35769881e-05, 1.37773932e-05, 1.39806299e-05, 1.41867356e-05,\n",
       "       1.43957482e-05, 1.46077063e-05, 1.48226487e-05, 1.50406147e-05,\n",
       "       1.52616441e-05, 1.54857771e-05, 1.57130545e-05, 1.59435176e-05,\n",
       "       1.61772079e-05, 1.64141677e-05, 1.66544396e-05, 1.68980668e-05,\n",
       "       1.71450930e-05, 1.73955623e-05, 1.76495194e-05, 1.79070094e-05,\n",
       "       1.81680782e-05, 1.84327719e-05, 1.87011372e-05, 1.89732214e-05,\n",
       "       1.92490725e-05, 1.95287386e-05, 1.98122687e-05, 2.00997123e-05,\n",
       "       2.03911194e-05, 2.06865404e-05, 2.09860266e-05, 2.12896297e-05,\n",
       "       2.15974018e-05, 2.19093958e-05, 2.22256652e-05, 2.25462638e-05,\n",
       "       2.28712464e-05, 2.32006681e-05, 2.35345846e-05, 2.38730524e-05,\n",
       "       2.42161284e-05, 2.45638702e-05, 2.49163360e-05, 2.52735847e-05,\n",
       "       2.56356758e-05, 2.60026692e-05, 2.63746257e-05, 2.67516067e-05,\n",
       "       2.71336741e-05, 2.75208906e-05, 2.79133194e-05, 2.83110245e-05,\n",
       "       2.87140706e-05, 2.91225227e-05, 2.95364469e-05, 2.99559098e-05,\n",
       "       3.03809786e-05, 3.08117211e-05, 3.12482062e-05, 3.16905029e-05,\n",
       "       3.21386814e-05, 3.25928123e-05, 3.30529670e-05, 3.35192175e-05,\n",
       "       3.39916366e-05, 3.44702977e-05, 3.49552751e-05, 3.54466437e-05,\n",
       "       3.59444790e-05, 3.64488573e-05, 3.69598557e-05, 3.74775520e-05,\n",
       "       3.80020246e-05, 3.85333528e-05, 3.90716164e-05, 3.96168961e-05,\n",
       "       4.01692735e-05, 4.07288305e-05, 4.12956500e-05, 4.18698158e-05,\n",
       "       4.24514121e-05, 4.30405240e-05, 4.36372375e-05, 4.42416390e-05,\n",
       "       4.48538159e-05, 4.54738563e-05, 4.61018491e-05, 4.67378837e-05,\n",
       "       4.73820506e-05, 4.80344409e-05, 4.86951463e-05, 4.93642594e-05,\n",
       "       5.00418736e-05, 5.07280830e-05, 5.14229823e-05, 5.21266672e-05,\n",
       "       5.28392340e-05, 5.35607798e-05, 5.42914023e-05, 5.50312001e-05,\n",
       "       5.57802725e-05, 5.65387196e-05, 5.73066421e-05, 5.80841416e-05,\n",
       "       5.88713201e-05, 5.96682808e-05, 6.04751273e-05, 6.12919639e-05,\n",
       "       6.21188959e-05, 6.29560290e-05, 6.38034698e-05, 6.46613254e-05,\n",
       "       6.55297039e-05, 6.64087138e-05, 6.72984645e-05, 6.81990659e-05,\n",
       "       6.91106287e-05, 7.00332641e-05, 7.09670843e-05, 7.19122017e-05,\n",
       "       7.28687296e-05, 7.38367819e-05, 7.48164732e-05, 7.58079186e-05,\n",
       "       7.68112337e-05, 7.78265350e-05, 7.88539392e-05, 7.98935639e-05,\n",
       "       8.09455271e-05, 8.20099474e-05, 8.30869439e-05, 8.41766362e-05,\n",
       "       8.52791444e-05, 8.63945892e-05, 8.75230917e-05, 8.86647735e-05,\n",
       "       8.98197565e-05, 9.09881632e-05, 9.21701164e-05, 9.33657394e-05,\n",
       "       9.45751559e-05, 9.57984898e-05, 9.70358653e-05, 9.82874073e-05,\n",
       "       9.95532405e-05, 1.00833490e-04, 1.02128282e-04, 1.03437741e-04,\n",
       "       1.04761994e-04, 1.06101166e-04, 1.07455385e-04, 1.08824775e-04,\n",
       "       1.10209464e-04, 1.11609578e-04, 1.13025244e-04, 1.14456589e-04,\n",
       "       1.15903738e-04, 1.17366819e-04, 1.18845958e-04, 1.20341281e-04,\n",
       "       1.21852915e-04, 1.23380986e-04, 1.24925618e-04, 1.26486939e-04,\n",
       "       1.28065074e-04, 1.29660146e-04, 1.31272282e-04, 1.32901604e-04,\n",
       "       1.34548238e-04, 1.36212306e-04, 1.37893930e-04, 1.39593234e-04,\n",
       "       1.41310339e-04, 1.43045364e-04, 1.44798432e-04, 1.46569661e-04,\n",
       "       1.48359169e-04, 1.50167075e-04, 1.51993495e-04, 1.53838544e-04,\n",
       "       1.55702339e-04, 1.57584992e-04, 1.59486615e-04, 1.61407321e-04,\n",
       "       1.63347220e-04, 1.65306419e-04, 1.67285027e-04, 1.69283149e-04,\n",
       "       1.71300889e-04, 1.73338351e-04, 1.75395635e-04, 1.77472841e-04,\n",
       "       1.79570066e-04, 1.81687406e-04, 1.83824955e-04, 1.85982804e-04,\n",
       "       1.88161042e-04, 1.90359758e-04, 1.92579036e-04, 1.94818959e-04,\n",
       "       1.97079607e-04, 1.99361058e-04, 2.01663387e-04, 2.03986666e-04,\n",
       "       2.06330965e-04, 2.08696351e-04, 2.11082886e-04, 2.13490633e-04,\n",
       "       2.15919647e-04, 2.18369983e-04, 2.20841692e-04, 2.23334821e-04,\n",
       "       2.25849413e-04, 2.28385508e-04, 2.30943142e-04, 2.33522347e-04,\n",
       "       2.36123151e-04, 2.38745577e-04, 2.41389645e-04, 2.44055369e-04,\n",
       "       2.46742760e-04, 2.49451824e-04, 2.52182562e-04, 2.54934969e-04,\n",
       "       2.57709036e-04, 2.60504748e-04, 2.63322087e-04, 2.66161026e-04,\n",
       "       2.69021534e-04, 2.71903576e-04, 2.74807108e-04, 2.77732081e-04,\n",
       "       2.80678441e-04, 2.83646126e-04, 2.86635067e-04, 2.89645191e-04,\n",
       "       2.92676416e-04, 2.95728654e-04, 2.98801807e-04, 3.01895774e-04,\n",
       "       3.05010444e-04, 3.08145698e-04, 3.11301409e-04, 3.14477444e-04,\n",
       "       3.17673660e-04, 3.20889905e-04, 3.24126021e-04, 3.27381838e-04,\n",
       "       3.30657178e-04, 3.33951856e-04, 3.37265675e-04, 3.40598429e-04,\n",
       "       3.43949902e-04, 3.47319870e-04, 3.50708097e-04, 3.54114335e-04,\n",
       "       3.57538330e-04, 3.60979812e-04, 3.64438504e-04, 3.67914115e-04,\n",
       "       3.71406345e-04, 3.74914880e-04, 3.78439394e-04, 3.81979552e-04,\n",
       "       3.85535003e-04, 3.89105385e-04, 3.92690324e-04, 3.96289431e-04,\n",
       "       3.99902306e-04, 4.03528532e-04, 4.07167682e-04, 4.10819312e-04,\n",
       "       4.14482966e-04, 4.18158173e-04, 4.21844446e-04, 4.25541284e-04,\n",
       "       4.29248171e-04, 4.32964574e-04, 4.36689947e-04, 4.40423725e-04,\n",
       "       4.44165328e-04, 4.47914160e-04, 4.51669609e-04, 4.55431043e-04,\n",
       "       4.59197816e-04, 4.62969263e-04, 4.66744701e-04, 4.70523429e-04,\n",
       "       4.74304729e-04, 4.78087862e-04, 4.81872074e-04, 4.85656589e-04,\n",
       "       4.89440612e-04, 4.93223329e-04, 4.97003907e-04, 5.00781492e-04,\n",
       "       5.04555210e-04, 5.08324167e-04, 5.12087446e-04, 5.15844113e-04,\n",
       "       5.19593210e-04, 5.23333757e-04, 5.27064755e-04, 5.30785181e-04,\n",
       "       5.34493991e-04, 5.38190118e-04, 5.41872473e-04, 5.45539943e-04,\n",
       "       5.49191394e-04, 5.52825667e-04, 5.56441582e-04, 5.60037933e-04,\n",
       "       5.63613493e-04, 5.67167007e-04, 5.70697201e-04, 5.74202774e-04,\n",
       "       5.77682401e-04, 5.81134732e-04, 5.84558395e-04, 5.87951990e-04,\n",
       "       5.91314095e-04, 5.94643262e-04, 5.97938018e-04, 6.01196864e-04,\n",
       "       6.04418280e-04, 6.07600715e-04, 6.10742599e-04, 6.13842332e-04,\n",
       "       6.16898291e-04, 6.19908829e-04, 6.22872273e-04, 6.25786923e-04,\n",
       "       6.28651058e-04, 6.31462931e-04, 6.34220767e-04, 6.36922772e-04,\n",
       "       6.39567125e-04, 6.42151979e-04, 6.44675467e-04, 6.47135695e-04,\n",
       "       6.49530749e-04, 6.51858689e-04, 6.54117554e-04, 6.56305359e-04,\n",
       "       6.58420100e-04, 6.60459748e-04, 6.62422256e-04, 6.64305555e-04,\n",
       "       6.66107555e-04, 6.67826149e-04, 6.69459209e-04, 6.71004591e-04,\n",
       "       6.72460131e-04, 6.73823651e-04, 6.75092955e-04, 6.76265833e-04,\n",
       "       6.77340061e-04, 6.78313402e-04, 6.79183606e-04, 6.79948412e-04,\n",
       "       6.80605550e-04, 6.81152739e-04, 6.81587694e-04, 6.81908120e-04,\n",
       "       6.82111720e-04, 6.82196192e-04, 6.82159233e-04, 6.81998538e-04,\n",
       "       6.81711806e-04, 6.81296737e-04, 6.80751037e-04, 6.80072418e-04,\n",
       "       6.79258601e-04, 6.78307320e-04, 6.77216319e-04, 6.75983359e-04,\n",
       "       6.74606220e-04, 6.73082700e-04, 6.71410622e-04, 6.69587834e-04,\n",
       "       6.67612211e-04, 6.65481662e-04, 6.63194129e-04, 6.60747592e-04,\n",
       "       6.58140072e-04, 6.55369634e-04, 6.52434393e-04, 6.49332514e-04,\n",
       "       6.46062218e-04, 6.42621787e-04, 6.39009566e-04, 6.35223968e-04,\n",
       "       6.31263481e-04, 6.27126668e-04, 6.22812177e-04, 6.18318742e-04,\n",
       "       6.13645190e-04, 6.08790448e-04, 6.03753546e-04, 5.98533623e-04,\n",
       "       5.93129934e-04, 5.87541860e-04, 5.81768905e-04, 5.75810715e-04,\n",
       "       5.69667073e-04, 5.63337915e-04, 5.56823335e-04, 5.50123591e-04,\n",
       "       5.43239114e-04, 5.36170519e-04, 5.28918608e-04, 5.21484385e-04,\n",
       "       5.13869062e-04, 5.06074068e-04, 4.98101062e-04, 4.89951940e-04,\n",
       "       4.81628846e-04, 4.73134187e-04, 4.64470637e-04, 4.55641156e-04,\n",
       "       4.46648998e-04, 4.37497723e-04, 4.28191213e-04, 4.18733683e-04,\n",
       "       4.09129695e-04, 3.99384172e-04, 3.89502415e-04, 3.79490114e-04,\n",
       "       3.69353368e-04, 3.59098697e-04, 3.48733063e-04, 3.38263884e-04,\n",
       "       3.27699051e-04, 3.17046950e-04, 3.06316478e-04, 2.95517064e-04,\n",
       "       2.84658686e-04, 2.73751898e-04, 2.62807844e-04, 2.51838286e-04,\n",
       "       2.40855621e-04, 2.29872911e-04, 2.18903903e-04, 2.07963053e-04,\n",
       "       1.97065556e-04, 1.86227367e-04, 1.75465233e-04, 1.64796719e-04,\n",
       "       1.54240236e-04, 1.43815074e-04, 1.33541430e-04, 1.23440439e-04,\n",
       "       1.13534210e-04, 1.03845856e-04, 9.43995313e-05, 8.52204664e-05,\n",
       "       7.63350039e-05, 6.77706370e-05, 5.95560483e-05, 5.17211500e-05,\n",
       "       4.42971251e-05, 3.73164700e-05, 3.08130379e-05, 2.48220845e-05,\n",
       "       1.93803138e-05, 1.45259261e-05, 1.02986668e-05, 6.73987742e-06,\n",
       "       3.89254741e-06, 1.80136757e-06, 5.12785256e-07, 7.42058862e-08,\n",
       "       5.12785256e-07, 1.80136757e-06, 3.89254741e-06, 6.73987742e-06,\n",
       "       1.02986668e-05, 1.45259261e-05, 1.93803138e-05, 2.48220845e-05,\n",
       "       3.08130379e-05, 3.73164700e-05, 4.42971251e-05, 5.17211500e-05,\n",
       "       5.95560483e-05, 6.77706370e-05, 7.63350039e-05, 8.52204664e-05,\n",
       "       9.43995313e-05, 1.03845856e-04, 1.13534210e-04, 1.23440439e-04,\n",
       "       1.33541430e-04, 1.43815074e-04, 1.54240236e-04, 1.64796719e-04,\n",
       "       1.75465233e-04, 1.86227367e-04, 1.97065556e-04, 2.07963053e-04,\n",
       "       2.18903903e-04, 2.29872911e-04, 2.40855621e-04, 2.51838286e-04,\n",
       "       2.62807844e-04, 2.73751898e-04, 2.84658686e-04, 2.95517064e-04,\n",
       "       3.06316478e-04, 3.17046950e-04, 3.27699051e-04, 3.38263884e-04,\n",
       "       3.48733063e-04, 3.59098697e-04, 3.69353368e-04, 3.79490114e-04,\n",
       "       3.89502415e-04, 3.99384172e-04, 4.09129695e-04, 4.18733683e-04,\n",
       "       4.28191213e-04, 4.37497723e-04, 4.46648998e-04, 4.55641156e-04,\n",
       "       4.64470637e-04, 4.73134187e-04, 4.81628846e-04, 4.89951940e-04,\n",
       "       4.98101062e-04, 5.06074068e-04, 5.13869062e-04, 5.21484385e-04,\n",
       "       5.28918608e-04, 5.36170519e-04, 5.43239114e-04, 5.50123591e-04,\n",
       "       5.56823335e-04, 5.63337915e-04, 5.69667073e-04, 5.75810715e-04,\n",
       "       5.81768905e-04, 5.87541860e-04, 5.93129934e-04, 5.98533623e-04,\n",
       "       6.03753546e-04, 6.08790448e-04, 6.13645190e-04, 6.18318742e-04,\n",
       "       6.22812177e-04, 6.27126668e-04, 6.31263481e-04, 6.35223968e-04,\n",
       "       6.39009566e-04, 6.42621787e-04, 6.46062218e-04, 6.49332514e-04,\n",
       "       6.52434393e-04, 6.55369634e-04, 6.58140072e-04, 6.60747592e-04,\n",
       "       6.63194129e-04, 6.65481662e-04, 6.67612211e-04, 6.69587834e-04,\n",
       "       6.71410622e-04, 6.73082700e-04, 6.74606220e-04, 6.75983359e-04,\n",
       "       6.77216319e-04, 6.78307320e-04, 6.79258601e-04, 6.80072418e-04,\n",
       "       6.80751037e-04, 6.81296737e-04, 6.81711806e-04, 6.81998538e-04,\n",
       "       6.82159233e-04, 6.82196192e-04, 6.82111720e-04, 6.81908120e-04,\n",
       "       6.81587694e-04, 6.81152739e-04, 6.80605550e-04, 6.79948412e-04,\n",
       "       6.79183606e-04, 6.78313402e-04, 6.77340061e-04, 6.76265833e-04,\n",
       "       6.75092955e-04, 6.73823651e-04, 6.72460131e-04, 6.71004591e-04,\n",
       "       6.69459209e-04, 6.67826149e-04, 6.66107555e-04, 6.64305555e-04,\n",
       "       6.62422256e-04, 6.60459748e-04, 6.58420100e-04, 6.56305359e-04,\n",
       "       6.54117554e-04, 6.51858689e-04, 6.49530749e-04, 6.47135695e-04,\n",
       "       6.44675467e-04, 6.42151979e-04, 6.39567125e-04, 6.36922772e-04,\n",
       "       6.34220767e-04, 6.31462931e-04, 6.28651058e-04, 6.25786923e-04,\n",
       "       6.22872273e-04, 6.19908829e-04, 6.16898291e-04, 6.13842332e-04,\n",
       "       6.10742599e-04, 6.07600715e-04, 6.04418280e-04, 6.01196864e-04,\n",
       "       5.97938018e-04, 5.94643262e-04, 5.91314095e-04, 5.87951990e-04,\n",
       "       5.84558395e-04, 5.81134732e-04, 5.77682401e-04, 5.74202774e-04,\n",
       "       5.70697201e-04, 5.67167007e-04, 5.63613493e-04, 5.60037933e-04,\n",
       "       5.56441582e-04, 5.52825667e-04, 5.49191394e-04, 5.45539943e-04,\n",
       "       5.41872473e-04, 5.38190118e-04, 5.34493991e-04, 5.30785181e-04,\n",
       "       5.27064755e-04, 5.23333757e-04, 5.19593210e-04, 5.15844113e-04,\n",
       "       5.12087446e-04, 5.08324167e-04, 5.04555210e-04, 5.00781492e-04,\n",
       "       4.97003907e-04, 4.93223329e-04, 4.89440612e-04, 4.85656589e-04,\n",
       "       4.81872074e-04, 4.78087862e-04, 4.74304729e-04, 4.70523429e-04,\n",
       "       4.66744701e-04, 4.62969263e-04, 4.59197816e-04, 4.55431043e-04,\n",
       "       4.51669609e-04, 4.47914160e-04, 4.44165328e-04, 4.40423725e-04,\n",
       "       4.36689947e-04, 4.32964574e-04, 4.29248171e-04, 4.25541284e-04,\n",
       "       4.21844446e-04, 4.18158173e-04, 4.14482966e-04, 4.10819312e-04,\n",
       "       4.07167682e-04, 4.03528532e-04, 3.99902306e-04, 3.96289431e-04,\n",
       "       3.92690324e-04, 3.89105385e-04, 3.85535003e-04, 3.81979552e-04,\n",
       "       3.78439394e-04, 3.74914880e-04, 3.71406345e-04, 3.67914115e-04,\n",
       "       3.64438504e-04, 3.60979812e-04, 3.57538330e-04, 3.54114335e-04,\n",
       "       3.50708097e-04, 3.47319870e-04, 3.43949902e-04, 3.40598429e-04,\n",
       "       3.37265675e-04, 3.33951856e-04, 3.30657178e-04, 3.27381838e-04,\n",
       "       3.24126021e-04, 3.20889905e-04, 3.17673660e-04, 3.14477444e-04,\n",
       "       3.11301409e-04, 3.08145698e-04, 3.05010444e-04, 3.01895774e-04,\n",
       "       2.98801807e-04, 2.95728654e-04, 2.92676416e-04, 2.89645191e-04,\n",
       "       2.86635067e-04, 2.83646126e-04, 2.80678441e-04, 2.77732081e-04,\n",
       "       2.74807108e-04, 2.71903576e-04, 2.69021534e-04, 2.66161026e-04,\n",
       "       2.63322087e-04, 2.60504748e-04, 2.57709036e-04, 2.54934969e-04,\n",
       "       2.52182562e-04, 2.49451824e-04, 2.46742760e-04, 2.44055369e-04,\n",
       "       2.41389645e-04, 2.38745577e-04, 2.36123151e-04, 2.33522347e-04,\n",
       "       2.30943142e-04, 2.28385508e-04, 2.25849413e-04, 2.23334821e-04,\n",
       "       2.20841692e-04, 2.18369983e-04, 2.15919647e-04, 2.13490633e-04,\n",
       "       2.11082886e-04, 2.08696351e-04, 2.06330965e-04, 2.03986666e-04,\n",
       "       2.01663387e-04, 1.99361058e-04, 1.97079607e-04, 1.94818959e-04,\n",
       "       1.92579036e-04, 1.90359758e-04, 1.88161042e-04, 1.85982804e-04,\n",
       "       1.83824955e-04, 1.81687406e-04, 1.79570066e-04, 1.77472841e-04,\n",
       "       1.75395635e-04, 1.73338351e-04, 1.71300889e-04, 1.69283149e-04,\n",
       "       1.67285027e-04, 1.65306419e-04, 1.63347220e-04, 1.61407321e-04,\n",
       "       1.59486615e-04, 1.57584992e-04, 1.55702339e-04, 1.53838544e-04,\n",
       "       1.51993495e-04, 1.50167075e-04, 1.48359169e-04, 1.46569661e-04,\n",
       "       1.44798432e-04, 1.43045364e-04, 1.41310339e-04, 1.39593234e-04,\n",
       "       1.37893930e-04, 1.36212306e-04, 1.34548238e-04, 1.32901604e-04,\n",
       "       1.31272282e-04, 1.29660146e-04, 1.28065074e-04, 1.26486939e-04,\n",
       "       1.24925618e-04, 1.23380986e-04, 1.21852915e-04, 1.20341281e-04,\n",
       "       1.18845958e-04, 1.17366819e-04, 1.15903738e-04, 1.14456589e-04,\n",
       "       1.13025244e-04, 1.11609578e-04, 1.10209464e-04, 1.08824775e-04,\n",
       "       1.07455385e-04, 1.06101166e-04, 1.04761994e-04, 1.03437741e-04,\n",
       "       1.02128282e-04, 1.00833490e-04, 9.95532405e-05, 9.82874073e-05,\n",
       "       9.70358653e-05, 9.57984898e-05, 9.45751559e-05, 9.33657394e-05,\n",
       "       9.21701164e-05, 9.09881632e-05, 8.98197565e-05, 8.86647735e-05,\n",
       "       8.75230917e-05, 8.63945892e-05, 8.52791444e-05, 8.41766362e-05,\n",
       "       8.30869439e-05, 8.20099474e-05, 8.09455271e-05, 7.98935639e-05,\n",
       "       7.88539392e-05, 7.78265350e-05, 7.68112337e-05, 7.58079186e-05,\n",
       "       7.48164732e-05, 7.38367819e-05, 7.28687296e-05, 7.19122017e-05,\n",
       "       7.09670843e-05, 7.00332641e-05, 6.91106287e-05, 6.81990659e-05,\n",
       "       6.72984645e-05, 6.64087138e-05, 6.55297039e-05, 6.46613254e-05,\n",
       "       6.38034698e-05, 6.29560290e-05, 6.21188959e-05, 6.12919639e-05,\n",
       "       6.04751273e-05, 5.96682808e-05, 5.88713201e-05, 5.80841416e-05,\n",
       "       5.73066421e-05, 5.65387196e-05, 5.57802725e-05, 5.50312001e-05,\n",
       "       5.42914023e-05, 5.35607798e-05, 5.28392340e-05, 5.21266672e-05,\n",
       "       5.14229823e-05, 5.07280830e-05, 5.00418736e-05, 4.93642594e-05,\n",
       "       4.86951463e-05, 4.80344409e-05, 4.73820506e-05, 4.67378837e-05,\n",
       "       4.61018491e-05, 4.54738563e-05, 4.48538159e-05, 4.42416390e-05,\n",
       "       4.36372375e-05, 4.30405240e-05, 4.24514121e-05, 4.18698158e-05,\n",
       "       4.12956500e-05, 4.07288305e-05, 4.01692735e-05, 3.96168961e-05,\n",
       "       3.90716164e-05, 3.85333528e-05, 3.80020246e-05, 3.74775520e-05,\n",
       "       3.69598557e-05, 3.64488573e-05, 3.59444790e-05, 3.54466437e-05,\n",
       "       3.49552751e-05, 3.44702977e-05, 3.39916366e-05, 3.35192175e-05,\n",
       "       3.30529670e-05, 3.25928123e-05, 3.21386814e-05, 3.16905029e-05,\n",
       "       3.12482062e-05, 3.08117211e-05, 3.03809786e-05, 2.99559098e-05,\n",
       "       2.95364469e-05, 2.91225227e-05, 2.87140706e-05, 2.83110245e-05,\n",
       "       2.79133194e-05, 2.75208906e-05, 2.71336741e-05, 2.67516067e-05,\n",
       "       2.63746257e-05, 2.60026692e-05, 2.56356758e-05, 2.52735847e-05,\n",
       "       2.49163360e-05, 2.45638702e-05, 2.42161284e-05, 2.38730524e-05,\n",
       "       2.35345846e-05, 2.32006681e-05, 2.28712464e-05, 2.25462638e-05,\n",
       "       2.22256652e-05, 2.19093958e-05, 2.15974018e-05, 2.12896297e-05,\n",
       "       2.09860266e-05, 2.06865404e-05, 2.03911194e-05, 2.00997123e-05,\n",
       "       1.98122687e-05, 1.95287386e-05, 1.92490725e-05, 1.89732214e-05,\n",
       "       1.87011372e-05, 1.84327719e-05, 1.81680782e-05, 1.79070094e-05,\n",
       "       1.76495194e-05, 1.73955623e-05, 1.71450930e-05, 1.68980668e-05,\n",
       "       1.66544396e-05, 1.64141677e-05, 1.61772079e-05, 1.59435176e-05,\n",
       "       1.57130545e-05, 1.54857771e-05, 1.52616441e-05, 1.50406147e-05,\n",
       "       1.48226487e-05, 1.46077063e-05, 1.43957482e-05, 1.41867356e-05,\n",
       "       1.39806299e-05, 1.37773932e-05, 1.35769881e-05, 1.33793775e-05,\n",
       "       1.31845246e-05, 1.29923934e-05, 1.28029481e-05, 1.26161532e-05,\n",
       "       1.24319740e-05, 1.22503759e-05, 1.20713247e-05, 1.18947869e-05,\n",
       "       1.17207291e-05, 1.15491185e-05, 1.13799226e-05, 1.12131092e-05,\n",
       "       1.10486468e-05, 1.08865040e-05, 1.07266499e-05, 1.05690539e-05,\n",
       "       1.04136858e-05, 1.02605159e-05, 1.01095147e-05, 9.96065305e-06,\n",
       "       9.81390231e-06, 9.66923409e-06, 9.52662036e-06, 9.38603347e-06,\n",
       "       9.24744607e-06, 9.11083118e-06, 6.65323874e+01])"
      ]
     },
     "execution_count": 1596,
     "metadata": {},
     "output_type": "execute_result"
    }
   ],
   "source": [
    "b_1"
   ]
  },
  {
   "cell_type": "code",
   "execution_count": null,
   "id": "069a2d3c",
   "metadata": {},
   "outputs": [],
   "source": []
  }
 ],
 "metadata": {
  "kernelspec": {
   "display_name": "Python 3 (ipykernel)",
   "language": "python",
   "name": "python3"
  },
  "language_info": {
   "codemirror_mode": {
    "name": "ipython",
    "version": 3
   },
   "file_extension": ".py",
   "mimetype": "text/x-python",
   "name": "python",
   "nbconvert_exporter": "python",
   "pygments_lexer": "ipython3",
   "version": "3.9.12"
  }
 },
 "nbformat": 4,
 "nbformat_minor": 5
}
