{
 "cells": [
  {
   "cell_type": "code",
   "execution_count": 393,
   "id": "ea858970",
   "metadata": {},
   "outputs": [],
   "source": [
    "%matplotlib inline\n",
    "\n",
    "import numpy as np\n",
    "import matplotlib.pyplot as plt\n",
    "import scipy\n",
    "import scipy.integrate as integrate\n",
    "import numpy.linalg as linalg\n",
    "from multipledispatch import dispatch"
   ]
  },
  {
   "cell_type": "code",
   "execution_count": null,
   "id": "964082d3",
   "metadata": {},
   "outputs": [],
   "source": []
  },
  {
   "cell_type": "code",
   "execution_count": 394,
   "id": "4d0bb69d",
   "metadata": {},
   "outputs": [],
   "source": [
    "#must be greater than 0\n",
    "au2nm=0.05291\n",
    "au2ev=27.211\n",
    "startR=-2/au2nm\n",
    "endR=2/au2nm\n",
    "a=0.05291*0.5/au2nm\n",
    "eps=0.5968404*au2nm*au2ev\n",
    "\n",
    "adaptive=False\n",
    "\n",
    "N=50\n",
    "sites=N+1\n",
    "\n",
    "n=1\n",
    "sigma=1\n",
    "startR=-5\n",
    "endR=5\n",
    "deltaX=np.abs(startR-endR)/(N)\n",
    "a=1\n",
    "eps=1\n",
    "\n",
    "valueAtZero=1/(2*np.pi*a*eps)"
   ]
  },
  {
   "cell_type": "code",
   "execution_count": 395,
   "id": "eaee86b4",
   "metadata": {},
   "outputs": [],
   "source": [
    "def electronDensity(r, a):\n",
    "    return (1/(np.pi*a**3))*(np.exp(-2*r/a)) if r>0 else (1/(np.pi*a**3))*(np.exp(2*r/a))\n",
    "\n",
    "@dispatch(float, float)\n",
    "def linearFunction(r, n):\n",
    "    return 1/(deltaX) *(r-n)+1 if r<n else -1/(deltaX) *(r-n)+1\n",
    "\n",
    "#n is the middle\n",
    "#a_1 is the left most\n",
    "#a_2 is the right most\n",
    "@dispatch(float, float, float, float)\n",
    "def linearFunction(r, a_1, n, a_2):\n",
    "    return 1/(n-a_1) *(r-n)+1 if r<n else -1/(a_2-n) *(r-n)+1\n",
    "\n",
    "def integrand(r, eps, n, edensity):\n",
    "    return ((1/eps)*edensity(r,a)*linearFunction(r, n)*r**2)\n",
    "\n",
    "def integrandAdaptive(r, eps, n, edensity, a_1, a_2):\n",
    "    return (1/eps)*edensity(r,a)*linearFunction(r, a_1, n, a_2)*r**2\n",
    "\n",
    "def getIntegral(a_1, a_2, eps, n, edensity):\n",
    "    return integrate.quad(integrand, a_1, a_2, args=(eps, n, edensity))[0]\n",
    "\n",
    "def getIntegralAdaptive(a_1, a_2, eps, n, edensity):\n",
    "    return integrate.quad(integrandAdaptive, a_1, a_2, args=(eps, n, edensity, a_1, a_2))[0]\n",
    "\n",
    "def gaussianElectronDensity(r, sigma):\n",
    "    return (1/np.sqrt(2*np.pi*sigma**2))**3*(np.exp((-r**2)/(2*sigma**2)))\n",
    "\n",
    "def electronDensity_2s(r, a):\n",
    "    return -(1/(32*np.pi*a**3))*(2-r/a)*np.exp(-r/a) if r>0 else -(1/(32*np.pi*a**3))*(2+r/a)*np.exp(r/a)\n",
    "\n",
    "def v_gauss(r):\n",
    "    return 1/(4*np.pi*eps)*(1/r)*scipy.special.erf(r/np.sqrt(2*a**2))\n",
    "\n",
    "def v(r):\n",
    "    return (1/(4*np.pi*eps*a**2))*(a**2/r-(a**2/r-a)*np.exp(-2*r/a)) if r>0 else (1/(4*np.pi*eps*a**2))*(-a**2/r-(-a**2/r-a)*np.exp(2*r/a))\n",
    "\n",
    "def v_2s(r):\n",
    "    return -(1/(32*np.pi*eps))*(8/r-(8/r+2/a-2*r/(a**2)-r**2/a**3)*np.exp(-r/a)) if r>0 else (1/(32*np.pi*eps))*(-8/r-(-8/r+2/a+2*r/(a**2)-r**2/a**3)*np.exp(r/a))"
   ]
  },
  {
   "cell_type": "code",
   "execution_count": 396,
   "id": "8218ac79",
   "metadata": {},
   "outputs": [],
   "source": [
    "#func gives grid size at each point\n",
    "def generateUniformGrid(N):\n",
    "    delX=(endR-startR)/N\n",
    "    return [(startR+i*delX,startR+(i+1)*delX) for i in range(N)]\n",
    "\n",
    "def riemannEst(a_1, a_2, func):\n",
    "    return func((a_2-a_1)/2+a_1,a)*(a_2-a_1)\n",
    "\n",
    "def adaptivelySubdivide(l, func, eps,n,maxIt):\n",
    "    absError=np.abs(riemannEst(l[0], l[1], func)-(riemannEst(l[0], (l[1]-l[0])/2+l[0], func)+riemannEst((l[1]-l[0])/2+l[0], l[1],func)))\n",
    "    relError=np.abs(absError/(riemannEst(l[0], l[1], func)))\n",
    "    if(relError<eps or n>maxIt):\n",
    "        return np.array([l])\n",
    "    else:\n",
    "        left=(l[0], (l[1]-l[0])/2+l[0])\n",
    "        right=((l[1]-l[0])/2+l[0], l[1])\n",
    "        temp=(np.concatenate((adaptivelySubdivide(left, func, eps, n+1,maxIt),adaptivelySubdivide(right, func, eps,n+1,maxIt))))\n",
    "        return temp\n",
    "    \n",
    "#adaptively subdivided to func\n",
    "def generateListOfAdaptiveGridCoords(N, func, eps, maxIt):\n",
    "    uni=generateUniformGrid(N)\n",
    "    newList=[];\n",
    "    for i in range(len(uni)):\n",
    "        #adaptively subdivide returns a list\n",
    "        temp=adaptivelySubdivide(uni[i], func, eps, 0, maxIt);\n",
    "        for x in temp:\n",
    "            newList.append(x)\n",
    "    return np.array(newList,dtype=object)"
   ]
  },
  {
   "cell_type": "code",
   "execution_count": 397,
   "id": "559eda95",
   "metadata": {},
   "outputs": [],
   "source": [
    "#uniform\n",
    "def constructResultVector(eDensity):\n",
    "    theList=[getIntegral(startR+(i-1)*deltaX, startR+(i+1)*deltaX, eps, startR+i*deltaX,eDensity) for i in range(1,sites-1)];\n",
    "    return np.array(theList);\n",
    "\n",
    "def createListOfMidCoord(temp):\n",
    "    return np.array((x[1]-x[0])/2+x[0] for x in temp)\n",
    "\n",
    "def createListOfIntervals(adpGrid):\n",
    "    return np.array([np.abs(x[1]-x[0]) for x in adpGrid])\n",
    "\n",
    "#getIntegralAdaptive(a_1, a_2, eps, n, edensity)\n",
    "def constructResultVectorAdaptive(adpGrid, eDensity):\n",
    "    theList=[getIntegralAdaptive(adpGrid[i-1][0], adpGrid[i+1][0] if i+1<np.shape(adpGrid)[0] else adpGrid[i][1]+deltaX, eps, adpGrid[i][0], eDensity) for i in range(1, np.shape(adpGrid)[0])];\n",
    "    return np.array(theList);\n",
    "\n",
    "@dispatch(int)\n",
    "def mk(i):\n",
    "    return ((startR+deltaX*i)**3-(startR+deltaX*(i-1))**3)/(3*deltaX**2)\n",
    "\n",
    "@dispatch(int, np.ndarray)\n",
    "def mk(i, adpGrid):\n",
    "    one=adpGrid[i][0] if i<np.shape(adpGrid)[0] else adpGrid[np.shape(adpGrid)[0]-1][1]\n",
    "    return (one**3-(adpGrid[i-1][0])**3)/(3*(adpGrid[i-1][1]-adpGrid[i-1][0])*(adpGrid[i][1]-adpGrid[i][0]))"
   ]
  },
  {
   "cell_type": "code",
   "execution_count": 398,
   "id": "063c3ba7",
   "metadata": {},
   "outputs": [],
   "source": [
    "def boundary_condition(r):\n",
    "    if(0<=r and r<endR/2):\n",
    "        return valueAtZero\n",
    "    return (1/(4*np.pi*eps))*1/np.abs(r)\n",
    "\n",
    "def addBoundaryConditions(b):\n",
    "    b[0]+=boundary_condition(startR)*mk(1)\n",
    "    b[b.size-1]+=boundary_condition(endR)*mk(N)\n",
    "    return b"
   ]
  },
  {
   "cell_type": "code",
   "execution_count": 399,
   "id": "f30fbfcc",
   "metadata": {},
   "outputs": [],
   "source": [
    "def constructMatrix():\n",
    "    temp=np.zeros((sites, sites));\n",
    "    for i in range(sites-1):\n",
    "        if(i>0):\n",
    "            temp[i, i-1]=-mk(i)\n",
    "        if(i>=0):\n",
    "            temp[i, i]=mk(i+1)+mk(i)\n",
    "        if(i+1<sites):\n",
    "            temp[i, i+1]=-mk(i+1)\n",
    "    temp=np.delete(temp, [0, sites-1], axis=1)\n",
    "    temp=np.delete(temp, [0, sites-1], axis=0)\n",
    "    return temp\n",
    "\n",
    "def constructMatrixAdp(adGrid):\n",
    "    temp=np.zeros((np.shape(adpGrid)[0]+1, np.shape(adpGrid)[0]+1));\n",
    "    for i in range(sites-1):\n",
    "        if(i>0):\n",
    "            temp[i, i-1]=-mk(i, adpGrid)\n",
    "        if(i>=0):\n",
    "            temp[i, i]=mk(i+1,adpGrid)+mk(i,adpGrid)\n",
    "        if(i+1<sites):\n",
    "            temp[i, i+1]=-mk(i+1,adpGrid)\n",
    "    temp=np.delete(temp, [0, sites-1], axis=1)\n",
    "    temp=np.delete(temp, [0, sites-1], axis=0)\n",
    "    return temp"
   ]
  },
  {
   "cell_type": "code",
   "execution_count": 400,
   "id": "85e98221",
   "metadata": {},
   "outputs": [],
   "source": [
    "#adpGrid=generateListOfAdaptiveGridCoords(N, gaussianElectronDensity, 1e-4, 5)\n",
    "#b=constructResultVectorAdaptive(adpGrid, gaussianElectronDensity)\n",
    "#b=constructResultVector(electronDensity_2s)\n",
    "#b=addBoundaryConditions(b)\n",
    "\n",
    "b_1=constructResultVector(gaussianElectronDensity)\n",
    "b_1=addBoundaryConditions(b_1)"
   ]
  },
  {
   "cell_type": "code",
   "execution_count": 401,
   "id": "c8194ded",
   "metadata": {},
   "outputs": [],
   "source": [
    "#M=constructMatrixAdp(adpGrid)\n",
    "M_1=constructMatrix()"
   ]
  },
  {
   "cell_type": "code",
   "execution_count": 402,
   "id": "803b978c",
   "metadata": {},
   "outputs": [
    {
     "data": {
      "text/plain": [
       "(99,)"
      ]
     },
     "execution_count": 402,
     "metadata": {},
     "output_type": "execute_result"
    }
   ],
   "source": [
    "np.shape(b_1)"
   ]
  },
  {
   "cell_type": "code",
   "execution_count": 403,
   "id": "289ccf60",
   "metadata": {},
   "outputs": [],
   "source": [
    "#sols=linalg.solve(M, b)\n",
    "sols_1=linalg.solve(M_1, b_1)"
   ]
  },
  {
   "cell_type": "code",
   "execution_count": null,
   "id": "4d6663ca",
   "metadata": {},
   "outputs": [],
   "source": []
  },
  {
   "cell_type": "code",
   "execution_count": 404,
   "id": "ae28c95c",
   "metadata": {},
   "outputs": [
    {
     "name": "stderr",
     "output_type": "stream",
     "text": [
      "/var/folders/w9/rpt2vk6943b30y910f1djt500000gq/T/ipykernel_35107/66112670.py:34: RuntimeWarning: divide by zero encountered in double_scalars\n",
      "  return 1/(4*np.pi*eps)*(1/r)*scipy.special.erf(r/np.sqrt(2*a**2))\n",
      "/var/folders/w9/rpt2vk6943b30y910f1djt500000gq/T/ipykernel_35107/66112670.py:34: RuntimeWarning: invalid value encountered in double_scalars\n",
      "  return 1/(4*np.pi*eps)*(1/r)*scipy.special.erf(r/np.sqrt(2*a**2))\n"
     ]
    },
    {
     "data": {
      "text/plain": [
       "<matplotlib.collections.PathCollection at 0x128cc0dc0>"
      ]
     },
     "execution_count": 404,
     "metadata": {},
     "output_type": "execute_result"
    },
    {
     "data": {
      "image/png": "[encoded data removed]",
      "text/plain": [
       "<Figure size 432x288 with 1 Axes>"
      ]
     },
     "metadata": {
      "needs_background": "light"
     },
     "output_type": "display_data"
    }
   ],
   "source": [
    "\n",
    "x = np.linspace(startR,endR,N-1)\n",
    "y=[v_gauss(r)*au2ev for r in x]\n",
    "plt.scatter(x, y)\n",
    "\n",
    "\n",
    "x1=[startR+i*deltaX for i in range(b_1.size)]\n",
    "plt.scatter(x1,sols_1*au2ev,c=\"green\")\n",
    "\n",
    "#try nonlinear elements\n"
   ]
  },
  {
   "cell_type": "code",
   "execution_count": null,
   "id": "cc04c405",
   "metadata": {},
   "outputs": [],
   "source": []
  },
  {
   "cell_type": "code",
   "execution_count": 405,
   "id": "dbbeceab",
   "metadata": {},
   "outputs": [
    {
     "data": {
      "text/plain": [
       "array([0.03749975, 0.03749963, 0.0374995 , 0.03749937, 0.03749921,\n",
       "       0.03749904, 0.03749883, 0.03749858, 0.03749828, 0.03749789,\n",
       "       0.03749741, 0.03749678, 0.03749596, 0.0374949 , 0.03749352,\n",
       "       0.03749172, 0.03748939, 0.0374864 , 0.03748259, 0.03747778,\n",
       "       0.03747178, 0.03746435, 0.03745527, 0.03744431, 0.03743124,\n",
       "       0.03741583, 0.03739791, 0.03737732, 0.03735399, 0.03732787,\n",
       "       0.03729903, 0.0372676 , 0.03723381, 0.03719795, 0.03716041,\n",
       "       0.03712166, 0.03708222, 0.03704267, 0.03700361, 0.03696569,\n",
       "       0.03692954, 0.0368958 , 0.03686511, 0.0368381 , 0.03681539,\n",
       "       0.03679766, 0.03678572, 0.03678085, 0.03678609,        nan,\n",
       "       0.03678609, 0.03678085, 0.03678572, 0.03679766, 0.03681539,\n",
       "       0.0368381 , 0.03686511, 0.0368958 , 0.03692954, 0.03696569,\n",
       "       0.03700361, 0.03704267, 0.03708222, 0.03712166, 0.03716041,\n",
       "       0.03719795, 0.03723381, 0.0372676 , 0.03729903, 0.03732787,\n",
       "       0.03735399, 0.03737732, 0.03739791, 0.03741583, 0.03743124,\n",
       "       0.03744431, 0.03745527, 0.03746435, 0.03747178, 0.03747778,\n",
       "       0.03748259, 0.0374864 , 0.03748939, 0.03749172, 0.03749352,\n",
       "       0.0374949 , 0.03749596, 0.03749678, 0.03749741, 0.03749789,\n",
       "       0.03749828, 0.03749858, 0.03749883, 0.03749904, 0.03749921,\n",
       "       0.03749937, 0.0374995 , 0.03749963, 0.03749975])"
      ]
     },
     "execution_count": 405,
     "metadata": {},
     "output_type": "execute_result"
    }
   ],
   "source": [
    "sols_1/y"
   ]
  },
  {
   "cell_type": "code",
   "execution_count": 406,
   "id": "0a8fb496",
   "metadata": {},
   "outputs": [
    {
     "data": {
      "text/plain": [
       "<matplotlib.collections.PathCollection at 0x128c617c0>"
      ]
     },
     "execution_count": 406,
     "metadata": {},
     "output_type": "execute_result"
    },
    {
     "data": {
      "image/png": "[encoded data removed]",
      "text/plain": [
       "<Figure size 432x288 with 1 Axes>"
      ]
     },
     "metadata": {
      "needs_background": "light"
     },
     "output_type": "display_data"
    }
   ],
   "source": [
    "plt.scatter(x, sols_1/y)"
   ]
  },
  {
   "cell_type": "code",
   "execution_count": 407,
   "id": "cc5ff70e",
   "metadata": {},
   "outputs": [
    {
     "data": {
      "text/plain": [
       "<matplotlib.collections.PathCollection at 0x128dd64f0>"
      ]
     },
     "execution_count": 407,
     "metadata": {},
     "output_type": "execute_result"
    },
    {
     "data": {
      "image/png": "[encoded data removed]",
      "text/plain": [
       "<Figure size 432x288 with 1 Axes>"
      ]
     },
     "metadata": {
      "needs_background": "light"
     },
     "output_type": "display_data"
    }
   ],
   "source": [
    "\n",
    "x = np.linspace(-5,5,10000)\n",
    "y=[v(r) for r in x]\n",
    "plt.scatter(x, y)"
   ]
  },
  {
   "cell_type": "code",
   "execution_count": null,
   "id": "68f4f886",
   "metadata": {},
   "outputs": [],
   "source": []
  },
  {
   "cell_type": "code",
   "execution_count": 408,
   "id": "652fbfe8",
   "metadata": {},
   "outputs": [
    {
     "data": {
      "text/plain": [
       "0.238732414637843"
      ]
     },
     "execution_count": 408,
     "metadata": {},
     "output_type": "execute_result"
    }
   ],
   "source": [
    "3/(4*np.pi*a*eps)"
   ]
  },
  {
   "cell_type": "code",
   "execution_count": 409,
   "id": "9a157aa1",
   "metadata": {},
   "outputs": [
    {
     "data": {
      "text/plain": [
       "0.015918384558484624"
      ]
     },
     "execution_count": 409,
     "metadata": {},
     "output_type": "execute_result"
    }
   ],
   "source": [
    "y[np.shape(y)[0]-1]"
   ]
  },
  {
   "cell_type": "code",
   "execution_count": 410,
   "id": "74b96e82",
   "metadata": {},
   "outputs": [
    {
     "data": {
      "text/plain": [
       "10000"
      ]
     },
     "execution_count": 410,
     "metadata": {},
     "output_type": "execute_result"
    }
   ],
   "source": [
    "np.shape(y)[0]"
   ]
  },
  {
   "cell_type": "code",
   "execution_count": 411,
   "id": "73413820",
   "metadata": {},
   "outputs": [
    {
     "data": {
      "text/plain": [
       "0.015915494309189534"
      ]
     },
     "execution_count": 411,
     "metadata": {},
     "output_type": "execute_result"
    }
   ],
   "source": [
    "boundary_condition(startR)"
   ]
  },
  {
   "cell_type": "code",
   "execution_count": 412,
   "id": "ec8b1935",
   "metadata": {},
   "outputs": [
    {
     "data": {
      "text/plain": [
       "0.015915494309189534"
      ]
     },
     "execution_count": 412,
     "metadata": {},
     "output_type": "execute_result"
    }
   ],
   "source": [
    "boundary_condition(endR)"
   ]
  },
  {
   "cell_type": "code",
   "execution_count": 413,
   "id": "53fe0e3d",
   "metadata": {},
   "outputs": [
    {
     "data": {
      "text/plain": [
       "0.016240249701607742"
      ]
     },
     "execution_count": 413,
     "metadata": {},
     "output_type": "execute_result"
    }
   ],
   "source": [
    "sols_1[len(sols_1)-1]"
   ]
  },
  {
   "cell_type": "code",
   "execution_count": 414,
   "id": "435d7c0f",
   "metadata": {},
   "outputs": [
    {
     "data": {
      "text/plain": [
       "0.9953222650189527"
      ]
     },
     "execution_count": 414,
     "metadata": {},
     "output_type": "execute_result"
    }
   ],
   "source": [
    "scipy.special.erf(2)"
   ]
  },
  {
   "cell_type": "code",
   "execution_count": 415,
   "id": "f1d69e7d",
   "metadata": {},
   "outputs": [
    {
     "data": {
      "text/plain": [
       "-0.018020035292661007"
      ]
     },
     "execution_count": 415,
     "metadata": {},
     "output_type": "execute_result"
    }
   ],
   "source": [
    "v_2s(endR)"
   ]
  },
  {
   "cell_type": "code",
   "execution_count": 416,
   "id": "bac8caaf",
   "metadata": {},
   "outputs": [
    {
     "data": {
      "text/plain": [
       "array([3.89982757e+00, 1.47462252e-06, 2.27165814e-06, 3.46159372e-06,\n",
       "       5.21750580e-06, 7.77830686e-06, 1.14689266e-05, 1.67245691e-05,\n",
       "       2.41189796e-05, 3.43961982e-05, 4.85046440e-05, 6.76315546e-05,\n",
       "       9.32348212e-05, 1.27068144e-04, 1.71194286e-04, 2.27980152e-04,\n",
       "       3.00066622e-04, 3.90305784e-04, 5.01658653e-04, 6.37047839e-04,\n",
       "       7.99162222e-04, 9.90214544e-04, 1.21165792e-03, 1.46387346e-03,\n",
       "       1.74584797e-03, 2.05486756e-03, 2.38625887e-03, 2.73321381e-03,\n",
       "       3.08673490e-03, 3.43573572e-03, 3.76732408e-03, 4.06728346e-03,\n",
       "       4.32075226e-03, 4.51308067e-03, 4.63082336e-03, 4.66280514e-03,\n",
       "       4.60117860e-03, 4.44238013e-03, 4.18788661e-03, 3.84468017e-03,\n",
       "       3.42534509e-03, 2.94774666e-03, 2.43427714e-03, 1.91069341e-03,\n",
       "       1.40461249e-03, 9.43768507e-04, 5.54164674e-04, 2.58271202e-04,\n",
       "       7.34233926e-05, 1.05611364e-05, 7.34233926e-05, 2.58271202e-04,\n",
       "       5.54164674e-04, 9.43768507e-04, 1.40461249e-03, 1.91069341e-03,\n",
       "       2.43427714e-03, 2.94774666e-03, 3.42534509e-03, 3.84468017e-03,\n",
       "       4.18788661e-03, 4.44238013e-03, 4.60117860e-03, 4.66280514e-03,\n",
       "       4.63082336e-03, 4.51308067e-03, 4.32075226e-03, 4.06728346e-03,\n",
       "       3.76732408e-03, 3.43573572e-03, 3.08673490e-03, 2.73321381e-03,\n",
       "       2.38625887e-03, 2.05486756e-03, 1.74584797e-03, 1.46387346e-03,\n",
       "       1.21165792e-03, 9.90214544e-04, 7.99162222e-04, 6.37047839e-04,\n",
       "       5.01658653e-04, 3.90305784e-04, 3.00066622e-04, 2.27980152e-04,\n",
       "       1.71194286e-04, 1.27068144e-04, 9.32348212e-05, 6.76315546e-05,\n",
       "       4.85046440e-05, 3.43961982e-05, 2.41189796e-05, 1.67245691e-05,\n",
       "       1.14689266e-05, 7.77830686e-06, 5.21750580e-06, 3.46159372e-06,\n",
       "       2.27165814e-06, 1.47462252e-06, 3.89982757e+00])"
      ]
     },
     "execution_count": 416,
     "metadata": {},
     "output_type": "execute_result"
    }
   ],
   "source": [
    "b_1"
   ]
  },
  {
   "cell_type": "code",
   "execution_count": 417,
   "id": "dc7aef90",
   "metadata": {},
   "outputs": [],
   "source": [
    "d=generateUniformGrid(N)\n",
    "f=generateListOfAdaptiveGridCoords(N, gaussianElectronDensity, 100, 5)\n",
    "for i in range(len(d)):\n",
    "    if(d[i][0] != f[i][0] or d[i][1] != f[i][1]):\n",
    "        print(\"d\", d[i])\n",
    "        print(\"f\", f[i])"
   ]
  },
  {
   "cell_type": "code",
   "execution_count": 418,
   "id": "c6ca6816",
   "metadata": {},
   "outputs": [
    {
     "ename": "NameError",
     "evalue": "name 'M' is not defined",
     "output_type": "error",
     "traceback": [
      "\u001b[0;31m---------------------------------------------------------------------------\u001b[0m",
      "\u001b[0;31mNameError\u001b[0m                                 Traceback (most recent call last)",
      "\u001b[0;32m/var/folders/w9/rpt2vk6943b30y910f1djt500000gq/T/ipykernel_35107/545986313.py\u001b[0m in \u001b[0;36m<module>\u001b[0;34m\u001b[0m\n\u001b[0;32m----> 1\u001b[0;31m \u001b[0mM\u001b[0m\u001b[0;34m\u001b[0m\u001b[0;34m\u001b[0m\u001b[0m\n\u001b[0m",
      "\u001b[0;31mNameError\u001b[0m: name 'M' is not defined"
     ]
    }
   ],
   "source": [
    "M"
   ]
  },
  {
   "cell_type": "code",
   "execution_count": null,
   "id": "72b75420",
   "metadata": {},
   "outputs": [],
   "source": [
    "np.array_equal(M, M_1)"
   ]
  },
  {
   "cell_type": "code",
   "execution_count": null,
   "id": "e40a136a",
   "metadata": {},
   "outputs": [],
   "source": [
    "np.array_equal(b, b_1)"
   ]
  },
  {
   "cell_type": "code",
   "execution_count": null,
   "id": "7e5410f5",
   "metadata": {},
   "outputs": [],
   "source": [
    "b"
   ]
  },
  {
   "cell_type": "code",
   "execution_count": null,
   "id": "c1a5f006",
   "metadata": {},
   "outputs": [],
   "source": [
    "b_1"
   ]
  },
  {
   "cell_type": "code",
   "execution_count": null,
   "id": "fb2977be",
   "metadata": {},
   "outputs": [],
   "source": []
  }
 ],
 "metadata": {
  "kernelspec": {
   "display_name": "Python 3 (ipykernel)",
   "language": "python",
   "name": "python3"
  },
  "language_info": {
   "codemirror_mode": {
    "name": "ipython",
    "version": 3
   },
   "file_extension": ".py",
   "mimetype": "text/x-python",
   "name": "python",
   "nbconvert_exporter": "python",
   "pygments_lexer": "ipython3",
   "version": "3.9.12"
  }
 },
 "nbformat": 4,
 "nbformat_minor": 5
}
