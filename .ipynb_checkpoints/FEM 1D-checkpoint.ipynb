{
 "cells": [
  {
   "cell_type": "code",
   "execution_count": 1597,
   "id": "ea858970",
   "metadata": {},
   "outputs": [],
   "source": [
    "%matplotlib inline\n",
    "\n",
    "import numpy as np\n",
    "import matplotlib.pyplot as plt\n",
    "import scipy\n",
    "import scipy.integrate as integrate\n",
    "import numpy.linalg as linalg\n",
    "from multipledispatch import dispatch"
   ]
  },
  {
   "cell_type": "code",
   "execution_count": 1598,
   "id": "4d0bb69d",
   "metadata": {},
   "outputs": [],
   "source": [
    "#must be greater than 0\n",
    "au2nm=0.05291\n",
    "au2ev=27.211\n",
    "\n",
    "adaptive=False\n",
    "startR=-0.25/au2nm\n",
    "endR=0.25/au2nm\n",
    "N=1000\n",
    "sites=N+1\n",
    "a=0.0529/au2nm\n",
    "deltaX=np.abs(startR-endR)/(N)\n",
    "eps=0.5968404*au2nm*au2ev\n",
    "n=1\n",
    "sigma=1\n",
    "valueAtZero=1/(2*np.pi*a*eps)"
   ]
  },
  {
   "cell_type": "code",
   "execution_count": 1599,
   "id": "eaee86b4",
   "metadata": {},
   "outputs": [],
   "source": [
    "def electronDensity(r, a):\n",
    "    return (1/(np.pi*a**3))*(np.exp(-2*r/a)) if r>0 else (1/(np.pi*a**3))*(np.exp(2*r/a))\n",
    "\n",
    "@dispatch(float, float)\n",
    "def linearFunction(r, n):\n",
    "    return 1/(deltaX) *(r-n)+1 if r<n else -1/(deltaX) *(r-n)+1\n",
    "\n",
    "#n is the middle\n",
    "#a_1 is the left most\n",
    "#a_2 is the right most\n",
    "@dispatch(float, float, float, float)\n",
    "def linearFunction(r, a_1, n, a_2):\n",
    "    return 1/(n-a_1) *(r-n)+1 if r<n else -1/(a_2-n) *(r-n)+1\n",
    "\n",
    "def integrand(r, eps, n, edensity):\n",
    "    return ((1/eps)*edensity(r,a)*linearFunction(r, n)*r**2)\n",
    "\n",
    "def integrandAdaptive(r, eps, n, edensity, a_1, a_2):\n",
    "    return (1/eps)*edensity(r,a)*linearFunction(r, a_1, n, a_2)*r**2\n",
    "\n",
    "def getIntegral(a_1, a_2, eps, n, edensity):\n",
    "    return integrate.quad(integrand, a_1, a_2, args=(eps, n, edensity))[0]\n",
    "\n",
    "def getIntegralAdaptive(a_1, a_2, eps, n, edensity):\n",
    "    return integrate.quad(integrandAdaptive, a_1, a_2, args=(eps, n, edensity, a_1, a_2))[0]\n",
    "\n",
    "def gaussianElectronDensity(r, sigma):\n",
    "    return (1/np.sqrt(2*np.pi*sigma**2))**3*(np.exp((-r**2)/(2*sigma**2)))\n",
    "\n",
    "def electronDensity_2s(r, a):\n",
    "    return -(1/(32*np.pi*a**3))*(2-r/a)*np.exp(-r/a) if r>0 else -(1/(32*np.pi*a**3))*(2+r/a)*np.exp(r/a)\n",
    "\n",
    "def v_gauss(r):\n",
    "    return 1/(4*np.pi*eps)*(1/r)*scipy.special.erf(r/np.sqrt(2*sigma**2))\n",
    "\n",
    "def v(r):\n",
    "    return (1/(4*np.pi*eps*a**2))*(a**2/r-(a**2/r-a)*np.exp(-2*r/a)) if r>0 else (1/(4*np.pi*eps*a**2))*(-a**2/r-(-a**2/r-a)*np.exp(2*r/a))\n",
    "\n",
    "def v_2s(r):\n",
    "    return -(1/(32*np.pi*eps))*(8/r-(8/r+2/a-2*r/(a**2)-r**2/a**3)*np.exp(-r/a)) if r>0 else (1/(32*np.pi*eps))*(-8/r-(-8/r+2/a+2*r/(a**2)-r**2/a**3)*np.exp(r/a))"
   ]
  },
  {
   "cell_type": "code",
   "execution_count": 1600,
   "id": "8218ac79",
   "metadata": {},
   "outputs": [],
   "source": [
    "#func gives grid size at each point\n",
    "def generateUniformGrid(N):\n",
    "    delX=(endR-startR)/N\n",
    "    return [(startR+i*delX,startR+(i+1)*delX) for i in range(N)]\n",
    "\n",
    "def riemannEst(a_1, a_2, func):\n",
    "    return func((a_2-a_1)/2+a_1,a)*(a_2-a_1)\n",
    "\n",
    "def adaptivelySubdivide(l, func, eps,n,maxIt):\n",
    "    absError=np.abs(riemannEst(l[0], l[1], func)-(riemannEst(l[0], (l[1]-l[0])/2+l[0], func)+riemannEst((l[1]-l[0])/2+l[0], l[1],func)))\n",
    "    relError=np.abs(absError/(riemannEst(l[0], l[1], func)))\n",
    "    if(relError<eps or n>maxIt):\n",
    "        return np.array([l])\n",
    "    else:\n",
    "        left=(l[0], (l[1]-l[0])/2+l[0])\n",
    "        right=((l[1]-l[0])/2+l[0], l[1])\n",
    "        temp=(np.concatenate((adaptivelySubdivide(left, func, eps, n+1,maxIt),adaptivelySubdivide(right, func, eps,n+1,maxIt))))\n",
    "        return temp\n",
    "    \n",
    "#adaptively subdivided to func\n",
    "def generateListOfAdaptiveGridCoords(N, func, eps, maxIt):\n",
    "    uni=generateUniformGrid(N)\n",
    "    newList=[];\n",
    "    for i in range(len(uni)):\n",
    "        #adaptively subdivide returns a list\n",
    "        temp=adaptivelySubdivide(uni[i], func, eps, 0, maxIt);\n",
    "        for x in temp:\n",
    "            newList.append(x)\n",
    "    return np.array(newList,dtype=object)"
   ]
  },
  {
   "cell_type": "code",
   "execution_count": 1601,
   "id": "559eda95",
   "metadata": {},
   "outputs": [],
   "source": [
    "#uniform\n",
    "def constructResultVector(eDensity):\n",
    "    theList=[getIntegral(startR+(i-1)*deltaX, startR+(i+1)*deltaX, eps, startR+i*deltaX,eDensity) for i in range(1,sites-1)];\n",
    "    return np.array(theList);\n",
    "\n",
    "def createListOfMidCoord(temp):\n",
    "    return np.array((x[1]-x[0])/2+x[0] for x in temp)\n",
    "\n",
    "def createListOfIntervals(adpGrid):\n",
    "    return np.array([np.abs(x[1]-x[0]) for x in adpGrid])\n",
    "\n",
    "#getIntegralAdaptive(a_1, a_2, eps, n, edensity)\n",
    "def constructResultVectorAdaptive(adpGrid, eDensity):\n",
    "    theList=[getIntegralAdaptive(adpGrid[i-1][0], adpGrid[i+1][0] if i+1<np.shape(adpGrid)[0] else adpGrid[i][1]+deltaX, eps, adpGrid[i][0], eDensity) for i in range(1, np.shape(adpGrid)[0])];\n",
    "    return np.array(theList);\n",
    "\n",
    "@dispatch(int)\n",
    "def mk(i):\n",
    "    return ((startR+deltaX*i)**3-(startR+deltaX*(i-1))**3)/(3*deltaX**2)\n",
    "\n",
    "@dispatch(int, np.ndarray)\n",
    "def mk(i, adpGrid):\n",
    "    one=adpGrid[i][0] if i<np.shape(adpGrid)[0] else adpGrid[np.shape(adpGrid)[0]-1][1]\n",
    "    return (one**3-(adpGrid[i-1][0])**3)/(3*(adpGrid[i-1][1]-adpGrid[i-1][0])*(adpGrid[i][1]-adpGrid[i][0]))"
   ]
  },
  {
   "cell_type": "code",
   "execution_count": 1602,
   "id": "063c3ba7",
   "metadata": {},
   "outputs": [],
   "source": [
    "def boundary_condition(r):\n",
    "    if(0<=r and r<endR/2):\n",
    "        return valueAtZero\n",
    "    return (1/(4*np.pi*eps))*1/np.abs(r)\n",
    "\n",
    "def addBoundaryConditions(b):\n",
    "    b[0]+=boundary_condition(startR)*mk(1)\n",
    "    b[b.size-1]+=boundary_condition(endR)*mk(N)\n",
    "    return b"
   ]
  },
  {
   "cell_type": "code",
   "execution_count": 1603,
   "id": "f30fbfcc",
   "metadata": {},
   "outputs": [],
   "source": [
    "def constructMatrix():\n",
    "    temp=np.zeros((sites, sites));\n",
    "    for i in range(sites-1):\n",
    "        if(i>0):\n",
    "            temp[i, i-1]=-mk(i)\n",
    "        if(i>=0):\n",
    "            temp[i, i]=mk(i+1)+mk(i)\n",
    "        if(i+1<sites):\n",
    "            temp[i, i+1]=-mk(i+1)\n",
    "    temp=np.delete(temp, [0, sites-1], axis=1)\n",
    "    temp=np.delete(temp, [0, sites-1], axis=0)\n",
    "    return temp\n",
    "\n",
    "def constructMatrixAdp(adGrid):\n",
    "    temp=np.zeros((np.shape(adpGrid)[0]+1, np.shape(adpGrid)[0]+1));\n",
    "    for i in range(sites-1):\n",
    "        if(i>0):\n",
    "            temp[i, i-1]=-mk(i, adpGrid)\n",
    "        if(i>=0):\n",
    "            temp[i, i]=mk(i+1,adpGrid)+mk(i,adpGrid)\n",
    "        if(i+1<sites):\n",
    "            temp[i, i+1]=-mk(i+1,adpGrid)\n",
    "    temp=np.delete(temp, [0, sites-1], axis=1)\n",
    "    temp=np.delete(temp, [0, sites-1], axis=0)\n",
    "    return temp"
   ]
  },
  {
   "cell_type": "code",
   "execution_count": 1604,
   "id": "c93f7eb7",
   "metadata": {},
   "outputs": [
    {
     "data": {
      "text/plain": [
       "5386"
      ]
     },
     "execution_count": 1604,
     "metadata": {},
     "output_type": "execute_result"
    }
   ],
   "source": [
    "np.shape(adpGrid)[0]"
   ]
  },
  {
   "cell_type": "code",
   "execution_count": 1605,
   "id": "85e98221",
   "metadata": {},
   "outputs": [],
   "source": [
    "#adpGrid=generateListOfAdaptiveGridCoords(N, gaussianElectronDensity, 1e-4, 5)\n",
    "#b=constructResultVectorAdaptive(adpGrid, gaussianElectronDensity)\n",
    "#b=constructResultVector(electronDensity_2s)\n",
    "#b=addBoundaryConditions(b)\n",
    "\n",
    "b_1=constructResultVector(electronDensity)\n",
    "b_1=addBoundaryConditions(b_1)"
   ]
  },
  {
   "cell_type": "code",
   "execution_count": 1606,
   "id": "c8194ded",
   "metadata": {},
   "outputs": [],
   "source": [
    "M=constructMatrixAdp(adpGrid)\n",
    "M_1=constructMatrix()"
   ]
  },
  {
   "cell_type": "code",
   "execution_count": 1607,
   "id": "bfb46232",
   "metadata": {},
   "outputs": [
    {
     "data": {
      "text/plain": [
       "(5385, 5385)"
      ]
     },
     "execution_count": 1607,
     "metadata": {},
     "output_type": "execute_result"
    }
   ],
   "source": [
    "np.shape(M)"
   ]
  },
  {
   "cell_type": "code",
   "execution_count": 1608,
   "id": "8dec855a",
   "metadata": {},
   "outputs": [
    {
     "data": {
      "text/plain": [
       "(5385,)"
      ]
     },
     "execution_count": 1608,
     "metadata": {},
     "output_type": "execute_result"
    }
   ],
   "source": [
    "np.shape(b)"
   ]
  },
  {
   "cell_type": "code",
   "execution_count": 1609,
   "id": "803b978c",
   "metadata": {},
   "outputs": [
    {
     "data": {
      "text/plain": [
       "(999,)"
      ]
     },
     "execution_count": 1609,
     "metadata": {},
     "output_type": "execute_result"
    }
   ],
   "source": [
    "np.shape(b_1)"
   ]
  },
  {
   "cell_type": "code",
   "execution_count": 1610,
   "id": "289ccf60",
   "metadata": {},
   "outputs": [],
   "source": [
    "#sols=linalg.solve(M, b)\n",
    "sols_1=linalg.solve(M_1, b_1)"
   ]
  },
  {
   "cell_type": "code",
   "execution_count": null,
   "id": "4d6663ca",
   "metadata": {},
   "outputs": [],
   "source": []
  },
  {
   "cell_type": "code",
   "execution_count": 1630,
   "id": "ae28c95c",
   "metadata": {},
   "outputs": [
    {
     "name": "stderr",
     "output_type": "stream",
     "text": [
      "/var/folders/w9/rpt2vk6943b30y910f1djt500000gq/T/ipykernel_1895/692415337.py:37: RuntimeWarning: divide by zero encountered in double_scalars\n",
      "  return (1/(4*np.pi*eps*a**2))*(a**2/r-(a**2/r-a)*np.exp(-2*r/a)) if r>0 else (1/(4*np.pi*eps*a**2))*(-a**2/r-(-a**2/r-a)*np.exp(2*r/a))\n",
      "/var/folders/w9/rpt2vk6943b30y910f1djt500000gq/T/ipykernel_1895/692415337.py:37: RuntimeWarning: invalid value encountered in double_scalars\n",
      "  return (1/(4*np.pi*eps*a**2))*(a**2/r-(a**2/r-a)*np.exp(-2*r/a)) if r>0 else (1/(4*np.pi*eps*a**2))*(-a**2/r-(-a**2/r-a)*np.exp(2*r/a))\n"
     ]
    },
    {
     "data": {
      "text/plain": [
       "<matplotlib.collections.PathCollection at 0x122bc1160>"
      ]
     },
     "execution_count": 1630,
     "metadata": {},
     "output_type": "execute_result"
    },
    {
     "data": {
      "image/png": "[encoded data removed]",
      "text/plain": [
       "<Figure size 432x288 with 1 Axes>"
      ]
     },
     "metadata": {
      "needs_background": "light"
     },
     "output_type": "display_data"
    }
   ],
   "source": [
    "\n",
    "x = np.linspace(startR,endR,N-1)\n",
    "y=[v(r)*au2ev for r in x]\n",
    "plt.scatter(x, y)\n",
    "\n",
    "\n",
    "x1=[startR+i*deltaX for i in range(b_1.size)]\n",
    "plt.scatter(x1,sols_1*au2ev,c=\"green\")\n",
    "\n",
    "#try nonlinear elements\n"
   ]
  },
  {
   "cell_type": "code",
   "execution_count": null,
   "id": "cc04c405",
   "metadata": {},
   "outputs": [],
   "source": []
  },
  {
   "cell_type": "code",
   "execution_count": 1612,
   "id": "dbbeceab",
   "metadata": {},
   "outputs": [
    {
     "data": {
      "text/plain": [
       "array([1.0017021 , 1.00168838, 1.00167444, 1.00166028, 1.0016459 ,\n",
       "       1.00163129, 1.00161646, 1.00160139, 1.00158608, 1.00157053,\n",
       "       1.00155473, 1.00153869, 1.00152239, 1.00150583, 1.00148901,\n",
       "       1.00147193, 1.00145457, 1.00143694, 1.00141903, 1.00140084,\n",
       "       1.00138236, 1.00136358, 1.0013445 , 1.00132513, 1.00130544,\n",
       "       1.00128544, 1.00126512, 1.00124448, 1.00122351, 1.0012022 ,\n",
       "       1.00118056, 1.00115857, 1.00113623, 1.00111353, 1.00109047,\n",
       "       1.00106705, 1.00104324, 1.00101906, 1.0009945 , 1.00096953,\n",
       "       1.00094418, 1.00091841, 1.00089223, 1.00086564, 1.00083862,\n",
       "       1.00081116, 1.00078327, 1.00075493, 1.00072614, 1.00069689,\n",
       "       1.00066717, 1.00063697, 1.00060629, 1.00057511, 1.00054344,\n",
       "       1.00051126, 1.00047857, 1.00044535, 1.0004116 , 1.00037731,\n",
       "       1.00034247, 1.00030708, 1.00027111, 1.00023457, 1.00019745,\n",
       "       1.00015973, 1.0001214 , 1.00008247, 1.00004291, 1.00000271,\n",
       "       0.99996188, 0.99992038, 0.99987823, 0.9998354 , 0.99979188,\n",
       "       0.99974767, 0.99970275, 0.99965712, 0.99961075, 0.99956364,\n",
       "       0.99951578, 0.99946716, 0.99941775, 0.99936756, 0.99931657,\n",
       "       0.99926476, 0.99921213, 0.99915865, 0.99910432, 0.99904913,\n",
       "       0.99899305, 0.99893608, 0.9988782 , 0.9988194 , 0.99875967,\n",
       "       0.99869898, 0.99863732, 0.99857469, 0.99851105, 0.99844641,\n",
       "       0.99838074, 0.99831402, 0.99824624, 0.99817739, 0.99810744,\n",
       "       0.99803638, 0.9979642 , 0.99789087, 0.99781637, 0.9977407 ,\n",
       "       0.99766383, 0.99758574, 0.99750641, 0.99742583, 0.99734398,\n",
       "       0.99726083, 0.99717637, 0.99709057, 0.99700342, 0.99691489,\n",
       "       0.99682497, 0.99673363, 0.99664085, 0.99654661, 0.99645088,\n",
       "       0.99635365, 0.9962549 , 0.99615459, 0.9960527 , 0.99594921,\n",
       "       0.99584411, 0.99573735, 0.99562892, 0.99551879, 0.99540694,\n",
       "       0.99529334, 0.99517796, 0.99506078, 0.99494176, 0.9948209 ,\n",
       "       0.99469814, 0.99457348, 0.99444687, 0.99431829, 0.99418771,\n",
       "       0.9940551 , 0.99392043, 0.99378367, 0.99364479, 0.99350375,\n",
       "       0.99336054, 0.9932151 , 0.99306741, 0.99291744, 0.99276516,\n",
       "       0.99261052, 0.9924535 , 0.99229406, 0.99213216, 0.99196777,\n",
       "       0.99180086, 0.99163138, 0.9914593 , 0.99128458, 0.99110718,\n",
       "       0.99092706, 0.99074419, 0.99055852, 0.99037002, 0.99017864,\n",
       "       0.98998435, 0.98978709, 0.98958683, 0.98938352, 0.98917713,\n",
       "       0.9889676 , 0.9887549 , 0.98853897, 0.98831978, 0.98809727,\n",
       "       0.9878714 , 0.98764212, 0.98740938, 0.98717314, 0.98693335,\n",
       "       0.98668995, 0.98644289, 0.98619213, 0.98593761, 0.98567928,\n",
       "       0.98541709, 0.98515098, 0.9848809 , 0.9846068 , 0.98432861,\n",
       "       0.98404629, 0.98375978, 0.98346901, 0.98317394, 0.9828745 ,\n",
       "       0.98257063, 0.98226227, 0.98194937, 0.98163185, 0.98130967,\n",
       "       0.98098275, 0.98065103, 0.98031445, 0.97997294, 0.97962644,\n",
       "       0.97927488, 0.97891819, 0.97855631, 0.97818917, 0.97781669,\n",
       "       0.97743882, 0.97705546, 0.97666657, 0.97627206, 0.97587185,\n",
       "       0.97546589, 0.97505408, 0.97463637, 0.97421266, 0.97378289,\n",
       "       0.97334697, 0.97290483, 0.97245639, 0.97200157, 0.97154029,\n",
       "       0.97107246, 0.97059801, 0.97011685, 0.9696289 , 0.96913407,\n",
       "       0.96863228, 0.96812344, 0.96760746, 0.96708427, 0.96655376,\n",
       "       0.96601585, 0.96547046, 0.96491748, 0.96435683, 0.96378841,\n",
       "       0.96321214, 0.96262791, 0.96203564, 0.96143523, 0.96082658,\n",
       "       0.96020959, 0.95958418, 0.95895023, 0.95830765, 0.95765635,\n",
       "       0.95699621, 0.95632714, 0.95564904, 0.9549618 , 0.95426532,\n",
       "       0.9535595 , 0.95284423, 0.9521194 , 0.95138491, 0.95064065,\n",
       "       0.94988652, 0.9491224 , 0.94834819, 0.94756378, 0.94676906,\n",
       "       0.94596391, 0.94514822, 0.94432189, 0.9434848 , 0.94263683,\n",
       "       0.94177788, 0.94090782, 0.94002655, 0.93913394, 0.93822989,\n",
       "       0.93731427, 0.93638697, 0.93544787, 0.93449686, 0.93353381,\n",
       "       0.9325586 , 0.93157112, 0.93057125, 0.92955887, 0.92853385,\n",
       "       0.92749608, 0.92644543, 0.92538179, 0.92430504, 0.92321504,\n",
       "       0.92211169, 0.92099485, 0.91986441, 0.91872024, 0.91756222,\n",
       "       0.91639023, 0.91520415, 0.91400385, 0.91278921, 0.91156011,\n",
       "       0.91031642, 0.90905803, 0.90778481, 0.90649663, 0.90519338,\n",
       "       0.90387494, 0.90254118, 0.90119198, 0.89982722, 0.89844678,\n",
       "       0.89705054, 0.89563837, 0.89421017, 0.89276581, 0.89130517,\n",
       "       0.88982813, 0.88833458, 0.88682439, 0.88529746, 0.88375367,\n",
       "       0.8821929 , 0.88061504, 0.87901998, 0.8774076 , 0.87577778,\n",
       "       0.87413044, 0.87246544, 0.87078268, 0.86908207, 0.86736348,\n",
       "       0.86562681, 0.86387197, 0.86209884, 0.86030733, 0.85849733,\n",
       "       0.85666875, 0.85482149, 0.85295546, 0.85107055, 0.84916668,\n",
       "       0.84724376, 0.84530169, 0.84334039, 0.84135977, 0.83935975,\n",
       "       0.83734025, 0.83530118, 0.83324246, 0.83116403, 0.8290658 ,\n",
       "       0.8269477 , 0.82480966, 0.82265162, 0.8204735 , 0.81827525,\n",
       "       0.81605679, 0.81381809, 0.81155906, 0.80927967, 0.80697986,\n",
       "       0.80465958, 0.80231879, 0.79995743, 0.79757548, 0.79517288,\n",
       "       0.79274961, 0.79030563, 0.7878409 , 0.78535542, 0.78284914,\n",
       "       0.78032205, 0.77777413, 0.77520536, 0.77261573, 0.77000524,\n",
       "       0.76737387, 0.76472162, 0.7620485 , 0.7593545 , 0.75663964,\n",
       "       0.75390392, 0.75114736, 0.74836997, 0.74557177, 0.7427528 ,\n",
       "       0.73991307, 0.73705262, 0.73417147, 0.73126968, 0.72834728,\n",
       "       0.72540431, 0.72244082, 0.71945686, 0.7164525 , 0.71342779,\n",
       "       0.71038279, 0.70731757, 0.7042322 , 0.70112676, 0.69800131,\n",
       "       0.69485595, 0.69169076, 0.68850583, 0.68530125, 0.68207711,\n",
       "       0.67883352, 0.67557057, 0.67228839, 0.66898707, 0.66566674,\n",
       "       0.66232751, 0.6589695 , 0.65559284, 0.65219766, 0.6487841 ,\n",
       "       0.64535228, 0.64190235, 0.63843445, 0.63494873, 0.63144534,\n",
       "       0.62792444, 0.62438618, 0.62083073, 0.61725824, 0.61366889,\n",
       "       0.61006284, 0.60644028, 0.60280138, 0.59914632, 0.59547528,\n",
       "       0.59178845, 0.58808603, 0.58436821, 0.58063517, 0.57688713,\n",
       "       0.57312429, 0.56934684, 0.565555  , 0.56174898, 0.55792898,\n",
       "       0.55409524, 0.55024796, 0.54638737, 0.54251368, 0.53862714,\n",
       "       0.53472796, 0.53081637, 0.52689261, 0.52295691, 0.51900951,\n",
       "       0.51505064, 0.51108056, 0.5070995 , 0.5031077 , 0.49910541,\n",
       "       0.49509288, 0.49107037, 0.48703811, 0.48299636, 0.47894538,\n",
       "       0.47488543, 0.47081674, 0.4667396 , 0.46265424, 0.45856094,\n",
       "       0.45445996, 0.45035155, 0.44623597, 0.4421135 , 0.43798438,\n",
       "       0.4338489 , 0.42970731, 0.42555988, 0.42140687, 0.41724855,\n",
       "       0.41308518, 0.40891704, 0.40474439, 0.40056749, 0.39638662,\n",
       "       0.39220204, 0.38801402, 0.38382283, 0.37962874, 0.37543202,\n",
       "       0.37123295, 0.3670318 , 0.36282885, 0.35862439, 0.35441873,\n",
       "       0.35021221, 0.34600522, 0.34179835, 0.33759273,        nan,\n",
       "       0.33759273, 0.34179835, 0.34600522, 0.35021221, 0.35441873,\n",
       "       0.35862439, 0.36282885, 0.3670318 , 0.37123295, 0.37543202,\n",
       "       0.37962874, 0.38382283, 0.38801402, 0.39220204, 0.39638662,\n",
       "       0.40056749, 0.40474439, 0.40891704, 0.41308518, 0.41724855,\n",
       "       0.42140687, 0.42555988, 0.42970731, 0.4338489 , 0.43798438,\n",
       "       0.4421135 , 0.44623597, 0.45035155, 0.45445996, 0.45856094,\n",
       "       0.46265424, 0.4667396 , 0.47081674, 0.47488543, 0.47894538,\n",
       "       0.48299636, 0.48703811, 0.49107037, 0.49509288, 0.49910541,\n",
       "       0.5031077 , 0.5070995 , 0.51108056, 0.51505064, 0.51900951,\n",
       "       0.52295691, 0.52689261, 0.53081637, 0.53472796, 0.53862714,\n",
       "       0.54251368, 0.54638737, 0.55024796, 0.55409524, 0.55792898,\n",
       "       0.56174898, 0.565555  , 0.56934684, 0.57312429, 0.57688713,\n",
       "       0.58063517, 0.58436821, 0.58808603, 0.59178845, 0.59547528,\n",
       "       0.59914632, 0.60280138, 0.60644028, 0.61006284, 0.61366889,\n",
       "       0.61725824, 0.62083073, 0.62438618, 0.62792444, 0.63144534,\n",
       "       0.63494873, 0.63843445, 0.64190235, 0.64535228, 0.6487841 ,\n",
       "       0.65219766, 0.65559284, 0.6589695 , 0.66232751, 0.66566674,\n",
       "       0.66898707, 0.67228839, 0.67557057, 0.67883352, 0.68207711,\n",
       "       0.68530125, 0.68850583, 0.69169076, 0.69485595, 0.69800131,\n",
       "       0.70112676, 0.7042322 , 0.70731757, 0.71038279, 0.71342779,\n",
       "       0.7164525 , 0.71945686, 0.72244082, 0.72540431, 0.72834728,\n",
       "       0.73126968, 0.73417147, 0.73705262, 0.73991307, 0.7427528 ,\n",
       "       0.74557177, 0.74836997, 0.75114736, 0.75390392, 0.75663964,\n",
       "       0.7593545 , 0.7620485 , 0.76472162, 0.76737387, 0.77000524,\n",
       "       0.77261573, 0.77520536, 0.77777413, 0.78032205, 0.78284914,\n",
       "       0.78535542, 0.7878409 , 0.79030563, 0.79274961, 0.79517288,\n",
       "       0.79757548, 0.79995743, 0.80231879, 0.80465958, 0.80697986,\n",
       "       0.80927967, 0.81155906, 0.81381809, 0.81605679, 0.81827525,\n",
       "       0.8204735 , 0.82265162, 0.82480966, 0.8269477 , 0.8290658 ,\n",
       "       0.83116403, 0.83324246, 0.83530118, 0.83734025, 0.83935975,\n",
       "       0.84135977, 0.84334039, 0.84530169, 0.84724376, 0.84916668,\n",
       "       0.85107055, 0.85295546, 0.85482149, 0.85666875, 0.85849733,\n",
       "       0.86030733, 0.86209884, 0.86387197, 0.86562681, 0.86736348,\n",
       "       0.86908207, 0.87078268, 0.87246544, 0.87413044, 0.87577778,\n",
       "       0.8774076 , 0.87901998, 0.88061504, 0.8821929 , 0.88375367,\n",
       "       0.88529746, 0.88682439, 0.88833458, 0.88982813, 0.89130517,\n",
       "       0.89276581, 0.89421017, 0.89563837, 0.89705054, 0.89844678,\n",
       "       0.89982722, 0.90119198, 0.90254118, 0.90387494, 0.90519338,\n",
       "       0.90649663, 0.90778481, 0.90905803, 0.91031642, 0.91156011,\n",
       "       0.91278921, 0.91400385, 0.91520415, 0.91639023, 0.91756222,\n",
       "       0.91872024, 0.91986441, 0.92099485, 0.92211169, 0.92321504,\n",
       "       0.92430504, 0.92538179, 0.92644543, 0.92749608, 0.92853385,\n",
       "       0.92955887, 0.93057125, 0.93157112, 0.9325586 , 0.93353381,\n",
       "       0.93449686, 0.93544787, 0.93638697, 0.93731427, 0.93822989,\n",
       "       0.93913394, 0.94002655, 0.94090782, 0.94177788, 0.94263683,\n",
       "       0.9434848 , 0.94432189, 0.94514822, 0.94596391, 0.94676906,\n",
       "       0.94756378, 0.94834819, 0.9491224 , 0.94988652, 0.95064065,\n",
       "       0.95138491, 0.9521194 , 0.95284423, 0.9535595 , 0.95426532,\n",
       "       0.9549618 , 0.95564904, 0.95632714, 0.95699621, 0.95765635,\n",
       "       0.95830765, 0.95895023, 0.95958418, 0.96020959, 0.96082658,\n",
       "       0.96143523, 0.96203564, 0.96262791, 0.96321214, 0.96378841,\n",
       "       0.96435683, 0.96491748, 0.96547046, 0.96601585, 0.96655376,\n",
       "       0.96708427, 0.96760746, 0.96812344, 0.96863228, 0.96913407,\n",
       "       0.9696289 , 0.97011685, 0.97059801, 0.97107246, 0.97154029,\n",
       "       0.97200157, 0.97245639, 0.97290483, 0.97334697, 0.97378289,\n",
       "       0.97421266, 0.97463637, 0.97505408, 0.97546589, 0.97587185,\n",
       "       0.97627206, 0.97666657, 0.97705546, 0.97743882, 0.97781669,\n",
       "       0.97818917, 0.97855631, 0.97891819, 0.97927488, 0.97962644,\n",
       "       0.97997294, 0.98031445, 0.98065103, 0.98098275, 0.98130967,\n",
       "       0.98163185, 0.98194937, 0.98226227, 0.98257063, 0.9828745 ,\n",
       "       0.98317394, 0.98346901, 0.98375978, 0.98404629, 0.98432861,\n",
       "       0.9846068 , 0.9848809 , 0.98515098, 0.98541709, 0.98567928,\n",
       "       0.98593761, 0.98619213, 0.98644289, 0.98668995, 0.98693335,\n",
       "       0.98717314, 0.98740938, 0.98764212, 0.9878714 , 0.98809727,\n",
       "       0.98831978, 0.98853897, 0.9887549 , 0.9889676 , 0.98917713,\n",
       "       0.98938352, 0.98958683, 0.98978709, 0.98998435, 0.99017864,\n",
       "       0.99037002, 0.99055852, 0.99074419, 0.99092706, 0.99110718,\n",
       "       0.99128458, 0.9914593 , 0.99163138, 0.99180086, 0.99196777,\n",
       "       0.99213216, 0.99229406, 0.9924535 , 0.99261052, 0.99276516,\n",
       "       0.99291744, 0.99306741, 0.9932151 , 0.99336054, 0.99350375,\n",
       "       0.99364479, 0.99378367, 0.99392043, 0.9940551 , 0.99418771,\n",
       "       0.99431829, 0.99444687, 0.99457348, 0.99469814, 0.9948209 ,\n",
       "       0.99494176, 0.99506078, 0.99517796, 0.99529334, 0.99540694,\n",
       "       0.99551879, 0.99562892, 0.99573735, 0.99584411, 0.99594921,\n",
       "       0.9960527 , 0.99615459, 0.9962549 , 0.99635365, 0.99645088,\n",
       "       0.99654661, 0.99664085, 0.99673363, 0.99682497, 0.99691489,\n",
       "       0.99700342, 0.99709057, 0.99717637, 0.99726083, 0.99734398,\n",
       "       0.99742583, 0.99750641, 0.99758574, 0.99766383, 0.9977407 ,\n",
       "       0.99781637, 0.99789087, 0.9979642 , 0.99803638, 0.99810744,\n",
       "       0.99817739, 0.99824624, 0.99831402, 0.99838074, 0.99844641,\n",
       "       0.99851105, 0.99857469, 0.99863732, 0.99869898, 0.99875967,\n",
       "       0.9988194 , 0.9988782 , 0.99893608, 0.99899305, 0.99904913,\n",
       "       0.99910432, 0.99915865, 0.99921213, 0.99926476, 0.99931657,\n",
       "       0.99936756, 0.99941775, 0.99946716, 0.99951578, 0.99956364,\n",
       "       0.99961075, 0.99965712, 0.99970275, 0.99974767, 0.99979188,\n",
       "       0.9998354 , 0.99987823, 0.99992038, 0.99996188, 1.00000271,\n",
       "       1.00004291, 1.00008247, 1.0001214 , 1.00015973, 1.00019745,\n",
       "       1.00023457, 1.00027111, 1.00030708, 1.00034247, 1.00037731,\n",
       "       1.0004116 , 1.00044535, 1.00047857, 1.00051126, 1.00054344,\n",
       "       1.00057511, 1.00060629, 1.00063697, 1.00066717, 1.00069689,\n",
       "       1.00072614, 1.00075493, 1.00078327, 1.00081116, 1.00083862,\n",
       "       1.00086564, 1.00089223, 1.00091841, 1.00094418, 1.00096953,\n",
       "       1.0009945 , 1.00101906, 1.00104324, 1.00106705, 1.00109047,\n",
       "       1.00111353, 1.00113623, 1.00115857, 1.00118056, 1.0012022 ,\n",
       "       1.00122351, 1.00124448, 1.00126512, 1.00128544, 1.00130544,\n",
       "       1.00132513, 1.0013445 , 1.00136358, 1.00138236, 1.00140084,\n",
       "       1.00141903, 1.00143694, 1.00145457, 1.00147193, 1.00148901,\n",
       "       1.00150583, 1.00152239, 1.00153869, 1.00155473, 1.00157053,\n",
       "       1.00158608, 1.00160139, 1.00161646, 1.00163129, 1.0016459 ,\n",
       "       1.00166028, 1.00167444, 1.00168838, 1.0017021 ])"
      ]
     },
     "execution_count": 1612,
     "metadata": {},
     "output_type": "execute_result"
    }
   ],
   "source": [
    "sols_1/y"
   ]
  },
  {
   "cell_type": "code",
   "execution_count": 1613,
   "id": "0a8fb496",
   "metadata": {},
   "outputs": [
    {
     "data": {
      "text/plain": [
       "<matplotlib.collections.PathCollection at 0x120dd1670>"
      ]
     },
     "execution_count": 1613,
     "metadata": {},
     "output_type": "execute_result"
    },
    {
     "data": {
      "image/png": "[encoded data removed]",
      "text/plain": [
       "<Figure size 432x288 with 1 Axes>"
      ]
     },
     "metadata": {
      "needs_background": "light"
     },
     "output_type": "display_data"
    }
   ],
   "source": [
    "plt.scatter(x, sols_1/y)"
   ]
  },
  {
   "cell_type": "code",
   "execution_count": 1614,
   "id": "cc5ff70e",
   "metadata": {},
   "outputs": [
    {
     "data": {
      "text/plain": [
       "<matplotlib.collections.PathCollection at 0x122be6850>"
      ]
     },
     "execution_count": 1614,
     "metadata": {},
     "output_type": "execute_result"
    },
    {
     "data": {
      "image/png": "[encoded data removed]",
      "text/plain": [
       "<Figure size 432x288 with 1 Axes>"
      ]
     },
     "metadata": {
      "needs_background": "light"
     },
     "output_type": "display_data"
    }
   ],
   "source": [
    "\n",
    "x = np.linspace(-5,5,10000)\n",
    "y=[v(r) for r in x]\n",
    "plt.scatter(x, y)"
   ]
  },
  {
   "cell_type": "code",
   "execution_count": null,
   "id": "68f4f886",
   "metadata": {},
   "outputs": [],
   "source": []
  },
  {
   "cell_type": "code",
   "execution_count": 1615,
   "id": "652fbfe8",
   "metadata": {},
   "outputs": [
    {
     "data": {
      "text/plain": [
       "0.2778772572472559"
      ]
     },
     "execution_count": 1615,
     "metadata": {},
     "output_type": "execute_result"
    }
   ],
   "source": [
    "3/(4*np.pi*a*eps)"
   ]
  },
  {
   "cell_type": "code",
   "execution_count": 1616,
   "id": "9a157aa1",
   "metadata": {},
   "outputs": [
    {
     "data": {
      "text/plain": [
       "0.018525007193519887"
      ]
     },
     "execution_count": 1616,
     "metadata": {},
     "output_type": "execute_result"
    }
   ],
   "source": [
    "y[np.shape(y)[0]-1]"
   ]
  },
  {
   "cell_type": "code",
   "execution_count": 1617,
   "id": "74b96e82",
   "metadata": {},
   "outputs": [
    {
     "data": {
      "text/plain": [
       "10000"
      ]
     },
     "execution_count": 1617,
     "metadata": {},
     "output_type": "execute_result"
    }
   ],
   "source": [
    "np.shape(y)[0]"
   ]
  },
  {
   "cell_type": "code",
   "execution_count": 1618,
   "id": "73413820",
   "metadata": {},
   "outputs": [
    {
     "data": {
      "text/plain": [
       "0.01959960921117312"
      ]
     },
     "execution_count": 1618,
     "metadata": {},
     "output_type": "execute_result"
    }
   ],
   "source": [
    "boundary_condition(startR)"
   ]
  },
  {
   "cell_type": "code",
   "execution_count": 1619,
   "id": "ec8b1935",
   "metadata": {},
   "outputs": [
    {
     "data": {
      "text/plain": [
       "0.01959960921117312"
      ]
     },
     "execution_count": 1619,
     "metadata": {},
     "output_type": "execute_result"
    }
   ],
   "source": [
    "boundary_condition(endR)"
   ]
  },
  {
   "cell_type": "code",
   "execution_count": 1620,
   "id": "53fe0e3d",
   "metadata": {},
   "outputs": [
    {
     "data": {
      "text/plain": [
       "0.019638715567264233"
      ]
     },
     "execution_count": 1620,
     "metadata": {},
     "output_type": "execute_result"
    }
   ],
   "source": [
    "sols_1[len(sols_1)-1]"
   ]
  },
  {
   "cell_type": "code",
   "execution_count": 1621,
   "id": "435d7c0f",
   "metadata": {},
   "outputs": [
    {
     "data": {
      "text/plain": [
       "0.9953222650189527"
      ]
     },
     "execution_count": 1621,
     "metadata": {},
     "output_type": "execute_result"
    }
   ],
   "source": [
    "scipy.special.erf(2)"
   ]
  },
  {
   "cell_type": "code",
   "execution_count": 1622,
   "id": "f1d69e7d",
   "metadata": {},
   "outputs": [
    {
     "data": {
      "text/plain": [
       "-0.02248238022226911"
      ]
     },
     "execution_count": 1622,
     "metadata": {},
     "output_type": "execute_result"
    }
   ],
   "source": [
    "v_2s(endR)"
   ]
  },
  {
   "cell_type": "code",
   "execution_count": 1623,
   "id": "bac8caaf",
   "metadata": {},
   "outputs": [
    {
     "data": {
      "text/plain": [
       "array([4.62115828e+01, 6.32813500e-06, 6.42302398e-06, 6.51928301e-06,\n",
       "       6.61693083e-06, 6.71598644e-06, 6.81646904e-06, 6.91839811e-06,\n",
       "       7.02179334e-06, 7.12667468e-06, 7.23306234e-06, 7.34097676e-06,\n",
       "       7.45043865e-06, 7.56146897e-06, 7.67408894e-06, 7.78832004e-06,\n",
       "       7.90418402e-06, 8.02170290e-06, 8.14089895e-06, 8.26179475e-06,\n",
       "       8.38441311e-06, 8.50877715e-06, 8.63491028e-06, 8.76283616e-06,\n",
       "       8.89257876e-06, 9.02416233e-06, 9.15761143e-06, 9.29295090e-06,\n",
       "       9.43020587e-06, 9.56940180e-06, 9.71056443e-06, 9.85371982e-06,\n",
       "       9.99889433e-06, 1.01461147e-05, 1.02954078e-05, 1.04468010e-05,\n",
       "       1.06003220e-05, 1.07559987e-05, 1.09138594e-05, 1.10739327e-05,\n",
       "       1.12362477e-05, 1.14008335e-05, 1.15677198e-05, 1.17369366e-05,\n",
       "       1.19085143e-05, 1.20824834e-05, 1.22588751e-05, 1.24377207e-05,\n",
       "       1.26190519e-05, 1.28029009e-05, 1.29893001e-05, 1.31782824e-05,\n",
       "       1.33698810e-05, 1.35641295e-05, 1.37610618e-05, 1.39607123e-05,\n",
       "       1.41631157e-05, 1.43683071e-05, 1.45763221e-05, 1.47871965e-05,\n",
       "       1.50009666e-05, 1.52176691e-05, 1.54373412e-05, 1.56600203e-05,\n",
       "       1.58857443e-05, 1.61145517e-05, 1.63464810e-05, 1.65815715e-05,\n",
       "       1.68198627e-05, 1.70613947e-05, 1.73062079e-05, 1.75543431e-05,\n",
       "       1.78058416e-05, 1.80607452e-05, 1.83190961e-05, 1.85809368e-05,\n",
       "       1.88463104e-05, 1.91152604e-05, 1.93878308e-05, 1.96640660e-05,\n",
       "       1.99440107e-05, 2.02277105e-05, 2.05152110e-05, 2.08065584e-05,\n",
       "       2.11017996e-05, 2.14009817e-05, 2.17041523e-05, 2.20113595e-05,\n",
       "       2.23226521e-05, 2.26380790e-05, 2.29576899e-05, 2.32815348e-05,\n",
       "       2.36096642e-05, 2.39421292e-05, 2.42789813e-05, 2.46202725e-05,\n",
       "       2.49660553e-05, 2.53163828e-05, 2.56713084e-05, 2.60308861e-05,\n",
       "       2.63951705e-05, 2.67642165e-05, 2.71380797e-05, 2.75168162e-05,\n",
       "       2.79004824e-05, 2.82891355e-05, 2.86828329e-05, 2.90816328e-05,\n",
       "       2.94855937e-05, 2.98947748e-05, 3.03092357e-05, 3.07290365e-05,\n",
       "       3.11542379e-05, 3.15849011e-05, 3.20210877e-05, 3.24628601e-05,\n",
       "       3.29102809e-05, 3.33634133e-05, 3.38223213e-05, 3.42870691e-05,\n",
       "       3.47577214e-05, 3.52343437e-05, 3.57170019e-05, 3.62057622e-05,\n",
       "       3.67006917e-05, 3.72018577e-05, 3.77093282e-05, 3.82231716e-05,\n",
       "       3.87434569e-05, 3.92702536e-05, 3.98036316e-05, 4.03436615e-05,\n",
       "       4.08904143e-05, 4.14439614e-05, 4.20043750e-05, 4.25717275e-05,\n",
       "       4.31460919e-05, 4.37275417e-05, 4.43161510e-05, 4.49119941e-05,\n",
       "       4.55151462e-05, 4.61256825e-05, 4.67436791e-05, 4.73692123e-05,\n",
       "       4.80023589e-05, 4.86431964e-05, 4.92918024e-05, 4.99482551e-05,\n",
       "       5.06126334e-05, 5.12850161e-05, 5.19654830e-05, 5.26541139e-05,\n",
       "       5.33509893e-05, 5.40561898e-05, 5.47697968e-05, 5.54918918e-05,\n",
       "       5.62225568e-05, 5.69618741e-05, 5.77099265e-05, 5.84667971e-05,\n",
       "       5.92325692e-05, 6.00073268e-05, 6.07911539e-05, 6.15841349e-05,\n",
       "       6.23863546e-05, 6.31978980e-05, 6.40188505e-05, 6.48492977e-05,\n",
       "       6.56893254e-05, 6.65390198e-05, 6.73984671e-05, 6.82677540e-05,\n",
       "       6.91469673e-05, 7.00361938e-05, 7.09355208e-05, 7.18450355e-05,\n",
       "       7.27648254e-05, 7.36949781e-05, 7.46355812e-05, 7.55867225e-05,\n",
       "       7.65484898e-05, 7.75209710e-05, 7.85042540e-05, 7.94984269e-05,\n",
       "       8.05035774e-05, 8.15197935e-05, 8.25471631e-05, 8.35857738e-05,\n",
       "       8.46357135e-05, 8.56970695e-05, 8.67699294e-05, 8.78543804e-05,\n",
       "       8.89505094e-05, 9.00584034e-05, 9.11781488e-05, 9.23098319e-05,\n",
       "       9.34535386e-05, 9.46093547e-05, 9.57773654e-05, 9.69576555e-05,\n",
       "       9.81503094e-05, 9.93554111e-05, 1.00573044e-04, 1.01803291e-04,\n",
       "       1.03046235e-04, 1.04301957e-04, 1.05570538e-04, 1.06852060e-04,\n",
       "       1.08146600e-04, 1.09454240e-04, 1.10775056e-04, 1.12109126e-04,\n",
       "       1.13456526e-04, 1.14817333e-04, 1.16191620e-04, 1.17579461e-04,\n",
       "       1.18980928e-04, 1.20396094e-04, 1.21825027e-04, 1.23267798e-04,\n",
       "       1.24724473e-04, 1.26195120e-04, 1.27679803e-04, 1.29178586e-04,\n",
       "       1.30691531e-04, 1.32218699e-04, 1.33760149e-04, 1.35315939e-04,\n",
       "       1.36886123e-04, 1.38470757e-04, 1.40069892e-04, 1.41683578e-04,\n",
       "       1.43311864e-04, 1.44954797e-04, 1.46612419e-04, 1.48284774e-04,\n",
       "       1.49971901e-04, 1.51673838e-04, 1.53390620e-04, 1.55122279e-04,\n",
       "       1.56868846e-04, 1.58630349e-04, 1.60406812e-04, 1.62198257e-04,\n",
       "       1.64004704e-04, 1.65826170e-04, 1.67662667e-04, 1.69514207e-04,\n",
       "       1.71380796e-04, 1.73262438e-04, 1.75159134e-04, 1.77070880e-04,\n",
       "       1.78997672e-04, 1.80939497e-04, 1.82896344e-04, 1.84868194e-04,\n",
       "       1.86855025e-04, 1.88856813e-04, 1.90873527e-04, 1.92905133e-04,\n",
       "       1.94951594e-04, 1.97012867e-04, 1.99088905e-04, 2.01179655e-04,\n",
       "       2.03285061e-04, 2.05405062e-04, 2.07539591e-04, 2.09688576e-04,\n",
       "       2.11851941e-04, 2.14029602e-04, 2.16221474e-04, 2.18427461e-04,\n",
       "       2.20647465e-04, 2.22881382e-04, 2.25129099e-04, 2.27390501e-04,\n",
       "       2.29665463e-04, 2.31953857e-04, 2.34255545e-04, 2.36570385e-04,\n",
       "       2.38898227e-04, 2.41238915e-04, 2.43592285e-04, 2.45958165e-04,\n",
       "       2.48336378e-04, 2.50726738e-04, 2.53129051e-04, 2.55543116e-04,\n",
       "       2.57968724e-04, 2.60405656e-04, 2.62853688e-04, 2.65312585e-04,\n",
       "       2.67782104e-04, 2.70261995e-04, 2.72751996e-04, 2.75251837e-04,\n",
       "       2.77761241e-04, 2.80279919e-04, 2.82807573e-04, 2.85343896e-04,\n",
       "       2.87888571e-04, 2.90441269e-04, 2.93001654e-04, 2.95569377e-04,\n",
       "       2.98144079e-04, 3.00725392e-04, 3.03312934e-04, 3.05906314e-04,\n",
       "       3.08505130e-04, 3.11108967e-04, 3.13717399e-04, 3.16329989e-04,\n",
       "       3.18946287e-04, 3.21565831e-04, 3.24188147e-04, 3.26812748e-04,\n",
       "       3.29439136e-04, 3.32066798e-04, 3.34695208e-04, 3.37323829e-04,\n",
       "       3.39952108e-04, 3.42579481e-04, 3.45205367e-04, 3.47829175e-04,\n",
       "       3.50450296e-04, 3.53068111e-04, 3.55681982e-04, 3.58291260e-04,\n",
       "       3.60895281e-04, 3.63493363e-04, 3.66084813e-04, 3.68668919e-04,\n",
       "       3.71244957e-04, 3.73812186e-04, 3.76369850e-04, 3.78917174e-04,\n",
       "       3.81453373e-04, 3.83977640e-04, 3.86489156e-04, 3.88987083e-04,\n",
       "       3.91470569e-04, 3.93938744e-04, 3.96390720e-04, 3.98825596e-04,\n",
       "       4.01242449e-04, 4.03640345e-04, 4.06018327e-04, 4.08375426e-04,\n",
       "       4.10710653e-04, 4.13023001e-04, 4.15311449e-04, 4.17574955e-04,\n",
       "       4.19812462e-04, 4.22022895e-04, 4.24205162e-04, 4.26358152e-04,\n",
       "       4.28480738e-04, 4.30571776e-04, 4.32630103e-04, 4.34654540e-04,\n",
       "       4.36643890e-04, 4.38596940e-04, 4.40512458e-04, 4.42389197e-04,\n",
       "       4.44225892e-04, 4.46021261e-04, 4.47774007e-04, 4.49482815e-04,\n",
       "       4.51146354e-04, 4.52763277e-04, 4.54332223e-04, 4.55851813e-04,\n",
       "       4.57320655e-04, 4.58737339e-04, 4.60100443e-04, 4.61408531e-04,\n",
       "       4.62660151e-04, 4.63853840e-04, 4.64988119e-04, 4.66061499e-04,\n",
       "       4.67072477e-04, 4.68019541e-04, 4.68901165e-04, 4.69715814e-04,\n",
       "       4.70461944e-04, 4.71138000e-04, 4.71742420e-04, 4.72273633e-04,\n",
       "       4.72730063e-04, 4.73110126e-04, 4.73412234e-04, 4.73634793e-04,\n",
       "       4.73776208e-04, 4.73834880e-04, 4.73809209e-04, 4.73697595e-04,\n",
       "       4.73498439e-04, 4.73210143e-04, 4.72831115e-04, 4.72359764e-04,\n",
       "       4.71794510e-04, 4.71133775e-04, 4.70375996e-04, 4.69519616e-04,\n",
       "       4.68563092e-04, 4.67504897e-04, 4.66343517e-04, 4.65077458e-04,\n",
       "       4.63705245e-04, 4.62225423e-04, 4.60636565e-04, 4.58937267e-04,\n",
       "       4.57126155e-04, 4.55201884e-04, 4.53163146e-04, 4.51008665e-04,\n",
       "       4.48737207e-04, 4.46347577e-04, 4.43838627e-04, 4.41209254e-04,\n",
       "       4.38458407e-04, 4.35585090e-04, 4.32588362e-04, 4.29467344e-04,\n",
       "       4.26221223e-04, 4.22849251e-04, 4.19350756e-04, 4.15725140e-04,\n",
       "       4.11971885e-04, 4.08090561e-04, 4.04080824e-04, 3.99942427e-04,\n",
       "       3.95675221e-04, 3.91279161e-04, 3.86754311e-04, 3.82100851e-04,\n",
       "       3.77319082e-04, 3.72409428e-04, 3.67372448e-04, 3.62208839e-04,\n",
       "       3.56919443e-04, 3.51505253e-04, 3.45967421e-04, 3.40307262e-04,\n",
       "       3.34526269e-04, 3.28626110e-04, 3.22608644e-04, 3.16475928e-04,\n",
       "       3.10230220e-04, 3.03873994e-04, 2.97409945e-04, 2.90841003e-04,\n",
       "       2.84170334e-04, 2.77401360e-04, 2.70537760e-04, 2.63583489e-04,\n",
       "       2.56542782e-04, 2.49420167e-04, 2.42220480e-04, 2.34948873e-04,\n",
       "       2.27610829e-04, 2.20212170e-04, 2.12759076e-04, 2.05258097e-04,\n",
       "       1.97716164e-04, 1.90140607e-04, 1.82539165e-04, 1.74920009e-04,\n",
       "       1.67291749e-04, 1.59663459e-04, 1.52044684e-04, 1.44445468e-04,\n",
       "       1.36876364e-04, 1.29348453e-04, 1.21873368e-04, 1.14463309e-04,\n",
       "       1.07131064e-04, 9.98900307e-05, 9.27542373e-05, 8.57383643e-05,\n",
       "       7.88577674e-05, 7.21285008e-05, 6.55673413e-05, 5.91918131e-05,\n",
       "       5.30202131e-05, 4.70716372e-05, 4.13660078e-05, 3.59241010e-05,\n",
       "       3.07675757e-05, 2.59190029e-05, 2.14018963e-05, 1.72407433e-05,\n",
       "       1.34610377e-05, 1.00893123e-05, 7.15317322e-06, 4.68133514e-06,\n",
       "       2.70365733e-06, 1.25118081e-06, 3.56166662e-07, 5.15413859e-08,\n",
       "       3.56166662e-07, 1.25118081e-06, 2.70365733e-06, 4.68133514e-06,\n",
       "       7.15317322e-06, 1.00893123e-05, 1.34610377e-05, 1.72407433e-05,\n",
       "       2.14018963e-05, 2.59190029e-05, 3.07675757e-05, 3.59241010e-05,\n",
       "       4.13660078e-05, 4.70716372e-05, 5.30202131e-05, 5.91918131e-05,\n",
       "       6.55673413e-05, 7.21285008e-05, 7.88577674e-05, 8.57383643e-05,\n",
       "       9.27542373e-05, 9.98900307e-05, 1.07131064e-04, 1.14463309e-04,\n",
       "       1.21873368e-04, 1.29348453e-04, 1.36876364e-04, 1.44445468e-04,\n",
       "       1.52044684e-04, 1.59663459e-04, 1.67291749e-04, 1.74920009e-04,\n",
       "       1.82539165e-04, 1.90140607e-04, 1.97716164e-04, 2.05258097e-04,\n",
       "       2.12759076e-04, 2.20212170e-04, 2.27610829e-04, 2.34948873e-04,\n",
       "       2.42220480e-04, 2.49420167e-04, 2.56542782e-04, 2.63583489e-04,\n",
       "       2.70537760e-04, 2.77401360e-04, 2.84170334e-04, 2.90841003e-04,\n",
       "       2.97409945e-04, 3.03873994e-04, 3.10230220e-04, 3.16475928e-04,\n",
       "       3.22608644e-04, 3.28626110e-04, 3.34526269e-04, 3.40307262e-04,\n",
       "       3.45967421e-04, 3.51505253e-04, 3.56919443e-04, 3.62208839e-04,\n",
       "       3.67372448e-04, 3.72409428e-04, 3.77319082e-04, 3.82100851e-04,\n",
       "       3.86754311e-04, 3.91279161e-04, 3.95675221e-04, 3.99942427e-04,\n",
       "       4.04080824e-04, 4.08090561e-04, 4.11971885e-04, 4.15725140e-04,\n",
       "       4.19350756e-04, 4.22849251e-04, 4.26221223e-04, 4.29467344e-04,\n",
       "       4.32588362e-04, 4.35585090e-04, 4.38458407e-04, 4.41209254e-04,\n",
       "       4.43838627e-04, 4.46347577e-04, 4.48737207e-04, 4.51008665e-04,\n",
       "       4.53163146e-04, 4.55201884e-04, 4.57126155e-04, 4.58937267e-04,\n",
       "       4.60636565e-04, 4.62225423e-04, 4.63705245e-04, 4.65077458e-04,\n",
       "       4.66343517e-04, 4.67504897e-04, 4.68563092e-04, 4.69519616e-04,\n",
       "       4.70375996e-04, 4.71133775e-04, 4.71794510e-04, 4.72359764e-04,\n",
       "       4.72831115e-04, 4.73210143e-04, 4.73498439e-04, 4.73697595e-04,\n",
       "       4.73809209e-04, 4.73834880e-04, 4.73776208e-04, 4.73634793e-04,\n",
       "       4.73412234e-04, 4.73110126e-04, 4.72730063e-04, 4.72273633e-04,\n",
       "       4.71742420e-04, 4.71138000e-04, 4.70461944e-04, 4.69715814e-04,\n",
       "       4.68901165e-04, 4.68019541e-04, 4.67072477e-04, 4.66061499e-04,\n",
       "       4.64988119e-04, 4.63853840e-04, 4.62660151e-04, 4.61408531e-04,\n",
       "       4.60100443e-04, 4.58737339e-04, 4.57320655e-04, 4.55851813e-04,\n",
       "       4.54332223e-04, 4.52763277e-04, 4.51146354e-04, 4.49482815e-04,\n",
       "       4.47774007e-04, 4.46021261e-04, 4.44225892e-04, 4.42389197e-04,\n",
       "       4.40512458e-04, 4.38596940e-04, 4.36643890e-04, 4.34654540e-04,\n",
       "       4.32630103e-04, 4.30571776e-04, 4.28480738e-04, 4.26358152e-04,\n",
       "       4.24205162e-04, 4.22022895e-04, 4.19812462e-04, 4.17574955e-04,\n",
       "       4.15311449e-04, 4.13023001e-04, 4.10710653e-04, 4.08375426e-04,\n",
       "       4.06018327e-04, 4.03640345e-04, 4.01242449e-04, 3.98825596e-04,\n",
       "       3.96390720e-04, 3.93938744e-04, 3.91470569e-04, 3.88987083e-04,\n",
       "       3.86489156e-04, 3.83977640e-04, 3.81453373e-04, 3.78917174e-04,\n",
       "       3.76369850e-04, 3.73812186e-04, 3.71244957e-04, 3.68668919e-04,\n",
       "       3.66084813e-04, 3.63493363e-04, 3.60895281e-04, 3.58291260e-04,\n",
       "       3.55681982e-04, 3.53068111e-04, 3.50450296e-04, 3.47829175e-04,\n",
       "       3.45205367e-04, 3.42579481e-04, 3.39952108e-04, 3.37323829e-04,\n",
       "       3.34695208e-04, 3.32066798e-04, 3.29439136e-04, 3.26812748e-04,\n",
       "       3.24188147e-04, 3.21565831e-04, 3.18946287e-04, 3.16329989e-04,\n",
       "       3.13717399e-04, 3.11108967e-04, 3.08505130e-04, 3.05906314e-04,\n",
       "       3.03312934e-04, 3.00725392e-04, 2.98144079e-04, 2.95569377e-04,\n",
       "       2.93001654e-04, 2.90441269e-04, 2.87888571e-04, 2.85343896e-04,\n",
       "       2.82807573e-04, 2.80279919e-04, 2.77761241e-04, 2.75251837e-04,\n",
       "       2.72751996e-04, 2.70261995e-04, 2.67782104e-04, 2.65312585e-04,\n",
       "       2.62853688e-04, 2.60405656e-04, 2.57968724e-04, 2.55543116e-04,\n",
       "       2.53129051e-04, 2.50726738e-04, 2.48336378e-04, 2.45958165e-04,\n",
       "       2.43592285e-04, 2.41238915e-04, 2.38898227e-04, 2.36570385e-04,\n",
       "       2.34255545e-04, 2.31953857e-04, 2.29665463e-04, 2.27390501e-04,\n",
       "       2.25129099e-04, 2.22881382e-04, 2.20647465e-04, 2.18427461e-04,\n",
       "       2.16221474e-04, 2.14029602e-04, 2.11851941e-04, 2.09688576e-04,\n",
       "       2.07539591e-04, 2.05405062e-04, 2.03285061e-04, 2.01179655e-04,\n",
       "       1.99088905e-04, 1.97012867e-04, 1.94951594e-04, 1.92905133e-04,\n",
       "       1.90873527e-04, 1.88856813e-04, 1.86855025e-04, 1.84868194e-04,\n",
       "       1.82896344e-04, 1.80939497e-04, 1.78997672e-04, 1.77070880e-04,\n",
       "       1.75159134e-04, 1.73262438e-04, 1.71380796e-04, 1.69514207e-04,\n",
       "       1.67662667e-04, 1.65826170e-04, 1.64004704e-04, 1.62198257e-04,\n",
       "       1.60406812e-04, 1.58630349e-04, 1.56868846e-04, 1.55122279e-04,\n",
       "       1.53390620e-04, 1.51673838e-04, 1.49971901e-04, 1.48284774e-04,\n",
       "       1.46612419e-04, 1.44954797e-04, 1.43311864e-04, 1.41683578e-04,\n",
       "       1.40069892e-04, 1.38470757e-04, 1.36886123e-04, 1.35315939e-04,\n",
       "       1.33760149e-04, 1.32218699e-04, 1.30691531e-04, 1.29178586e-04,\n",
       "       1.27679803e-04, 1.26195120e-04, 1.24724473e-04, 1.23267798e-04,\n",
       "       1.21825027e-04, 1.20396094e-04, 1.18980928e-04, 1.17579461e-04,\n",
       "       1.16191620e-04, 1.14817333e-04, 1.13456526e-04, 1.12109126e-04,\n",
       "       1.10775056e-04, 1.09454240e-04, 1.08146600e-04, 1.06852060e-04,\n",
       "       1.05570538e-04, 1.04301957e-04, 1.03046235e-04, 1.01803291e-04,\n",
       "       1.00573044e-04, 9.93554111e-05, 9.81503094e-05, 9.69576555e-05,\n",
       "       9.57773654e-05, 9.46093547e-05, 9.34535386e-05, 9.23098319e-05,\n",
       "       9.11781488e-05, 9.00584034e-05, 8.89505094e-05, 8.78543804e-05,\n",
       "       8.67699294e-05, 8.56970695e-05, 8.46357135e-05, 8.35857738e-05,\n",
       "       8.25471631e-05, 8.15197935e-05, 8.05035774e-05, 7.94984269e-05,\n",
       "       7.85042540e-05, 7.75209710e-05, 7.65484898e-05, 7.55867225e-05,\n",
       "       7.46355812e-05, 7.36949781e-05, 7.27648254e-05, 7.18450355e-05,\n",
       "       7.09355208e-05, 7.00361938e-05, 6.91469673e-05, 6.82677540e-05,\n",
       "       6.73984671e-05, 6.65390198e-05, 6.56893254e-05, 6.48492977e-05,\n",
       "       6.40188505e-05, 6.31978980e-05, 6.23863546e-05, 6.15841349e-05,\n",
       "       6.07911539e-05, 6.00073268e-05, 5.92325692e-05, 5.84667971e-05,\n",
       "       5.77099265e-05, 5.69618741e-05, 5.62225568e-05, 5.54918918e-05,\n",
       "       5.47697968e-05, 5.40561898e-05, 5.33509893e-05, 5.26541139e-05,\n",
       "       5.19654830e-05, 5.12850161e-05, 5.06126334e-05, 4.99482551e-05,\n",
       "       4.92918024e-05, 4.86431964e-05, 4.80023589e-05, 4.73692123e-05,\n",
       "       4.67436791e-05, 4.61256825e-05, 4.55151462e-05, 4.49119941e-05,\n",
       "       4.43161510e-05, 4.37275417e-05, 4.31460919e-05, 4.25717275e-05,\n",
       "       4.20043750e-05, 4.14439614e-05, 4.08904143e-05, 4.03436615e-05,\n",
       "       3.98036316e-05, 3.92702536e-05, 3.87434569e-05, 3.82231716e-05,\n",
       "       3.77093282e-05, 3.72018577e-05, 3.67006917e-05, 3.62057622e-05,\n",
       "       3.57170019e-05, 3.52343437e-05, 3.47577214e-05, 3.42870691e-05,\n",
       "       3.38223213e-05, 3.33634133e-05, 3.29102809e-05, 3.24628601e-05,\n",
       "       3.20210877e-05, 3.15849011e-05, 3.11542379e-05, 3.07290365e-05,\n",
       "       3.03092357e-05, 2.98947748e-05, 2.94855937e-05, 2.90816328e-05,\n",
       "       2.86828329e-05, 2.82891355e-05, 2.79004824e-05, 2.75168162e-05,\n",
       "       2.71380797e-05, 2.67642165e-05, 2.63951705e-05, 2.60308861e-05,\n",
       "       2.56713084e-05, 2.53163828e-05, 2.49660553e-05, 2.46202725e-05,\n",
       "       2.42789813e-05, 2.39421292e-05, 2.36096642e-05, 2.32815348e-05,\n",
       "       2.29576899e-05, 2.26380790e-05, 2.23226521e-05, 2.20113595e-05,\n",
       "       2.17041523e-05, 2.14009817e-05, 2.11017996e-05, 2.08065584e-05,\n",
       "       2.05152110e-05, 2.02277105e-05, 1.99440107e-05, 1.96640660e-05,\n",
       "       1.93878308e-05, 1.91152604e-05, 1.88463104e-05, 1.85809368e-05,\n",
       "       1.83190961e-05, 1.80607452e-05, 1.78058416e-05, 1.75543431e-05,\n",
       "       1.73062079e-05, 1.70613947e-05, 1.68198627e-05, 1.65815715e-05,\n",
       "       1.63464810e-05, 1.61145517e-05, 1.58857443e-05, 1.56600203e-05,\n",
       "       1.54373412e-05, 1.52176691e-05, 1.50009666e-05, 1.47871965e-05,\n",
       "       1.45763221e-05, 1.43683071e-05, 1.41631157e-05, 1.39607123e-05,\n",
       "       1.37610618e-05, 1.35641295e-05, 1.33698810e-05, 1.31782824e-05,\n",
       "       1.29893001e-05, 1.28029009e-05, 1.26190519e-05, 1.24377207e-05,\n",
       "       1.22588751e-05, 1.20824834e-05, 1.19085143e-05, 1.17369366e-05,\n",
       "       1.15677198e-05, 1.14008335e-05, 1.12362477e-05, 1.10739327e-05,\n",
       "       1.09138594e-05, 1.07559987e-05, 1.06003220e-05, 1.04468010e-05,\n",
       "       1.02954078e-05, 1.01461147e-05, 9.99889433e-06, 9.85371982e-06,\n",
       "       9.71056443e-06, 9.56940180e-06, 9.43020587e-06, 9.29295090e-06,\n",
       "       9.15761143e-06, 9.02416233e-06, 8.89257876e-06, 8.76283616e-06,\n",
       "       8.63491028e-06, 8.50877715e-06, 8.38441311e-06, 8.26179475e-06,\n",
       "       8.14089895e-06, 8.02170290e-06, 7.90418402e-06, 7.78832004e-06,\n",
       "       7.67408894e-06, 7.56146897e-06, 7.45043865e-06, 7.34097676e-06,\n",
       "       7.23306234e-06, 7.12667468e-06, 7.02179334e-06, 6.91839811e-06,\n",
       "       6.81646904e-06, 6.71598644e-06, 6.61693083e-06, 6.51928301e-06,\n",
       "       6.42302398e-06, 6.32813500e-06, 4.62115828e+01])"
      ]
     },
     "execution_count": 1623,
     "metadata": {},
     "output_type": "execute_result"
    }
   ],
   "source": [
    "b_1"
   ]
  },
  {
   "cell_type": "code",
   "execution_count": 1624,
   "id": "dc7aef90",
   "metadata": {},
   "outputs": [],
   "source": [
    "d=generateUniformGrid(N)\n",
    "f=generateListOfAdaptiveGridCoords(N, gaussianElectronDensity, 100, 5)\n",
    "for i in range(len(d)):\n",
    "    if(d[i][0] != f[i][0] or d[i][1] != f[i][1]):\n",
    "        print(\"d\", d[i])\n",
    "        print(\"f\", f[i])"
   ]
  },
  {
   "cell_type": "code",
   "execution_count": 1625,
   "id": "c6ca6816",
   "metadata": {},
   "outputs": [
    {
     "data": {
      "text/plain": [
       "array([[127920.01666671, -63940.01458335,      0.        , ...,\n",
       "             0.        ,      0.        ,      0.        ],\n",
       "       [-63940.01458335, 127840.05416667, -63900.03958332, ...,\n",
       "             0.        ,      0.        ,      0.        ],\n",
       "       [     0.        , -63900.03958332, 127760.11666664, ...,\n",
       "             0.        ,      0.        ,      0.        ],\n",
       "       ...,\n",
       "       [     0.        ,      0.        ,      0.        , ...,\n",
       "             0.        ,      0.        ,      0.        ],\n",
       "       [     0.        ,      0.        ,      0.        , ...,\n",
       "             0.        ,      0.        ,      0.        ],\n",
       "       [     0.        ,      0.        ,      0.        , ...,\n",
       "             0.        ,      0.        ,      0.        ]])"
      ]
     },
     "execution_count": 1625,
     "metadata": {},
     "output_type": "execute_result"
    }
   ],
   "source": [
    "M"
   ]
  },
  {
   "cell_type": "code",
   "execution_count": 1626,
   "id": "72b75420",
   "metadata": {},
   "outputs": [
    {
     "data": {
      "text/plain": [
       "False"
      ]
     },
     "execution_count": 1626,
     "metadata": {},
     "output_type": "execute_result"
    }
   ],
   "source": [
    "np.array_equal(M, M_1)"
   ]
  },
  {
   "cell_type": "code",
   "execution_count": 1627,
   "id": "e40a136a",
   "metadata": {},
   "outputs": [
    {
     "data": {
      "text/plain": [
       "False"
      ]
     },
     "execution_count": 1627,
     "metadata": {},
     "output_type": "execute_result"
    }
   ],
   "source": [
    "np.array_equal(b, b_1)"
   ]
  },
  {
   "cell_type": "code",
   "execution_count": 1628,
   "id": "7e5410f5",
   "metadata": {},
   "outputs": [
    {
     "data": {
      "text/plain": [
       "array([3.89982662e+00, 2.82051312e-88, 3.19374710e-88, ...,\n",
       "       3.19374710e-88, 2.82051312e-88, 3.89982662e+00])"
      ]
     },
     "execution_count": 1628,
     "metadata": {},
     "output_type": "execute_result"
    }
   ],
   "source": [
    "b"
   ]
  },
  {
   "cell_type": "code",
   "execution_count": 1629,
   "id": "c1a5f006",
   "metadata": {},
   "outputs": [
    {
     "data": {
      "text/plain": [
       "array([4.62115828e+01, 6.32813500e-06, 6.42302398e-06, 6.51928301e-06,\n",
       "       6.61693083e-06, 6.71598644e-06, 6.81646904e-06, 6.91839811e-06,\n",
       "       7.02179334e-06, 7.12667468e-06, 7.23306234e-06, 7.34097676e-06,\n",
       "       7.45043865e-06, 7.56146897e-06, 7.67408894e-06, 7.78832004e-06,\n",
       "       7.90418402e-06, 8.02170290e-06, 8.14089895e-06, 8.26179475e-06,\n",
       "       8.38441311e-06, 8.50877715e-06, 8.63491028e-06, 8.76283616e-06,\n",
       "       8.89257876e-06, 9.02416233e-06, 9.15761143e-06, 9.29295090e-06,\n",
       "       9.43020587e-06, 9.56940180e-06, 9.71056443e-06, 9.85371982e-06,\n",
       "       9.99889433e-06, 1.01461147e-05, 1.02954078e-05, 1.04468010e-05,\n",
       "       1.06003220e-05, 1.07559987e-05, 1.09138594e-05, 1.10739327e-05,\n",
       "       1.12362477e-05, 1.14008335e-05, 1.15677198e-05, 1.17369366e-05,\n",
       "       1.19085143e-05, 1.20824834e-05, 1.22588751e-05, 1.24377207e-05,\n",
       "       1.26190519e-05, 1.28029009e-05, 1.29893001e-05, 1.31782824e-05,\n",
       "       1.33698810e-05, 1.35641295e-05, 1.37610618e-05, 1.39607123e-05,\n",
       "       1.41631157e-05, 1.43683071e-05, 1.45763221e-05, 1.47871965e-05,\n",
       "       1.50009666e-05, 1.52176691e-05, 1.54373412e-05, 1.56600203e-05,\n",
       "       1.58857443e-05, 1.61145517e-05, 1.63464810e-05, 1.65815715e-05,\n",
       "       1.68198627e-05, 1.70613947e-05, 1.73062079e-05, 1.75543431e-05,\n",
       "       1.78058416e-05, 1.80607452e-05, 1.83190961e-05, 1.85809368e-05,\n",
       "       1.88463104e-05, 1.91152604e-05, 1.93878308e-05, 1.96640660e-05,\n",
       "       1.99440107e-05, 2.02277105e-05, 2.05152110e-05, 2.08065584e-05,\n",
       "       2.11017996e-05, 2.14009817e-05, 2.17041523e-05, 2.20113595e-05,\n",
       "       2.23226521e-05, 2.26380790e-05, 2.29576899e-05, 2.32815348e-05,\n",
       "       2.36096642e-05, 2.39421292e-05, 2.42789813e-05, 2.46202725e-05,\n",
       "       2.49660553e-05, 2.53163828e-05, 2.56713084e-05, 2.60308861e-05,\n",
       "       2.63951705e-05, 2.67642165e-05, 2.71380797e-05, 2.75168162e-05,\n",
       "       2.79004824e-05, 2.82891355e-05, 2.86828329e-05, 2.90816328e-05,\n",
       "       2.94855937e-05, 2.98947748e-05, 3.03092357e-05, 3.07290365e-05,\n",
       "       3.11542379e-05, 3.15849011e-05, 3.20210877e-05, 3.24628601e-05,\n",
       "       3.29102809e-05, 3.33634133e-05, 3.38223213e-05, 3.42870691e-05,\n",
       "       3.47577214e-05, 3.52343437e-05, 3.57170019e-05, 3.62057622e-05,\n",
       "       3.67006917e-05, 3.72018577e-05, 3.77093282e-05, 3.82231716e-05,\n",
       "       3.87434569e-05, 3.92702536e-05, 3.98036316e-05, 4.03436615e-05,\n",
       "       4.08904143e-05, 4.14439614e-05, 4.20043750e-05, 4.25717275e-05,\n",
       "       4.31460919e-05, 4.37275417e-05, 4.43161510e-05, 4.49119941e-05,\n",
       "       4.55151462e-05, 4.61256825e-05, 4.67436791e-05, 4.73692123e-05,\n",
       "       4.80023589e-05, 4.86431964e-05, 4.92918024e-05, 4.99482551e-05,\n",
       "       5.06126334e-05, 5.12850161e-05, 5.19654830e-05, 5.26541139e-05,\n",
       "       5.33509893e-05, 5.40561898e-05, 5.47697968e-05, 5.54918918e-05,\n",
       "       5.62225568e-05, 5.69618741e-05, 5.77099265e-05, 5.84667971e-05,\n",
       "       5.92325692e-05, 6.00073268e-05, 6.07911539e-05, 6.15841349e-05,\n",
       "       6.23863546e-05, 6.31978980e-05, 6.40188505e-05, 6.48492977e-05,\n",
       "       6.56893254e-05, 6.65390198e-05, 6.73984671e-05, 6.82677540e-05,\n",
       "       6.91469673e-05, 7.00361938e-05, 7.09355208e-05, 7.18450355e-05,\n",
       "       7.27648254e-05, 7.36949781e-05, 7.46355812e-05, 7.55867225e-05,\n",
       "       7.65484898e-05, 7.75209710e-05, 7.85042540e-05, 7.94984269e-05,\n",
       "       8.05035774e-05, 8.15197935e-05, 8.25471631e-05, 8.35857738e-05,\n",
       "       8.46357135e-05, 8.56970695e-05, 8.67699294e-05, 8.78543804e-05,\n",
       "       8.89505094e-05, 9.00584034e-05, 9.11781488e-05, 9.23098319e-05,\n",
       "       9.34535386e-05, 9.46093547e-05, 9.57773654e-05, 9.69576555e-05,\n",
       "       9.81503094e-05, 9.93554111e-05, 1.00573044e-04, 1.01803291e-04,\n",
       "       1.03046235e-04, 1.04301957e-04, 1.05570538e-04, 1.06852060e-04,\n",
       "       1.08146600e-04, 1.09454240e-04, 1.10775056e-04, 1.12109126e-04,\n",
       "       1.13456526e-04, 1.14817333e-04, 1.16191620e-04, 1.17579461e-04,\n",
       "       1.18980928e-04, 1.20396094e-04, 1.21825027e-04, 1.23267798e-04,\n",
       "       1.24724473e-04, 1.26195120e-04, 1.27679803e-04, 1.29178586e-04,\n",
       "       1.30691531e-04, 1.32218699e-04, 1.33760149e-04, 1.35315939e-04,\n",
       "       1.36886123e-04, 1.38470757e-04, 1.40069892e-04, 1.41683578e-04,\n",
       "       1.43311864e-04, 1.44954797e-04, 1.46612419e-04, 1.48284774e-04,\n",
       "       1.49971901e-04, 1.51673838e-04, 1.53390620e-04, 1.55122279e-04,\n",
       "       1.56868846e-04, 1.58630349e-04, 1.60406812e-04, 1.62198257e-04,\n",
       "       1.64004704e-04, 1.65826170e-04, 1.67662667e-04, 1.69514207e-04,\n",
       "       1.71380796e-04, 1.73262438e-04, 1.75159134e-04, 1.77070880e-04,\n",
       "       1.78997672e-04, 1.80939497e-04, 1.82896344e-04, 1.84868194e-04,\n",
       "       1.86855025e-04, 1.88856813e-04, 1.90873527e-04, 1.92905133e-04,\n",
       "       1.94951594e-04, 1.97012867e-04, 1.99088905e-04, 2.01179655e-04,\n",
       "       2.03285061e-04, 2.05405062e-04, 2.07539591e-04, 2.09688576e-04,\n",
       "       2.11851941e-04, 2.14029602e-04, 2.16221474e-04, 2.18427461e-04,\n",
       "       2.20647465e-04, 2.22881382e-04, 2.25129099e-04, 2.27390501e-04,\n",
       "       2.29665463e-04, 2.31953857e-04, 2.34255545e-04, 2.36570385e-04,\n",
       "       2.38898227e-04, 2.41238915e-04, 2.43592285e-04, 2.45958165e-04,\n",
       "       2.48336378e-04, 2.50726738e-04, 2.53129051e-04, 2.55543116e-04,\n",
       "       2.57968724e-04, 2.60405656e-04, 2.62853688e-04, 2.65312585e-04,\n",
       "       2.67782104e-04, 2.70261995e-04, 2.72751996e-04, 2.75251837e-04,\n",
       "       2.77761241e-04, 2.80279919e-04, 2.82807573e-04, 2.85343896e-04,\n",
       "       2.87888571e-04, 2.90441269e-04, 2.93001654e-04, 2.95569377e-04,\n",
       "       2.98144079e-04, 3.00725392e-04, 3.03312934e-04, 3.05906314e-04,\n",
       "       3.08505130e-04, 3.11108967e-04, 3.13717399e-04, 3.16329989e-04,\n",
       "       3.18946287e-04, 3.21565831e-04, 3.24188147e-04, 3.26812748e-04,\n",
       "       3.29439136e-04, 3.32066798e-04, 3.34695208e-04, 3.37323829e-04,\n",
       "       3.39952108e-04, 3.42579481e-04, 3.45205367e-04, 3.47829175e-04,\n",
       "       3.50450296e-04, 3.53068111e-04, 3.55681982e-04, 3.58291260e-04,\n",
       "       3.60895281e-04, 3.63493363e-04, 3.66084813e-04, 3.68668919e-04,\n",
       "       3.71244957e-04, 3.73812186e-04, 3.76369850e-04, 3.78917174e-04,\n",
       "       3.81453373e-04, 3.83977640e-04, 3.86489156e-04, 3.88987083e-04,\n",
       "       3.91470569e-04, 3.93938744e-04, 3.96390720e-04, 3.98825596e-04,\n",
       "       4.01242449e-04, 4.03640345e-04, 4.06018327e-04, 4.08375426e-04,\n",
       "       4.10710653e-04, 4.13023001e-04, 4.15311449e-04, 4.17574955e-04,\n",
       "       4.19812462e-04, 4.22022895e-04, 4.24205162e-04, 4.26358152e-04,\n",
       "       4.28480738e-04, 4.30571776e-04, 4.32630103e-04, 4.34654540e-04,\n",
       "       4.36643890e-04, 4.38596940e-04, 4.40512458e-04, 4.42389197e-04,\n",
       "       4.44225892e-04, 4.46021261e-04, 4.47774007e-04, 4.49482815e-04,\n",
       "       4.51146354e-04, 4.52763277e-04, 4.54332223e-04, 4.55851813e-04,\n",
       "       4.57320655e-04, 4.58737339e-04, 4.60100443e-04, 4.61408531e-04,\n",
       "       4.62660151e-04, 4.63853840e-04, 4.64988119e-04, 4.66061499e-04,\n",
       "       4.67072477e-04, 4.68019541e-04, 4.68901165e-04, 4.69715814e-04,\n",
       "       4.70461944e-04, 4.71138000e-04, 4.71742420e-04, 4.72273633e-04,\n",
       "       4.72730063e-04, 4.73110126e-04, 4.73412234e-04, 4.73634793e-04,\n",
       "       4.73776208e-04, 4.73834880e-04, 4.73809209e-04, 4.73697595e-04,\n",
       "       4.73498439e-04, 4.73210143e-04, 4.72831115e-04, 4.72359764e-04,\n",
       "       4.71794510e-04, 4.71133775e-04, 4.70375996e-04, 4.69519616e-04,\n",
       "       4.68563092e-04, 4.67504897e-04, 4.66343517e-04, 4.65077458e-04,\n",
       "       4.63705245e-04, 4.62225423e-04, 4.60636565e-04, 4.58937267e-04,\n",
       "       4.57126155e-04, 4.55201884e-04, 4.53163146e-04, 4.51008665e-04,\n",
       "       4.48737207e-04, 4.46347577e-04, 4.43838627e-04, 4.41209254e-04,\n",
       "       4.38458407e-04, 4.35585090e-04, 4.32588362e-04, 4.29467344e-04,\n",
       "       4.26221223e-04, 4.22849251e-04, 4.19350756e-04, 4.15725140e-04,\n",
       "       4.11971885e-04, 4.08090561e-04, 4.04080824e-04, 3.99942427e-04,\n",
       "       3.95675221e-04, 3.91279161e-04, 3.86754311e-04, 3.82100851e-04,\n",
       "       3.77319082e-04, 3.72409428e-04, 3.67372448e-04, 3.62208839e-04,\n",
       "       3.56919443e-04, 3.51505253e-04, 3.45967421e-04, 3.40307262e-04,\n",
       "       3.34526269e-04, 3.28626110e-04, 3.22608644e-04, 3.16475928e-04,\n",
       "       3.10230220e-04, 3.03873994e-04, 2.97409945e-04, 2.90841003e-04,\n",
       "       2.84170334e-04, 2.77401360e-04, 2.70537760e-04, 2.63583489e-04,\n",
       "       2.56542782e-04, 2.49420167e-04, 2.42220480e-04, 2.34948873e-04,\n",
       "       2.27610829e-04, 2.20212170e-04, 2.12759076e-04, 2.05258097e-04,\n",
       "       1.97716164e-04, 1.90140607e-04, 1.82539165e-04, 1.74920009e-04,\n",
       "       1.67291749e-04, 1.59663459e-04, 1.52044684e-04, 1.44445468e-04,\n",
       "       1.36876364e-04, 1.29348453e-04, 1.21873368e-04, 1.14463309e-04,\n",
       "       1.07131064e-04, 9.98900307e-05, 9.27542373e-05, 8.57383643e-05,\n",
       "       7.88577674e-05, 7.21285008e-05, 6.55673413e-05, 5.91918131e-05,\n",
       "       5.30202131e-05, 4.70716372e-05, 4.13660078e-05, 3.59241010e-05,\n",
       "       3.07675757e-05, 2.59190029e-05, 2.14018963e-05, 1.72407433e-05,\n",
       "       1.34610377e-05, 1.00893123e-05, 7.15317322e-06, 4.68133514e-06,\n",
       "       2.70365733e-06, 1.25118081e-06, 3.56166662e-07, 5.15413859e-08,\n",
       "       3.56166662e-07, 1.25118081e-06, 2.70365733e-06, 4.68133514e-06,\n",
       "       7.15317322e-06, 1.00893123e-05, 1.34610377e-05, 1.72407433e-05,\n",
       "       2.14018963e-05, 2.59190029e-05, 3.07675757e-05, 3.59241010e-05,\n",
       "       4.13660078e-05, 4.70716372e-05, 5.30202131e-05, 5.91918131e-05,\n",
       "       6.55673413e-05, 7.21285008e-05, 7.88577674e-05, 8.57383643e-05,\n",
       "       9.27542373e-05, 9.98900307e-05, 1.07131064e-04, 1.14463309e-04,\n",
       "       1.21873368e-04, 1.29348453e-04, 1.36876364e-04, 1.44445468e-04,\n",
       "       1.52044684e-04, 1.59663459e-04, 1.67291749e-04, 1.74920009e-04,\n",
       "       1.82539165e-04, 1.90140607e-04, 1.97716164e-04, 2.05258097e-04,\n",
       "       2.12759076e-04, 2.20212170e-04, 2.27610829e-04, 2.34948873e-04,\n",
       "       2.42220480e-04, 2.49420167e-04, 2.56542782e-04, 2.63583489e-04,\n",
       "       2.70537760e-04, 2.77401360e-04, 2.84170334e-04, 2.90841003e-04,\n",
       "       2.97409945e-04, 3.03873994e-04, 3.10230220e-04, 3.16475928e-04,\n",
       "       3.22608644e-04, 3.28626110e-04, 3.34526269e-04, 3.40307262e-04,\n",
       "       3.45967421e-04, 3.51505253e-04, 3.56919443e-04, 3.62208839e-04,\n",
       "       3.67372448e-04, 3.72409428e-04, 3.77319082e-04, 3.82100851e-04,\n",
       "       3.86754311e-04, 3.91279161e-04, 3.95675221e-04, 3.99942427e-04,\n",
       "       4.04080824e-04, 4.08090561e-04, 4.11971885e-04, 4.15725140e-04,\n",
       "       4.19350756e-04, 4.22849251e-04, 4.26221223e-04, 4.29467344e-04,\n",
       "       4.32588362e-04, 4.35585090e-04, 4.38458407e-04, 4.41209254e-04,\n",
       "       4.43838627e-04, 4.46347577e-04, 4.48737207e-04, 4.51008665e-04,\n",
       "       4.53163146e-04, 4.55201884e-04, 4.57126155e-04, 4.58937267e-04,\n",
       "       4.60636565e-04, 4.62225423e-04, 4.63705245e-04, 4.65077458e-04,\n",
       "       4.66343517e-04, 4.67504897e-04, 4.68563092e-04, 4.69519616e-04,\n",
       "       4.70375996e-04, 4.71133775e-04, 4.71794510e-04, 4.72359764e-04,\n",
       "       4.72831115e-04, 4.73210143e-04, 4.73498439e-04, 4.73697595e-04,\n",
       "       4.73809209e-04, 4.73834880e-04, 4.73776208e-04, 4.73634793e-04,\n",
       "       4.73412234e-04, 4.73110126e-04, 4.72730063e-04, 4.72273633e-04,\n",
       "       4.71742420e-04, 4.71138000e-04, 4.70461944e-04, 4.69715814e-04,\n",
       "       4.68901165e-04, 4.68019541e-04, 4.67072477e-04, 4.66061499e-04,\n",
       "       4.64988119e-04, 4.63853840e-04, 4.62660151e-04, 4.61408531e-04,\n",
       "       4.60100443e-04, 4.58737339e-04, 4.57320655e-04, 4.55851813e-04,\n",
       "       4.54332223e-04, 4.52763277e-04, 4.51146354e-04, 4.49482815e-04,\n",
       "       4.47774007e-04, 4.46021261e-04, 4.44225892e-04, 4.42389197e-04,\n",
       "       4.40512458e-04, 4.38596940e-04, 4.36643890e-04, 4.34654540e-04,\n",
       "       4.32630103e-04, 4.30571776e-04, 4.28480738e-04, 4.26358152e-04,\n",
       "       4.24205162e-04, 4.22022895e-04, 4.19812462e-04, 4.17574955e-04,\n",
       "       4.15311449e-04, 4.13023001e-04, 4.10710653e-04, 4.08375426e-04,\n",
       "       4.06018327e-04, 4.03640345e-04, 4.01242449e-04, 3.98825596e-04,\n",
       "       3.96390720e-04, 3.93938744e-04, 3.91470569e-04, 3.88987083e-04,\n",
       "       3.86489156e-04, 3.83977640e-04, 3.81453373e-04, 3.78917174e-04,\n",
       "       3.76369850e-04, 3.73812186e-04, 3.71244957e-04, 3.68668919e-04,\n",
       "       3.66084813e-04, 3.63493363e-04, 3.60895281e-04, 3.58291260e-04,\n",
       "       3.55681982e-04, 3.53068111e-04, 3.50450296e-04, 3.47829175e-04,\n",
       "       3.45205367e-04, 3.42579481e-04, 3.39952108e-04, 3.37323829e-04,\n",
       "       3.34695208e-04, 3.32066798e-04, 3.29439136e-04, 3.26812748e-04,\n",
       "       3.24188147e-04, 3.21565831e-04, 3.18946287e-04, 3.16329989e-04,\n",
       "       3.13717399e-04, 3.11108967e-04, 3.08505130e-04, 3.05906314e-04,\n",
       "       3.03312934e-04, 3.00725392e-04, 2.98144079e-04, 2.95569377e-04,\n",
       "       2.93001654e-04, 2.90441269e-04, 2.87888571e-04, 2.85343896e-04,\n",
       "       2.82807573e-04, 2.80279919e-04, 2.77761241e-04, 2.75251837e-04,\n",
       "       2.72751996e-04, 2.70261995e-04, 2.67782104e-04, 2.65312585e-04,\n",
       "       2.62853688e-04, 2.60405656e-04, 2.57968724e-04, 2.55543116e-04,\n",
       "       2.53129051e-04, 2.50726738e-04, 2.48336378e-04, 2.45958165e-04,\n",
       "       2.43592285e-04, 2.41238915e-04, 2.38898227e-04, 2.36570385e-04,\n",
       "       2.34255545e-04, 2.31953857e-04, 2.29665463e-04, 2.27390501e-04,\n",
       "       2.25129099e-04, 2.22881382e-04, 2.20647465e-04, 2.18427461e-04,\n",
       "       2.16221474e-04, 2.14029602e-04, 2.11851941e-04, 2.09688576e-04,\n",
       "       2.07539591e-04, 2.05405062e-04, 2.03285061e-04, 2.01179655e-04,\n",
       "       1.99088905e-04, 1.97012867e-04, 1.94951594e-04, 1.92905133e-04,\n",
       "       1.90873527e-04, 1.88856813e-04, 1.86855025e-04, 1.84868194e-04,\n",
       "       1.82896344e-04, 1.80939497e-04, 1.78997672e-04, 1.77070880e-04,\n",
       "       1.75159134e-04, 1.73262438e-04, 1.71380796e-04, 1.69514207e-04,\n",
       "       1.67662667e-04, 1.65826170e-04, 1.64004704e-04, 1.62198257e-04,\n",
       "       1.60406812e-04, 1.58630349e-04, 1.56868846e-04, 1.55122279e-04,\n",
       "       1.53390620e-04, 1.51673838e-04, 1.49971901e-04, 1.48284774e-04,\n",
       "       1.46612419e-04, 1.44954797e-04, 1.43311864e-04, 1.41683578e-04,\n",
       "       1.40069892e-04, 1.38470757e-04, 1.36886123e-04, 1.35315939e-04,\n",
       "       1.33760149e-04, 1.32218699e-04, 1.30691531e-04, 1.29178586e-04,\n",
       "       1.27679803e-04, 1.26195120e-04, 1.24724473e-04, 1.23267798e-04,\n",
       "       1.21825027e-04, 1.20396094e-04, 1.18980928e-04, 1.17579461e-04,\n",
       "       1.16191620e-04, 1.14817333e-04, 1.13456526e-04, 1.12109126e-04,\n",
       "       1.10775056e-04, 1.09454240e-04, 1.08146600e-04, 1.06852060e-04,\n",
       "       1.05570538e-04, 1.04301957e-04, 1.03046235e-04, 1.01803291e-04,\n",
       "       1.00573044e-04, 9.93554111e-05, 9.81503094e-05, 9.69576555e-05,\n",
       "       9.57773654e-05, 9.46093547e-05, 9.34535386e-05, 9.23098319e-05,\n",
       "       9.11781488e-05, 9.00584034e-05, 8.89505094e-05, 8.78543804e-05,\n",
       "       8.67699294e-05, 8.56970695e-05, 8.46357135e-05, 8.35857738e-05,\n",
       "       8.25471631e-05, 8.15197935e-05, 8.05035774e-05, 7.94984269e-05,\n",
       "       7.85042540e-05, 7.75209710e-05, 7.65484898e-05, 7.55867225e-05,\n",
       "       7.46355812e-05, 7.36949781e-05, 7.27648254e-05, 7.18450355e-05,\n",
       "       7.09355208e-05, 7.00361938e-05, 6.91469673e-05, 6.82677540e-05,\n",
       "       6.73984671e-05, 6.65390198e-05, 6.56893254e-05, 6.48492977e-05,\n",
       "       6.40188505e-05, 6.31978980e-05, 6.23863546e-05, 6.15841349e-05,\n",
       "       6.07911539e-05, 6.00073268e-05, 5.92325692e-05, 5.84667971e-05,\n",
       "       5.77099265e-05, 5.69618741e-05, 5.62225568e-05, 5.54918918e-05,\n",
       "       5.47697968e-05, 5.40561898e-05, 5.33509893e-05, 5.26541139e-05,\n",
       "       5.19654830e-05, 5.12850161e-05, 5.06126334e-05, 4.99482551e-05,\n",
       "       4.92918024e-05, 4.86431964e-05, 4.80023589e-05, 4.73692123e-05,\n",
       "       4.67436791e-05, 4.61256825e-05, 4.55151462e-05, 4.49119941e-05,\n",
       "       4.43161510e-05, 4.37275417e-05, 4.31460919e-05, 4.25717275e-05,\n",
       "       4.20043750e-05, 4.14439614e-05, 4.08904143e-05, 4.03436615e-05,\n",
       "       3.98036316e-05, 3.92702536e-05, 3.87434569e-05, 3.82231716e-05,\n",
       "       3.77093282e-05, 3.72018577e-05, 3.67006917e-05, 3.62057622e-05,\n",
       "       3.57170019e-05, 3.52343437e-05, 3.47577214e-05, 3.42870691e-05,\n",
       "       3.38223213e-05, 3.33634133e-05, 3.29102809e-05, 3.24628601e-05,\n",
       "       3.20210877e-05, 3.15849011e-05, 3.11542379e-05, 3.07290365e-05,\n",
       "       3.03092357e-05, 2.98947748e-05, 2.94855937e-05, 2.90816328e-05,\n",
       "       2.86828329e-05, 2.82891355e-05, 2.79004824e-05, 2.75168162e-05,\n",
       "       2.71380797e-05, 2.67642165e-05, 2.63951705e-05, 2.60308861e-05,\n",
       "       2.56713084e-05, 2.53163828e-05, 2.49660553e-05, 2.46202725e-05,\n",
       "       2.42789813e-05, 2.39421292e-05, 2.36096642e-05, 2.32815348e-05,\n",
       "       2.29576899e-05, 2.26380790e-05, 2.23226521e-05, 2.20113595e-05,\n",
       "       2.17041523e-05, 2.14009817e-05, 2.11017996e-05, 2.08065584e-05,\n",
       "       2.05152110e-05, 2.02277105e-05, 1.99440107e-05, 1.96640660e-05,\n",
       "       1.93878308e-05, 1.91152604e-05, 1.88463104e-05, 1.85809368e-05,\n",
       "       1.83190961e-05, 1.80607452e-05, 1.78058416e-05, 1.75543431e-05,\n",
       "       1.73062079e-05, 1.70613947e-05, 1.68198627e-05, 1.65815715e-05,\n",
       "       1.63464810e-05, 1.61145517e-05, 1.58857443e-05, 1.56600203e-05,\n",
       "       1.54373412e-05, 1.52176691e-05, 1.50009666e-05, 1.47871965e-05,\n",
       "       1.45763221e-05, 1.43683071e-05, 1.41631157e-05, 1.39607123e-05,\n",
       "       1.37610618e-05, 1.35641295e-05, 1.33698810e-05, 1.31782824e-05,\n",
       "       1.29893001e-05, 1.28029009e-05, 1.26190519e-05, 1.24377207e-05,\n",
       "       1.22588751e-05, 1.20824834e-05, 1.19085143e-05, 1.17369366e-05,\n",
       "       1.15677198e-05, 1.14008335e-05, 1.12362477e-05, 1.10739327e-05,\n",
       "       1.09138594e-05, 1.07559987e-05, 1.06003220e-05, 1.04468010e-05,\n",
       "       1.02954078e-05, 1.01461147e-05, 9.99889433e-06, 9.85371982e-06,\n",
       "       9.71056443e-06, 9.56940180e-06, 9.43020587e-06, 9.29295090e-06,\n",
       "       9.15761143e-06, 9.02416233e-06, 8.89257876e-06, 8.76283616e-06,\n",
       "       8.63491028e-06, 8.50877715e-06, 8.38441311e-06, 8.26179475e-06,\n",
       "       8.14089895e-06, 8.02170290e-06, 7.90418402e-06, 7.78832004e-06,\n",
       "       7.67408894e-06, 7.56146897e-06, 7.45043865e-06, 7.34097676e-06,\n",
       "       7.23306234e-06, 7.12667468e-06, 7.02179334e-06, 6.91839811e-06,\n",
       "       6.81646904e-06, 6.71598644e-06, 6.61693083e-06, 6.51928301e-06,\n",
       "       6.42302398e-06, 6.32813500e-06, 4.62115828e+01])"
      ]
     },
     "execution_count": 1629,
     "metadata": {},
     "output_type": "execute_result"
    }
   ],
   "source": [
    "b_1"
   ]
  },
  {
   "cell_type": "code",
   "execution_count": null,
   "id": "fb2977be",
   "metadata": {},
   "outputs": [],
   "source": []
  }
 ],
 "metadata": {
  "kernelspec": {
   "display_name": "Python 3 (ipykernel)",
   "language": "python",
   "name": "python3"
  },
  "language_info": {
   "codemirror_mode": {
    "name": "ipython",
    "version": 3
   },
   "file_extension": ".py",
   "mimetype": "text/x-python",
   "name": "python",
   "nbconvert_exporter": "python",
   "pygments_lexer": "ipython3",
   "version": "3.9.12"
  }
 },
 "nbformat": 4,
 "nbformat_minor": 5
}
